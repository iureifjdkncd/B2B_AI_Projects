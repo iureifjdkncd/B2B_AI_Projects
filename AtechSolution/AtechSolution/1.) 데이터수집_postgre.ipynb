{
 "cells": [
  {
   "cell_type": "code",
   "execution_count": 1,
   "id": "97bd3d49-ff23-4fe6-aa49-b5b6a1d781eb",
   "metadata": {},
   "outputs": [
    {
     "name": "stdout",
     "output_type": "stream",
     "text": [
      "python ==>  3.9.21 (main, Dec 11 2024, 16:35:24) [MSC v.1929 64 bit (AMD64)]\n",
      "pandas ==> 2.2.3\n",
      "numpy ==> 1.23.1\n",
      "scipy ==> 1.10.1\n",
      "tensorflow ==>  2.7.0\n",
      "scikit-learn ==>  1.5.2\n",
      "Pymongo --> 4.10.1\n",
      "Psycopg2 --> 2.9.10 (dt dec pq3 ext lo64)\n"
     ]
    }
   ],
   "source": [
    "import sys\n",
    "import pandas as pd\n",
    "import numpy as np\n",
    "import scipy\n",
    "import tensorflow as tf\n",
    "import sklearn \n",
    "import pymongo\n",
    "import psycopg2\n",
    "import warnings \n",
    "warnings.filterwarnings(action='ignore')\n",
    "\n",
    "print('python ==> ',sys.version)\n",
    "print('pandas ==>',pd.__version__)\n",
    "print('numpy ==>',np.__version__)\n",
    "print('scipy ==>',scipy.__version__)\n",
    "print('tensorflow ==> ',tf.__version__)\n",
    "print('scikit-learn ==> ',sklearn.__version__)\n",
    "print('Pymongo -->',pymongo.__version__)\n",
    "print('Psycopg2 -->',psycopg2.__version__)"
   ]
  },
  {
   "cell_type": "code",
   "execution_count": 2,
   "id": "1d7954b7-ff6f-4eb0-9d3b-7bea161c300e",
   "metadata": {},
   "outputs": [
    {
     "name": "stdout",
     "output_type": "stream",
     "text": [
      "2023-12-01 00:00:00\n",
      "2025-05-15 23:59:59\n"
     ]
    }
   ],
   "source": [
    "import datetime\n",
    "start_date = '2023-12-01 00:00:00'\n",
    "end_date = datetime.datetime.now().strftime('%Y-%m-%d 23:59:59')\n",
    "\n",
    "print(start_date)\n",
    "print(end_date)"
   ]
  },
  {
   "cell_type": "markdown",
   "id": "a3293f41-c5e3-4d73-aae3-32f6d0b53e79",
   "metadata": {},
   "source": [
    "#### 1.) PostgreSQL 데이터수집\n",
    "- 장비(maker) 1,2,3 Raw Data 수집\n",
    "- 생산(Production) & 생산결과(Result) 개별 수집\n",
    "- DB정보 Private 처리 (코드 저장용)"
   ]
  },
  {
   "cell_type": "code",
   "execution_count": null,
   "id": "bc9ede70-7f71-4699-bf6f-7dfd1e0019f5",
   "metadata": {},
   "outputs": [],
   "source": [
    "import datetime\n",
    "pgdb = psycopg2.connect( # --> 기존 연결정보 Private 처리 \n",
    "                 host='Private Host',\n",
    "                dbname='Private DB',\n",
    "                user='Company DB',\n",
    "                password='password',\n",
    "                port=15432)\n",
    "print(pgdb)\n",
    "cursor = pgdb.cursor()\n",
    "query = f\"\"\"\n",
    "SELECT * \n",
    "FROM temp.view_mass_if_private_maker \n",
    "WHERE shotdatetime >= '{start_date}' \n",
    "  AND shotdatetime <= '{end_date}'\n",
    "\"\"\"\n",
    "cursor.execute(query)\n",
    "column_names = [desc[0] for desc in cursor.description]\n",
    "result = cursor.fetchall() # # .fetchone() , fetchall(), fetchmany()\n",
    "df_production = pd.DataFrame(result)\n",
    "if len(df_production) >0:\n",
    "    df_production.columns = column_names\n",
    "    df_production = df_production.sort_values(by='shotdatetime').reset_index(drop=True)\n",
    "    df_production.to_csv('Maker_Production_Postgre.csv',encoding='cp949',index=False)\n",
    "    cursor.close()\n",
    "else:\n",
    "    cursor.close()"
   ]
  },
  {
   "cell_type": "code",
   "execution_count": null,
   "id": "324e5aa8-1985-4bc1-b60e-2c8209000f2f",
   "metadata": {},
   "outputs": [],
   "source": [
    "pgdb = psycopg2.connect( # --> 기존 연결정보 Private 처리 \n",
    "                 host='Private Host',\n",
    "                dbname='Private DB',\n",
    "                user='Company DB',\n",
    "                password='password',\n",
    "                port=15432)\n",
    "cursor = pgdb.cursor()\n",
    "print(pgdb)\n",
    "query = f\"\"\"\n",
    "SELECT * \n",
    "FROM temp.view_p_results_private_maker\n",
    "WHERE m_shotdatetime >= '{start_date}' \n",
    "  AND m_shotdatetime <= '{end_date}'\n",
    "\"\"\"\n",
    "cursor.execute(query) \n",
    "column_names = [desc[0] for desc in cursor.description]\n",
    "result=cursor.fetchall() # .fetchone() , fetchall(), fetchmany()\n",
    "column_names = [desc[0] for desc in cursor.description]\n",
    "df_result = pd.DataFrame(result)\n",
    "if len(df_result) >0:\n",
    "    df_result.columns = column_names\n",
    "    df_result = df_result.sort_values(by='m_shotdatetime').reset_index(drop=True)\n",
    "    df_result = df_result[df_result['m_shotdatetime']!='1900-01-01 00:00:00'].reset_index(drop=True)\n",
    "    df_result.to_csv('Maker_Result_Postgre.csv',encoding='cp949',index=False)\n",
    "    cursor.close()\n",
    "else:\n",
    "    cursor.close()"
   ]
  },
  {
   "cell_type": "code",
   "execution_count": null,
   "id": "d12dc257-40a2-4e3b-afc3-fdd0ae668b49",
   "metadata": {},
   "outputs": [],
   "source": []
  },
  {
   "cell_type": "code",
   "execution_count": null,
   "id": "c69bc9f6-2136-4102-a26e-0777d22489e0",
   "metadata": {},
   "outputs": [],
   "source": []
  },
  {
   "cell_type": "code",
   "execution_count": null,
   "id": "cbfadea1-6373-4ea6-819c-76f985dc4029",
   "metadata": {},
   "outputs": [],
   "source": []
  },
  {
   "cell_type": "code",
   "execution_count": null,
   "id": "0ac33805-ab5f-4908-b943-224ff5e83051",
   "metadata": {},
   "outputs": [],
   "source": []
  },
  {
   "cell_type": "code",
   "execution_count": null,
   "id": "76c60fc3-17e8-4284-8f51-ef3abcd27065",
   "metadata": {},
   "outputs": [],
   "source": []
  },
  {
   "cell_type": "code",
   "execution_count": null,
   "id": "cc3baa79-9f30-41d8-9a3b-1a3d60a8edef",
   "metadata": {},
   "outputs": [],
   "source": []
  },
  {
   "cell_type": "code",
   "execution_count": null,
   "id": "13bbfe50-7fd9-4770-9b0e-b5623ada9ead",
   "metadata": {},
   "outputs": [],
   "source": []
  },
  {
   "cell_type": "code",
   "execution_count": null,
   "id": "1a472b84-e869-4230-8058-3aec6d1cf83b",
   "metadata": {},
   "outputs": [],
   "source": []
  }
 ],
 "metadata": {
  "kernelspec": {
   "display_name": "Python 3 (ipykernel)",
   "language": "python",
   "name": "python3"
  },
  "language_info": {
   "codemirror_mode": {
    "name": "ipython",
    "version": 3
   },
   "file_extension": ".py",
   "mimetype": "text/x-python",
   "name": "python",
   "nbconvert_exporter": "python",
   "pygments_lexer": "ipython3",
   "version": "3.9.13"
  }
 },
 "nbformat": 4,
 "nbformat_minor": 5
}
