{
 "cells": [
  {
   "cell_type": "code",
   "execution_count": 1,
   "id": "5a774963",
   "metadata": {},
   "outputs": [
    {
     "name": "stdout",
     "output_type": "stream",
     "text": [
      "prediction_result: 0.0  ==> Pass\n"
     ]
    }
   ],
   "source": [
    "import pandas as pd\n",
    "pd.set_option('display.max_columns', None)\n",
    "import numpy as np\n",
    "from numpy import array\n",
    "\n",
    "import os\n",
    "import joblib\n",
    "import pickle\n",
    "\n",
    "import random\n",
    "import datetime\n",
    "from pymongo import MongoClient\n",
    "\n",
    "from sklearn import model_selection\n",
    "from lightgbm import LGBMClassifier\n",
    "\n",
    "import warnings \n",
    "warnings.filterwarnings(action='ignore')\n",
    "\n",
    "def get_mongo_data(db_name,collection_name,condition = False):\n",
    "    server_address = \"private_server_address\"\n",
    "    client_update = MongoClient(\"mongodb://private_company_client/admin\".format(server_address))\n",
    "    db = client_update[db_name]\n",
    "    col = db[collection_name]\n",
    "    df = pd.DataFrame(list(col.find({})))\n",
    "    return df\n",
    "\n",
    "def get_prediction():\n",
    "    \n",
    "    #### Load From DataBase \n",
    "    df = get_mongo_data('PrivateDB','productiondata').sort_values(by='TimeStamp')\n",
    "    test_data = df[['WORKDAETIME_PRE','CYCLE_TIME_PRE','CYCLE_TIME_CURR','INJ_TIME_CURR','CHANGING_PRES','MAX_INJ_PRES',\n",
    "          'AVG_HOLDING_PRES2','HOPPER_MAX_TEMP','MOLD_TEMP2','SHAPE_PRES_CURR']]\n",
    "    \n",
    "    #### Load Saved ML & Predict \n",
    "    model = joblib.load('ml.pkl') # lightgbm balanced weight \n",
    "    pred = model.predict(test_data)\n",
    "    pred_df = pd.DataFrame(pred).rename(columns={0:'Predictions'})\n",
    "    df_addpred = pd.concat([df,pred_df],axis=1).drop(['passorfail','prediction'],axis=1)\n",
    "    df_addpred['PassOrFail'] = df_addpred['Predictions'].replace({0:'Pass', 1:'Fail'})\n",
    "    \n",
    "    #### Predict One Recent Value of Real Time inputs \n",
    "    if pred.tolist()[-1] == 0.0: \n",
    "        print(\"prediction_result:\",pred.tolist()[-1],\" ==> Pass\")\n",
    "    else:\n",
    "        print(\"prediction_result:\",pred.tolist()[-1],\" ==> Fault\")\n",
    "        \n",
    "    return df_addpred\n",
    "    \n",
    "df_addpred = get_prediction()"
   ]
  }
 ],
 "metadata": {
  "kernelspec": {
   "display_name": "Python 3 (ipykernel)",
   "language": "python",
   "name": "python3"
  },
  "language_info": {
   "codemirror_mode": {
    "name": "ipython",
    "version": 3
   },
   "file_extension": ".py",
   "mimetype": "text/x-python",
   "name": "python",
   "nbconvert_exporter": "python",
   "pygments_lexer": "ipython3",
   "version": "3.9.13"
  }
 },
 "nbformat": 4,
 "nbformat_minor": 5
}
