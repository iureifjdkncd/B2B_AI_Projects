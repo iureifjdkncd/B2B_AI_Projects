{
 "cells": [
  {
   "cell_type": "code",
   "execution_count": null,
   "id": "faf511c2",
   "metadata": {},
   "outputs": [],
   "source": [
    "from fastapi import FastAPI\n",
    "from business_logic.models.API_code_v import recipe_ai_function\n",
    "import uvicorn\n",
    "\n",
    "app = FastAPI(debug=True)\n",
    "\n",
    "\n",
    "@app.get(\"/\")\n",
    "async def root():\n",
    "    return {\"message\": \"Hello World\"}\n",
    "\n",
    "\n",
    "@app.get(\"/hello/{name}\")\n",
    "async def say_hello(name: str):\n",
    "    return {\"message\": f\"Hello {name}\"}\n",
    "\n",
    "\n",
    "@app.get(\"/get_prediction\", description=\"\")\n",
    "async def get_prediction(_id: str, target1: float, target2: float, target3: float):\n",
    "    res = recipe_ai_function(_id=_id, target1=target1, target2=target2, target3=target3)\n",
    "    return res\n",
    "\n",
    "\n",
    "if __name__ == '__main__':\n",
    "    uvicorn.run(\"main:app\", host=\"0.0.0.0\", port=25000, reload=True)"
   ]
  }
 ],
 "metadata": {
  "kernelspec": {
   "display_name": "Python 3 (ipykernel)",
   "language": "python",
   "name": "python3"
  },
  "language_info": {
   "codemirror_mode": {
    "name": "ipython",
    "version": 3
   },
   "file_extension": ".py",
   "mimetype": "text/x-python",
   "name": "python",
   "nbconvert_exporter": "python",
   "pygments_lexer": "ipython3",
   "version": "3.9.13"
  }
 },
 "nbformat": 4,
 "nbformat_minor": 5
}
