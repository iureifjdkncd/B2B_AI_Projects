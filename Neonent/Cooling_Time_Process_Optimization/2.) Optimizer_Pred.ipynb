{
 "cells": [
  {
   "cell_type": "code",
   "execution_count": 1,
   "id": "4d00d842-8202-404c-947a-615cd29ae0b3",
   "metadata": {},
   "outputs": [
    {
     "name": "stdout",
     "output_type": "stream",
     "text": [
      "python ==>  3.9.21 (main, Dec 11 2024, 16:35:24) [MSC v.1929 64 bit (AMD64)]\n",
      "pandas ==> 2.2.3\n",
      "numpy ==> 1.23.1\n",
      "sklearn ==> 1.5.2\n",
      "Pymongo --> 4.10.1\n"
     ]
    }
   ],
   "source": [
    "import sys\n",
    "import pandas as pd\n",
    "import numpy as np\n",
    "import sklearn\n",
    "import pymongo\n",
    "import warnings \n",
    "warnings.filterwarnings(action='ignore')\n",
    "\n",
    "print('python ==> ',sys.version)\n",
    "print('pandas ==>',pd.__version__)\n",
    "print('numpy ==>',np.__version__)\n",
    "print('sklearn ==>',sklearn.__version__)\n",
    "print('Pymongo -->',pymongo.__version__)"
   ]
  },
  {
   "cell_type": "code",
   "execution_count": 2,
   "id": "b9c46de9-8b88-4dcc-ba33-276f978221e0",
   "metadata": {},
   "outputs": [],
   "source": [
    "import os \n",
    "import re\n",
    "import glob \n",
    "import joblib\n",
    "import pickle \n",
    "from scipy import stats\n",
    "import pandas as pd\n",
    "import numpy as np\n",
    "from numpy import array\n",
    "import datetime\n",
    "from datetime import datetime, timedelta, timezone\n",
    "from zoneinfo import ZoneInfo\n",
    "from sklearn.pipeline import Pipeline\n",
    "from sklearn.preprocessing import MinMaxScaler,StandardScaler\n",
    "from sklearn.cluster import KMeans\n",
    "from pymongo import MongoClient\n",
    "import warnings \n",
    "warnings.filterwarnings(action='ignore')"
   ]
  },
  {
   "cell_type": "markdown",
   "id": "67d17826-aaf2-4467-9c3d-a8b67a099968",
   "metadata": {},
   "source": [
    "#### 1.) 실시간 수집 데이터에 대한 K-Means예측 기반 InjectionTime/CoolingTime 추론 함수 "
   ]
  },
  {
   "cell_type": "code",
   "execution_count": 4,
   "id": "f9007ab9-6990-4104-98f0-7233924f9a7a",
   "metadata": {},
   "outputs": [],
   "source": [
    "def recipe_analysis(workingNumber):\n",
    "    #### 1.) 사출기 17,18호기 대상 MongoDB 실시간 데이터 동시 수집 \n",
    "    server_address = \"private_server_address\"\n",
    "    client_update = MongoClient(\"mongodb://private_company_client@{0}/admin\".format(server_address))\n",
    "    db = client_update[\"privateDB\"] # db 이름 변경 \n",
    "    col1 = db['productionData']\n",
    "    col2 = db['environmentData']\n",
    "    utc_now = datetime.now(ZoneInfo(\"UTC\"))\n",
    "    from_date_UTC = datetime(utc_now.year, utc_now.month, utc_now.day, tzinfo=ZoneInfo(\"UTC\"))\n",
    "    kst_now = utc_now.astimezone(ZoneInfo(\"Asia/Seoul\"))\n",
    "    from_date_KST = datetime(kst_now.year, kst_now.month, kst_now.day,tzinfo=timezone(timedelta(hours=9)))\n",
    "    \n",
    "    #### 2.) Load production (KST or UTC 기준 실시간 수집 자동 선택 )\n",
    "    df_production_UTC = pd.DataFrame(list(col1.find({\"equipNumber\": {\"$in\": [\"A01-017\", \"A01-018\"]},\n",
    "                                          \"lineNumber\": {\"$ne\": \"MLT\"},\n",
    "                                          \"timeStamp\": {\"$gte\": from_date_UTC}}).sort(\"timeStamp\", -1).limit(200))).reset_index(drop=True)\n",
    "\n",
    "    df_production_KST = pd.DataFrame(list(col1.find({\"equipNumber\": {\"$in\": [\"A01-017\", \"A01-018\"]},\n",
    "                                              \"lineNumber\": {\"$ne\": \"MLT\"},\n",
    "                                              \"timeStamp\": {\"$gte\": from_date_KST}}).sort(\"timeStamp\", -1).limit(200))).reset_index(drop=True)\n",
    "    if len(df_production_KST) > len(df_production_UTC):\n",
    "        df_production = df_production_KST\n",
    "        from_date = from_date_KST\n",
    "    else:\n",
    "        df_production = df_production_UTC\n",
    "        from_date = from_date_UTC\n",
    "    df_production['timeStamp'] = df_production['timeStamp']+timedelta(hours=9)\n",
    "    df_production['ReceivedDateTime'] = df_production['ReceivedDateTime']+timedelta(hours=9)\n",
    "    df_production['Ymdate'] = df_production['Ymdate']+timedelta(hours=9)\n",
    "    df_production = df_production.sort_values(by='timeStamp').reset_index(drop=True)\n",
    "    df_production_17 = df_production[df_production['equipNumber']=='A01-017'].reset_index(drop=True)\n",
    "    df_production_18 = df_production[df_production['equipNumber']=='A01-018'].reset_index(drop=True)\n",
    "    \n",
    "    #### 3.) Load environment\n",
    "    from_date = from_date - timedelta(days=5)\n",
    "    df_environment = pd.DataFrame(list(col2.find({\"timeStamp\":{\"$gte\":from_date}}).sort('timeStamp',-1).limit(200))).reset_index(drop=True)\n",
    "    df_environment['timeStamp'] = df_environment['timeStamp']+timedelta(hours=9)\n",
    "    df_environment['ReceivedDateTime'] = df_environment['ReceivedDateTime']+timedelta(hours=9)\n",
    "    df_environment = df_environment.sort_values(by='timeStamp').reset_index(drop=True)\n",
    "    \n",
    "    #### 4.) merge [ set + environment info ] \n",
    "    df_merged_17 = pd.merge_asof(df_production_17,df_environment,on='timeStamp', direction='nearest')\n",
    "    df_merged_17 = df_merged_17.sort_values(by='timeStamp').reset_index(drop=True)\n",
    "    df_merged_18 = pd.merge_asof(df_production_18,df_environment,on='timeStamp', direction='nearest')\n",
    "    df_merged_18 = df_merged_18.sort_values(by='timeStamp').reset_index(drop=True)\n",
    "    print('machine 17 ==> ',df_merged_17.shape)\n",
    "    print('machine_18 ==>',df_merged_18.shape)\n",
    "    \n",
    "    #### 4.) Find WorkingNumber --> [ A01-017 , A01-018 ] 중 1개에 해당하는 최근 1개 실시간 데이터 정의 \n",
    "    df_input = df_merged_17[df_merged_17['workingNumber_x']==workingNumber].reset_index(drop=True)\n",
    "    if df_input.empty:\n",
    "        df_input = df_merged_18[df_merged_18['workingNumber_x']==workingNumber].reset_index(drop=True)\n",
    "    if len(df_input)!=0:\n",
    "        print('workingNumber Exist')\n",
    "        equip_number = df_input['equipNumber_x'].iloc[-1]\n",
    "        if equip_number=='A01-017':\n",
    "            machine_number = 17\n",
    "        elif equip_number=='A01-018':\n",
    "            machine_number = 18\n",
    "        else:\n",
    "            machine_number = 17 or 18\n",
    "        print('machine_number =', machine_number)\n",
    "\n",
    "        #### 5.) 해당 사출기(17or18) K-Means Cluster 학습모델로 실시간 데이터의 군집 예측  & Recipe Analysis Data 업로드 \n",
    "        set_environ_cols = df_input.loc[:,df_input.columns.str.contains('Set')].columns.tolist()+['factoryTemperature','factoryHumidity']\n",
    "        saved_kmeans = 'recipe_cluster/'+'environmental_setting_cluster_machine='+str(machine_number)+'.pkl'\n",
    "        load_model = joblib.load(saved_kmeans)\n",
    "        predicted_cluster = load_model.predict(df_input[set_environ_cols])[0]\n",
    "        df_input['cluster_no'] = predicted_cluster\n",
    "        chunks = pd.read_csv('recipe_data/Recipe_Data_machine='+str(machine_number)+'.csv',encoding='cp949',chunksize=1000)\n",
    "        df_list = []  \n",
    "        for chunk in chunks:\n",
    "            df_list.append(chunk)  \n",
    "        load_recipe_data = pd.concat(df_list,ignore_index=True)\n",
    "\n",
    "        #### 6.) Recipe Analysis Data에서 현재 예측된 군집에 해당하는 부분집합 선택  \n",
    "        print('Search via cluster')\n",
    "        choose_data = load_recipe_data[load_recipe_data['cluster_no']==predicted_cluster].reset_index(drop=True)\n",
    "        if len(choose_data)>1: \n",
    "            #### 부분집합 개수 다수일때 현재 입력값의 Injection/CoolingTimeSet_mean과 최근접 데이터 선택 \n",
    "            print('calculate value diffs')\n",
    "            target = df_input[['InjectionTimeSet_mean', 'CoolingTimeSet_mean']].values[0]  \n",
    "            candidates = choose_data[['InjectionTimeSet_mean', 'CoolingTimeSet_mean']].values \n",
    "            diffs = np.abs(candidates - target)  \n",
    "            total_diffs = np.sum(diffs, axis=1)  \n",
    "            best_index = np.argmin(total_diffs)\n",
    "            best_candidate = choose_data.iloc[best_index]\n",
    "            choose_data = pd.DataFrame(best_candidate).T.reset_index(drop=True)\n",
    "        else:\n",
    "            #### 부분집합 개수 1개일 때 Injection/CoolingTimeSet_mean 그대로 선택 \n",
    "            choose_data = choose_data.sample(n=1).reset_index(drop=True)\n",
    "\n",
    "        #### 7.) 부분집합의 Injectiontime/Coolingtime의 표준편차 0 아닐 시 Injection/CoolingTimeSet_mean ± Std 사이값 출력 \n",
    "        if choose_data['InjectionTimeSet_std'].iloc[-1]!=0:\n",
    "            if choose_data['InjectionTimeSet_std'].iloc[-1]<=2.0:\n",
    "                print('generate injectiontime mean ± 1std')\n",
    "                lower_val = choose_data['InjectionTimeSet_mean'].iloc[-1] - choose_data['InjectionTimeSet_std'].iloc[-1]\n",
    "                upper_val = choose_data['InjectionTimeSet_mean'].iloc[-1] + choose_data['InjectionTimeSet_std'].iloc[-1]\n",
    "                injectiontime = np.random.uniform(lower_val,upper_val)\n",
    "            else:\n",
    "                injectiontime = choose_data['InjectionTimeSet_mean'].iloc[-1]\n",
    "        else:\n",
    "            injectiontime = choose_data['InjectionTimeSet_mean'].iloc[-1]\n",
    "        if choose_data['CoolingTimeSet_std'].iloc[-1]!=0:\n",
    "            if choose_data['CoolingTimeSet_std'].iloc[-1]<=2.0:\n",
    "                print('generate coolingtime mean ± 1std')\n",
    "                lower_val = choose_data['CoolingTimeSet_mean'].iloc[-1] - choose_data['CoolingTimeSet_std'].iloc[-1]\n",
    "                upper_val = choose_data['CoolingTimeSet_mean'].iloc[-1] + choose_data['CoolingTimeSet_std'].iloc[-1]\n",
    "                coolingtime = np.random.uniform(lower_val,upper_val)\n",
    "            else:\n",
    "                coolingtime = choose_data['CoolingTimeSet_mean'].iloc[-1]\n",
    "        else:\n",
    "            coolingtime = choose_data['CoolingTimeSet_mean'].iloc[-1]\n",
    "            \n",
    "        #### 4.) 현재 데이터로 Recipe Data Update\n",
    "        print('Update Recipe Data')\n",
    "        update_inputs =  df_input[load_recipe_data.columns.tolist()]\n",
    "        save_data = pd.concat([load_recipe_data,update_inputs],axis=0).reset_index(drop=True)\n",
    "        save_data = save_data.drop_duplicates().reset_index(drop=True)\n",
    "        save_data.to_csv('recipe_data/Recipe_Data_machine='+str(machine_number)+'.csv',encoding='cp949',index=False)  \n",
    "\n",
    "        #### 5.) 현재 실시간 수집값과의 비교 토대로 최적 InjectionTime/ColingTimeSet Mean값 2차 보정 \n",
    "        if (injectiontime==df_input['InjectionTimeSet_mean'].iloc[-1]) or (np.abs(injectiontime - df_input['InjectionTimeSet_mean'].iloc[-1])>5):\n",
    "            gaussain_noise = np.random.normal(loc=0.0, scale=0.5, size=(100,))\n",
    "            chosen_noise = np.random.choice(gaussain_noise)\n",
    "            injectiontime = injectiontime + chosen_noise\n",
    "        else:\n",
    "            pass\n",
    "        if (coolingtime==df_input['CoolingTimeSet_mean'].iloc[-1]) or (np.abs(coolingtime - df_input['CoolingTimeSet_mean'].iloc[-1])>5):\n",
    "            gaussain_noise = np.random.normal(loc=0.0, scale=0.5, size=(100,))\n",
    "            chosen_noise = np.random.choice(gaussain_noise)\n",
    "            coolingtime = coolingtime + chosen_noise\n",
    "        else:\n",
    "            pass\n",
    "        print('current set==>',[df_input['InjectionTimeSet_mean'].iloc[-1],df_input['CoolingTimeSet_mean'].iloc[-1]])\n",
    "        print('pred set==>',[np.round(injectiontime,3),np.round(coolingtime,3)])\n",
    "    else:\n",
    "        #### 6.)  데이터 수집 & 매칭 과정에서 오류 발생 시 예외처리 적용 --> Production데이터기준 마지막 30개 Injection/CoolingSet의 평균값 대체 \n",
    "        print('workingNumber Not Exist ==> recent 30 mean ') \n",
    "        coolingtime = df_production['CoolingTimeSet_mean'].tail(30).mean()\n",
    "        injectiontime = df_production['InjectionTimeSet_mean'].tail(30).mean()\n",
    "    columns = ['injectiontime','coolingtime']\n",
    "    data = [(np.round(injectiontime,3),np.round(coolingtime,3))]\n",
    "    df_print = pd.DataFrame(data,columns=columns)\n",
    "    result = df_print.iloc[-1:].to_dict('records')[0] \n",
    "    values = {\"InjectionTime\":result['injectiontime'],\"CoolingTime\":result['coolingtime']}\n",
    "    return values "
   ]
  },
  {
   "cell_type": "markdown",
   "id": "e757bfa8-a196-4965-8821-ad77c192c3a0",
   "metadata": {},
   "source": [
    "#### 2.) Prediction 함수 작동 예시 "
   ]
  },
  {
   "cell_type": "code",
   "execution_count": 5,
   "id": "708e50bf-d9db-4f9e-b8f1-d0d676e36bd0",
   "metadata": {},
   "outputs": [],
   "source": [
    "def prediction(workingNumber):\n",
    "    try:\n",
    "        values = recipe_analysis(workingNumber)\n",
    "    except:\n",
    "        values = load_merged_production()\n",
    "    return values"
   ]
  },
  {
   "cell_type": "code",
   "execution_count": 7,
   "id": "5cecf317-5ae8-446e-8410-6bed3892bfdc",
   "metadata": {},
   "outputs": [
    {
     "name": "stdout",
     "output_type": "stream",
     "text": [
      "machine 17 ==>  (119, 69)\n",
      "machine_18 ==> (81, 69)\n",
      "workingNumber Not Exist ==> recent 30 mean \n"
     ]
    },
    {
     "data": {
      "text/plain": [
       "{'InjectionTime': 290.392, 'CoolingTime': 76.599}"
      ]
     },
     "execution_count": 7,
     "metadata": {},
     "output_type": "execute_result"
    }
   ],
   "source": [
    "prediction(workingNumber='250425122214453')"
   ]
  },
  {
   "cell_type": "code",
   "execution_count": 8,
   "id": "073b98c2-1f25-4ac1-b314-59260910d1d1",
   "metadata": {},
   "outputs": [
    {
     "name": "stdout",
     "output_type": "stream",
     "text": [
      "machine 17 ==>  (119, 69)\n",
      "machine_18 ==> (81, 69)\n",
      "workingNumber Exist\n",
      "machine_number = 17\n",
      "Search via cluster\n",
      "calculate value diffs\n",
      "generate injectiontime mean ± 1std\n",
      "generate coolingtime mean ± 1std\n",
      "Update Recipe Data\n",
      "current set==> [244.83673469387756, 57.42857142857143]\n",
      "pred set==> [245.202, 56.746]\n"
     ]
    },
    {
     "data": {
      "text/plain": [
       "{'InjectionTime': 245.202, 'CoolingTime': 56.746}"
      ]
     },
     "execution_count": 8,
     "metadata": {},
     "output_type": "execute_result"
    }
   ],
   "source": [
    "prediction(workingNumber='250502100105147')"
   ]
  },
  {
   "cell_type": "code",
   "execution_count": null,
   "id": "fc358dca-b182-459b-8477-6ce231bd618c",
   "metadata": {},
   "outputs": [],
   "source": []
  },
  {
   "cell_type": "code",
   "execution_count": null,
   "id": "774d201d-f939-49e1-a625-4db23a0c58e8",
   "metadata": {},
   "outputs": [],
   "source": []
  },
  {
   "cell_type": "code",
   "execution_count": null,
   "id": "15542b74-128a-4e04-b631-a7ff26543d49",
   "metadata": {},
   "outputs": [],
   "source": []
  }
 ],
 "metadata": {
  "kernelspec": {
   "display_name": "Python 3 (ipykernel)",
   "language": "python",
   "name": "python3"
  },
  "language_info": {
   "codemirror_mode": {
    "name": "ipython",
    "version": 3
   },
   "file_extension": ".py",
   "mimetype": "text/x-python",
   "name": "python",
   "nbconvert_exporter": "python",
   "pygments_lexer": "ipython3",
   "version": "3.9.13"
  }
 },
 "nbformat": 4,
 "nbformat_minor": 5
}
