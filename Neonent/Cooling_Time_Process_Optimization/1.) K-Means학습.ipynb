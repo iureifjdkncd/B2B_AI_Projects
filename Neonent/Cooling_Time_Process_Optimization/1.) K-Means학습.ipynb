{
 "cells": [
  {
   "cell_type": "code",
   "execution_count": 1,
   "id": "4d00d842-8202-404c-947a-615cd29ae0b3",
   "metadata": {},
   "outputs": [
    {
     "name": "stdout",
     "output_type": "stream",
     "text": [
      "python ==>  3.9.21 (main, Dec 11 2024, 16:35:24) [MSC v.1929 64 bit (AMD64)]\n",
      "pandas ==> 2.2.3\n",
      "numpy ==> 1.23.1\n",
      "sklearn ==> 1.5.2\n",
      "Pymongo --> 4.10.1\n"
     ]
    }
   ],
   "source": [
    "import sys\n",
    "import pandas as pd\n",
    "import numpy as np\n",
    "import sklearn\n",
    "import pymongo\n",
    "import warnings \n",
    "warnings.filterwarnings(action='ignore')\n",
    "\n",
    "print('python ==> ',sys.version)\n",
    "print('pandas ==>',pd.__version__)\n",
    "print('numpy ==>',np.__version__)\n",
    "print('sklearn ==>',sklearn.__version__)\n",
    "print('Pymongo -->',pymongo.__version__)"
   ]
  },
  {
   "cell_type": "code",
   "execution_count": 2,
   "id": "b9c46de9-8b88-4dcc-ba33-276f978221e0",
   "metadata": {},
   "outputs": [],
   "source": [
    "import os \n",
    "import re\n",
    "import glob \n",
    "import joblib\n",
    "import pickle \n",
    "import pandas as pd\n",
    "import numpy as np\n",
    "from numpy import array\n",
    "import datetime\n",
    "from datetime import datetime,timedelta\n",
    "from sklearn.pipeline import Pipeline\n",
    "from sklearn.preprocessing import MinMaxScaler,StandardScaler\n",
    "from sklearn.cluster import KMeans\n",
    "from pymongo import MongoClient\n",
    "import warnings \n",
    "warnings.filterwarnings(action='ignore')"
   ]
  },
  {
   "cell_type": "code",
   "execution_count": 3,
   "id": "16046eb2-ea27-4a8d-9b08-a884d8b5494b",
   "metadata": {},
   "outputs": [],
   "source": [
    "def complete_process(machine_number):\n",
    "    server_address = \"private_server_address\"\n",
    "    client_update = MongoClient(\"mongodb://private_company_client{0}/admin\".format(server_address))\n",
    "    db = client_update[\"privateDB\"] # db 이름 변경 \n",
    "    from_date = datetime(2025,1,1,0,0,0) \n",
    "\n",
    "    #### 1.) Production 데이터 수집 \n",
    "    col = db['productionData']\n",
    "    pd.set_option('display.max_columns', None)\n",
    "    df_production = pd.DataFrame(list(col.find({\"equipNumber\": f\"A01-0{str(machine_number)}\",\n",
    "                 \"$and\":[{\"lineNumber\":{\"$ne\":'MLT'}}],\n",
    "                \"$and\":[{\"timeStamp\":{\"$gte\":from_date}}]}))).reset_index(drop=True)\n",
    "    #df_production.to_csv('df_production.csv',encoding='cp949',index=False)\n",
    "    df_production = df_production[df_production['timeStamp']>='2025-02-05 00:00:00'].reset_index(drop=True)\n",
    "    df_production = df_production.sort_values(by='timeStamp').reset_index(drop=True)\n",
    "    df_production = df_production[df_production['PassOrFail']=='1'].reset_index(drop=True)\n",
    "    #print(df_production['timeStamp'] + timedelta(hours=9))\n",
    "\n",
    "    #### 2.) Environment 데이터 수집 \n",
    "    col = db['environmentData']\n",
    "    pd.set_option('display.max_columns', None)\n",
    "    df_environment = pd.DataFrame(list(col.find({\"timeStamp\":{\"$gte\":from_date}}))).reset_index(drop=True)\n",
    "    df_environment = df_environment[df_environment['timeStamp']>='2025-02-05 00:00:00'].reset_index(drop=True)\n",
    "    df_environment = df_environment.sort_values(by='timeStamp').reset_index(drop=True)\n",
    "    #print(df_environment['timeStamp'] + timedelta(hours=9))\n",
    "\n",
    "    #### 3.) Production + Environment 매칭 (시간 단위 1대1 매칭 불가 --> 최근접 시간 매칭 시도 )\n",
    "    df_merged = pd.merge_asof(df_production,df_environment,on='timeStamp', direction='nearest')\n",
    "    df_merged.shape\n",
    "    print(df_merged.timeStamp+timedelta(hours=9))\n",
    "\n",
    "    #### 4.) 총합 매칭된 데이터들의 입력변수 [Set + Environment] 기반 K-Means Cluster 모델 구축 \n",
    "    set_environ_cols = df_merged.loc[:,df_merged.columns.str.contains('Set')].columns.tolist()+['factoryTemperature','factoryHumidity']\n",
    "    n = len(df_merged[set_environ_cols].drop_duplicates())\n",
    "    df_set = df_merged[set_environ_cols]\n",
    "    pipe1 = Pipeline([('scaler', StandardScaler()), ('kmeans', KMeans(n_clusters=n, random_state=0))])\n",
    "    df_clustered_setting = pipe1.fit_predict(df_set)\n",
    "    df_merged['cluster_no'] = df_clustered_setting\n",
    "    cluster_settings = df_merged['cluster_no'].unique().tolist()\n",
    "    cluster_settings.sort()\n",
    "    print('Setting Clusters ==> ',len(cluster_settings))\n",
    "    print('\\n')\n",
    "    joblib.dump(pipe1,'recipe_cluster/'+'environmental_setting_cluster_machine='+str(machine_number)+'.pkl')\n",
    "\n",
    "    #### 5.) K-Means Cluster기반 개별 데이터 Cluster Numbering 완료한 Recipe Analysis Data 저장 \n",
    "    df_merged[set_environ_cols+['cluster_no']].drop_duplicates().reset_index(drop=True).to_csv('recipe_data/Recipe_Data_machine='+str(machine_number)+'.csv',index=False,encoding='cp949')\n",
    "    print(df_merged[set_environ_cols+['cluster_no']].drop_duplicates().shape)"
   ]
  },
  {
   "cell_type": "markdown",
   "id": "57b03328-1865-488c-adb6-1178bd71a519",
   "metadata": {},
   "source": [
    "#### 사출기 17,18호기 대상 각각 K-Means Cluster 학습모델 저장  "
   ]
  },
  {
   "cell_type": "code",
   "execution_count": 4,
   "id": "cadf38b6-4297-49c2-8483-9bb754e6a919",
   "metadata": {},
   "outputs": [
    {
     "name": "stdout",
     "output_type": "stream",
     "text": [
      "0       2025-02-17 08:08:19.084\n",
      "1       2025-02-17 08:09:01.564\n",
      "2       2025-02-17 08:09:49.654\n",
      "3       2025-02-17 08:11:22.955\n",
      "4       2025-02-17 08:12:05.554\n",
      "                  ...          \n",
      "23790   2025-04-15 09:25:25.505\n",
      "23791   2025-04-15 09:26:29.241\n",
      "23792   2025-04-15 09:27:28.787\n",
      "23793   2025-04-15 09:28:28.170\n",
      "23794   2025-04-15 09:29:27.598\n",
      "Name: timeStamp, Length: 23795, dtype: datetime64[ns]\n",
      "Setting Clusters ==>  19578\n",
      "\n",
      "\n",
      "(19578, 11)\n"
     ]
    }
   ],
   "source": [
    "complete_process(machine_number=17)"
   ]
  },
  {
   "cell_type": "code",
   "execution_count": 5,
   "id": "9a04978c-463d-4452-9faa-ea01ddc6cc0d",
   "metadata": {},
   "outputs": [
    {
     "name": "stdout",
     "output_type": "stream",
     "text": [
      "0       2025-02-05 09:01:05.964\n",
      "1       2025-02-05 09:02:12.910\n",
      "2       2025-02-05 09:03:21.031\n",
      "3       2025-02-05 09:04:29.119\n",
      "4       2025-02-05 09:05:36.033\n",
      "                  ...          \n",
      "23271   2025-04-15 09:29:22.115\n",
      "23272   2025-04-15 09:30:28.019\n",
      "23273   2025-04-15 09:30:28.019\n",
      "23274   2025-04-15 09:31:32.896\n",
      "23275   2025-04-15 09:31:32.896\n",
      "Name: timeStamp, Length: 23276, dtype: datetime64[ns]\n",
      "Setting Clusters ==>  340\n",
      "\n",
      "\n",
      "(340, 11)\n"
     ]
    }
   ],
   "source": [
    "complete_process(machine_number=18)"
   ]
  },
  {
   "cell_type": "code",
   "execution_count": null,
   "id": "a2c86099-12f6-4d30-b596-a34113e1e56d",
   "metadata": {},
   "outputs": [],
   "source": []
  },
  {
   "cell_type": "code",
   "execution_count": null,
   "id": "6bb81a29-04a9-432c-b265-9b92ad8edbf7",
   "metadata": {},
   "outputs": [],
   "source": []
  },
  {
   "cell_type": "code",
   "execution_count": null,
   "id": "ecb1f77b-14c3-43f1-bb4f-1599f2e25d63",
   "metadata": {},
   "outputs": [],
   "source": []
  },
  {
   "cell_type": "code",
   "execution_count": null,
   "id": "955c3c1c-2a9e-412d-9d32-f9f6310fe835",
   "metadata": {},
   "outputs": [],
   "source": []
  },
  {
   "cell_type": "code",
   "execution_count": null,
   "id": "b31c9992-e2f7-4eb5-9fe4-324c3aaab9c0",
   "metadata": {},
   "outputs": [],
   "source": []
  },
  {
   "cell_type": "code",
   "execution_count": null,
   "id": "2f6e4831-96c1-4b73-8b3e-e2494c90b5c1",
   "metadata": {},
   "outputs": [],
   "source": []
  },
  {
   "cell_type": "code",
   "execution_count": null,
   "id": "f73515a9-0612-4596-92b7-41da85c0ea35",
   "metadata": {},
   "outputs": [],
   "source": []
  },
  {
   "cell_type": "code",
   "execution_count": null,
   "id": "629888ec-fc94-4ec8-9fb1-b55252659ae9",
   "metadata": {},
   "outputs": [],
   "source": []
  },
  {
   "cell_type": "code",
   "execution_count": null,
   "id": "002cfdee-1e7e-46be-bcda-633999ac4866",
   "metadata": {},
   "outputs": [],
   "source": []
  }
 ],
 "metadata": {
  "kernelspec": {
   "display_name": "Python 3 (ipykernel)",
   "language": "python",
   "name": "python3"
  },
  "language_info": {
   "codemirror_mode": {
    "name": "ipython",
    "version": 3
   },
   "file_extension": ".py",
   "mimetype": "text/x-python",
   "name": "python",
   "nbconvert_exporter": "python",
   "pygments_lexer": "ipython3",
   "version": "3.9.13"
  }
 },
 "nbformat": 4,
 "nbformat_minor": 5
}
