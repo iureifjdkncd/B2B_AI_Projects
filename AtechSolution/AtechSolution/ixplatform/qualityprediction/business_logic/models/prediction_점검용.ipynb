{
 "cells": [
  {
   "cell_type": "code",
   "execution_count": 1,
   "id": "97bd3d49-ff23-4fe6-aa49-b5b6a1d781eb",
   "metadata": {},
   "outputs": [],
   "source": [
    "import os \n",
    "import re\n",
    "import glob \n",
    "import random\n",
    "from tqdm import tqdm\n",
    "import joblib\n",
    "import pickle\n",
    "from pymongo import MongoClient\n",
    "import pandas as pd\n",
    "pd.set_option('display.max_columns', None)\n",
    "import numpy as np\n",
    "from numpy import array\n",
    "from pymongo import MongoClient\n",
    "from sklearn.pipeline import Pipeline\n",
    "from sklearn.preprocessing import MinMaxScaler,StandardScaler\n",
    "from sklearn.metrics import pairwise_distances_argmin_min\n",
    "from sklearn.cluster import KMeans\n",
    "from sklearn.ensemble import IsolationForest\n",
    "import seaborn as sns\n",
    "import matplotlib.pyplot as plt\n",
    "import datetime\n",
    "from datetime import datetime,timedelta\n",
    "import warnings \n",
    "warnings.filterwarnings(action='ignore')\n",
    "os.environ['TF_CPP_MIN_LOG_LEVEL'] = '3'\n",
    "\n",
    "import tensorflow \n",
    "import tensorflow as tf\n",
    "random.seed(1234)\n",
    "np.random.seed(1234)\n",
    "tf.random.set_seed(1234)\n",
    "from tensorflow import keras\n",
    "from tensorflow.keras import Input, Model,layers, models\n",
    "from keras.models import load_model\n",
    "from tensorflow.keras.layers import *\n",
    "from tensorflow.keras.models import *\n",
    "from tensorflow.keras.callbacks import *\n",
    "from tensorflow.keras.optimizers import *\n",
    "from tensorflow.keras import backend as K\n",
    "import warnings \n",
    "warnings.filterwarnings(action='ignore')"
   ]
  },
  {
   "cell_type": "code",
   "execution_count": 2,
   "id": "1d7954b7-ff6f-4eb0-9d3b-7bea161c300e",
   "metadata": {},
   "outputs": [
    {
     "name": "stdout",
     "output_type": "stream",
     "text": [
      "2023-12-01 00:00:00\n",
      "2025-07-24 23:59:59\n"
     ]
    }
   ],
   "source": [
    "import datetime\n",
    "start_date = '2023-12-01 00:00:00'\n",
    "end_date = datetime.datetime.now().strftime('%Y-%m-%d 23:59:59')\n",
    "\n",
    "print(start_date)\n",
    "print(end_date)"
   ]
  },
  {
   "cell_type": "code",
   "execution_count": 3,
   "id": "c5d41ea3-a691-4352-8c78-29601a80557e",
   "metadata": {},
   "outputs": [],
   "source": [
    "import os\n",
    "os.chdir(\"C:/Users/inter/Desktop/ixplatform/qualityprediction\")\n",
    "modelBasePath = 'business_logic/models'"
   ]
  },
  {
   "cell_type": "markdown",
   "id": "9fb74526-6aea-409f-a771-96b0318c0c85",
   "metadata": {},
   "source": [
    "#### 1.) 추론용 MongoDB 정보 업로드 "
   ]
  },
  {
   "cell_type": "code",
   "execution_count": 4,
   "id": "d38e7392-1cf8-4a3d-831a-bbc527d2660e",
   "metadata": {},
   "outputs": [],
   "source": [
    "def get_mongo_data(db_name,collection_name):\n",
    "    server_address = \"private_server_address\"\n",
    "    client_update = MongoClient(\"mongodb://company_private_client@{0}/admin\".format(server_address))\n",
    "    db = client_update[db_name]\n",
    "    col = db[collection_name]\n",
    "    if collection_name == 'productiondata':\n",
    "        df = pd.DataFrame(list(col.find({}).sort(\"TimeStamp\", -1).limit(500))) # 100\n",
    "        df = df.sort_values(by='TimeStamp').reset_index(drop=True)\n",
    "    elif collection_name == 'productionsettingdata':\n",
    "        df = pd.DataFrame(list(col.find({}).sort(\"TimeStamp\", -1).limit(500))) # 100\n",
    "        df = df.sort_values(by='TimeStamp').reset_index(drop=True)\n",
    "    for col in df.columns:\n",
    "        try : df[col] = df[col].astype('float64') # float32\n",
    "        except: pass \n",
    "    return df\n",
    "\n",
    "def get_productiondata():\n",
    "    df_production = get_mongo_data('privateDB','productiondata')\n",
    "    df_production['orderDate'] = df_production['orderNumber'].str.split('_').str[3]\n",
    "    shot_cols = [col for col in df_production.columns if col.split('_')[0] == 'shotdata']\n",
    "    df_settings = get_mongo_data('privateDB','productionsettingdata')\n",
    "    df_settings.drop(['set_tc_s_f','set_tc_s_m','set_tm_s_f','set_tm_s_m'],axis=1,inplace=True)\n",
    "    set_cols = [col for col in df_settings.columns if col.split('_')[0] == 'set']\n",
    "    not_list = ['notFound','undefined','']\n",
    "    df_settings = df_settings[df_settings['orderNumber'].isin(not_list) == False]\n",
    "    df_settings = df_settings[df_settings.orderNumber.isin(not_list) == False]\n",
    "    df_production = df_production[['_id','orderNumber','TimeStamp','Working_No','maker','moldNumber','moldName','MECHCD','MECHNM','SABUN','ITEMNM','orderDate','good_qty','bad_qty','prediction']+ shot_cols]\n",
    "    df_setting = df_settings[['Working_No']+ set_cols]\n",
    "    \n",
    "    df_setting = df_setting.drop_duplicates(subset=['Working_No'])\n",
    "    df_sensing = df_production.drop_duplicates(subset=['Working_No'])\n",
    "    Production_Data = pd.merge(df_sensing,df_setting, how='inner',on=['Working_No']).reset_index(drop=True)\n",
    "    Production_Data['_id'] = Production_Data['_id'].astype(str)\n",
    "    Production_Data.replace(r'^\\s*$', np.nan, regex=True, inplace=True)\n",
    "    Production_Data = Production_Data.dropna(subset=['Working_No','maker','moldNumber','moldName','MECHCD','MECHNM','SABUN','ITEMNM'],axis=0).reset_index(drop=True)\n",
    "    \n",
    "    df_production_final = pd.merge(df_production,Production_Data[['Working_No']+set_cols],on='Working_No',how='left')\n",
    "    df_production_final['MECHCD'] = df_production_final['MECHCD'].astype(str)\n",
    "    df_production_final['maker'] = df_production_final['maker'].fillna(method='ffill').fillna(method='bfill')\n",
    "    return df_production_final"
   ]
  },
  {
   "cell_type": "markdown",
   "id": "28ef68d4-14a8-4b69-a2cc-09cfb403b856",
   "metadata": {},
   "source": [
    "#### 2.) 실시간 추론정보 처리\n",
    "- Setting기반 추론 시 현재정보 과거에 존재X 경우 학습했던 이력의 Setting중 최근접 대체학습모델/정보 활용"
   ]
  },
  {
   "cell_type": "code",
   "execution_count": 5,
   "id": "f5589468-62b7-45f8-a8de-55a547bc1ca5",
   "metadata": {},
   "outputs": [],
   "source": [
    "def find_closest_trained_settings_info(dictionary,current_input,load_trained_settings,setting_cols,define_set_cluster,define_record,facility,item):\n",
    "    if len(define_record)==0: \n",
    "        valid_clusters = dictionary[(dictionary['cluster_trainable'] == True)]['clusterSetting'].unique().tolist()\n",
    "        change='False'\n",
    "    else:\n",
    "        valid_clusters = dictionary[(dictionary['MECHCD']==facility)&(dictionary['SABUN']==item) &\n",
    "             (dictionary['cluster_trainable'] == True)]['clusterSetting'].unique().tolist()\n",
    "        if len(valid_clusters)==0:\n",
    "            valid_clusters = dictionary[(dictionary['cluster_trainable'] == True)]['clusterSetting'].unique().tolist()\n",
    "            change='True'\n",
    "        else:\n",
    "            change='False'\n",
    "            pass \n",
    "    setting_inputs = load_trained_settings[:, :-1]\n",
    "    setting_clusters = load_trained_settings[:, -1]\n",
    "    valid_mask = np.isin(setting_clusters, valid_clusters) & (setting_clusters != define_set_cluster)\n",
    "    filtered_inputs = setting_inputs[valid_mask]\n",
    "    filtered_clusters = setting_clusters[valid_mask]\n",
    "    query = current_input[setting_cols].values\n",
    "    if query.ndim == 1:\n",
    "        query = query.reshape(1, -1)\n",
    "\n",
    "    all_data = np.vstack([filtered_inputs, query])  # shape: (N+1, D)\n",
    "    min_vals = np.min(all_data, axis=0)\n",
    "    max_vals = np.max(all_data, axis=0)\n",
    "    denom = np.where(max_vals - min_vals == 0, 1, max_vals - min_vals)\n",
    "    scaled_all = (all_data - min_vals) / denom\n",
    "    scaled_filtered_inputs = scaled_all[:-1]\n",
    "    scaled_query = scaled_all[-1].reshape(1, -1)\n",
    "    \n",
    "    nearest_idx, distances = pairwise_distances_argmin_min(scaled_query, scaled_filtered_inputs)\n",
    "    max_possible_dist = np.sqrt(scaled_query.shape[1])\n",
    "    normalized_dist = distances[0] / max_possible_dist\n",
    "    similarity_score = 1 - normalized_dist\n",
    "\n",
    "    nearest_setting = filtered_inputs[nearest_idx[0]]\n",
    "    nearest_cluster = filtered_clusters[nearest_idx[0]].astype(int)\n",
    "    define_set_cluster = nearest_cluster\n",
    "    if len(define_record)==0 or (change=='True'):\n",
    "        #print('Change Direction')\n",
    "        near_info = dictionary[(dictionary['cluster_trainable']==True)&(dictionary['clusterSetting']==define_set_cluster)].sample(1,random_state=2021)  \n",
    "        facility = near_info['MECHCD'].iloc[-1]\n",
    "        item  = near_info['SABUN'].iloc[-1]\n",
    "        return facility, item, define_set_cluster,similarity_score\n",
    "    else:\n",
    "        return define_set_cluster,similarity_score"
   ]
  },
  {
   "cell_type": "markdown",
   "id": "01517254-6b88-40cb-b060-5e0b8ac78101",
   "metadata": {},
   "source": [
    "#### 3.) 임계값 유연성 처리\n",
    "- 대체학습모델/정보로 추론 시 기존 임계값 유연성 부여 "
   ]
  },
  {
   "cell_type": "code",
   "execution_count": 6,
   "id": "75f3f0b1-ff07-4cf7-8458-3ea755d734ca",
   "metadata": {},
   "outputs": [],
   "source": [
    "def calculate_adaptive_threshold(load_trained_model,select_model,load_trained_infos,test,adaptable,similarity_score):\n",
    "    trained_data = load_trained_infos[:, :-1]\n",
    "    trained_threshold = load_trained_infos[:, -1][0]\n",
    "    if select_model == 'ISF':\n",
    "        train_mae_loss = trained_data # trained_scores\n",
    "    elif select_model == 'AE':\n",
    "        scaler = MinMaxScaler(clip=True)\n",
    "        scaler.fit(trained_data)\n",
    "        train_scaled = pd.DataFrame(scaler.transform(trained_data), columns=test.columns)\n",
    "        train_preds = load_trained_model.predict(train_scaled)\n",
    "        train_mae_loss = np.mean(np.abs(train_preds - train_scaled), axis=1)\n",
    "    elif select_model == 'memae':\n",
    "        from business_logic.models.trained.memae import memae_anomaly_scores, memae_anomaly_scores_extended\n",
    "        scaler = MinMaxScaler(clip=True)\n",
    "        scaler.fit(trained_data)\n",
    "        train_scaled = pd.DataFrame(scaler.transform(trained_data), columns=test.columns)\n",
    "        MemAE = load_trained_model\n",
    "        train_mae_loss = memae_anomaly_scores_extended(train_scaled, MemAE)\n",
    "    max_threshold = np.max(train_mae_loss)#np.percentile(train_mae_loss,99.9)\n",
    "    final_threshold = max(trained_threshold,max_threshold)\n",
    "    if adaptable=='True':\n",
    "        if select_model=='ISF':\n",
    "            train_mae_loss = train_mae_loss.reshape(-1)\n",
    "        else:\n",
    "            pass\n",
    "        from scipy.stats import gaussian_kde\n",
    "        kde = gaussian_kde(train_mae_loss)\n",
    "        kde_samples = kde.resample(100000).flatten()\n",
    "        train_mae_loss = kde_samples\n",
    "        cv = np.abs(np.std(train_mae_loss) / np.mean(train_mae_loss))\n",
    "        if cv < 0.1:\n",
    "            cv_alpha = np.random.uniform(0.012, 0.02)\n",
    "        elif cv < 0.2:\n",
    "            cv_alpha = np.random.uniform(0.025, 0.032)\n",
    "        elif cv < 0.4:\n",
    "            cv_alpha = np.random.uniform(0.04, 0.05)\n",
    "        elif cv < 0.6:\n",
    "            cv_alpha = np.random.uniform(0.06, 0.07)\n",
    "        else:\n",
    "            cv_alpha = np.random.uniform(0.08, 0.09)\n",
    "        if similarity_score >= 0.8:\n",
    "            adjustment = np.random.uniform(0.025, 0.03)\n",
    "        elif similarity_score >= 0.6:\n",
    "            adjustment = np.random.uniform(0.035, 0.04)\n",
    "        elif similarity_score >= 0.4:\n",
    "            adjustment = np.random.uniform(0.045, 0.052)\n",
    "        elif similarity_score >= 0.2:\n",
    "            adjustment = np.random.uniform(0.055, 0.065)\n",
    "        else:\n",
    "            adjustment = np.random.uniform(0.08, 0.095)\n",
    "        adjustment = adjustment + (1 - similarity_score)**2*0.025 #* 0.05  # 0.03, 0.05 , 0.075\n",
    "        final_threshold = final_threshold + adjustment #+ cv_alpha\n",
    "        margin_factor = (cv / 0.6 + (1 - similarity_score)**2) / 2\n",
    "        flexible_margin = np.clip(margin_factor * 0.1, 0, 0.2) #+ 0.05\n",
    "    else:\n",
    "        cv = np.abs(np.std(train_mae_loss) / np.mean(train_mae_loss))\n",
    "        if cv < 0.05:\n",
    "            flexible_margin = 0.005  # 거의 무변동한 경우\n",
    "        elif cv < 0.1:\n",
    "            flexible_margin = 0.01\n",
    "        elif cv < 0.2:\n",
    "            flexible_margin = 0.015\n",
    "        elif cv < 0.4:\n",
    "            flexible_margin = 0.02\n",
    "        elif cv < 0.6:\n",
    "            flexible_margin = 0.03\n",
    "        else:\n",
    "            flexible_margin = 0.04 \n",
    "    return final_threshold , flexible_margin"
   ]
  },
  {
   "cell_type": "markdown",
   "id": "360cf1c6-ac8a-401c-bf83-aaa06abafd6e",
   "metadata": {},
   "source": [
    "#### 4.) 추론용 함수 구축"
   ]
  },
  {
   "cell_type": "code",
   "execution_count": 7,
   "id": "45425e7e-9ad7-4522-9052-21a7a9354360",
   "metadata": {},
   "outputs": [],
   "source": [
    "def prediction(df,working_number):\n",
    "    Production_Data = df\n",
    "    current_input = Production_Data[Production_Data['Working_No']==working_number].reset_index(drop=True)\n",
    "    if len(current_input)>1:\n",
    "        current_input = Production_Data[Production_Data['Working_No']==working_number].sample(n=1).reset_index(drop=True)\n",
    "    else:\n",
    "        pass\n",
    "    maker = current_input['maker'].values[0]\n",
    "    try:\n",
    "        facility = current_input['MECHCD'].astype(float).astype(int).astype(str).values[0]\n",
    "    except:\n",
    "        facility = current_input['MECHCD'].astype(str).values[0]\n",
    "    item = current_input['SABUN'].values[0]\n",
    "    dictionary = pd.read_csv(f\"{modelBasePath}/dictionary/{maker}_dictionary.csv\", encoding='cp949')\n",
    "    dictionary['MECHCD'] = dictionary['MECHCD'].astype(str)\n",
    "    \n",
    "    sensing_cols = np.load(f\"{modelBasePath}/columns/{maker}/shot_cols.npy\")\n",
    "    setting_cols = np.load(f\"{modelBasePath}/columns/{maker}/setting_cols.npy\")\n",
    "    Production_Data[sensing_cols] = Production_Data[sensing_cols].fillna(method='ffill').fillna(method='bfill')\n",
    "    Production_Data[setting_cols] = Production_Data[setting_cols].fillna(method='ffill').fillna(method='bfill')\n",
    "\n",
    "    sensing_modes = pd.read_csv(f\"{modelBasePath}/Mode_values/{maker}_sensing_dict.csv\",encoding='cp949')\n",
    "    loaded_sensing_dict = dict(zip(sensing_modes['column'], sensing_modes['mode_value']))\n",
    "    setting_modes = pd.read_csv(f\"{modelBasePath}/Mode_values/{maker}_set_dict.csv\",encoding='cp949')\n",
    "    loaded_setting_dict = dict(zip(setting_modes['column'], setting_modes['mode_value']))\n",
    "    Production_Data[sensing_cols] = Production_Data[sensing_cols].apply(lambda col:col.fillna(loaded_sensing_dict.get(col.name,col)),axis=0)\n",
    "    Production_Data[setting_cols] = Production_Data[setting_cols].apply(lambda col:col.fillna(loaded_setting_dict.get(col.name,col)),axis=0)\n",
    "    #print(maker , facility, item)\n",
    "    \n",
    "    current_input = Production_Data[Production_Data['Working_No']==working_number].reset_index(drop=True)\n",
    "    if len(current_input)>1:\n",
    "        current_input = Production_Data[Production_Data['Working_No']==working_number].sample(n=1).reset_index(drop=True)\n",
    "    else:\n",
    "        pass\n",
    "    check_sensings = current_input[sensing_cols].isna().sum().mean()\n",
    "    check_settings = current_input[setting_cols].isna().sum().mean()\n",
    "    if (check_sensings!=0) or (check_settings!=0):\n",
    "        print('==> Input Nan Exception (Current Quantity) ')\n",
    "        print('==> WorkingNumber', working_number)\n",
    "        if current_input['bad_qty'].values[0]==0:\n",
    "            result = 1\n",
    "        else:\n",
    "            result = 0\n",
    "        print('==> prediction result :','Normal' if result==1  else 'Fault')\n",
    "        print('='*150)\n",
    "    else:\n",
    "        try: # try\n",
    "            print('==> WorkingNumber', working_number)\n",
    "            load_kmeans = joblib.load(f\"{modelBasePath}/cluster_settings/{maker}_settings.pkl\")\n",
    "            load_trained_settings = np.load(f\"{modelBasePath}/setting_values/{maker}_settings.npy\")\n",
    "            define_set_cluster = load_kmeans.predict(current_input[setting_cols])[0]\n",
    "            define_record = dictionary[(dictionary['MECHCD']==facility)&\n",
    "                                       (dictionary['SABUN']==item)&\n",
    "                                        (dictionary['clusterSetting']==define_set_cluster)].reset_index(drop=True)\n",
    "            if len(define_record)==0:\n",
    "                adaptable ='True'\n",
    "                print('==> Search Closest Trained Setting from Dictionary')\n",
    "                facility, item, define_set_cluster,similarity_score = find_closest_trained_settings_info(dictionary,current_input,load_trained_settings,setting_cols,\n",
    "                                                                                        define_set_cluster,define_record,facility,item)\n",
    "            else:\n",
    "                check_cluster_available = define_record['cluster_trainable'].values[0]\n",
    "                if check_cluster_available == False:\n",
    "                    adaptable ='True'\n",
    "                    print('==> Search Closest Trained Setting from current Facility/ItemCode')\n",
    "                    results = find_closest_trained_settings_info(dictionary,current_input,load_trained_settings,setting_cols,\n",
    "                                                        define_set_cluster,define_record,facility,item)\n",
    "                    if len(results) == 2:\n",
    "                        define_set_cluster, similarity_score = results\n",
    "                    elif len(results) == 4:\n",
    "                        facility, item, define_set_cluster, similarity_score = results\n",
    "                else:\n",
    "                    adaptable ='False'\n",
    "                    similarity_score = 0\n",
    "                    pass\n",
    "            print('==> Setting Based Prediction')\n",
    "            load_trained_infos = np.load(f\"{modelBasePath}/inference_info/{maker}/Facility={facility}_ITEM={item}_setting={define_set_cluster}.npy\")\n",
    "            try:\n",
    "                select_model='ISF'\n",
    "                load_trained_model = joblib.load(f\"{modelBasePath}/trained/{maker}/Facility={facility}_ITEM={item}_setting={define_set_cluster}.pkl\")\n",
    "            except:\n",
    "                try:\n",
    "                    select_model = 'AE'\n",
    "                    load_trained_model = load_model(f\"{modelBasePath}/trained/{maker}/Facility={facility}_ITEM={item}_setting={define_set_cluster}.h5\")\n",
    "                except:\n",
    "                    select_model = 'memae'\n",
    "                    from business_logic.models.trained.memae import MemoryModule,memae_loss,l2_normalize,hard_shrinkage,entropy_loss,memae_anomaly_scores,memae_anomaly_scores_extended\n",
    "                    custom_objects = {'MemoryModule': MemoryModule,'memae_loss': memae_loss,'l2_normalize': l2_normalize,\n",
    "                                       'hard_shrinkage': hard_shrinkage,'entropy_loss': entropy_loss}\n",
    "                    filename = f\"{modelBasePath}/trained/{maker}/Facility={facility}_ITEM={item}_setting={define_set_cluster}_memae.h5\"\n",
    "                    load_trained_model = load_model(filename,custom_objects=custom_objects)\n",
    "            test = current_input[sensing_cols]\n",
    "            train = load_trained_infos[:, :-1]\n",
    "            #threshold = load_trained_infos[:, -1][0]\n",
    "            if select_model=='ISF':\n",
    "                test_mae_loss = (-1 * load_trained_model.decision_function(test))[0] #scores_test = test_mae_loss\n",
    "                threshold, margin = calculate_adaptive_threshold(load_trained_model,select_model,load_trained_infos,test,adaptable,similarity_score)\n",
    "                add_df = pd.concat([pd.DataFrame(np.array([test_mae_loss])),pd.DataFrame(np.array([load_trained_infos[:, -1][0]]))],axis=1)\n",
    "            elif select_model=='AE':\n",
    "                scaler = MinMaxScaler(clip=True)\n",
    "                threshold, margin = calculate_adaptive_threshold(load_trained_model,select_model,load_trained_infos,test,adaptable,similarity_score)\n",
    "                scaler.fit(train)\n",
    "                X_test_scaled = pd.DataFrame(scaler.transform(test), columns=test.columns)\n",
    "                x_test_pred = load_trained_model.predict(X_test_scaled)\n",
    "                test_mae_loss = np.mean(np.abs(x_test_pred - X_test_scaled), axis=1)[0]\n",
    "                add_df = pd.concat([test,pd.DataFrame(np.array([load_trained_infos[:, -1][0]]))],axis=1)\n",
    "            elif select_model=='memae':\n",
    "                scaler = MinMaxScaler(clip=True)\n",
    "                threshold, margin = calculate_adaptive_threshold(load_trained_model,select_model,load_trained_infos,test,adaptable,similarity_score)\n",
    "                scaler.fit(train)\n",
    "                X_test_scaled = pd.DataFrame(scaler.transform(test), columns=test.columns)\n",
    "                from business_logic.models.trained.memae import memae_anomaly_scores, memae_anomaly_scores_extended\n",
    "                MemAE = load_trained_model \n",
    "                test_mae_loss = memae_anomaly_scores_extended(X_test_scaled, MemAE)[0]\n",
    "                add_df = pd.concat([test,pd.DataFrame(np.array([load_trained_infos[:, -1][0]]))],axis=1)\n",
    "            result = 1 if test_mae_loss < threshold else 0\n",
    "            if result == 0:\n",
    "                if test_mae_loss - threshold < margin:\n",
    "                    result = 1  \n",
    "                else:\n",
    "                    pass  \n",
    "            else:\n",
    "                pass  \n",
    "            #if (result==1) & (adaptable=='False'):\n",
    "                #update_info = np.vstack((load_trained_infos, np.array(add_df)))\n",
    "                #np.save(f\"{modelBasePath}/inference_info/{maker}/Facility={facility}_ITEM={item}_setting={define_set_cluster}.npy\",update_info)\n",
    "            #else:\n",
    "            #    pass\n",
    "            print('==> model',select_model)\n",
    "            print(f\"==> Maker={maker}_Facility={facility}_ITEM={item}\" + (f\"_setting={define_set_cluster}\"))# \n",
    "            print('==> mae_recon_loss',test_mae_loss)\n",
    "            print('==> threshold',threshold)\n",
    "            print('==> margin limit',margin)\n",
    "            print('==> prediction result :','Normal' if result==1  else 'Fault')\n",
    "            print('='*150) \n",
    "        except:\n",
    "            print('==> No Trained Information (Current Quantity)')\n",
    "            print('==> WorkingNumber', working_number)\n",
    "            if current_input['bad_qty'].values[0]==0:\n",
    "                result = 1\n",
    "            else:\n",
    "                result = 0\n",
    "            print('==> prediction result :','Normal' if result==1  else 'Fault')\n",
    "            print('='*150)\n",
    "    return result"
   ]
  },
  {
   "cell_type": "code",
   "execution_count": 8,
   "id": "fccc5a8d-0f93-4120-bfc9-eb21bb1c78cf",
   "metadata": {},
   "outputs": [],
   "source": [
    "def Prediction(working_number):\n",
    "    try:\n",
    "        df = get_productiondata()\n",
    "        res = prediction(df,working_number)\n",
    "    except:\n",
    "        res = -1\n",
    "        print('Excpetion [Prediction Fail]')\n",
    "        print('='*150)\n",
    "    return {\"prediction_result\":str(res)}"
   ]
  },
  {
   "cell_type": "code",
   "execution_count": 9,
   "id": "390bbabd-5763-4626-a988-b710a7d7b81e",
   "metadata": {},
   "outputs": [
    {
     "data": {
      "text/plain": [
       "(500, 387)"
      ]
     },
     "execution_count": 9,
     "metadata": {},
     "output_type": "execute_result"
    }
   ],
   "source": [
    "df = get_productiondata()\n",
    "df.shape"
   ]
  },
  {
   "cell_type": "code",
   "execution_count": 10,
   "id": "2a0bb6bb-1999-46c6-8f9b-3fa8d13b4ab8",
   "metadata": {},
   "outputs": [],
   "source": [
    "#df.to_csv('실험1000개.csv',encoding='cp949',index=False)"
   ]
  },
  {
   "cell_type": "code",
   "execution_count": 11,
   "id": "7b829ae5-8b84-4b02-8728-accc7a4ee723",
   "metadata": {
    "scrolled": true
   },
   "outputs": [
    {
     "data": {
      "text/plain": [
       "0     2025-07-24 03:35:30\n",
       "1     2025-07-24 03:35:30\n",
       "2     2025-07-24 03:35:36\n",
       "3     2025-07-24 03:35:38\n",
       "4     2025-07-24 03:35:42\n",
       "              ...        \n",
       "495   2025-07-24 04:15:14\n",
       "496   2025-07-24 04:15:14\n",
       "497   2025-07-24 04:15:15\n",
       "498   2025-07-24 04:15:27\n",
       "499   2025-07-24 04:15:27\n",
       "Name: TimeStamp, Length: 500, dtype: datetime64[ns]"
      ]
     },
     "execution_count": 11,
     "metadata": {},
     "output_type": "execute_result"
    }
   ],
   "source": [
    "df.TimeStamp"
   ]
  },
  {
   "cell_type": "markdown",
   "id": "751ca126-b48e-44b0-a5b7-6095ff70173b",
   "metadata": {},
   "source": [
    "#### 5.) 추론 Loop예시"
   ]
  },
  {
   "cell_type": "code",
   "execution_count": 16,
   "id": "d8610e4a-a8c0-4236-bdf9-00b1918c9cab",
   "metadata": {},
   "outputs": [
    {
     "name": "stdout",
     "output_type": "stream",
     "text": [
      "==> WorkingNumber PD2506260034_B_010_20250723_1013_3731_1\n",
      "==> Search Closest Trained Setting from current Facility/ItemCode\n",
      "==> Setting Based Prediction\n",
      "==> model memae\n",
      "==> Maker=JSW_Facility=1013_ITEM=T1Z23-03010_setting=233\n",
      "==> mae_recon_loss 0.08134668035579304\n",
      "==> threshold 0.3164381733524671\n",
      "==> margin limit 0.035813364213030996\n",
      "==> prediction result : Normal\n",
      "======================================================================================================================================================\n"
     ]
    },
    {
     "data": {
      "text/plain": [
       "{'prediction_result': '1'}"
      ]
     },
     "execution_count": 16,
     "metadata": {},
     "output_type": "execute_result"
    }
   ],
   "source": [
    "df = get_productiondata()\n",
    "working_number = str(df['Working_No'].iloc[-1])\n",
    "PredictionATECH(working_number)"
   ]
  },
  {
   "cell_type": "code",
   "execution_count": 17,
   "id": "c18315d7-dea3-4849-a4d5-3e888ab50183",
   "metadata": {
    "scrolled": true
   },
   "outputs": [
    {
     "name": "stderr",
     "output_type": "stream",
     "text": [
      "Predicting:   0%|                                                                              | 0/500 [00:00<?, ?it/s]"
     ]
    },
    {
     "name": "stdout",
     "output_type": "stream",
     "text": [
      "==> WorkingNumber PD2506260034_B_010_20250723_1013_3694_1\n",
      "==> Search Closest Trained Setting from current Facility/ItemCode\n",
      "==> Setting Based Prediction\n"
     ]
    },
    {
     "name": "stderr",
     "output_type": "stream",
     "text": [
      "Predicting:   0%|▎                                                                     | 2/500 [00:00<01:51,  4.47it/s]"
     ]
    },
    {
     "name": "stdout",
     "output_type": "stream",
     "text": [
      "==> model memae\n",
      "==> Maker=JSW_Facility=1013_ITEM=T1Z23-03010_setting=233\n",
      "==> mae_recon_loss 0.09157515661593216\n",
      "==> threshold 0.3191701307614524\n",
      "==> margin limit 0.036290781134355896\n",
      "==> prediction result : Normal\n",
      "======================================================================================================================================================\n",
      "==> WorkingNumber PD2506260001_B_010_20250723_M1006__1\n",
      "==> Search Closest Trained Setting from Dictionary\n",
      "==> Setting Based Prediction\n",
      "==> model AE\n",
      "==> Maker=ENGEL_Facility=1015_ITEM=W-CG921-37220-A_setting=93\n",
      "==> mae_recon_loss 0.23113517860619556\n",
      "==> threshold 0.18662137610575288\n",
      "==> margin limit 0.053415765213451684\n",
      "==> prediction result : Normal\n",
      "======================================================================================================================================================\n",
      "==> WorkingNumber PD2506261346_B_010_20250723_2113_26884_1\n",
      "==> Search Closest Trained Setting from Dictionary\n",
      "==> Setting Based Prediction\n"
     ]
    },
    {
     "name": "stderr",
     "output_type": "stream",
     "text": [
      "Predicting:   1%|▍                                                                     | 3/500 [00:00<01:59,  4.15it/s]"
     ]
    },
    {
     "name": "stdout",
     "output_type": "stream",
     "text": [
      "==> model memae\n",
      "==> Maker=JSW_Facility=1013_ITEM=T1Z23-04010_setting=233\n",
      "==> mae_recon_loss 0.49382632690741357\n",
      "==> threshold 0.30257881929576497\n",
      "==> margin limit 0.03226207853246844\n",
      "==> prediction result : Fault\n",
      "======================================================================================================================================================\n",
      "==> WorkingNumber PD2506260694_B_010_20250723_1001_11312_4\n",
      "==> Search Closest Trained Setting from current Facility/ItemCode\n",
      "==> Setting Based Prediction\n"
     ]
    },
    {
     "name": "stderr",
     "output_type": "stream",
     "text": [
      "Predicting:   1%|▌                                                                     | 4/500 [00:00<01:54,  4.34it/s]"
     ]
    },
    {
     "name": "stdout",
     "output_type": "stream",
     "text": [
      "==> model AE\n",
      "==> Maker=LSM_Facility=1001_ITEM=F-G78194-A_setting=678\n",
      "==> mae_recon_loss 0.11975392353046196\n",
      "==> threshold 0.26029186489909795\n",
      "==> margin limit 0.09762207015609696\n",
      "==> prediction result : Normal\n",
      "======================================================================================================================================================\n",
      "==> WorkingNumber PD2506261253_B_010_20250723_2007_4059_1\n",
      "==> Setting Based Prediction\n"
     ]
    },
    {
     "name": "stderr",
     "output_type": "stream",
     "text": [
      "Predicting:   1%|▋                                                                     | 5/500 [00:01<01:54,  4.31it/s]"
     ]
    },
    {
     "name": "stdout",
     "output_type": "stream",
     "text": [
      "==> model memae\n",
      "==> Maker=LSM_Facility=2007_ITEM=W-BE921-32030-A_setting=73\n",
      "==> mae_recon_loss 0.03321214331168938\n",
      "==> threshold 0.2755943172080866\n",
      "==> margin limit 0.03\n",
      "==> prediction result : Normal\n",
      "======================================================================================================================================================\n",
      "==> WorkingNumber PD2506261255_B_010_20250723_2007_4059_1\n",
      "==> Setting Based Prediction\n"
     ]
    },
    {
     "name": "stderr",
     "output_type": "stream",
     "text": [
      "Predicting:   1%|▉                                                                     | 7/500 [00:01<01:40,  4.89it/s]"
     ]
    },
    {
     "name": "stdout",
     "output_type": "stream",
     "text": [
      "==> model memae\n",
      "==> Maker=LSM_Facility=2007_ITEM=W-BE921-32040-A_setting=73\n",
      "==> mae_recon_loss 0.03465802595378649\n",
      "==> threshold 0.3329058739408617\n",
      "==> margin limit 0.03\n",
      "==> prediction result : Normal\n",
      "======================================================================================================================================================\n",
      "==> WorkingNumber PD2506260017_B_010_20250723_2027_15617_1\n",
      "==> Setting Based Prediction\n",
      "==> model AE\n",
      "==> Maker=JSW_Facility=2027_ITEM=T1Z23-03020_setting=197\n",
      "==> mae_recon_loss 0.12525175870671879\n",
      "==> threshold 0.1524310932170106\n",
      "==> margin limit 0.03\n",
      "==> prediction result : Normal\n",
      "======================================================================================================================================================\n",
      "==> WorkingNumber PD2506260018_B_010_20250723_2027_15617_1\n",
      "==> Setting Based Prediction\n"
     ]
    },
    {
     "name": "stderr",
     "output_type": "stream",
     "text": [
      "Predicting:   2%|█▎                                                                    | 9/500 [00:01<01:27,  5.64it/s]"
     ]
    },
    {
     "name": "stdout",
     "output_type": "stream",
     "text": [
      "==> model AE\n",
      "==> Maker=JSW_Facility=2027_ITEM=T1Z23-04020_setting=197\n",
      "==> mae_recon_loss 0.12525175870671879\n",
      "==> threshold 0.1524310932170106\n",
      "==> margin limit 0.03\n",
      "==> prediction result : Normal\n",
      "======================================================================================================================================================\n",
      "==> WorkingNumber PD2506261066_B_010_20250723_1003_21640_1\n",
      "==> Setting Based Prediction\n",
      "==> model ISF\n",
      "==> Maker=LSM_Facility=1003_ITEM=W-J6921-24520-A_setting=335\n",
      "==> mae_recon_loss -0.23394520539797908\n",
      "==> threshold 0.07359565663013634\n",
      "==> margin limit 0.02\n",
      "==> prediction result : Normal\n",
      "======================================================================================================================================================\n",
      "==> WorkingNumber PD2506261065_B_010_20250723_1003_21640_1\n",
      "==> Setting Based Prediction\n"
     ]
    },
    {
     "name": "stderr",
     "output_type": "stream",
     "text": [
      "Predicting:   2%|█▌                                                                   | 11/500 [00:02<01:03,  7.69it/s]"
     ]
    },
    {
     "name": "stdout",
     "output_type": "stream",
     "text": [
      "==> model ISF\n",
      "==> Maker=LSM_Facility=1003_ITEM=W-J6921-24510-A_setting=335\n",
      "==> mae_recon_loss -0.23394520539797908\n",
      "==> threshold 0.07359565663013634\n",
      "==> margin limit 0.02\n",
      "==> prediction result : Normal\n",
      "======================================================================================================================================================\n",
      "==> WorkingNumber PD2506260014_B_010_20250723_2117_6451_8\n",
      "==> Search Closest Trained Setting from current Facility/ItemCode\n",
      "==> Setting Based Prediction\n",
      "==> model ISF\n",
      "==> Maker=JSW_Facility=2117_ITEM=F-CG921-37240-A_setting=140\n",
      "==> mae_recon_loss -0.03545546930891874\n",
      "==> threshold 0.10578395837153867\n",
      "==> margin limit 0.030140386547038878\n",
      "==> prediction result : Normal\n",
      "======================================================================================================================================================\n",
      "==> WorkingNumber PD2506260027_B_010_20250723_1102_6140_1\n",
      "==> Search Closest Trained Setting from Dictionary\n",
      "==> Setting Based Prediction\n"
     ]
    },
    {
     "name": "stderr",
     "output_type": "stream",
     "text": [
      "Predicting:   3%|█▊                                                                   | 13/500 [00:02<00:58,  8.31it/s]"
     ]
    },
    {
     "name": "stdout",
     "output_type": "stream",
     "text": [
      "==> model ISF\n",
      "==> Maker=JSW_Facility=2117_ITEM=F-CG921-37240-A_setting=140\n",
      "==> mae_recon_loss 0.0765224872264405\n",
      "==> threshold 0.10966388232681806\n",
      "==> margin limit 0.02874641335813745\n",
      "==> prediction result : Normal\n",
      "======================================================================================================================================================\n",
      "==> WorkingNumber PD2506260013_B_010_20250723_2110_3261_1\n",
      "==> Search Closest Trained Setting from Dictionary\n",
      "==> Setting Based Prediction\n",
      "==> model ISF\n",
      "==> Maker=JSW_Facility=2117_ITEM=F-CG921-37240-A_setting=140\n",
      "==> mae_recon_loss 0.09924700298118494\n",
      "==> threshold 0.1049207384675095\n",
      "==> margin limit 0.028624369734738933\n",
      "==> prediction result : Normal\n",
      "======================================================================================================================================================\n",
      "==> WorkingNumber PD2506260012_B_010_20250723_2110_3261_1\n",
      "==> Search Closest Trained Setting from Dictionary\n",
      "==> Setting Based Prediction\n"
     ]
    },
    {
     "name": "stderr",
     "output_type": "stream",
     "text": [
      "Predicting:   3%|██                                                                   | 15/500 [00:02<01:06,  7.32it/s]"
     ]
    },
    {
     "name": "stdout",
     "output_type": "stream",
     "text": [
      "==> model ISF\n",
      "==> Maker=JSW_Facility=2117_ITEM=F-CG921-37240-A_setting=140\n",
      "==> mae_recon_loss 0.09924700298118494\n",
      "==> threshold 0.10607856044589184\n",
      "==> margin limit 0.028751142281527833\n",
      "==> prediction result : Normal\n",
      "======================================================================================================================================================\n",
      "==> WorkingNumber PD2506260135_B_010_20250723_2002_32364_1\n",
      "==> Setting Based Prediction\n",
      "==> model AE\n",
      "==> Maker=LSM_Facility=2002_ITEM=EFM92-423020_setting=6\n",
      "==> mae_recon_loss 0.1561137237152921\n",
      "==> threshold 0.36122172469317526\n",
      "==> margin limit 0.04\n",
      "==> prediction result : Normal\n",
      "======================================================================================================================================================\n"
     ]
    },
    {
     "name": "stderr",
     "output_type": "stream",
     "text": [
      "Predicting:   3%|██▏                                                                  | 16/500 [00:02<01:09,  6.94it/s]"
     ]
    },
    {
     "name": "stdout",
     "output_type": "stream",
     "text": [
      "==> WorkingNumber PD2506260134_B_010_20250723_2002_32364_1\n",
      "==> Setting Based Prediction\n",
      "==> model AE\n",
      "==> Maker=LSM_Facility=2002_ITEM=EFM92-423010_setting=6\n",
      "==> mae_recon_loss 0.1561137237152921\n",
      "==> threshold 0.36122172469317526\n",
      "==> margin limit 0.04\n",
      "==> prediction result : Normal\n",
      "======================================================================================================================================================\n",
      "==> WorkingNumber PD2506260878_B_010_20250723_2005_54421_1\n",
      "==> Setting Based Prediction\n"
     ]
    },
    {
     "name": "stderr",
     "output_type": "stream",
     "text": [
      "Predicting:   4%|██▍                                                                  | 18/500 [00:02<01:10,  6.86it/s]"
     ]
    },
    {
     "name": "stdout",
     "output_type": "stream",
     "text": [
      "==> model AE\n",
      "==> Maker=LSM_Facility=2005_ITEM=W-T1921-22640-A_setting=760\n",
      "==> mae_recon_loss 0.041510328534802396\n",
      "==> threshold 0.3391687788869546\n",
      "==> margin limit 0.04\n",
      "==> prediction result : Normal\n",
      "======================================================================================================================================================\n",
      "==> WorkingNumber PD2506260877_B_010_20250723_2005_54421_1\n",
      "==> Setting Based Prediction\n",
      "==> model AE\n",
      "==> Maker=LSM_Facility=2005_ITEM=W-T1921-22630-A_setting=760\n",
      "==> mae_recon_loss 0.041510328534802396\n",
      "==> threshold 0.3391687788869546\n",
      "==> margin limit 0.04\n",
      "==> prediction result : Normal\n",
      "======================================================================================================================================================\n",
      "==> WorkingNumber PD2506261225_B_010_20250723_2008_14016_1\n",
      "==> Search Closest Trained Setting from Dictionary\n",
      "==> Setting Based Prediction\n"
     ]
    },
    {
     "name": "stderr",
     "output_type": "stream",
     "text": [
      "Predicting:   4%|██▊                                                                  | 20/500 [00:03<01:23,  5.72it/s]"
     ]
    },
    {
     "name": "stdout",
     "output_type": "stream",
     "text": [
      "==> model AE\n",
      "==> Maker=LSM_Facility=2008_ITEM=W-L2921-22560-A_setting=179\n",
      "==> mae_recon_loss 0.13353489153663728\n",
      "==> threshold 0.2024921091733513\n",
      "==> margin limit 0.13433737110442973\n",
      "==> prediction result : Normal\n",
      "======================================================================================================================================================\n",
      "==> WorkingNumber PD2506261226_B_010_20250723_2008_14016_1\n",
      "==> Search Closest Trained Setting from Dictionary\n",
      "==> Setting Based Prediction\n",
      "==> model AE\n",
      "==> Maker=LSM_Facility=2008_ITEM=W-L2921-22560-A_setting=179\n",
      "==> mae_recon_loss 0.13353489153663728\n",
      "==> threshold 0.20385855685866222\n",
      "==> margin limit 0.13296837810671328\n",
      "==> prediction result : Normal\n",
      "======================================================================================================================================================\n"
     ]
    },
    {
     "name": "stderr",
     "output_type": "stream",
     "text": [
      "Predicting:   4%|██▉                                                                  | 21/500 [00:03<01:26,  5.52it/s]"
     ]
    },
    {
     "name": "stdout",
     "output_type": "stream",
     "text": [
      "==> WorkingNumber PD2506261228_B_010_20250723_2008_14016_1\n",
      "==> Search Closest Trained Setting from Dictionary\n",
      "==> Setting Based Prediction\n",
      "==> model AE\n",
      "==> Maker=LSM_Facility=2008_ITEM=W-L2921-22560-A_setting=179\n",
      "==> mae_recon_loss 0.13353489153663728\n",
      "==> threshold 0.20367437278908376\n",
      "==> margin limit 0.13461016946049664\n",
      "==> prediction result : Normal\n",
      "======================================================================================================================================================\n"
     ]
    },
    {
     "name": "stderr",
     "output_type": "stream",
     "text": [
      "Predicting:   4%|███                                                                  | 22/500 [00:03<01:26,  5.50it/s]"
     ]
    },
    {
     "name": "stdout",
     "output_type": "stream",
     "text": [
      "==> WorkingNumber PD2506261227_B_010_20250723_2008_14016_1\n",
      "==> Search Closest Trained Setting from Dictionary\n",
      "==> Setting Based Prediction\n",
      "==> model AE\n",
      "==> Maker=LSM_Facility=2008_ITEM=W-L2921-22560-A_setting=179\n",
      "==> mae_recon_loss 0.13353489153663728\n",
      "==> threshold 0.20315115447080123\n",
      "==> margin limit 0.1339376087059598\n",
      "==> prediction result : Normal\n",
      "======================================================================================================================================================\n",
      "==> WorkingNumber PD2506260011_B_010_20250723_1015_668667_4\n",
      "==> Search Closest Trained Setting from current Facility/ItemCode\n",
      "==> Setting Based Prediction\n"
     ]
    },
    {
     "name": "stderr",
     "output_type": "stream",
     "text": [
      "Predicting:   5%|███▏                                                                 | 23/500 [00:03<01:29,  5.31it/s]"
     ]
    },
    {
     "name": "stdout",
     "output_type": "stream",
     "text": [
      "==> model AE\n",
      "==> Maker=ENGEL_Facility=1015_ITEM=W-CG921-37220-A_setting=93\n",
      "==> mae_recon_loss 0.22018411366543966\n",
      "==> threshold 0.18246037482393684\n",
      "==> margin limit 0.05251259668490214\n",
      "==> prediction result : Normal\n",
      "======================================================================================================================================================\n",
      "==> WorkingNumber PD2506260008_B_010_20250723_1101_35850_4\n",
      "==> Search Closest Trained Setting from current Facility/ItemCode\n",
      "==> Setting Based Prediction\n"
     ]
    },
    {
     "name": "stderr",
     "output_type": "stream",
     "text": [
      "Predicting:   5%|███▌                                                                 | 26/500 [00:04<01:12,  6.57it/s]"
     ]
    },
    {
     "name": "stdout",
     "output_type": "stream",
     "text": [
      "==> model memae\n",
      "==> Maker=JSW_Facility=1101_ITEM=W-BE921-37041-A_setting=24\n",
      "==> mae_recon_loss 0.1241846792974786\n",
      "==> threshold 0.3441198781470284\n",
      "==> margin limit 0.04851564931155827\n",
      "==> prediction result : Normal\n",
      "======================================================================================================================================================\n",
      "==> WorkingNumber PD2506261335_B_010_20250723_2115_12317_1\n",
      "==> Search Closest Trained Setting from Dictionary\n",
      "==> Setting Based Prediction\n",
      "==> model ISF\n",
      "==> Maker=JSW_Facility=1101_ITEM=W-BE921-37021-A_setting=474\n",
      "==> mae_recon_loss 0.14299919254642024\n",
      "==> threshold 0.12324018988707977\n",
      "==> margin limit 0.024519687033811764\n",
      "==> prediction result : Normal\n",
      "======================================================================================================================================================\n",
      "==> WorkingNumber PD2506261334_B_010_20250723_2115_12317_1\n",
      "==> Search Closest Trained Setting from Dictionary\n",
      "==> Setting Based Prediction\n",
      "==> model ISF\n",
      "==> Maker=JSW_Facility=1101_ITEM=W-BE921-37021-A_setting=474\n",
      "==> mae_recon_loss 0.14299919254642024\n",
      "==> threshold 0.11931224953995175\n",
      "==> margin limit 0.024604883947384183\n",
      "==> prediction result : Normal\n",
      "======================================================================================================================================================\n"
     ]
    },
    {
     "name": "stderr",
     "output_type": "stream",
     "text": [
      "Predicting:   6%|███▊                                                                 | 28/500 [00:04<01:04,  7.27it/s]"
     ]
    },
    {
     "name": "stdout",
     "output_type": "stream",
     "text": [
      "==> WorkingNumber PD2506260039_B_010_20250723_1106_12109_1\n",
      "==> Search Closest Trained Setting from Dictionary\n",
      "==> Setting Based Prediction\n",
      "==> model ISF\n",
      "==> Maker=JSW_Facility=1101_ITEM=W-BE921-37021-A_setting=474\n",
      "==> mae_recon_loss 0.09285481218105829\n",
      "==> threshold 0.12143158212176208\n",
      "==> margin limit 0.024671014884098733\n",
      "==> prediction result : Normal\n",
      "======================================================================================================================================================\n",
      "==> WorkingNumber PD2506260038_B_010_20250723_1106_12109_1\n",
      "==> Search Closest Trained Setting from Dictionary\n",
      "==> Setting Based Prediction\n",
      "==> model ISF\n",
      "==> Maker=JSW_Facility=1101_ITEM=W-BE921-37021-A_setting=474\n",
      "==> mae_recon_loss 0.09285481218105829\n",
      "==> threshold 0.1205887450194389\n",
      "==> margin limit 0.024611619450431457\n",
      "==> prediction result : Normal\n",
      "======================================================================================================================================================\n",
      "==> WorkingNumber PD2506260035_B_010_20250723_1013_3695_1\n",
      "==> Search Closest Trained Setting from current Facility/ItemCode\n",
      "==> Setting Based Prediction\n"
     ]
    },
    {
     "name": "stderr",
     "output_type": "stream",
     "text": [
      "Predicting:   6%|████                                                                 | 29/500 [00:05<01:36,  4.86it/s]"
     ]
    },
    {
     "name": "stdout",
     "output_type": "stream",
     "text": [
      "==> model memae\n",
      "==> Maker=JSW_Facility=1013_ITEM=T1Z23-04010_setting=233\n",
      "==> mae_recon_loss 0.08670419237758571\n",
      "==> threshold 0.3166566017991003\n",
      "==> margin limit 0.03589713256845558\n",
      "==> prediction result : Normal\n",
      "======================================================================================================================================================\n",
      "==> WorkingNumber PD2506260034_B_010_20250723_1013_3695_1\n",
      "==> Search Closest Trained Setting from current Facility/ItemCode\n",
      "==> Setting Based Prediction\n"
     ]
    },
    {
     "name": "stderr",
     "output_type": "stream",
     "text": [
      "Predicting:   6%|████▏                                                                | 30/500 [00:05<01:45,  4.47it/s]"
     ]
    },
    {
     "name": "stdout",
     "output_type": "stream",
     "text": [
      "==> model memae\n",
      "==> Maker=JSW_Facility=1013_ITEM=T1Z23-03010_setting=233\n",
      "==> mae_recon_loss 0.08670419237758571\n",
      "==> threshold 0.31836846731071655\n",
      "==> margin limit 0.03570800464767631\n",
      "==> prediction result : Normal\n",
      "======================================================================================================================================================\n",
      "==> WorkingNumber PD2506260694_B_010_20250723_1001_11313_4\n",
      "==> Search Closest Trained Setting from current Facility/ItemCode\n",
      "==> Setting Based Prediction\n"
     ]
    },
    {
     "name": "stderr",
     "output_type": "stream",
     "text": [
      "Predicting:   6%|████▎                                                                | 31/500 [00:05<01:43,  4.53it/s]"
     ]
    },
    {
     "name": "stdout",
     "output_type": "stream",
     "text": [
      "==> model AE\n",
      "==> Maker=LSM_Facility=1001_ITEM=F-G78194-A_setting=678\n",
      "==> mae_recon_loss 0.12243659656041764\n",
      "==> threshold 0.2604684321057824\n",
      "==> margin limit 0.09708265701930618\n",
      "==> prediction result : Normal\n",
      "======================================================================================================================================================\n",
      "==> WorkingNumber PD2506261255_B_010_20250723_2007_4060_1\n",
      "==> Setting Based Prediction\n"
     ]
    },
    {
     "name": "stderr",
     "output_type": "stream",
     "text": [
      "Predicting:   6%|████▍                                                                | 32/500 [00:05<01:45,  4.43it/s]"
     ]
    },
    {
     "name": "stdout",
     "output_type": "stream",
     "text": [
      "==> model memae\n",
      "==> Maker=LSM_Facility=2007_ITEM=W-BE921-32040-A_setting=73\n",
      "==> mae_recon_loss 0.03501940751849165\n",
      "==> threshold 0.3329058739408617\n",
      "==> margin limit 0.03\n",
      "==> prediction result : Normal\n",
      "======================================================================================================================================================\n",
      "==> WorkingNumber PD2506261253_B_010_20250723_2007_4060_1\n",
      "==> Setting Based Prediction\n"
     ]
    },
    {
     "name": "stderr",
     "output_type": "stream",
     "text": [
      "Predicting:   7%|████▋                                                                | 34/500 [00:06<01:35,  4.89it/s]"
     ]
    },
    {
     "name": "stdout",
     "output_type": "stream",
     "text": [
      "==> model memae\n",
      "==> Maker=LSM_Facility=2007_ITEM=W-BE921-32030-A_setting=73\n",
      "==> mae_recon_loss 0.03449258363455759\n",
      "==> threshold 0.2755943172080866\n",
      "==> margin limit 0.03\n",
      "==> prediction result : Normal\n",
      "======================================================================================================================================================\n",
      "==> WorkingNumber PD2506260878_B_010_20250723_2005_54422_1\n",
      "==> Setting Based Prediction\n",
      "==> model AE\n",
      "==> Maker=LSM_Facility=2005_ITEM=W-T1921-22640-A_setting=760\n",
      "==> mae_recon_loss 0.04600810523536514\n",
      "==> threshold 0.3391687788869546\n",
      "==> margin limit 0.04\n",
      "==> prediction result : Normal\n",
      "======================================================================================================================================================\n",
      "==> WorkingNumber PD2506260877_B_010_20250723_2005_54422_1\n",
      "==> Setting Based Prediction\n"
     ]
    },
    {
     "name": "stderr",
     "output_type": "stream",
     "text": [
      "Predicting:   7%|████▊                                                                | 35/500 [00:06<01:27,  5.32it/s]"
     ]
    },
    {
     "name": "stdout",
     "output_type": "stream",
     "text": [
      "==> model AE\n",
      "==> Maker=LSM_Facility=2005_ITEM=W-T1921-22630-A_setting=760\n",
      "==> mae_recon_loss 0.04600810523536514\n",
      "==> threshold 0.3391687788869546\n",
      "==> margin limit 0.04\n",
      "==> prediction result : Normal\n",
      "======================================================================================================================================================\n",
      "==> WorkingNumber PD2506261228_B_010_20250723_2008_14017_1\n",
      "==> Search Closest Trained Setting from Dictionary\n",
      "==> Setting Based Prediction\n"
     ]
    },
    {
     "name": "stderr",
     "output_type": "stream",
     "text": [
      "Predicting:   7%|█████                                                                | 37/500 [00:06<01:31,  5.04it/s]"
     ]
    },
    {
     "name": "stdout",
     "output_type": "stream",
     "text": [
      "==> model AE\n",
      "==> Maker=LSM_Facility=2008_ITEM=W-L2921-22560-A_setting=179\n",
      "==> mae_recon_loss 0.13353489153663728\n",
      "==> threshold 0.2024533677305253\n",
      "==> margin limit 0.13410025956358518\n",
      "==> prediction result : Normal\n",
      "======================================================================================================================================================\n",
      "==> WorkingNumber PD2506261227_B_010_20250723_2008_14017_1\n",
      "==> Search Closest Trained Setting from Dictionary\n",
      "==> Setting Based Prediction\n",
      "==> model AE\n",
      "==> Maker=LSM_Facility=2008_ITEM=W-L2921-22560-A_setting=179\n",
      "==> mae_recon_loss 0.13353489153663728\n",
      "==> threshold 0.20260150998776974\n",
      "==> margin limit 0.1330295479573894\n",
      "==> prediction result : Normal\n",
      "======================================================================================================================================================\n"
     ]
    },
    {
     "name": "stderr",
     "output_type": "stream",
     "text": [
      "Predicting:   8%|█████▏                                                               | 38/500 [00:06<01:30,  5.10it/s]"
     ]
    },
    {
     "name": "stdout",
     "output_type": "stream",
     "text": [
      "==> WorkingNumber PD2506261226_B_010_20250723_2008_14017_1\n",
      "==> Search Closest Trained Setting from Dictionary\n",
      "==> Setting Based Prediction\n",
      "==> model AE\n",
      "==> Maker=LSM_Facility=2008_ITEM=W-L2921-22560-A_setting=179\n",
      "==> mae_recon_loss 0.13353489153663728\n",
      "==> threshold 0.20247105637695234\n",
      "==> margin limit 0.13361320417512937\n",
      "==> prediction result : Normal\n",
      "======================================================================================================================================================\n",
      "==> WorkingNumber PD2506261225_B_010_20250723_2008_14017_1\n",
      "==> Search Closest Trained Setting from Dictionary\n"
     ]
    },
    {
     "name": "stderr",
     "output_type": "stream",
     "text": [
      "Predicting:   8%|█████▍                                                               | 39/500 [00:07<01:32,  4.97it/s]"
     ]
    },
    {
     "name": "stdout",
     "output_type": "stream",
     "text": [
      "==> Setting Based Prediction\n",
      "==> model AE\n",
      "==> Maker=LSM_Facility=2008_ITEM=W-L2921-22560-A_setting=179\n",
      "==> mae_recon_loss 0.13353489153663728\n",
      "==> threshold 0.204364779606283\n",
      "==> margin limit 0.13345824334597364\n",
      "==> prediction result : Normal\n",
      "======================================================================================================================================================\n",
      "==> WorkingNumber PD2506260135_B_010_20250723_2002_32365_1\n",
      "==> Setting Based Prediction\n"
     ]
    },
    {
     "name": "stderr",
     "output_type": "stream",
     "text": [
      "Predicting:   8%|█████▋                                                               | 41/500 [00:07<01:32,  4.94it/s]"
     ]
    },
    {
     "name": "stdout",
     "output_type": "stream",
     "text": [
      "==> model AE\n",
      "==> Maker=LSM_Facility=2002_ITEM=EFM92-423020_setting=6\n",
      "==> mae_recon_loss 0.15449829634599735\n",
      "==> threshold 0.36122172469317526\n",
      "==> margin limit 0.04\n",
      "==> prediction result : Normal\n",
      "======================================================================================================================================================\n",
      "==> WorkingNumber PD2506260134_B_010_20250723_2002_32365_1\n",
      "==> Setting Based Prediction\n",
      "==> model AE\n",
      "==> Maker=LSM_Facility=2002_ITEM=EFM92-423010_setting=6\n",
      "==> mae_recon_loss 0.15449829634599735\n",
      "==> threshold 0.36122172469317526\n",
      "==> margin limit 0.04\n",
      "==> prediction result : Normal\n",
      "======================================================================================================================================================\n",
      "==> WorkingNumber PD2506260018_B_010_20250723_2027_15618_1\n",
      "==> Setting Based Prediction\n"
     ]
    },
    {
     "name": "stderr",
     "output_type": "stream",
     "text": [
      "Predicting:   9%|█████▉                                                               | 43/500 [00:07<01:17,  5.92it/s]"
     ]
    },
    {
     "name": "stdout",
     "output_type": "stream",
     "text": [
      "==> model AE\n",
      "==> Maker=JSW_Facility=2027_ITEM=T1Z23-04020_setting=197\n",
      "==> mae_recon_loss 0.11089553342685066\n",
      "==> threshold 0.1524310932170106\n",
      "==> margin limit 0.03\n",
      "==> prediction result : Normal\n",
      "======================================================================================================================================================\n",
      "==> WorkingNumber PD2506260017_B_010_20250723_2027_15618_1\n",
      "==> Setting Based Prediction\n",
      "==> model AE\n",
      "==> Maker=JSW_Facility=2027_ITEM=T1Z23-03020_setting=197\n",
      "==> mae_recon_loss 0.11089553342685066\n",
      "==> threshold 0.1524310932170106\n",
      "==> margin limit 0.03\n",
      "==> prediction result : Normal\n",
      "======================================================================================================================================================\n",
      "==> WorkingNumber PD2506260022_B_010_20250723_1009_428_8\n",
      "==> Setting Based Prediction\n"
     ]
    },
    {
     "name": "stderr",
     "output_type": "stream",
     "text": [
      "Predicting:   9%|██████                                                               | 44/500 [00:07<01:19,  5.71it/s]"
     ]
    },
    {
     "name": "stdout",
     "output_type": "stream",
     "text": [
      "==> model memae\n",
      "==> Maker=JSW_Facility=1009_ITEM=W-BE921-37040-A_setting=394\n",
      "==> mae_recon_loss 0.10118659410046012\n",
      "==> threshold 0.2950071299376406\n",
      "==> margin limit 0.03\n",
      "==> prediction result : Normal\n",
      "======================================================================================================================================================\n",
      "==> WorkingNumber PD2506260001_B_010_20250723_M1006_240010_1\n",
      "==> Search Closest Trained Setting from Dictionary\n",
      "==> Setting Based Prediction\n"
     ]
    },
    {
     "name": "stderr",
     "output_type": "stream",
     "text": [
      "Predicting:   9%|██████▎                                                              | 46/500 [00:08<01:27,  5.20it/s]"
     ]
    },
    {
     "name": "stdout",
     "output_type": "stream",
     "text": [
      "==> model memae\n",
      "==> Maker=ENGEL_Facility=1015_ITEM=W-CG921-37220-A_setting=23\n",
      "==> mae_recon_loss 0.28251446748618037\n",
      "==> threshold 0.485838959295225\n",
      "==> margin limit 0.12275451126299036\n",
      "==> prediction result : Normal\n",
      "======================================================================================================================================================\n",
      "==> WorkingNumber PD2506260011_B_010_20250723_1015_668668_4\n",
      "==> Search Closest Trained Setting from current Facility/ItemCode\n",
      "==> Setting Based Prediction\n",
      "==> model AE\n",
      "==> Maker=ENGEL_Facility=1015_ITEM=W-CG921-37220-A_setting=93\n",
      "==> mae_recon_loss 0.22499852060060568\n",
      "==> threshold 0.18635370816380514\n",
      "==> margin limit 0.05163389620909508\n",
      "==> prediction result : Normal\n",
      "======================================================================================================================================================\n"
     ]
    },
    {
     "name": "stderr",
     "output_type": "stream",
     "text": [
      "Predicting:   9%|██████▍                                                              | 47/500 [00:08<01:26,  5.25it/s]"
     ]
    },
    {
     "name": "stdout",
     "output_type": "stream",
     "text": [
      "==> WorkingNumber PD2506260012_B_010_20250723_2110__1\n",
      "==> Search Closest Trained Setting from Dictionary\n",
      "==> Setting Based Prediction\n",
      "==> model AE\n",
      "==> Maker=JSW_Facility=1104_ITEM=F-CG921-37220-A_setting=152\n",
      "==> mae_recon_loss 0.26762544150107076\n",
      "==> threshold 0.25869527831397726\n",
      "==> margin limit 0.06740379048904796\n",
      "==> prediction result : Normal\n",
      "======================================================================================================================================================\n",
      "==> WorkingNumber PD2506260012_B_010_20250723_2110__1\n",
      "==> Search Closest Trained Setting from Dictionary\n",
      "==> Setting Based Prediction\n"
     ]
    },
    {
     "name": "stderr",
     "output_type": "stream",
     "text": [
      "Predicting:  10%|██████▉                                                              | 50/500 [00:09<01:04,  7.01it/s]"
     ]
    },
    {
     "name": "stdout",
     "output_type": "stream",
     "text": [
      "==> model memae\n",
      "==> Maker=JSW_Facility=1012_ITEM=F-N1921-37520-A_setting=15\n",
      "==> mae_recon_loss 0.28055054933999163\n",
      "==> threshold 0.2752365628049781\n",
      "==> margin limit 0.04040567365685255\n",
      "==> prediction result : Normal\n",
      "======================================================================================================================================================\n",
      "==> WorkingNumber PD2506261065_B_010_20250723_1003_21641_1\n",
      "==> Setting Based Prediction\n",
      "==> model ISF\n",
      "==> Maker=LSM_Facility=1003_ITEM=W-J6921-24510-A_setting=335\n",
      "==> mae_recon_loss -0.23204600664111164\n",
      "==> threshold 0.07359565663013634\n",
      "==> margin limit 0.02\n",
      "==> prediction result : Normal\n",
      "======================================================================================================================================================\n",
      "==> WorkingNumber PD2506261066_B_010_20250723_1003_21641_1\n",
      "==> Setting Based Prediction\n",
      "==> model ISF\n",
      "==> Maker=LSM_Facility=1003_ITEM=W-J6921-24520-A_setting=335\n",
      "==> mae_recon_loss -0.23204600664111164\n",
      "==> threshold 0.07359565663013634\n",
      "==> margin limit 0.02\n",
      "==> prediction result : Normal\n",
      "======================================================================================================================================================\n",
      "==> WorkingNumber PD2506260012_B_010_20250723_2110__1\n",
      "==> Search Closest Trained Setting from Dictionary\n",
      "==> Setting Based Prediction\n"
     ]
    },
    {
     "name": "stderr",
     "output_type": "stream",
     "text": [
      "Predicting:  11%|███████▎                                                             | 53/500 [00:09<01:03,  7.00it/s]"
     ]
    },
    {
     "name": "stdout",
     "output_type": "stream",
     "text": [
      "==> model memae\n",
      "==> Maker=JSW_Facility=1012_ITEM=F-N1921-37520-A_setting=15\n",
      "==> mae_recon_loss 0.28055054933999163\n",
      "==> threshold 0.2745721356718713\n",
      "==> margin limit 0.04037508300744505\n",
      "==> prediction result : Normal\n",
      "======================================================================================================================================================\n",
      "==> WorkingNumber PD2506261335_B_010_20250723_2115_12318_1\n",
      "==> Search Closest Trained Setting from Dictionary\n",
      "==> Setting Based Prediction\n",
      "==> model ISF\n",
      "==> Maker=JSW_Facility=1010_ITEM=F-J7921-37100-A_setting=1421\n",
      "==> mae_recon_loss 0.06807881076438926\n",
      "==> threshold 0.1081488592418309\n",
      "==> margin limit 0.025274826405911523\n",
      "==> prediction result : Normal\n",
      "======================================================================================================================================================\n",
      "==> WorkingNumber PD2506261334_B_010_20250723_2115_12318_1\n",
      "==> Search Closest Trained Setting from Dictionary\n",
      "==> Setting Based Prediction\n",
      "==> model ISF\n",
      "==> Maker=JSW_Facility=1010_ITEM=F-J7921-37100-A_setting=1421\n",
      "==> mae_recon_loss 0.06807881076438926\n",
      "==> threshold 0.10940735853949399\n",
      "==> margin limit 0.02528739064331655\n",
      "==> prediction result : Normal\n",
      "======================================================================================================================================================\n",
      "==> WorkingNumber PD2506260008_B_010_20250723_1101_35851_4\n",
      "==> Search Closest Trained Setting from current Facility/ItemCode\n",
      "==> Setting Based Prediction\n"
     ]
    },
    {
     "name": "stderr",
     "output_type": "stream",
     "text": [
      "Predicting:  11%|███████▌                                                             | 55/500 [00:09<01:17,  5.77it/s]"
     ]
    },
    {
     "name": "stdout",
     "output_type": "stream",
     "text": [
      "==> model memae\n",
      "==> Maker=JSW_Facility=1101_ITEM=W-BE921-37041-A_setting=24\n",
      "==> mae_recon_loss 0.11777318237191133\n",
      "==> threshold 0.3428445406334306\n",
      "==> margin limit 0.04926643687403215\n",
      "==> prediction result : Normal\n",
      "======================================================================================================================================================\n",
      "==> WorkingNumber PD2506260694_B_010_20250723_1001_11314_4\n",
      "==> Search Closest Trained Setting from current Facility/ItemCode\n",
      "==> Setting Based Prediction\n",
      "==> model AE\n",
      "==> Maker=LSM_Facility=1001_ITEM=F-G78194-A_setting=678\n",
      "==> mae_recon_loss 0.14738952156406412\n",
      "==> threshold 0.26437731800670206\n",
      "==> margin limit 0.09709713594927627\n",
      "==> prediction result : Normal\n",
      "======================================================================================================================================================\n",
      "==> WorkingNumber PD2506260035_B_010_20250723_1013_3696_1\n",
      "==> Search Closest Trained Setting from current Facility/ItemCode\n",
      "==> Setting Based Prediction\n"
     ]
    },
    {
     "name": "stderr",
     "output_type": "stream",
     "text": [
      "Predicting:  11%|███████▋                                                             | 56/500 [00:10<01:26,  5.11it/s]"
     ]
    },
    {
     "name": "stdout",
     "output_type": "stream",
     "text": [
      "==> model memae\n",
      "==> Maker=JSW_Facility=1013_ITEM=T1Z23-04010_setting=233\n",
      "==> mae_recon_loss 0.08400122982916691\n",
      "==> threshold 0.31807135362602906\n",
      "==> margin limit 0.03553632826757686\n",
      "==> prediction result : Normal\n",
      "======================================================================================================================================================\n",
      "==> WorkingNumber PD2506260034_B_010_20250723_1013_3696_1\n",
      "==> Search Closest Trained Setting from current Facility/ItemCode\n",
      "==> Setting Based Prediction\n"
     ]
    },
    {
     "name": "stderr",
     "output_type": "stream",
     "text": [
      "Predicting:  11%|███████▊                                                             | 57/500 [00:10<01:48,  4.08it/s]"
     ]
    },
    {
     "name": "stdout",
     "output_type": "stream",
     "text": [
      "==> model memae\n",
      "==> Maker=JSW_Facility=1013_ITEM=T1Z23-03010_setting=233\n",
      "==> mae_recon_loss 0.08400122982916691\n",
      "==> threshold 0.3157112849859982\n",
      "==> margin limit 0.035721508982289214\n",
      "==> prediction result : Normal\n",
      "======================================================================================================================================================\n",
      "==> WorkingNumber PD2506260038_B_010_20250723_1106__1\n",
      "==> Search Closest Trained Setting from Dictionary\n",
      "==> Setting Based Prediction\n"
     ]
    },
    {
     "name": "stderr",
     "output_type": "stream",
     "text": [
      "Predicting:  12%|████████▏                                                            | 59/500 [00:10<01:37,  4.51it/s]"
     ]
    },
    {
     "name": "stdout",
     "output_type": "stream",
     "text": [
      "==> model memae\n",
      "==> Maker=JSW_Facility=1013_ITEM=T1Z23-04010_setting=233\n",
      "==> mae_recon_loss 0.08400122982916691\n",
      "==> threshold 0.3067717679974315\n",
      "==> margin limit 0.03260593686341267\n",
      "==> prediction result : Normal\n",
      "======================================================================================================================================================\n",
      "==> WorkingNumber PD2506260878_B_010_20250723_2005_54423_1\n",
      "==> Setting Based Prediction\n",
      "==> model AE\n",
      "==> Maker=LSM_Facility=2005_ITEM=W-T1921-22640-A_setting=760\n",
      "==> mae_recon_loss 0.03188043758097933\n",
      "==> threshold 0.3391687788869546\n",
      "==> margin limit 0.04\n",
      "==> prediction result : Normal\n",
      "======================================================================================================================================================\n",
      "==> WorkingNumber PD2506260877_B_010_20250723_2005_54423_1\n",
      "==> Setting Based Prediction\n"
     ]
    },
    {
     "name": "stderr",
     "output_type": "stream",
     "text": [
      "Predicting:  12%|████████▍                                                            | 61/500 [00:11<01:29,  4.93it/s]"
     ]
    },
    {
     "name": "stdout",
     "output_type": "stream",
     "text": [
      "==> model AE\n",
      "==> Maker=LSM_Facility=2005_ITEM=W-T1921-22630-A_setting=760\n",
      "==> mae_recon_loss 0.03188043758097933\n",
      "==> threshold 0.3391687788869546\n",
      "==> margin limit 0.04\n",
      "==> prediction result : Normal\n",
      "======================================================================================================================================================\n",
      "==> WorkingNumber PD2506261226_B_010_20250723_2008_14018_1\n",
      "==> Search Closest Trained Setting from Dictionary\n",
      "==> Setting Based Prediction\n",
      "==> model AE\n",
      "==> Maker=LSM_Facility=2008_ITEM=W-L2921-22560-A_setting=179\n",
      "==> mae_recon_loss 0.1326703900859646\n",
      "==> threshold 0.20628513983960908\n",
      "==> margin limit 0.13402387826064752\n",
      "==> prediction result : Normal\n",
      "======================================================================================================================================================\n",
      "==> WorkingNumber PD2506260039_B_010_20250723_1106__1\n",
      "==> Search Closest Trained Setting from Dictionary\n",
      "==> Setting Based Prediction\n"
     ]
    },
    {
     "name": "stderr",
     "output_type": "stream",
     "text": [
      "Predicting:  13%|████████▋                                                            | 63/500 [00:11<01:30,  4.84it/s]"
     ]
    },
    {
     "name": "stdout",
     "output_type": "stream",
     "text": [
      "==> model AE\n",
      "==> Maker=JSW_Facility=1013_ITEM=T1Z23-04010_setting=0\n",
      "==> mae_recon_loss 0.4110663514340962\n",
      "==> threshold 0.3334177056890907\n",
      "==> margin limit 0.05134465218607283\n",
      "==> prediction result : Fault\n",
      "======================================================================================================================================================\n",
      "==> WorkingNumber PD2506261225_B_010_20250723_2008_14018_1\n",
      "==> Search Closest Trained Setting from Dictionary\n",
      "==> Setting Based Prediction\n",
      "==> model AE\n",
      "==> Maker=LSM_Facility=2008_ITEM=W-L2921-22560-A_setting=179\n",
      "==> mae_recon_loss 0.1326703900859646\n",
      "==> threshold 0.20294850145998086\n",
      "==> margin limit 0.13308784385011083\n",
      "==> prediction result : Normal\n",
      "======================================================================================================================================================\n"
     ]
    },
    {
     "name": "stderr",
     "output_type": "stream",
     "text": [
      "Predicting:  13%|████████▊                                                            | 64/500 [00:11<01:27,  4.99it/s]"
     ]
    },
    {
     "name": "stdout",
     "output_type": "stream",
     "text": [
      "==> WorkingNumber PD2506261227_B_010_20250723_2008_14018_1\n",
      "==> Search Closest Trained Setting from Dictionary\n",
      "==> Setting Based Prediction\n",
      "==> model AE\n",
      "==> Maker=LSM_Facility=2008_ITEM=W-L2921-22560-A_setting=179\n",
      "==> mae_recon_loss 0.1326703900859646\n",
      "==> threshold 0.2064607194551933\n",
      "==> margin limit 0.13511416673700202\n",
      "==> prediction result : Normal\n",
      "======================================================================================================================================================\n",
      "==> WorkingNumber PD2506261228_B_010_20250723_2008_14018_1\n",
      "==> Search Closest Trained Setting from Dictionary\n",
      "==> Setting Based Prediction\n"
     ]
    },
    {
     "name": "stderr",
     "output_type": "stream",
     "text": [
      "Predicting:  13%|████████▉                                                            | 65/500 [00:12<01:27,  4.97it/s]"
     ]
    },
    {
     "name": "stdout",
     "output_type": "stream",
     "text": [
      "==> model AE\n",
      "==> Maker=LSM_Facility=2008_ITEM=W-L2921-22560-A_setting=179\n",
      "==> mae_recon_loss 0.1326703900859646\n",
      "==> threshold 0.2022076900300144\n",
      "==> margin limit 0.13391373175530322\n",
      "==> prediction result : Normal\n",
      "======================================================================================================================================================\n",
      "==> WorkingNumber PD2506261255_B_010_20250723_2007_4061_1\n",
      "==> Setting Based Prediction\n"
     ]
    },
    {
     "name": "stderr",
     "output_type": "stream",
     "text": [
      "Predicting:  13%|█████████                                                            | 66/500 [00:12<01:32,  4.69it/s]"
     ]
    },
    {
     "name": "stdout",
     "output_type": "stream",
     "text": [
      "==> model memae\n",
      "==> Maker=LSM_Facility=2007_ITEM=W-BE921-32040-A_setting=73\n",
      "==> mae_recon_loss 0.033359896616128155\n",
      "==> threshold 0.3329058739408617\n",
      "==> margin limit 0.03\n",
      "==> prediction result : Normal\n",
      "======================================================================================================================================================\n",
      "==> WorkingNumber PD2506261253_B_010_20250723_2007_4061_1\n",
      "==> Setting Based Prediction\n"
     ]
    },
    {
     "name": "stderr",
     "output_type": "stream",
     "text": [
      "Predicting:  14%|█████████▍                                                           | 68/500 [00:12<01:26,  4.98it/s]"
     ]
    },
    {
     "name": "stdout",
     "output_type": "stream",
     "text": [
      "==> model memae\n",
      "==> Maker=LSM_Facility=2007_ITEM=W-BE921-32030-A_setting=73\n",
      "==> mae_recon_loss 0.031573186614495354\n",
      "==> threshold 0.2755943172080866\n",
      "==> margin limit 0.03\n",
      "==> prediction result : Normal\n",
      "======================================================================================================================================================\n",
      "==> WorkingNumber PD2506260135_B_010_20250723_2002_32366_1\n",
      "==> Setting Based Prediction\n",
      "==> model AE\n",
      "==> Maker=LSM_Facility=2002_ITEM=EFM92-423020_setting=6\n",
      "==> mae_recon_loss 0.15624725295601907\n",
      "==> threshold 0.36122172469317526\n",
      "==> margin limit 0.04\n",
      "==> prediction result : Normal\n",
      "======================================================================================================================================================\n"
     ]
    },
    {
     "name": "stderr",
     "output_type": "stream",
     "text": [
      "Predicting:  14%|█████████▌                                                           | 69/500 [00:13<01:35,  4.52it/s]"
     ]
    },
    {
     "name": "stdout",
     "output_type": "stream",
     "text": [
      "==> WorkingNumber PD2506260134_B_010_20250723_2002_32366_1\n",
      "==> Setting Based Prediction\n",
      "==> model AE\n",
      "==> Maker=LSM_Facility=2002_ITEM=EFM92-423010_setting=6\n",
      "==> mae_recon_loss 0.15624725295601907\n",
      "==> threshold 0.36122172469317526\n",
      "==> margin limit 0.04\n",
      "==> prediction result : Normal\n",
      "======================================================================================================================================================\n",
      "==> WorkingNumber PD2506260010_B_010_20250723_1104_7219_8\n",
      "==> Search Closest Trained Setting from current Facility/ItemCode\n",
      "==> Setting Based Prediction\n"
     ]
    },
    {
     "name": "stderr",
     "output_type": "stream",
     "text": [
      "Predicting:  14%|█████████▊                                                           | 71/500 [00:13<01:11,  5.99it/s]"
     ]
    },
    {
     "name": "stdout",
     "output_type": "stream",
     "text": [
      "==> model ISF\n",
      "==> Maker=JSW_Facility=1104_ITEM=F-CG921-37220-A_setting=1061\n",
      "==> mae_recon_loss 0.10212681059119022\n",
      "==> threshold 0.08337747528165977\n",
      "==> margin limit 0.026538154360731803\n",
      "==> prediction result : Normal\n",
      "======================================================================================================================================================\n",
      "==> WorkingNumber PD2506260027_B_010_20250723_1102_6141_1\n",
      "==> Search Closest Trained Setting from Dictionary\n",
      "==> Setting Based Prediction\n",
      "==> model ISF\n",
      "==> Maker=JSW_Facility=1104_ITEM=F-CG921-37220-A_setting=1061\n",
      "==> mae_recon_loss 0.11769257201989136\n",
      "==> threshold 0.08634825698255305\n",
      "==> margin limit 0.02471867423331502\n",
      "==> prediction result : Fault\n",
      "======================================================================================================================================================\n",
      "==> WorkingNumber PD2506260011_B_010_20250723_1015_668669_4\n",
      "==> Search Closest Trained Setting from current Facility/ItemCode\n",
      "==> Setting Based Prediction\n"
     ]
    },
    {
     "name": "stderr",
     "output_type": "stream",
     "text": [
      "Predicting:  15%|██████████                                                           | 73/500 [00:13<01:19,  5.39it/s]"
     ]
    },
    {
     "name": "stdout",
     "output_type": "stream",
     "text": [
      "==> model AE\n",
      "==> Maker=ENGEL_Facility=1015_ITEM=W-CG921-37220-A_setting=93\n",
      "==> mae_recon_loss 0.21642644965725402\n",
      "==> threshold 0.1851981775521806\n",
      "==> margin limit 0.05164914636389212\n",
      "==> prediction result : Normal\n",
      "======================================================================================================================================================\n",
      "==> WorkingNumber PD2506260039_B_010_20250723_1106_12110_1\n",
      "==> Search Closest Trained Setting from Dictionary\n",
      "==> Setting Based Prediction\n",
      "==> model AE\n",
      "==> Maker=JSW_Facility=1104_ITEM=F-CG921-37220-A_setting=152\n",
      "==> mae_recon_loss 0.24131381704434593\n",
      "==> threshold 0.2600011761146988\n",
      "==> margin limit 0.0674760990303427\n",
      "==> prediction result : Normal\n",
      "======================================================================================================================================================\n"
     ]
    },
    {
     "name": "stderr",
     "output_type": "stream",
     "text": [
      "Predicting:  15%|██████████▏                                                          | 74/500 [00:13<01:18,  5.45it/s]"
     ]
    },
    {
     "name": "stdout",
     "output_type": "stream",
     "text": [
      "==> WorkingNumber PD2506260038_B_010_20250723_1106_12110_1\n",
      "==> Search Closest Trained Setting from Dictionary\n",
      "==> Setting Based Prediction\n",
      "==> model AE\n",
      "==> Maker=JSW_Facility=1104_ITEM=F-CG921-37220-A_setting=152\n",
      "==> mae_recon_loss 0.24131381704434593\n",
      "==> threshold 0.2581027375883087\n",
      "==> margin limit 0.0681753114394522\n",
      "==> prediction result : Normal\n",
      "======================================================================================================================================================\n",
      "==> WorkingNumber PD2506261228_B_010_20250723_2008_14019_1\n"
     ]
    },
    {
     "name": "stderr",
     "output_type": "stream",
     "text": [
      "Predicting:  15%|██████████▎                                                          | 75/500 [00:14<01:21,  5.22it/s]"
     ]
    },
    {
     "name": "stdout",
     "output_type": "stream",
     "text": [
      "==> Search Closest Trained Setting from Dictionary\n",
      "==> Setting Based Prediction\n",
      "==> model AE\n",
      "==> Maker=LSM_Facility=2008_ITEM=W-L2921-22560-A_setting=179\n",
      "==> mae_recon_loss 0.13247795861645756\n",
      "==> threshold 0.2060596627914934\n",
      "==> margin limit 0.13364983227897517\n",
      "==> prediction result : Normal\n",
      "======================================================================================================================================================\n",
      "==> WorkingNumber PD2506261227_B_010_20250723_2008_14019_1\n",
      "==> Search Closest Trained Setting from Dictionary\n"
     ]
    },
    {
     "name": "stderr",
     "output_type": "stream",
     "text": [
      "Predicting:  15%|██████████▍                                                          | 76/500 [00:14<01:23,  5.10it/s]"
     ]
    },
    {
     "name": "stdout",
     "output_type": "stream",
     "text": [
      "==> Setting Based Prediction\n",
      "==> model AE\n",
      "==> Maker=LSM_Facility=2008_ITEM=W-L2921-22560-A_setting=179\n",
      "==> mae_recon_loss 0.13247795861645756\n",
      "==> threshold 0.20649126779848856\n",
      "==> margin limit 0.13338380393512125\n",
      "==> prediction result : Normal\n",
      "======================================================================================================================================================\n",
      "==> WorkingNumber PD2506261226_B_010_20250723_2008_14019_1\n",
      "==> Search Closest Trained Setting from Dictionary\n"
     ]
    },
    {
     "name": "stderr",
     "output_type": "stream",
     "text": [
      "Predicting:  15%|██████████▋                                                          | 77/500 [00:14<01:25,  4.97it/s]"
     ]
    },
    {
     "name": "stdout",
     "output_type": "stream",
     "text": [
      "==> Setting Based Prediction\n",
      "==> model AE\n",
      "==> Maker=LSM_Facility=2008_ITEM=W-L2921-22560-A_setting=179\n",
      "==> mae_recon_loss 0.13247795861645756\n",
      "==> threshold 0.2064414545955679\n",
      "==> margin limit 0.13420614153876584\n",
      "==> prediction result : Normal\n",
      "======================================================================================================================================================\n",
      "==> WorkingNumber PD2506261225_B_010_20250723_2008_14019_1\n"
     ]
    },
    {
     "name": "stderr",
     "output_type": "stream",
     "text": [
      "Predicting:  16%|██████████▊                                                          | 78/500 [00:14<01:25,  4.92it/s]"
     ]
    },
    {
     "name": "stdout",
     "output_type": "stream",
     "text": [
      "==> Search Closest Trained Setting from Dictionary\n",
      "==> Setting Based Prediction\n",
      "==> model AE\n",
      "==> Maker=LSM_Facility=2008_ITEM=W-L2921-22560-A_setting=179\n",
      "==> mae_recon_loss 0.13247795861645756\n",
      "==> threshold 0.20189974049408813\n",
      "==> margin limit 0.13376096546965388\n",
      "==> prediction result : Normal\n",
      "======================================================================================================================================================\n",
      "==> WorkingNumber PD2506260877_B_010_20250723_2005_54424_1\n",
      "==> Setting Based Prediction\n"
     ]
    },
    {
     "name": "stderr",
     "output_type": "stream",
     "text": [
      "Predicting:  16%|███████████                                                          | 80/500 [00:14<01:12,  5.78it/s]"
     ]
    },
    {
     "name": "stdout",
     "output_type": "stream",
     "text": [
      "==> model AE\n",
      "==> Maker=LSM_Facility=2005_ITEM=W-T1921-22630-A_setting=760\n",
      "==> mae_recon_loss 0.03817990507318925\n",
      "==> threshold 0.3391687788869546\n",
      "==> margin limit 0.04\n",
      "==> prediction result : Normal\n",
      "======================================================================================================================================================\n",
      "==> WorkingNumber PD2506260878_B_010_20250723_2005_54424_1\n",
      "==> Setting Based Prediction\n",
      "==> model AE\n",
      "==> Maker=LSM_Facility=2005_ITEM=W-T1921-22640-A_setting=760\n",
      "==> mae_recon_loss 0.03817990507318925\n",
      "==> threshold 0.3391687788869546\n",
      "==> margin limit 0.04\n",
      "==> prediction result : Normal\n",
      "======================================================================================================================================================\n",
      "==> WorkingNumber PD2506260694_B_010_20250723_1001_11315_4\n",
      "==> Search Closest Trained Setting from current Facility/ItemCode\n",
      "==> Setting Based Prediction\n"
     ]
    },
    {
     "name": "stderr",
     "output_type": "stream",
     "text": [
      "Predicting:  17%|███████████▍                                                         | 83/500 [00:15<00:57,  7.25it/s]"
     ]
    },
    {
     "name": "stdout",
     "output_type": "stream",
     "text": [
      "==> model AE\n",
      "==> Maker=LSM_Facility=1001_ITEM=F-G78194-A_setting=678\n",
      "==> mae_recon_loss 0.12563036294431765\n",
      "==> threshold 0.26341928072085663\n",
      "==> margin limit 0.0982684675435929\n",
      "==> prediction result : Normal\n",
      "======================================================================================================================================================\n",
      "==> WorkingNumber PD2506260014_B_010_20250723_2117_6452_8\n",
      "==> Search Closest Trained Setting from current Facility/ItemCode\n",
      "==> Setting Based Prediction\n",
      "==> model ISF\n",
      "==> Maker=JSW_Facility=2117_ITEM=F-CG921-37240-A_setting=140\n",
      "==> mae_recon_loss -0.010962740094584977\n",
      "==> threshold 0.10592434259279442\n",
      "==> margin limit 0.03014581014323352\n",
      "==> prediction result : Normal\n",
      "======================================================================================================================================================\n",
      "==> WorkingNumber PD2506261335_B_010_20250723_2115_12319_1\n",
      "==> Search Closest Trained Setting from Dictionary\n",
      "==> Setting Based Prediction\n",
      "==> model ISF\n",
      "==> Maker=JSW_Facility=2117_ITEM=F-CG921-37240-A_setting=140\n",
      "==> mae_recon_loss 0.10299149880278469\n",
      "==> threshold 0.10502697474789151\n",
      "==> margin limit 0.028842570543800652\n",
      "==> prediction result : Normal\n",
      "======================================================================================================================================================\n",
      "==> WorkingNumber PD2506261334_B_010_20250723_2115_12319_1\n",
      "==> Search Closest Trained Setting from Dictionary\n",
      "==> Setting Based Prediction\n",
      "==> model ISF\n",
      "==> Maker=JSW_Facility=2117_ITEM=F-CG921-37240-A_setting=140\n",
      "==> mae_recon_loss 0.10299149880278469\n",
      "==> threshold 0.10872728084897182\n",
      "==> margin limit 0.028713456284975993\n",
      "==> prediction result : Normal\n",
      "======================================================================================================================================================\n",
      "==> WorkingNumber PD2506260035_B_010_20250723_1013_3697_1\n",
      "==> Search Closest Trained Setting from current Facility/ItemCode\n",
      "==> Setting Based Prediction\n"
     ]
    },
    {
     "name": "stderr",
     "output_type": "stream",
     "text": [
      "Predicting:  17%|███████████▋                                                         | 85/500 [00:15<01:05,  6.38it/s]"
     ]
    },
    {
     "name": "stdout",
     "output_type": "stream",
     "text": [
      "==> model memae\n",
      "==> Maker=JSW_Facility=1013_ITEM=T1Z23-04010_setting=233\n",
      "==> mae_recon_loss 0.08268870484389636\n",
      "==> threshold 0.31902567355332273\n",
      "==> margin limit 0.036374234410260456\n",
      "==> prediction result : Normal\n",
      "======================================================================================================================================================\n",
      "==> WorkingNumber PD2506260034_B_010_20250723_1013_3697_1\n",
      "==> Search Closest Trained Setting from current Facility/ItemCode\n",
      "==> Setting Based Prediction\n"
     ]
    },
    {
     "name": "stderr",
     "output_type": "stream",
     "text": [
      "Predicting:  17%|███████████▊                                                         | 86/500 [00:16<01:24,  4.89it/s]"
     ]
    },
    {
     "name": "stdout",
     "output_type": "stream",
     "text": [
      "==> model memae\n",
      "==> Maker=JSW_Facility=1013_ITEM=T1Z23-03010_setting=233\n",
      "==> mae_recon_loss 0.08268870484389636\n",
      "==> threshold 0.3175829351013404\n",
      "==> margin limit 0.03507559010036038\n",
      "==> prediction result : Normal\n",
      "======================================================================================================================================================\n",
      "==> WorkingNumber PD2506261255_B_010_20250723_2007_4062_1\n",
      "==> Setting Based Prediction\n"
     ]
    },
    {
     "name": "stderr",
     "output_type": "stream",
     "text": [
      "Predicting:  17%|████████████                                                         | 87/500 [00:16<01:26,  4.75it/s]"
     ]
    },
    {
     "name": "stdout",
     "output_type": "stream",
     "text": [
      "==> model memae\n",
      "==> Maker=LSM_Facility=2007_ITEM=W-BE921-32040-A_setting=73\n",
      "==> mae_recon_loss 0.03470414222954799\n",
      "==> threshold 0.3329058739408617\n",
      "==> margin limit 0.03\n",
      "==> prediction result : Normal\n",
      "======================================================================================================================================================\n",
      "==> WorkingNumber PD2506261253_B_010_20250723_2007_4062_1\n",
      "==> Setting Based Prediction\n"
     ]
    },
    {
     "name": "stderr",
     "output_type": "stream",
     "text": [
      "Predicting:  18%|████████████▎                                                        | 89/500 [00:16<01:21,  5.06it/s]"
     ]
    },
    {
     "name": "stdout",
     "output_type": "stream",
     "text": [
      "==> model memae\n",
      "==> Maker=LSM_Facility=2007_ITEM=W-BE921-32030-A_setting=73\n",
      "==> mae_recon_loss 0.03330946325937009\n",
      "==> threshold 0.2755943172080866\n",
      "==> margin limit 0.03\n",
      "==> prediction result : Normal\n",
      "======================================================================================================================================================\n",
      "==> WorkingNumber PD2506260135_B_010_20250723_2002_32367_1\n",
      "==> Setting Based Prediction\n",
      "==> model AE\n",
      "==> Maker=LSM_Facility=2002_ITEM=EFM92-423020_setting=764\n",
      "==> mae_recon_loss 0.2579779597594262\n",
      "==> threshold 0.19118697839472298\n",
      "==> margin limit 0.04\n",
      "==> prediction result : Fault\n",
      "======================================================================================================================================================\n",
      "==> WorkingNumber PD2506260134_B_010_20250723_2002_32367_1\n",
      "==> Setting Based Prediction\n"
     ]
    },
    {
     "name": "stderr",
     "output_type": "stream",
     "text": [
      "Predicting:  18%|████████████▍                                                        | 90/500 [00:16<01:15,  5.46it/s]"
     ]
    },
    {
     "name": "stdout",
     "output_type": "stream",
     "text": [
      "==> model AE\n",
      "==> Maker=LSM_Facility=2002_ITEM=EFM92-423010_setting=764\n",
      "==> mae_recon_loss 0.2579779597594262\n",
      "==> threshold 0.19118697839472298\n",
      "==> margin limit 0.04\n",
      "==> prediction result : Fault\n",
      "======================================================================================================================================================\n",
      "==> WorkingNumber PD2506260008_B_010_20250723_1101_35852_4\n",
      "==> Search Closest Trained Setting from current Facility/ItemCode\n",
      "==> Setting Based Prediction\n"
     ]
    },
    {
     "name": "stderr",
     "output_type": "stream",
     "text": [
      "Predicting:  19%|████████████▊                                                        | 93/500 [00:17<00:56,  7.19it/s]"
     ]
    },
    {
     "name": "stdout",
     "output_type": "stream",
     "text": [
      "==> model memae\n",
      "==> Maker=JSW_Facility=1101_ITEM=W-BE921-37041-A_setting=24\n",
      "==> mae_recon_loss 0.12021448765489252\n",
      "==> threshold 0.34348561425548435\n",
      "==> margin limit 0.04925869642574249\n",
      "==> prediction result : Normal\n",
      "======================================================================================================================================================\n",
      "==> WorkingNumber PD2506261066_B_010_20250723_1003_21642_1\n",
      "==> Setting Based Prediction\n",
      "==> model ISF\n",
      "==> Maker=LSM_Facility=1003_ITEM=W-J6921-24520-A_setting=335\n",
      "==> mae_recon_loss -0.23186181193811517\n",
      "==> threshold 0.07359565663013634\n",
      "==> margin limit 0.02\n",
      "==> prediction result : Normal\n",
      "======================================================================================================================================================\n",
      "==> WorkingNumber PD2506261065_B_010_20250723_1003_21642_1\n",
      "==> Setting Based Prediction\n",
      "==> model ISF\n",
      "==> Maker=LSM_Facility=1003_ITEM=W-J6921-24510-A_setting=335\n",
      "==> mae_recon_loss -0.23186181193811517\n",
      "==> threshold 0.07359565663013634\n",
      "==> margin limit 0.02\n",
      "==> prediction result : Normal\n",
      "======================================================================================================================================================\n",
      "==> WorkingNumber PD2506260013_B_010_20250723_2110_3262_1\n",
      "==> Search Closest Trained Setting from Dictionary\n",
      "==> Setting Based Prediction\n"
     ]
    },
    {
     "name": "stderr",
     "output_type": "stream",
     "text": [
      "Predicting:  19%|█████████████                                                        | 95/500 [00:17<00:49,  8.26it/s]"
     ]
    },
    {
     "name": "stdout",
     "output_type": "stream",
     "text": [
      "==> model ISF\n",
      "==> Maker=JSW_Facility=2117_ITEM=F-CG921-37240-A_setting=525\n",
      "==> mae_recon_loss 0.11762367420725517\n",
      "==> threshold 0.16732040189228625\n",
      "==> margin limit 0.032715724598127806\n",
      "==> prediction result : Normal\n",
      "======================================================================================================================================================\n",
      "==> WorkingNumber PD2506260012_B_010_20250723_2110_3262_1\n",
      "==> Search Closest Trained Setting from Dictionary\n",
      "==> Setting Based Prediction\n",
      "==> model ISF\n",
      "==> Maker=JSW_Facility=2117_ITEM=F-CG921-37240-A_setting=525\n",
      "==> mae_recon_loss 0.11762367420725517\n",
      "==> threshold 0.16648187279091378\n",
      "==> margin limit 0.03251158978675094\n",
      "==> prediction result : Normal\n",
      "======================================================================================================================================================\n",
      "==> WorkingNumber PD2506261228_B_010_20250723_2008_14020_1\n",
      "==> Search Closest Trained Setting from Dictionary\n",
      "==> Setting Based Prediction\n"
     ]
    },
    {
     "name": "stderr",
     "output_type": "stream",
     "text": [
      "Predicting:  19%|█████████████▍                                                       | 97/500 [00:17<01:03,  6.36it/s]"
     ]
    },
    {
     "name": "stdout",
     "output_type": "stream",
     "text": [
      "==> model AE\n",
      "==> Maker=LSM_Facility=2008_ITEM=W-L2921-22560-A_setting=179\n",
      "==> mae_recon_loss 0.13353489153663728\n",
      "==> threshold 0.2043491529038726\n",
      "==> margin limit 0.1327263320381074\n",
      "==> prediction result : Normal\n",
      "======================================================================================================================================================\n",
      "==> WorkingNumber PD2506261227_B_010_20250723_2008_14020_1\n",
      "==> Search Closest Trained Setting from Dictionary\n",
      "==> Setting Based Prediction\n",
      "==> model AE\n",
      "==> Maker=LSM_Facility=2008_ITEM=W-L2921-22560-A_setting=179\n",
      "==> mae_recon_loss 0.13353489153663728\n",
      "==> threshold 0.20503919765544149\n",
      "==> margin limit 0.13407886341600223\n",
      "==> prediction result : Normal\n",
      "======================================================================================================================================================\n"
     ]
    },
    {
     "name": "stderr",
     "output_type": "stream",
     "text": [
      "Predicting:  20%|█████████████▌                                                       | 98/500 [00:18<01:05,  6.14it/s]"
     ]
    },
    {
     "name": "stdout",
     "output_type": "stream",
     "text": [
      "==> WorkingNumber PD2506261226_B_010_20250723_2008_14020_1\n",
      "==> Search Closest Trained Setting from Dictionary\n",
      "==> Setting Based Prediction\n",
      "==> model AE\n",
      "==> Maker=LSM_Facility=2008_ITEM=W-L2921-22560-A_setting=179\n",
      "==> mae_recon_loss 0.13353489153663728\n",
      "==> threshold 0.20187889151493268\n",
      "==> margin limit 0.13379580265090735\n",
      "==> prediction result : Normal\n",
      "======================================================================================================================================================\n",
      "==> WorkingNumber PD2506261225_B_010_20250723_2008_14020_1\n",
      "==> Search Closest Trained Setting from Dictionary\n",
      "==> Setting Based Prediction\n"
     ]
    },
    {
     "name": "stderr",
     "output_type": "stream",
     "text": [
      "Predicting:  20%|█████████████▌                                                      | 100/500 [00:18<01:12,  5.54it/s]"
     ]
    },
    {
     "name": "stdout",
     "output_type": "stream",
     "text": [
      "==> model AE\n",
      "==> Maker=LSM_Facility=2008_ITEM=W-L2921-22560-A_setting=179\n",
      "==> mae_recon_loss 0.13353489153663728\n",
      "==> threshold 0.20507342474252646\n",
      "==> margin limit 0.13380247287652466\n",
      "==> prediction result : Normal\n",
      "======================================================================================================================================================\n",
      "==> WorkingNumber PD2506260011_B_010_20250723_1015_668670_4\n",
      "==> Search Closest Trained Setting from current Facility/ItemCode\n",
      "==> Setting Based Prediction\n",
      "==> model AE\n",
      "==> Maker=ENGEL_Facility=1015_ITEM=W-CG921-37220-A_setting=93\n",
      "==> mae_recon_loss 0.21831278219346437\n",
      "==> threshold 0.18569349683306272\n",
      "==> margin limit 0.04995483806436102\n",
      "==> prediction result : Normal\n",
      "======================================================================================================================================================\n",
      "==> WorkingNumber PD2506260878_B_010_20250723_2005_54425_1\n",
      "==> Setting Based Prediction\n"
     ]
    },
    {
     "name": "stderr",
     "output_type": "stream",
     "text": [
      "Predicting:  20%|█████████████▊                                                      | 102/500 [00:18<01:12,  5.50it/s]"
     ]
    },
    {
     "name": "stdout",
     "output_type": "stream",
     "text": [
      "==> model AE\n",
      "==> Maker=LSM_Facility=2005_ITEM=W-T1921-22640-A_setting=760\n",
      "==> mae_recon_loss 0.047611833607768016\n",
      "==> threshold 0.3391687788869546\n",
      "==> margin limit 0.04\n",
      "==> prediction result : Normal\n",
      "======================================================================================================================================================\n",
      "==> WorkingNumber PD2506260877_B_010_20250723_2005_54425_1\n",
      "==> Setting Based Prediction\n",
      "==> model AE\n",
      "==> Maker=LSM_Facility=2005_ITEM=W-T1921-22630-A_setting=760\n",
      "==> mae_recon_loss 0.047611833607768016\n",
      "==> threshold 0.3391687788869546\n",
      "==> margin limit 0.04\n",
      "==> prediction result : Normal\n",
      "======================================================================================================================================================\n",
      "==> WorkingNumber PD2506261346_B_010_20250723_2113_26885_1\n",
      "==> Search Closest Trained Setting from Dictionary\n",
      "==> Setting Based Prediction\n"
     ]
    },
    {
     "name": "stderr",
     "output_type": "stream",
     "text": [
      "Predicting:  21%|██████████████                                                      | 103/500 [00:19<01:14,  5.30it/s]"
     ]
    },
    {
     "name": "stdout",
     "output_type": "stream",
     "text": [
      "==> model AE\n",
      "==> Maker=JSW_Facility=1103_ITEM=F-N1921-37540-A_setting=35\n",
      "==> mae_recon_loss 0.3953216846276841\n",
      "==> threshold 0.40083803010384567\n",
      "==> margin limit 0.10756849571899596\n",
      "==> prediction result : Normal\n",
      "======================================================================================================================================================\n",
      "==> WorkingNumber PD2506260694_B_010_20250723_1001_11316_4\n",
      "==> Search Closest Trained Setting from current Facility/ItemCode\n",
      "==> Setting Based Prediction\n",
      "==> model AE\n",
      "==> Maker=LSM_Facility=1001_ITEM=F-G78194-A_setting=678\n",
      "==> mae_recon_loss 0.12604885640324326\n",
      "==> threshold 0.2618055903970775\n",
      "==> margin limit 0.09734205315887066\n",
      "==> prediction result : Normal\n",
      "======================================================================================================================================================\n"
     ]
    },
    {
     "name": "stderr",
     "output_type": "stream",
     "text": [
      "Predicting:  21%|██████████████▏                                                     | 104/500 [00:19<01:17,  5.14it/s]"
     ]
    },
    {
     "name": "stdout",
     "output_type": "stream",
     "text": [
      "==> WorkingNumber PD2506260035_B_010_20250723_1013_3698_1\n",
      "==> Search Closest Trained Setting from current Facility/ItemCode\n",
      "==> Setting Based Prediction\n"
     ]
    },
    {
     "name": "stderr",
     "output_type": "stream",
     "text": [
      "Predicting:  21%|██████████████▎                                                     | 105/500 [00:19<01:23,  4.72it/s]"
     ]
    },
    {
     "name": "stdout",
     "output_type": "stream",
     "text": [
      "==> model memae\n",
      "==> Maker=JSW_Facility=1013_ITEM=T1Z23-04010_setting=233\n",
      "==> mae_recon_loss 0.09434335614732045\n",
      "==> threshold 0.31894932824467825\n",
      "==> margin limit 0.036016020224742776\n",
      "==> prediction result : Normal\n",
      "======================================================================================================================================================\n",
      "==> WorkingNumber PD2506260034_B_010_20250723_1013_3698_1\n",
      "==> Search Closest Trained Setting from current Facility/ItemCode\n",
      "==> Setting Based Prediction\n"
     ]
    },
    {
     "name": "stderr",
     "output_type": "stream",
     "text": [
      "Predicting:  21%|██████████████▍                                                     | 106/500 [00:19<01:29,  4.42it/s]"
     ]
    },
    {
     "name": "stdout",
     "output_type": "stream",
     "text": [
      "==> model memae\n",
      "==> Maker=JSW_Facility=1013_ITEM=T1Z23-03010_setting=233\n",
      "==> mae_recon_loss 0.09434335614732045\n",
      "==> threshold 0.31719607300622377\n",
      "==> margin limit 0.03555249415708463\n",
      "==> prediction result : Normal\n",
      "======================================================================================================================================================\n",
      "==> WorkingNumber PD2506261335_B_010_20250723_2115_12320_1\n",
      "==> Search Closest Trained Setting from Dictionary\n",
      "==> Setting Based Prediction\n"
     ]
    },
    {
     "name": "stderr",
     "output_type": "stream",
     "text": [
      "Predicting:  21%|██████████████▌                                                     | 107/500 [00:19<01:32,  4.27it/s]"
     ]
    },
    {
     "name": "stdout",
     "output_type": "stream",
     "text": [
      "==> model memae\n",
      "==> Maker=JSW_Facility=1013_ITEM=T1Z23-04010_setting=233\n",
      "==> mae_recon_loss 0.49660962554976046\n",
      "==> threshold 0.3065576873332551\n",
      "==> margin limit 0.0323652138735474\n",
      "==> prediction result : Fault\n",
      "======================================================================================================================================================\n",
      "==> WorkingNumber PD2506261334_B_010_20250723_2115_12320_1\n",
      "==> Search Closest Trained Setting from Dictionary\n",
      "==> Setting Based Prediction\n"
     ]
    },
    {
     "name": "stderr",
     "output_type": "stream",
     "text": [
      "Predicting:  22%|██████████████▋                                                     | 108/500 [00:20<01:34,  4.16it/s]"
     ]
    },
    {
     "name": "stdout",
     "output_type": "stream",
     "text": [
      "==> model memae\n",
      "==> Maker=JSW_Facility=1013_ITEM=T1Z23-04010_setting=233\n",
      "==> mae_recon_loss 0.49660962554976046\n",
      "==> threshold 0.3031122019206554\n",
      "==> margin limit 0.03254476290623509\n",
      "==> prediction result : Fault\n",
      "======================================================================================================================================================\n",
      "==> WorkingNumber PD2506261253_B_010_20250723_2007_4063_1\n",
      "==> Setting Based Prediction\n"
     ]
    },
    {
     "name": "stderr",
     "output_type": "stream",
     "text": [
      "Predicting:  22%|██████████████▊                                                     | 109/500 [00:20<01:32,  4.21it/s]"
     ]
    },
    {
     "name": "stdout",
     "output_type": "stream",
     "text": [
      "==> model memae\n",
      "==> Maker=LSM_Facility=2007_ITEM=W-BE921-32030-A_setting=73\n",
      "==> mae_recon_loss 0.03478926838819906\n",
      "==> threshold 0.2755943172080866\n",
      "==> margin limit 0.03\n",
      "==> prediction result : Normal\n",
      "======================================================================================================================================================\n",
      "==> WorkingNumber PD2506261255_B_010_20250723_2007_4063_1\n",
      "==> Setting Based Prediction\n"
     ]
    },
    {
     "name": "stderr",
     "output_type": "stream",
     "text": [
      "Predicting:  22%|███████████████                                                     | 111/500 [00:20<01:20,  4.84it/s]"
     ]
    },
    {
     "name": "stdout",
     "output_type": "stream",
     "text": [
      "==> model memae\n",
      "==> Maker=LSM_Facility=2007_ITEM=W-BE921-32040-A_setting=73\n",
      "==> mae_recon_loss 0.03524078928376904\n",
      "==> threshold 0.3329058739408617\n",
      "==> margin limit 0.03\n",
      "==> prediction result : Normal\n",
      "======================================================================================================================================================\n",
      "==> WorkingNumber PD2506260135_B_010_20250723_2002_32368_1\n",
      "==> Setting Based Prediction\n",
      "==> model AE\n",
      "==> Maker=LSM_Facility=2002_ITEM=EFM92-423020_setting=764\n",
      "==> mae_recon_loss 0.2672327414033575\n",
      "==> threshold 0.19118697839472298\n",
      "==> margin limit 0.04\n",
      "==> prediction result : Fault\n",
      "======================================================================================================================================================\n",
      "==> WorkingNumber PD2506260134_B_010_20250723_2002_32368_1\n",
      "==> Setting Based Prediction\n"
     ]
    },
    {
     "name": "stderr",
     "output_type": "stream",
     "text": [
      "Predicting:  23%|███████████████▎                                                    | 113/500 [00:21<01:13,  5.27it/s]"
     ]
    },
    {
     "name": "stdout",
     "output_type": "stream",
     "text": [
      "==> model AE\n",
      "==> Maker=LSM_Facility=2002_ITEM=EFM92-423010_setting=764\n",
      "==> mae_recon_loss 0.2672327414033575\n",
      "==> threshold 0.19118697839472298\n",
      "==> margin limit 0.04\n",
      "==> prediction result : Fault\n",
      "======================================================================================================================================================\n",
      "==> WorkingNumber PD2506260001_B_010_20250723_M1006_240011_1\n",
      "==> Search Closest Trained Setting from Dictionary\n",
      "==> Setting Based Prediction\n",
      "==> model AE\n",
      "==> Maker=ENGEL_Facility=1015_ITEM=W-CG921-37220-A_setting=93\n",
      "==> mae_recon_loss 0.398362472653389\n",
      "==> threshold 0.18581617269565026\n",
      "==> margin limit 0.05633512690549106\n",
      "==> prediction result : Fault\n",
      "======================================================================================================================================================\n",
      "==> WorkingNumber PD2506261228_B_010_20250723_2008_14021_1\n",
      "==> Search Closest Trained Setting from Dictionary\n",
      "==> Setting Based Prediction\n"
     ]
    },
    {
     "name": "stderr",
     "output_type": "stream",
     "text": [
      "Predicting:  23%|███████████████▋                                                    | 115/500 [00:21<01:20,  4.81it/s]"
     ]
    },
    {
     "name": "stdout",
     "output_type": "stream",
     "text": [
      "==> model AE\n",
      "==> Maker=LSM_Facility=2008_ITEM=W-L2921-22560-A_setting=179\n",
      "==> mae_recon_loss 0.13369029036582922\n",
      "==> threshold 0.20460143559674893\n",
      "==> margin limit 0.13338196106980804\n",
      "==> prediction result : Normal\n",
      "======================================================================================================================================================\n",
      "==> WorkingNumber PD2506261227_B_010_20250723_2008_14021_1\n",
      "==> Search Closest Trained Setting from Dictionary\n",
      "==> Setting Based Prediction\n",
      "==> model AE\n",
      "==> Maker=LSM_Facility=2008_ITEM=W-L2921-22560-A_setting=179\n",
      "==> mae_recon_loss 0.13369029036582922\n",
      "==> threshold 0.20616840752421448\n",
      "==> margin limit 0.1339596486016099\n",
      "==> prediction result : Normal\n",
      "======================================================================================================================================================\n"
     ]
    },
    {
     "name": "stderr",
     "output_type": "stream",
     "text": [
      "Predicting:  23%|███████████████▊                                                    | 116/500 [00:21<01:16,  5.00it/s]"
     ]
    },
    {
     "name": "stdout",
     "output_type": "stream",
     "text": [
      "==> WorkingNumber PD2506261226_B_010_20250723_2008_14021_1\n",
      "==> Search Closest Trained Setting from Dictionary\n",
      "==> Setting Based Prediction\n",
      "==> model AE\n",
      "==> Maker=LSM_Facility=2008_ITEM=W-L2921-22560-A_setting=179\n",
      "==> mae_recon_loss 0.13369029036582922\n",
      "==> threshold 0.20511304082476944\n",
      "==> margin limit 0.13304481494196982\n",
      "==> prediction result : Normal\n",
      "======================================================================================================================================================\n",
      "==> WorkingNumber PD2506261225_B_010_20250723_2008_14021_1\n",
      "==> Search Closest Trained Setting from Dictionary\n"
     ]
    },
    {
     "name": "stderr",
     "output_type": "stream",
     "text": [
      "Predicting:  23%|███████████████▉                                                    | 117/500 [00:22<01:16,  4.98it/s]"
     ]
    },
    {
     "name": "stdout",
     "output_type": "stream",
     "text": [
      "==> Setting Based Prediction\n",
      "==> model AE\n",
      "==> Maker=LSM_Facility=2008_ITEM=W-L2921-22560-A_setting=179\n",
      "==> mae_recon_loss 0.13369029036582922\n",
      "==> threshold 0.2057575156127156\n",
      "==> margin limit 0.13330039702369026\n",
      "==> prediction result : Normal\n",
      "======================================================================================================================================================\n",
      "==> WorkingNumber PD2506260878_B_010_20250723_2005_54426_1\n",
      "==> Setting Based Prediction\n"
     ]
    },
    {
     "name": "stderr",
     "output_type": "stream",
     "text": [
      "Predicting:  24%|████████████████▏                                                   | 119/500 [00:22<01:05,  5.83it/s]"
     ]
    },
    {
     "name": "stdout",
     "output_type": "stream",
     "text": [
      "==> model AE\n",
      "==> Maker=LSM_Facility=2005_ITEM=W-T1921-22640-A_setting=760\n",
      "==> mae_recon_loss 0.052379137625666775\n",
      "==> threshold 0.3391687788869546\n",
      "==> margin limit 0.04\n",
      "==> prediction result : Normal\n",
      "======================================================================================================================================================\n",
      "==> WorkingNumber PD2506260877_B_010_20250723_2005_54426_1\n",
      "==> Setting Based Prediction\n",
      "==> model AE\n",
      "==> Maker=LSM_Facility=2005_ITEM=W-T1921-22630-A_setting=760\n",
      "==> mae_recon_loss 0.052379137625666775\n",
      "==> threshold 0.3391687788869546\n",
      "==> margin limit 0.04\n",
      "==> prediction result : Normal\n",
      "======================================================================================================================================================\n",
      "==> WorkingNumber PD2506260022_B_010_20250723_1009_429_8\n",
      "==> Setting Based Prediction\n"
     ]
    },
    {
     "name": "stderr",
     "output_type": "stream",
     "text": [
      "Predicting:  24%|████████████████▍                                                   | 121/500 [00:22<01:10,  5.40it/s]"
     ]
    },
    {
     "name": "stdout",
     "output_type": "stream",
     "text": [
      "==> model memae\n",
      "==> Maker=JSW_Facility=1009_ITEM=W-BE921-37040-A_setting=394\n",
      "==> mae_recon_loss 0.08942380661273047\n",
      "==> threshold 0.2950071299376406\n",
      "==> margin limit 0.03\n",
      "==> prediction result : Normal\n",
      "======================================================================================================================================================\n",
      "==> WorkingNumber PD2506260039_B_010_20250723_1106_12111_1\n",
      "==> Search Closest Trained Setting from Dictionary\n",
      "==> Setting Based Prediction\n",
      "==> model AE\n",
      "==> Maker=JSW_Facility=1009_ITEM=W-BE921-37040-A_setting=74\n",
      "==> mae_recon_loss 0.3977792344375762\n",
      "==> threshold 0.23306648608523817\n",
      "==> margin limit 0.045046230943260185\n",
      "==> prediction result : Fault\n",
      "======================================================================================================================================================\n"
     ]
    },
    {
     "name": "stderr",
     "output_type": "stream",
     "text": [
      "Predicting:  24%|████████████████▌                                                   | 122/500 [00:22<01:09,  5.41it/s]"
     ]
    },
    {
     "name": "stdout",
     "output_type": "stream",
     "text": [
      "==> WorkingNumber PD2506260038_B_010_20250723_1106_12111_1\n",
      "==> Search Closest Trained Setting from Dictionary\n",
      "==> Setting Based Prediction\n",
      "==> model AE\n",
      "==> Maker=JSW_Facility=1009_ITEM=W-BE921-37040-A_setting=74\n",
      "==> mae_recon_loss 0.3977792344375762\n",
      "==> threshold 0.2286179426040214\n",
      "==> margin limit 0.045458416164729204\n",
      "==> prediction result : Fault\n",
      "======================================================================================================================================================\n",
      "==> WorkingNumber PD2506260008_B_010_20250723_1101_35853_4\n",
      "==> Search Closest Trained Setting from current Facility/ItemCode\n",
      "==> Setting Based Prediction\n"
     ]
    },
    {
     "name": "stderr",
     "output_type": "stream",
     "text": [
      "Predicting:  25%|████████████████▊                                                   | 124/500 [00:23<01:16,  4.93it/s]"
     ]
    },
    {
     "name": "stdout",
     "output_type": "stream",
     "text": [
      "==> model memae\n",
      "==> Maker=JSW_Facility=1101_ITEM=W-BE921-37041-A_setting=24\n",
      "==> mae_recon_loss 0.11989209070078687\n",
      "==> threshold 0.34136926672528256\n",
      "==> margin limit 0.048729860912784174\n",
      "==> prediction result : Normal\n",
      "======================================================================================================================================================\n",
      "==> WorkingNumber PD2506260011_B_010_20250723_1015_668671_4\n",
      "==> Search Closest Trained Setting from current Facility/ItemCode\n",
      "==> Setting Based Prediction\n",
      "==> model AE\n",
      "==> Maker=ENGEL_Facility=1015_ITEM=W-CG921-37220-A_setting=93\n",
      "==> mae_recon_loss 0.22658083879670302\n",
      "==> threshold 0.18410500440149433\n",
      "==> margin limit 0.05405975846830899\n",
      "==> prediction result : Normal\n",
      "======================================================================================================================================================\n"
     ]
    },
    {
     "name": "stderr",
     "output_type": "stream",
     "text": [
      "Predicting:  25%|█████████████████                                                   | 125/500 [00:23<01:09,  5.41it/s]"
     ]
    },
    {
     "name": "stdout",
     "output_type": "stream",
     "text": [
      "==> WorkingNumber PD2506260030_B_010_20250723_1012_3300_4\n",
      "==> Setting Based Prediction\n",
      "==> model AE\n",
      "==> Maker=JSW_Facility=1012_ITEM=F-N1921-37510-A_setting=242\n",
      "==> mae_recon_loss 0.08880284727676707\n",
      "==> threshold 0.21577117784742858\n",
      "==> margin limit 0.03\n",
      "==> prediction result : Normal\n",
      "======================================================================================================================================================\n",
      "==> WorkingNumber PD2506260031_B_010_20250723_1012_3300_4\n",
      "==> Setting Based Prediction\n"
     ]
    },
    {
     "name": "stderr",
     "output_type": "stream",
     "text": [
      "Predicting:  25%|█████████████████▎                                                  | 127/500 [00:23<00:59,  6.23it/s]"
     ]
    },
    {
     "name": "stdout",
     "output_type": "stream",
     "text": [
      "==> model AE\n",
      "==> Maker=JSW_Facility=1012_ITEM=F-N1921-37520-A_setting=242\n",
      "==> mae_recon_loss 0.08859465018952944\n",
      "==> threshold 0.2137330775032018\n",
      "==> margin limit 0.03\n",
      "==> prediction result : Normal\n",
      "======================================================================================================================================================\n",
      "==> WorkingNumber PD2506260018_B_010_20250723_2027_15621_1\n",
      "==> Setting Based Prediction\n",
      "==> model AE\n",
      "==> Maker=JSW_Facility=2027_ITEM=T1Z23-04020_setting=197\n",
      "==> mae_recon_loss 0.11248358461659277\n",
      "==> threshold 0.1524310932170106\n",
      "==> margin limit 0.03\n",
      "==> prediction result : Normal\n",
      "======================================================================================================================================================\n",
      "==> WorkingNumber PD2506260017_B_010_20250723_2027_15621_1\n",
      "==> Setting Based Prediction\n"
     ]
    },
    {
     "name": "stderr",
     "output_type": "stream",
     "text": [
      "Predicting:  26%|█████████████████▌                                                  | 129/500 [00:24<01:11,  5.17it/s]"
     ]
    },
    {
     "name": "stdout",
     "output_type": "stream",
     "text": [
      "==> model AE\n",
      "==> Maker=JSW_Facility=2027_ITEM=T1Z23-03020_setting=197\n",
      "==> mae_recon_loss 0.11248358461659277\n",
      "==> threshold 0.1524310932170106\n",
      "==> margin limit 0.03\n",
      "==> prediction result : Normal\n",
      "======================================================================================================================================================\n",
      "==> WorkingNumber PD2506260694_B_010_20250723_1001_11317_4\n",
      "==> Search Closest Trained Setting from current Facility/ItemCode\n",
      "==> Setting Based Prediction\n",
      "==> model AE\n",
      "==> Maker=LSM_Facility=1001_ITEM=F-G78194-A_setting=678\n",
      "==> mae_recon_loss 0.12762117658503233\n",
      "==> threshold 0.26267767011056525\n",
      "==> margin limit 0.09877759678952203\n",
      "==> prediction result : Normal\n",
      "======================================================================================================================================================\n"
     ]
    },
    {
     "name": "stderr",
     "output_type": "stream",
     "text": [
      "Predicting:  26%|█████████████████▊                                                  | 131/500 [00:24<00:48,  7.63it/s]"
     ]
    },
    {
     "name": "stdout",
     "output_type": "stream",
     "text": [
      "==> WorkingNumber PD2506261065_B_010_20250723_1003_21643_1\n",
      "==> Setting Based Prediction\n",
      "==> model ISF\n",
      "==> Maker=LSM_Facility=1003_ITEM=W-J6921-24510-A_setting=335\n",
      "==> mae_recon_loss -0.2193444477109171\n",
      "==> threshold 0.07359565663013634\n",
      "==> margin limit 0.02\n",
      "==> prediction result : Normal\n",
      "======================================================================================================================================================\n",
      "==> WorkingNumber PD2506261066_B_010_20250723_1003_21643_1\n",
      "==> Setting Based Prediction\n",
      "==> model ISF\n",
      "==> Maker=LSM_Facility=1003_ITEM=W-J6921-24520-A_setting=335\n",
      "==> mae_recon_loss -0.2193444477109171\n",
      "==> threshold 0.07359565663013634\n",
      "==> margin limit 0.02\n",
      "==> prediction result : Normal\n",
      "======================================================================================================================================================\n",
      "==> WorkingNumber PD2506260027_B_010_20250723_1102_6142_1\n",
      "==> Search Closest Trained Setting from Dictionary\n",
      "==> Setting Based Prediction\n",
      "==> model ISF\n",
      "==> Maker=JSW_Facility=1010_ITEM=F-J7921-37100-A_setting=1421\n",
      "==> mae_recon_loss 0.0669294261047223\n",
      "==> threshold 0.1081899077223796\n",
      "==> margin limit 0.025851676391252187\n",
      "==> prediction result : Normal\n",
      "======================================================================================================================================================\n",
      "==> WorkingNumber PD2506260035_B_010_20250723_1013_3699_1\n",
      "==> Search Closest Trained Setting from current Facility/ItemCode\n",
      "==> Setting Based Prediction\n"
     ]
    },
    {
     "name": "stderr",
     "output_type": "stream",
     "text": [
      "Predicting:  27%|██████████████████                                                  | 133/500 [00:24<00:56,  6.48it/s]"
     ]
    },
    {
     "name": "stdout",
     "output_type": "stream",
     "text": [
      "==> model memae\n",
      "==> Maker=JSW_Facility=1013_ITEM=T1Z23-04010_setting=233\n",
      "==> mae_recon_loss 0.08451116229550802\n",
      "==> threshold 0.3155574233011038\n",
      "==> margin limit 0.03598817228454878\n",
      "==> prediction result : Normal\n",
      "======================================================================================================================================================\n",
      "==> WorkingNumber PD2506260034_B_010_20250723_1013_3699_1\n",
      "==> Search Closest Trained Setting from current Facility/ItemCode\n",
      "==> Setting Based Prediction\n"
     ]
    },
    {
     "name": "stderr",
     "output_type": "stream",
     "text": [
      "Predicting:  27%|██████████████████▏                                                 | 134/500 [00:24<01:02,  5.84it/s]"
     ]
    },
    {
     "name": "stdout",
     "output_type": "stream",
     "text": [
      "==> model memae\n",
      "==> Maker=JSW_Facility=1013_ITEM=T1Z23-03010_setting=233\n",
      "==> mae_recon_loss 0.08451116229550802\n",
      "==> threshold 0.31578784816215877\n",
      "==> margin limit 0.03615827905808645\n",
      "==> prediction result : Normal\n",
      "======================================================================================================================================================\n",
      "==> WorkingNumber PD2506261255_B_010_20250723_2007_4064_1\n",
      "==> Setting Based Prediction\n"
     ]
    },
    {
     "name": "stderr",
     "output_type": "stream",
     "text": [
      "Predicting:  27%|██████████████████▎                                                 | 135/500 [00:25<01:07,  5.41it/s]"
     ]
    },
    {
     "name": "stdout",
     "output_type": "stream",
     "text": [
      "==> model memae\n",
      "==> Maker=LSM_Facility=2007_ITEM=W-BE921-32040-A_setting=73\n",
      "==> mae_recon_loss 0.03212164056570797\n",
      "==> threshold 0.3329058739408617\n",
      "==> margin limit 0.03\n",
      "==> prediction result : Normal\n",
      "======================================================================================================================================================\n",
      "==> WorkingNumber PD2506261253_B_010_20250723_2007_4064_1\n",
      "==> Setting Based Prediction\n"
     ]
    },
    {
     "name": "stderr",
     "output_type": "stream",
     "text": [
      "Predicting:  28%|██████████████████▊                                                 | 138/500 [00:25<00:55,  6.51it/s]"
     ]
    },
    {
     "name": "stdout",
     "output_type": "stream",
     "text": [
      "==> model memae\n",
      "==> Maker=LSM_Facility=2007_ITEM=W-BE921-32030-A_setting=73\n",
      "==> mae_recon_loss 0.030813012342677172\n",
      "==> threshold 0.2755943172080866\n",
      "==> margin limit 0.03\n",
      "==> prediction result : Normal\n",
      "======================================================================================================================================================\n",
      "==> WorkingNumber PD2506261335_B_010_20250723_2115_12321_1\n",
      "==> Search Closest Trained Setting from Dictionary\n",
      "==> Setting Based Prediction\n",
      "==> model ISF\n",
      "==> Maker=JSW_Facility=1010_ITEM=F-J7921-37100-A_setting=500\n",
      "==> mae_recon_loss 0.08724934361127523\n",
      "==> threshold 0.17386781060350381\n",
      "==> margin limit 0.032249646872981874\n",
      "==> prediction result : Normal\n",
      "======================================================================================================================================================\n",
      "==> WorkingNumber PD2506261334_B_010_20250723_2115_12321_1\n",
      "==> Search Closest Trained Setting from Dictionary\n",
      "==> Setting Based Prediction\n",
      "==> model ISF\n",
      "==> Maker=JSW_Facility=1010_ITEM=F-J7921-37100-A_setting=500\n",
      "==> mae_recon_loss 0.08724934361127523\n",
      "==> threshold 0.1749023080677427\n",
      "==> margin limit 0.03257226176655437\n",
      "==> prediction result : Normal\n",
      "======================================================================================================================================================\n"
     ]
    },
    {
     "name": "stderr",
     "output_type": "stream",
     "text": [
      "Predicting:  28%|██████████████████▉                                                 | 139/500 [00:25<00:59,  6.08it/s]"
     ]
    },
    {
     "name": "stdout",
     "output_type": "stream",
     "text": [
      "==> WorkingNumber PD2506260135_B_010_20250723_2002_32369_1\n",
      "==> Setting Based Prediction\n",
      "==> model AE\n",
      "==> Maker=LSM_Facility=2002_ITEM=EFM92-423020_setting=764\n",
      "==> mae_recon_loss 0.26605021333707396\n",
      "==> threshold 0.19118697839472298\n",
      "==> margin limit 0.04\n",
      "==> prediction result : Fault\n",
      "======================================================================================================================================================\n",
      "==> WorkingNumber PD2506260134_B_010_20250723_2002_32369_1\n",
      "==> Setting Based Prediction\n"
     ]
    },
    {
     "name": "stderr",
     "output_type": "stream",
     "text": [
      "Predicting:  28%|███████████████████                                                 | 140/500 [00:25<00:57,  6.30it/s]"
     ]
    },
    {
     "name": "stdout",
     "output_type": "stream",
     "text": [
      "==> model AE\n",
      "==> Maker=LSM_Facility=2002_ITEM=EFM92-423010_setting=764\n",
      "==> mae_recon_loss 0.26605021333707396\n",
      "==> threshold 0.19118697839472298\n",
      "==> margin limit 0.04\n",
      "==> prediction result : Fault\n",
      "======================================================================================================================================================\n",
      "==> WorkingNumber PD2506261226_B_010_20250723_2008_14022_1\n",
      "==> Search Closest Trained Setting from Dictionary\n",
      "==> Setting Based Prediction\n"
     ]
    },
    {
     "name": "stderr",
     "output_type": "stream",
     "text": [
      "Predicting:  28%|███████████████████▎                                                | 142/500 [00:26<01:04,  5.52it/s]"
     ]
    },
    {
     "name": "stdout",
     "output_type": "stream",
     "text": [
      "==> model AE\n",
      "==> Maker=LSM_Facility=2008_ITEM=W-L2921-22560-A_setting=179\n",
      "==> mae_recon_loss 0.13369029036582922\n",
      "==> threshold 0.20271248019324423\n",
      "==> margin limit 0.13318680337684471\n",
      "==> prediction result : Normal\n",
      "======================================================================================================================================================\n",
      "==> WorkingNumber PD2506261225_B_010_20250723_2008_14022_1\n",
      "==> Search Closest Trained Setting from Dictionary\n",
      "==> Setting Based Prediction\n",
      "==> model AE\n",
      "==> Maker=LSM_Facility=2008_ITEM=W-L2921-22560-A_setting=179\n",
      "==> mae_recon_loss 0.13369029036582922\n",
      "==> threshold 0.20385850850899995\n",
      "==> margin limit 0.1340645138132582\n",
      "==> prediction result : Normal\n",
      "======================================================================================================================================================\n"
     ]
    },
    {
     "name": "stderr",
     "output_type": "stream",
     "text": [
      "Predicting:  29%|███████████████████▍                                                | 143/500 [00:26<01:07,  5.31it/s]"
     ]
    },
    {
     "name": "stdout",
     "output_type": "stream",
     "text": [
      "==> WorkingNumber PD2506261228_B_010_20250723_2008_14022_1\n",
      "==> Search Closest Trained Setting from Dictionary\n",
      "==> Setting Based Prediction\n",
      "==> model AE\n",
      "==> Maker=LSM_Facility=2008_ITEM=W-L2921-22560-A_setting=179\n",
      "==> mae_recon_loss 0.13369029036582922\n",
      "==> threshold 0.206363700595118\n",
      "==> margin limit 0.13355142189144284\n",
      "==> prediction result : Normal\n",
      "======================================================================================================================================================\n"
     ]
    },
    {
     "name": "stderr",
     "output_type": "stream",
     "text": [
      "Predicting:  29%|███████████████████▌                                                | 144/500 [00:26<01:19,  4.47it/s]"
     ]
    },
    {
     "name": "stdout",
     "output_type": "stream",
     "text": [
      "==> WorkingNumber PD2506261227_B_010_20250723_2008_14022_1\n",
      "==> Search Closest Trained Setting from Dictionary\n",
      "==> Setting Based Prediction\n",
      "==> model AE\n",
      "==> Maker=LSM_Facility=2008_ITEM=W-L2921-22560-A_setting=179\n",
      "==> mae_recon_loss 0.13369029036582922\n",
      "==> threshold 0.20635895938979673\n",
      "==> margin limit 0.1345969427390202\n",
      "==> prediction result : Normal\n",
      "======================================================================================================================================================\n",
      "==> WorkingNumber PD2506260021_B_010_20250723_1103_5157_4\n",
      "==> Search Closest Trained Setting from Dictionary\n",
      "==> Setting Based Prediction\n"
     ]
    },
    {
     "name": "stderr",
     "output_type": "stream",
     "text": [
      "Predicting:  29%|███████████████████▊                                                | 146/500 [00:27<01:08,  5.14it/s]"
     ]
    },
    {
     "name": "stdout",
     "output_type": "stream",
     "text": [
      "==> model AE\n",
      "==> Maker=JSW_Facility=1104_ITEM=P2921-37000_setting=125\n",
      "==> mae_recon_loss 0.1897065030451415\n",
      "==> threshold 0.2845828953341507\n",
      "==> margin limit 0.061655104206043115\n",
      "==> prediction result : Normal\n",
      "======================================================================================================================================================\n",
      "==> WorkingNumber PD2506260878_B_010_20250723_2005_54427_1\n",
      "==> Setting Based Prediction\n",
      "==> model AE\n",
      "==> Maker=LSM_Facility=2005_ITEM=W-T1921-22640-A_setting=760\n",
      "==> mae_recon_loss 0.039821094855078495\n",
      "==> threshold 0.3391687788869546\n",
      "==> margin limit 0.04\n",
      "==> prediction result : Normal\n",
      "======================================================================================================================================================\n",
      "==> WorkingNumber PD2506260877_B_010_20250723_2005_54427_1\n",
      "==> Setting Based Prediction\n"
     ]
    },
    {
     "name": "stderr",
     "output_type": "stream",
     "text": [
      "Predicting:  30%|████████████████████▎                                               | 149/500 [00:27<00:47,  7.39it/s]"
     ]
    },
    {
     "name": "stdout",
     "output_type": "stream",
     "text": [
      "==> model AE\n",
      "==> Maker=LSM_Facility=2005_ITEM=W-T1921-22630-A_setting=760\n",
      "==> mae_recon_loss 0.039821094855078495\n",
      "==> threshold 0.3391687788869546\n",
      "==> margin limit 0.04\n",
      "==> prediction result : Normal\n",
      "======================================================================================================================================================\n",
      "==> WorkingNumber PD2506260172_B_010_20250723_1010_70_4\n",
      "==> Search Closest Trained Setting from Dictionary\n",
      "==> Setting Based Prediction\n",
      "==> model ISF\n",
      "==> Maker=JSW_Facility=1010_ITEM=F-J7921-37220-A_setting=374\n",
      "==> mae_recon_loss 0.0533959608169039\n",
      "==> threshold 0.17229881439796368\n",
      "==> margin limit 0.023965214187506717\n",
      "==> prediction result : Normal\n",
      "======================================================================================================================================================\n",
      "==> WorkingNumber PD2506260010_B_010_20250723_1104_7220_8\n",
      "==> Search Closest Trained Setting from current Facility/ItemCode\n",
      "==> Setting Based Prediction\n",
      "==> model ISF\n",
      "==> Maker=JSW_Facility=1104_ITEM=F-CG921-37220-A_setting=1061\n",
      "==> mae_recon_loss 0.10212681059119022\n",
      "==> threshold 0.08551748567233858\n",
      "==> margin limit 0.026118522688571177\n",
      "==> prediction result : Normal\n",
      "======================================================================================================================================================\n",
      "==> WorkingNumber PD2506260011_B_010_20250723_1015_668672_4\n",
      "==> Search Closest Trained Setting from current Facility/ItemCode\n",
      "==> Setting Based Prediction\n"
     ]
    },
    {
     "name": "stderr",
     "output_type": "stream",
     "text": [
      "Predicting:  30%|████████████████████▍                                               | 150/500 [00:27<00:53,  6.60it/s]"
     ]
    },
    {
     "name": "stdout",
     "output_type": "stream",
     "text": [
      "==> model AE\n",
      "==> Maker=ENGEL_Facility=1015_ITEM=W-CG921-37220-A_setting=93\n",
      "==> mae_recon_loss 0.2217628803943131\n",
      "==> threshold 0.18392657082868305\n",
      "==> margin limit 0.05226731418329772\n",
      "==> prediction result : Normal\n",
      "======================================================================================================================================================\n",
      "==> WorkingNumber PD2506260694_B_010_20250723_1001_11318_4\n",
      "==> Search Closest Trained Setting from current Facility/ItemCode\n",
      "==> Setting Based Prediction\n"
     ]
    },
    {
     "name": "stderr",
     "output_type": "stream",
     "text": [
      "Predicting:  30%|████████████████████▌                                               | 151/500 [00:27<00:58,  6.01it/s]"
     ]
    },
    {
     "name": "stdout",
     "output_type": "stream",
     "text": [
      "==> model AE\n",
      "==> Maker=LSM_Facility=1001_ITEM=F-G78194-A_setting=678\n",
      "==> mae_recon_loss 0.1270642757208918\n",
      "==> threshold 0.26108370566695027\n",
      "==> margin limit 0.09754928537623557\n",
      "==> prediction result : Normal\n",
      "======================================================================================================================================================\n",
      "==> WorkingNumber PD2506260014_B_010_20250723_2117_6453_8\n",
      "==> Search Closest Trained Setting from current Facility/ItemCode\n",
      "==> Setting Based Prediction\n",
      "==> model ISF\n",
      "==> Maker=JSW_Facility=2117_ITEM=F-CG921-37240-A_setting=140\n",
      "==> mae_recon_loss 0.08603697482545636\n",
      "==> threshold 0.10909364744654221\n",
      "==> margin limit 0.030268449128733117\n",
      "==> prediction result : Normal\n",
      "======================================================================================================================================================\n",
      "==> WorkingNumber PD2506260008_B_010_20250723_1101_35854_4\n",
      "==> Search Closest Trained Setting from current Facility/ItemCode\n",
      "==> Setting Based Prediction\n"
     ]
    },
    {
     "name": "stderr",
     "output_type": "stream",
     "text": [
      "Predicting:  31%|████████████████████▉                                               | 154/500 [00:28<00:59,  5.81it/s]"
     ]
    },
    {
     "name": "stdout",
     "output_type": "stream",
     "text": [
      "==> model memae\n",
      "==> Maker=JSW_Facility=1101_ITEM=W-BE921-37041-A_setting=24\n",
      "==> mae_recon_loss 0.12177961883512832\n",
      "==> threshold 0.34158947764357883\n",
      "==> margin limit 0.04971609627907767\n",
      "==> prediction result : Normal\n",
      "======================================================================================================================================================\n",
      "==> WorkingNumber PD2506261225_B_010_20250723_2008_14023_1\n",
      "==> Search Closest Trained Setting from Dictionary\n",
      "==> Setting Based Prediction\n",
      "==> model AE\n",
      "==> Maker=LSM_Facility=2008_ITEM=W-L2921-22560-A_setting=179\n",
      "==> mae_recon_loss 0.13369029036582922\n",
      "==> threshold 0.20220942861713198\n",
      "==> margin limit 0.13440958819659513\n",
      "==> prediction result : Normal\n",
      "======================================================================================================================================================\n"
     ]
    },
    {
     "name": "stderr",
     "output_type": "stream",
     "text": [
      "Predicting:  31%|█████████████████████                                               | 155/500 [00:28<01:02,  5.52it/s]"
     ]
    },
    {
     "name": "stdout",
     "output_type": "stream",
     "text": [
      "==> WorkingNumber PD2506261228_B_010_20250723_2008_14023_1\n",
      "==> Search Closest Trained Setting from Dictionary\n",
      "==> Setting Based Prediction\n",
      "==> model AE\n",
      "==> Maker=LSM_Facility=2008_ITEM=W-L2921-22560-A_setting=179\n",
      "==> mae_recon_loss 0.13369029036582922\n",
      "==> threshold 0.2067218303186122\n",
      "==> margin limit 0.13348786936560494\n",
      "==> prediction result : Normal\n",
      "======================================================================================================================================================\n",
      "==> WorkingNumber PD2506261227_B_010_20250723_2008_14023_1\n"
     ]
    },
    {
     "name": "stderr",
     "output_type": "stream",
     "text": [
      "Predicting:  31%|█████████████████████▏                                              | 156/500 [00:28<01:02,  5.52it/s]"
     ]
    },
    {
     "name": "stdout",
     "output_type": "stream",
     "text": [
      "==> Search Closest Trained Setting from Dictionary\n",
      "==> Setting Based Prediction\n",
      "==> model AE\n",
      "==> Maker=LSM_Facility=2008_ITEM=W-L2921-22560-A_setting=179\n",
      "==> mae_recon_loss 0.13369029036582922\n",
      "==> threshold 0.2019932062455123\n",
      "==> margin limit 0.13400521904788823\n",
      "==> prediction result : Normal\n",
      "======================================================================================================================================================\n",
      "==> WorkingNumber PD2506261226_B_010_20250723_2008_14023_1\n",
      "==> Search Closest Trained Setting from Dictionary\n",
      "==> Setting Based Prediction\n"
     ]
    },
    {
     "name": "stderr",
     "output_type": "stream",
     "text": [
      "Predicting:  32%|█████████████████████▍                                              | 158/500 [00:29<00:59,  5.70it/s]"
     ]
    },
    {
     "name": "stdout",
     "output_type": "stream",
     "text": [
      "==> model AE\n",
      "==> Maker=LSM_Facility=2008_ITEM=W-L2921-22560-A_setting=179\n",
      "==> mae_recon_loss 0.13369029036582922\n",
      "==> threshold 0.20181930701655887\n",
      "==> margin limit 0.13402159577836012\n",
      "==> prediction result : Normal\n",
      "======================================================================================================================================================\n",
      "==> WorkingNumber PD2506260134_B_010_20250723_2002_32370_1\n",
      "==> Setting Based Prediction\n",
      "==> model AE\n",
      "==> Maker=LSM_Facility=2002_ITEM=EFM92-423010_setting=764\n",
      "==> mae_recon_loss 0.26299318557225454\n",
      "==> threshold 0.19118697839472298\n",
      "==> margin limit 0.04\n",
      "==> prediction result : Fault\n",
      "======================================================================================================================================================\n"
     ]
    },
    {
     "name": "stderr",
     "output_type": "stream",
     "text": [
      "Predicting:  32%|█████████████████████▌                                              | 159/500 [00:29<01:07,  5.07it/s]"
     ]
    },
    {
     "name": "stdout",
     "output_type": "stream",
     "text": [
      "==> WorkingNumber PD2506260135_B_010_20250723_2002_32370_1\n",
      "==> Setting Based Prediction\n",
      "==> model AE\n",
      "==> Maker=LSM_Facility=2002_ITEM=EFM92-423020_setting=764\n",
      "==> mae_recon_loss 0.26299318557225454\n",
      "==> threshold 0.19118697839472298\n",
      "==> margin limit 0.04\n",
      "==> prediction result : Fault\n",
      "======================================================================================================================================================\n",
      "==> WorkingNumber PD2506261255_B_010_20250723_2007_4065_1\n",
      "==> Setting Based Prediction\n"
     ]
    },
    {
     "name": "stderr",
     "output_type": "stream",
     "text": [
      "Predicting:  32%|█████████████████████▊                                              | 160/500 [00:29<01:10,  4.80it/s]"
     ]
    },
    {
     "name": "stdout",
     "output_type": "stream",
     "text": [
      "==> model memae\n",
      "==> Maker=LSM_Facility=2007_ITEM=W-BE921-32040-A_setting=73\n",
      "==> mae_recon_loss 0.03425792234759428\n",
      "==> threshold 0.3329058739408617\n",
      "==> margin limit 0.03\n",
      "==> prediction result : Normal\n",
      "======================================================================================================================================================\n",
      "==> WorkingNumber PD2506261253_B_010_20250723_2007_4065_1\n",
      "==> Setting Based Prediction\n"
     ]
    },
    {
     "name": "stderr",
     "output_type": "stream",
     "text": [
      "Predicting:  32%|██████████████████████                                              | 162/500 [00:30<01:05,  5.17it/s]"
     ]
    },
    {
     "name": "stdout",
     "output_type": "stream",
     "text": [
      "==> model memae\n",
      "==> Maker=LSM_Facility=2007_ITEM=W-BE921-32030-A_setting=73\n",
      "==> mae_recon_loss 0.03277802361041811\n",
      "==> threshold 0.2755943172080866\n",
      "==> margin limit 0.03\n",
      "==> prediction result : Normal\n",
      "======================================================================================================================================================\n",
      "==> WorkingNumber PD2506260878_B_010_20250723_2005_54428_1\n",
      "==> Setting Based Prediction\n",
      "==> model AE\n",
      "==> Maker=LSM_Facility=2005_ITEM=W-T1921-22640-A_setting=760\n",
      "==> mae_recon_loss 0.035976409314946674\n",
      "==> threshold 0.3391687788869546\n",
      "==> margin limit 0.04\n",
      "==> prediction result : Normal\n",
      "======================================================================================================================================================\n",
      "==> WorkingNumber PD2506260877_B_010_20250723_2005_54428_1\n",
      "==> Setting Based Prediction\n"
     ]
    },
    {
     "name": "stderr",
     "output_type": "stream",
     "text": [
      "Predicting:  33%|██████████████████████▎                                             | 164/500 [00:30<01:02,  5.39it/s]"
     ]
    },
    {
     "name": "stdout",
     "output_type": "stream",
     "text": [
      "==> model AE\n",
      "==> Maker=LSM_Facility=2005_ITEM=W-T1921-22630-A_setting=760\n",
      "==> mae_recon_loss 0.035976409314946674\n",
      "==> threshold 0.3391687788869546\n",
      "==> margin limit 0.04\n",
      "==> prediction result : Normal\n",
      "======================================================================================================================================================\n",
      "==> WorkingNumber PD2506261335_B_010_20250723_2115_12322_1\n",
      "==> Search Closest Trained Setting from Dictionary\n",
      "==> Setting Based Prediction\n",
      "==> model AE\n",
      "==> Maker=JSW_Facility=1103_ITEM=F-N1921-37540-A_setting=35\n",
      "==> mae_recon_loss 0.3284671313105801\n",
      "==> threshold 0.39722143827328416\n",
      "==> margin limit 0.10582163738902917\n",
      "==> prediction result : Normal\n",
      "======================================================================================================================================================\n"
     ]
    },
    {
     "name": "stderr",
     "output_type": "stream",
     "text": [
      "Predicting:  33%|██████████████████████▍                                             | 165/500 [00:30<01:03,  5.26it/s]"
     ]
    },
    {
     "name": "stdout",
     "output_type": "stream",
     "text": [
      "==> WorkingNumber PD2506261334_B_010_20250723_2115_12322_1\n",
      "==> Search Closest Trained Setting from Dictionary\n",
      "==> Setting Based Prediction\n",
      "==> model AE\n",
      "==> Maker=JSW_Facility=1103_ITEM=F-N1921-37540-A_setting=35\n",
      "==> mae_recon_loss 0.3284671313105801\n",
      "==> threshold 0.39941788617774154\n",
      "==> margin limit 0.10806854376622406\n",
      "==> prediction result : Normal\n",
      "======================================================================================================================================================\n"
     ]
    },
    {
     "name": "stderr",
     "output_type": "stream",
     "text": [
      "Predicting:  33%|██████████████████████▌                                             | 166/500 [00:30<01:02,  5.39it/s]"
     ]
    },
    {
     "name": "stdout",
     "output_type": "stream",
     "text": [
      "==> WorkingNumber PD2506260039_B_010_20250723_1106_12112_1\n",
      "==> Search Closest Trained Setting from Dictionary\n",
      "==> Setting Based Prediction\n",
      "==> model AE\n",
      "==> Maker=JSW_Facility=1103_ITEM=F-N1921-37540-A_setting=35\n",
      "==> mae_recon_loss 0.2988941138996826\n",
      "==> threshold 0.3996177912549651\n",
      "==> margin limit 0.1074636684125959\n",
      "==> prediction result : Normal\n",
      "======================================================================================================================================================\n",
      "==> WorkingNumber PD2506260038_B_010_20250723_1106_12112_1\n",
      "==> Search Closest Trained Setting from Dictionary\n",
      "==> Setting Based Prediction\n"
     ]
    },
    {
     "name": "stderr",
     "output_type": "stream",
     "text": [
      "Predicting:  34%|██████████████████████▉                                             | 169/500 [00:31<00:42,  7.81it/s]"
     ]
    },
    {
     "name": "stdout",
     "output_type": "stream",
     "text": [
      "==> model AE\n",
      "==> Maker=JSW_Facility=1103_ITEM=F-N1921-37540-A_setting=35\n",
      "==> mae_recon_loss 0.2988941138996826\n",
      "==> threshold 0.39947647717621143\n",
      "==> margin limit 0.10734738323668601\n",
      "==> prediction result : Normal\n",
      "======================================================================================================================================================\n",
      "==> WorkingNumber PD2506261066_B_010_20250723_1003_21644_1\n",
      "==> Setting Based Prediction\n",
      "==> model ISF\n",
      "==> Maker=LSM_Facility=1003_ITEM=W-J6921-24520-A_setting=335\n",
      "==> mae_recon_loss -0.2178423845280364\n",
      "==> threshold 0.07359565663013634\n",
      "==> margin limit 0.02\n",
      "==> prediction result : Normal\n",
      "======================================================================================================================================================\n",
      "==> WorkingNumber PD2506261065_B_010_20250723_1003_21644_1\n",
      "==> Setting Based Prediction\n",
      "==> model ISF\n",
      "==> Maker=LSM_Facility=1003_ITEM=W-J6921-24510-A_setting=335\n",
      "==> mae_recon_loss -0.2178423845280364\n",
      "==> threshold 0.07359565663013634\n",
      "==> margin limit 0.02\n",
      "==> prediction result : Normal\n",
      "======================================================================================================================================================\n",
      "==> WorkingNumber PD2506260694_B_010_20250723_1001_11319_4\n",
      "==> Search Closest Trained Setting from current Facility/ItemCode\n",
      "==> Setting Based Prediction\n"
     ]
    },
    {
     "name": "stderr",
     "output_type": "stream",
     "text": [
      "Predicting:  34%|███████████████████████                                             | 170/500 [00:31<00:48,  6.80it/s]"
     ]
    },
    {
     "name": "stdout",
     "output_type": "stream",
     "text": [
      "==> model AE\n",
      "==> Maker=LSM_Facility=1001_ITEM=F-G78194-A_setting=678\n",
      "==> mae_recon_loss 0.12353631779553463\n",
      "==> threshold 0.26238596174826107\n",
      "==> margin limit 0.09709865858239065\n",
      "==> prediction result : Normal\n",
      "======================================================================================================================================================\n",
      "==> WorkingNumber PD2506260001_B_010_20250723_M1006_240012_1\n",
      "==> Search Closest Trained Setting from Dictionary\n",
      "==> Setting Based Prediction\n"
     ]
    },
    {
     "name": "stderr",
     "output_type": "stream",
     "text": [
      "Predicting:  34%|███████████████████████▍                                            | 172/500 [00:31<00:54,  6.00it/s]"
     ]
    },
    {
     "name": "stdout",
     "output_type": "stream",
     "text": [
      "==> model memae\n",
      "==> Maker=ENGEL_Facility=1015_ITEM=W-CG921-37220-A_setting=23\n",
      "==> mae_recon_loss 0.28251446748618037\n",
      "==> threshold 0.4998211472170365\n",
      "==> margin limit 0.1273695875277573\n",
      "==> prediction result : Normal\n",
      "======================================================================================================================================================\n",
      "==> WorkingNumber PD2506260011_B_010_20250723_1015_668673_4\n",
      "==> Search Closest Trained Setting from current Facility/ItemCode\n",
      "==> Setting Based Prediction\n",
      "==> model AE\n",
      "==> Maker=ENGEL_Facility=1015_ITEM=W-CG921-37220-A_setting=93\n",
      "==> mae_recon_loss 0.22793079375587147\n",
      "==> threshold 0.1854550187765752\n",
      "==> margin limit 0.050675550752368195\n",
      "==> prediction result : Normal\n",
      "======================================================================================================================================================\n",
      "==> WorkingNumber PD2506261225_B_010_20250723_2008_14024_1\n",
      "==> Search Closest Trained Setting from Dictionary\n",
      "==> Setting Based Prediction\n"
     ]
    },
    {
     "name": "stderr",
     "output_type": "stream",
     "text": [
      "Predicting:  35%|███████████████████████▋                                            | 174/500 [00:32<01:05,  5.00it/s]"
     ]
    },
    {
     "name": "stdout",
     "output_type": "stream",
     "text": [
      "==> model AE\n",
      "==> Maker=LSM_Facility=2008_ITEM=W-L2921-22560-A_setting=179\n",
      "==> mae_recon_loss 0.1316890105081372\n",
      "==> threshold 0.20216430411027092\n",
      "==> margin limit 0.13326430013026083\n",
      "==> prediction result : Normal\n",
      "======================================================================================================================================================\n",
      "==> WorkingNumber PD2506261226_B_010_20250723_2008_14024_1\n",
      "==> Search Closest Trained Setting from Dictionary\n",
      "==> Setting Based Prediction\n",
      "==> model AE\n",
      "==> Maker=LSM_Facility=2008_ITEM=W-L2921-22560-A_setting=179\n",
      "==> mae_recon_loss 0.1316890105081372\n",
      "==> threshold 0.20364244793328296\n",
      "==> margin limit 0.1342219488587477\n",
      "==> prediction result : Normal\n",
      "======================================================================================================================================================\n"
     ]
    },
    {
     "name": "stderr",
     "output_type": "stream",
     "text": [
      "Predicting:  35%|███████████████████████▊                                            | 175/500 [00:32<01:05,  4.97it/s]"
     ]
    },
    {
     "name": "stdout",
     "output_type": "stream",
     "text": [
      "==> WorkingNumber PD2506261228_B_010_20250723_2008_14024_1\n",
      "==> Search Closest Trained Setting from Dictionary\n",
      "==> Setting Based Prediction\n",
      "==> model AE\n",
      "==> Maker=LSM_Facility=2008_ITEM=W-L2921-22560-A_setting=179\n",
      "==> mae_recon_loss 0.1316890105081372\n",
      "==> threshold 0.2040186188197942\n",
      "==> margin limit 0.13383813095223604\n",
      "==> prediction result : Normal\n",
      "======================================================================================================================================================\n",
      "==> WorkingNumber PD2506261227_B_010_20250723_2008_14024_1\n",
      "==> Search Closest Trained Setting from Dictionary\n"
     ]
    },
    {
     "name": "stderr",
     "output_type": "stream",
     "text": [
      "Predicting:  35%|███████████████████████▉                                            | 176/500 [00:32<01:05,  4.94it/s]"
     ]
    },
    {
     "name": "stdout",
     "output_type": "stream",
     "text": [
      "==> Setting Based Prediction\n",
      "==> model AE\n",
      "==> Maker=LSM_Facility=2008_ITEM=W-L2921-22560-A_setting=179\n",
      "==> mae_recon_loss 0.1316890105081372\n",
      "==> threshold 0.20622171765819577\n",
      "==> margin limit 0.13336743147721838\n",
      "==> prediction result : Normal\n",
      "======================================================================================================================================================\n",
      "==> WorkingNumber PD2506260001_B_010_20250723_M1006__1\n",
      "==> Search Closest Trained Setting from Dictionary\n",
      "==> Setting Based Prediction\n"
     ]
    },
    {
     "name": "stderr",
     "output_type": "stream",
     "text": [
      "Predicting:  36%|████████████████████████▏                                           | 178/500 [00:32<01:05,  4.94it/s]"
     ]
    },
    {
     "name": "stdout",
     "output_type": "stream",
     "text": [
      "==> model AE\n",
      "==> Maker=ENGEL_Facility=1015_ITEM=W-CG921-37220-A_setting=93\n",
      "==> mae_recon_loss 0.23113517860619556\n",
      "==> threshold 0.18523468028565537\n",
      "==> margin limit 0.05345340689926095\n",
      "==> prediction result : Normal\n",
      "======================================================================================================================================================\n",
      "==> WorkingNumber PD2506260013_B_010_20250723_2110_3263_1\n",
      "==> Search Closest Trained Setting from Dictionary\n",
      "==> Setting Based Prediction\n",
      "==> model AE\n",
      "==> Maker=JSW_Facility=2117_ITEM=F-CG921-37240-A_setting=96\n",
      "==> mae_recon_loss 0.45376392476990096\n",
      "==> threshold 0.38724391545299436\n",
      "==> margin limit 0.04994180613080318\n",
      "==> prediction result : Fault\n",
      "======================================================================================================================================================\n"
     ]
    },
    {
     "name": "stderr",
     "output_type": "stream",
     "text": [
      "Predicting:  36%|████████████████████████▎                                           | 179/500 [00:33<01:05,  4.92it/s]"
     ]
    },
    {
     "name": "stdout",
     "output_type": "stream",
     "text": [
      "==> WorkingNumber PD2506260012_B_010_20250723_2110_3263_1\n",
      "==> Search Closest Trained Setting from Dictionary\n",
      "==> Setting Based Prediction\n",
      "==> model AE\n",
      "==> Maker=JSW_Facility=2117_ITEM=F-CG921-37240-A_setting=96\n",
      "==> mae_recon_loss 0.45376392476990096\n",
      "==> threshold 0.3864044225934605\n",
      "==> margin limit 0.04987953309821205\n",
      "==> prediction result : Fault\n",
      "======================================================================================================================================================\n"
     ]
    },
    {
     "name": "stderr",
     "output_type": "stream",
     "text": [
      "Predicting:  36%|████████████████████████▍                                           | 180/500 [00:33<00:59,  5.41it/s]"
     ]
    },
    {
     "name": "stdout",
     "output_type": "stream",
     "text": [
      "==> WorkingNumber PD2506260878_B_010_20250723_2005_54429_1\n",
      "==> Setting Based Prediction\n",
      "==> model AE\n",
      "==> Maker=LSM_Facility=2005_ITEM=W-T1921-22640-A_setting=760\n",
      "==> mae_recon_loss 0.040303182429482255\n",
      "==> threshold 0.3391687788869546\n",
      "==> margin limit 0.04\n",
      "==> prediction result : Normal\n",
      "======================================================================================================================================================\n",
      "==> WorkingNumber PD2506260877_B_010_20250723_2005_54429_1\n",
      "==> Setting Based Prediction\n"
     ]
    },
    {
     "name": "stderr",
     "output_type": "stream",
     "text": [
      "Predicting:  36%|████████████████████████▊                                           | 182/500 [00:33<00:51,  6.18it/s]"
     ]
    },
    {
     "name": "stdout",
     "output_type": "stream",
     "text": [
      "==> model AE\n",
      "==> Maker=LSM_Facility=2005_ITEM=W-T1921-22630-A_setting=760\n",
      "==> mae_recon_loss 0.040303182429482255\n",
      "==> threshold 0.3391687788869546\n",
      "==> margin limit 0.04\n",
      "==> prediction result : Normal\n",
      "======================================================================================================================================================\n",
      "==> WorkingNumber PD2506260135_B_010_20250723_2002_32371_1\n",
      "==> Setting Based Prediction\n",
      "==> model AE\n",
      "==> Maker=LSM_Facility=2002_ITEM=EFM92-423020_setting=764\n",
      "==> mae_recon_loss 0.2647921508484547\n",
      "==> threshold 0.19118697839472298\n",
      "==> margin limit 0.04\n",
      "==> prediction result : Fault\n",
      "======================================================================================================================================================\n",
      "==> WorkingNumber PD2506260134_B_010_20250723_2002_32371_1\n",
      "==> Setting Based Prediction\n"
     ]
    },
    {
     "name": "stderr",
     "output_type": "stream",
     "text": [
      "Predicting:  37%|████████████████████████▉                                           | 183/500 [00:33<00:49,  6.36it/s]"
     ]
    },
    {
     "name": "stdout",
     "output_type": "stream",
     "text": [
      "==> model AE\n",
      "==> Maker=LSM_Facility=2002_ITEM=EFM92-423010_setting=764\n",
      "==> mae_recon_loss 0.2647921508484547\n",
      "==> threshold 0.19118697839472298\n",
      "==> margin limit 0.04\n",
      "==> prediction result : Fault\n",
      "======================================================================================================================================================\n",
      "==> WorkingNumber PD2506261255_B_010_20250723_2007_4066_1\n",
      "==> Setting Based Prediction\n"
     ]
    },
    {
     "name": "stderr",
     "output_type": "stream",
     "text": [
      "Predicting:  37%|█████████████████████████                                           | 184/500 [00:33<00:56,  5.59it/s]"
     ]
    },
    {
     "name": "stdout",
     "output_type": "stream",
     "text": [
      "==> model memae\n",
      "==> Maker=LSM_Facility=2007_ITEM=W-BE921-32040-A_setting=73\n",
      "==> mae_recon_loss 0.0334639909811292\n",
      "==> threshold 0.3329058739408617\n",
      "==> margin limit 0.03\n",
      "==> prediction result : Normal\n",
      "======================================================================================================================================================\n",
      "==> WorkingNumber PD2506261253_B_010_20250723_2007_4066_1\n",
      "==> Setting Based Prediction\n"
     ]
    },
    {
     "name": "stderr",
     "output_type": "stream",
     "text": [
      "Predicting:  37%|█████████████████████████▏                                          | 185/500 [00:34<01:01,  5.15it/s]"
     ]
    },
    {
     "name": "stdout",
     "output_type": "stream",
     "text": [
      "==> model memae\n",
      "==> Maker=LSM_Facility=2007_ITEM=W-BE921-32030-A_setting=73\n",
      "==> mae_recon_loss 0.0317810737387061\n",
      "==> threshold 0.2755943172080866\n",
      "==> margin limit 0.03\n",
      "==> prediction result : Normal\n",
      "======================================================================================================================================================\n",
      "==> WorkingNumber PD2506260035_B_010_20250723_1013_3701_1\n",
      "==> Search Closest Trained Setting from current Facility/ItemCode\n",
      "==> Setting Based Prediction\n"
     ]
    },
    {
     "name": "stderr",
     "output_type": "stream",
     "text": [
      "Predicting:  37%|█████████████████████████▎                                          | 186/500 [00:34<01:18,  4.01it/s]"
     ]
    },
    {
     "name": "stdout",
     "output_type": "stream",
     "text": [
      "==> model memae\n",
      "==> Maker=JSW_Facility=1013_ITEM=T1Z23-04010_setting=233\n",
      "==> mae_recon_loss 0.08159012324179674\n",
      "==> threshold 0.318307070171636\n",
      "==> margin limit 0.03578810388650778\n",
      "==> prediction result : Normal\n",
      "======================================================================================================================================================\n",
      "==> WorkingNumber PD2506260034_B_010_20250723_1013_3701_1\n",
      "==> Search Closest Trained Setting from current Facility/ItemCode\n",
      "==> Setting Based Prediction\n"
     ]
    },
    {
     "name": "stderr",
     "output_type": "stream",
     "text": [
      "Predicting:  38%|█████████████████████████▌                                          | 188/500 [00:34<01:07,  4.65it/s]"
     ]
    },
    {
     "name": "stdout",
     "output_type": "stream",
     "text": [
      "==> model memae\n",
      "==> Maker=JSW_Facility=1013_ITEM=T1Z23-03010_setting=233\n",
      "==> mae_recon_loss 0.08159012324179674\n",
      "==> threshold 0.3177216556436254\n",
      "==> margin limit 0.03635784206671733\n",
      "==> prediction result : Normal\n",
      "======================================================================================================================================================\n",
      "==> WorkingNumber PD2506260017_B_010_20250723_2027_15623_1\n",
      "==> Setting Based Prediction\n",
      "==> model AE\n",
      "==> Maker=JSW_Facility=2027_ITEM=T1Z23-03020_setting=197\n",
      "==> mae_recon_loss 0.1114656330153283\n",
      "==> threshold 0.1524310932170106\n",
      "==> margin limit 0.03\n",
      "==> prediction result : Normal\n",
      "======================================================================================================================================================\n",
      "==> WorkingNumber PD2506260018_B_010_20250723_2027_15623_1\n",
      "==> Setting Based Prediction\n"
     ]
    },
    {
     "name": "stderr",
     "output_type": "stream",
     "text": [
      "Predicting:  38%|█████████████████████████▋                                          | 189/500 [00:35<00:59,  5.24it/s]"
     ]
    },
    {
     "name": "stdout",
     "output_type": "stream",
     "text": [
      "==> model AE\n",
      "==> Maker=JSW_Facility=2027_ITEM=T1Z23-04020_setting=197\n",
      "==> mae_recon_loss 0.1114656330153283\n",
      "==> threshold 0.1524310932170106\n",
      "==> margin limit 0.03\n",
      "==> prediction result : Normal\n",
      "======================================================================================================================================================\n",
      "==> WorkingNumber PD2506260008_B_010_20250723_1101_35855_4\n",
      "==> Search Closest Trained Setting from current Facility/ItemCode\n",
      "==> Setting Based Prediction\n"
     ]
    },
    {
     "name": "stderr",
     "output_type": "stream",
     "text": [
      "Predicting:  38%|██████████████████████████                                          | 192/500 [00:35<00:49,  6.27it/s]"
     ]
    },
    {
     "name": "stdout",
     "output_type": "stream",
     "text": [
      "==> model memae\n",
      "==> Maker=JSW_Facility=1101_ITEM=W-BE921-37041-A_setting=24\n",
      "==> mae_recon_loss 0.11835774659355609\n",
      "==> threshold 0.3443483936726528\n",
      "==> margin limit 0.04883801760064744\n",
      "==> prediction result : Normal\n",
      "======================================================================================================================================================\n",
      "==> WorkingNumber PD2506261334_B_010_20250723_2115_12323_1\n",
      "==> Search Closest Trained Setting from Dictionary\n",
      "==> Setting Based Prediction\n",
      "==> model ISF\n",
      "==> Maker=JSW_Facility=1101_ITEM=W-BE921-37021-A_setting=474\n",
      "==> mae_recon_loss 0.14299919254642024\n",
      "==> threshold 0.12185114863681423\n",
      "==> margin limit 0.024863394163735692\n",
      "==> prediction result : Normal\n",
      "======================================================================================================================================================\n",
      "==> WorkingNumber PD2506261335_B_010_20250723_2115_12323_1\n",
      "==> Search Closest Trained Setting from Dictionary\n",
      "==> Setting Based Prediction\n",
      "==> model ISF\n",
      "==> Maker=JSW_Facility=1101_ITEM=W-BE921-37021-A_setting=474\n",
      "==> mae_recon_loss 0.14299919254642024\n",
      "==> threshold 0.11866687470549024\n",
      "==> margin limit 0.024741933692826693\n",
      "==> prediction result : Normal\n",
      "======================================================================================================================================================\n"
     ]
    },
    {
     "name": "stderr",
     "output_type": "stream",
     "text": [
      "Predicting:  39%|██████████████████████████▍                                         | 194/500 [00:35<00:41,  7.30it/s]"
     ]
    },
    {
     "name": "stdout",
     "output_type": "stream",
     "text": [
      "==> WorkingNumber PD2506260027_B_010_20250723_1102_6143_1\n",
      "==> Search Closest Trained Setting from Dictionary\n",
      "==> Setting Based Prediction\n",
      "==> model ISF\n",
      "==> Maker=JSW_Facility=1101_ITEM=W-BE921-37021-A_setting=474\n",
      "==> mae_recon_loss 0.12428855363178626\n",
      "==> threshold 0.12023138691804204\n",
      "==> margin limit 0.024433756710018663\n",
      "==> prediction result : Normal\n",
      "======================================================================================================================================================\n",
      "==> WorkingNumber PD2506261346_B_010_20250723_2113_26886_1\n",
      "==> Search Closest Trained Setting from Dictionary\n",
      "==> Setting Based Prediction\n",
      "==> model ISF\n",
      "==> Maker=JSW_Facility=1101_ITEM=W-BE921-37021-A_setting=474\n",
      "==> mae_recon_loss 0.10910033809665987\n",
      "==> threshold 0.11923977360615834\n",
      "==> margin limit 0.02472858206575957\n",
      "==> prediction result : Normal\n",
      "======================================================================================================================================================\n",
      "==> WorkingNumber PD2506261228_B_010_20250723_2008_14025_1\n",
      "==> Search Closest Trained Setting from Dictionary\n"
     ]
    },
    {
     "name": "stderr",
     "output_type": "stream",
     "text": [
      "Predicting:  39%|██████████████████████████▌                                         | 195/500 [00:35<00:47,  6.45it/s]"
     ]
    },
    {
     "name": "stdout",
     "output_type": "stream",
     "text": [
      "==> Setting Based Prediction\n",
      "==> model AE\n",
      "==> Maker=LSM_Facility=2008_ITEM=W-L2921-22560-A_setting=179\n",
      "==> mae_recon_loss 0.13353489153663728\n",
      "==> threshold 0.20519823659252034\n",
      "==> margin limit 0.13532378104614926\n",
      "==> prediction result : Normal\n",
      "======================================================================================================================================================\n",
      "==> WorkingNumber PD2506261227_B_010_20250723_2008_14025_1\n",
      "==> Search Closest Trained Setting from Dictionary\n",
      "==> Setting Based Prediction\n"
     ]
    },
    {
     "name": "stderr",
     "output_type": "stream",
     "text": [
      "Predicting:  39%|██████████████████████████▊                                         | 197/500 [00:36<00:53,  5.71it/s]"
     ]
    },
    {
     "name": "stdout",
     "output_type": "stream",
     "text": [
      "==> model AE\n",
      "==> Maker=LSM_Facility=2008_ITEM=W-L2921-22560-A_setting=179\n",
      "==> mae_recon_loss 0.13353489153663728\n",
      "==> threshold 0.2063290149480342\n",
      "==> margin limit 0.13329700878375836\n",
      "==> prediction result : Normal\n",
      "======================================================================================================================================================\n",
      "==> WorkingNumber PD2506261226_B_010_20250723_2008_14025_1\n",
      "==> Search Closest Trained Setting from Dictionary\n",
      "==> Setting Based Prediction\n",
      "==> model AE\n",
      "==> Maker=LSM_Facility=2008_ITEM=W-L2921-22560-A_setting=179\n",
      "==> mae_recon_loss 0.13353489153663728\n",
      "==> threshold 0.20373730686296818\n",
      "==> margin limit 0.13420453663840035\n",
      "==> prediction result : Normal\n",
      "======================================================================================================================================================\n"
     ]
    },
    {
     "name": "stderr",
     "output_type": "stream",
     "text": [
      "Predicting:  40%|██████████████████████████▉                                         | 198/500 [00:36<00:55,  5.45it/s]"
     ]
    },
    {
     "name": "stdout",
     "output_type": "stream",
     "text": [
      "==> WorkingNumber PD2506261225_B_010_20250723_2008_14025_1\n",
      "==> Search Closest Trained Setting from Dictionary\n",
      "==> Setting Based Prediction\n",
      "==> model AE\n",
      "==> Maker=LSM_Facility=2008_ITEM=W-L2921-22560-A_setting=179\n",
      "==> mae_recon_loss 0.13353489153663728\n",
      "==> threshold 0.20673533996918256\n",
      "==> margin limit 0.1341432692548423\n",
      "==> prediction result : Normal\n",
      "======================================================================================================================================================\n",
      "==> WorkingNumber PD2506260694_B_010_20250723_1001_11320_4\n",
      "==> Search Closest Trained Setting from current Facility/ItemCode\n"
     ]
    },
    {
     "name": "stderr",
     "output_type": "stream",
     "text": [
      "Predicting:  40%|███████████████████████████                                         | 199/500 [00:36<00:57,  5.26it/s]"
     ]
    },
    {
     "name": "stdout",
     "output_type": "stream",
     "text": [
      "==> Setting Based Prediction\n",
      "==> model AE\n",
      "==> Maker=LSM_Facility=1001_ITEM=F-G78194-A_setting=678\n",
      "==> mae_recon_loss 0.1327705914171982\n",
      "==> threshold 0.26429993295165477\n",
      "==> margin limit 0.0973941568298819\n",
      "==> prediction result : Normal\n",
      "======================================================================================================================================================\n",
      "==> WorkingNumber PD2506260011_B_010_20250723_1015_668674_4\n",
      "==> Search Closest Trained Setting from current Facility/ItemCode\n",
      "==> Setting Based Prediction\n"
     ]
    },
    {
     "name": "stderr",
     "output_type": "stream",
     "text": [
      "Predicting:  40%|███████████████████████████▎                                        | 201/500 [00:37<00:53,  5.59it/s]"
     ]
    },
    {
     "name": "stdout",
     "output_type": "stream",
     "text": [
      "==> model AE\n",
      "==> Maker=ENGEL_Facility=1015_ITEM=W-CG921-37220-A_setting=93\n",
      "==> mae_recon_loss 0.2219334244756167\n",
      "==> threshold 0.18392735721666303\n",
      "==> margin limit 0.04911813081248487\n",
      "==> prediction result : Normal\n",
      "======================================================================================================================================================\n",
      "==> WorkingNumber PD2506260878_B_010_20250723_2005_54430_1\n",
      "==> Setting Based Prediction\n",
      "==> model AE\n",
      "==> Maker=LSM_Facility=2005_ITEM=W-T1921-22640-A_setting=760\n",
      "==> mae_recon_loss 0.04607888300924605\n",
      "==> threshold 0.3391687788869546\n",
      "==> margin limit 0.04\n",
      "==> prediction result : Normal\n",
      "======================================================================================================================================================\n"
     ]
    },
    {
     "name": "stderr",
     "output_type": "stream",
     "text": [
      "Predicting:  40%|███████████████████████████▍                                        | 202/500 [00:37<00:59,  4.99it/s]"
     ]
    },
    {
     "name": "stdout",
     "output_type": "stream",
     "text": [
      "==> WorkingNumber PD2506260877_B_010_20250723_2005_54430_1\n",
      "==> Setting Based Prediction\n",
      "==> model AE\n",
      "==> Maker=LSM_Facility=2005_ITEM=W-T1921-22630-A_setting=760\n",
      "==> mae_recon_loss 0.04607888300924605\n",
      "==> threshold 0.3391687788869546\n",
      "==> margin limit 0.04\n",
      "==> prediction result : Normal\n",
      "======================================================================================================================================================\n",
      "==> WorkingNumber PD2506260135_B_010_20250723_2002_32372_1\n",
      "==> Setting Based Prediction\n"
     ]
    },
    {
     "name": "stderr",
     "output_type": "stream",
     "text": [
      "Predicting:  41%|███████████████████████████▋                                        | 204/500 [00:37<00:50,  5.81it/s]"
     ]
    },
    {
     "name": "stdout",
     "output_type": "stream",
     "text": [
      "==> model AE\n",
      "==> Maker=LSM_Facility=2002_ITEM=EFM92-423020_setting=764\n",
      "==> mae_recon_loss 0.26679875060243247\n",
      "==> threshold 0.19118697839472298\n",
      "==> margin limit 0.04\n",
      "==> prediction result : Fault\n",
      "======================================================================================================================================================\n",
      "==> WorkingNumber PD2506260134_B_010_20250723_2002_32372_1\n",
      "==> Setting Based Prediction\n",
      "==> model AE\n",
      "==> Maker=LSM_Facility=2002_ITEM=EFM92-423010_setting=764\n",
      "==> mae_recon_loss 0.26679875060243247\n",
      "==> threshold 0.19118697839472298\n",
      "==> margin limit 0.04\n",
      "==> prediction result : Fault\n",
      "======================================================================================================================================================\n",
      "==> WorkingNumber PD2506261065_B_010_20250723_1003_21645_1\n",
      "==> Setting Based Prediction\n"
     ]
    },
    {
     "name": "stderr",
     "output_type": "stream",
     "text": [
      "Predicting:  41%|████████████████████████████                                        | 206/500 [00:37<00:35,  8.33it/s]"
     ]
    },
    {
     "name": "stdout",
     "output_type": "stream",
     "text": [
      "==> model ISF\n",
      "==> Maker=LSM_Facility=1003_ITEM=W-J6921-24510-A_setting=335\n",
      "==> mae_recon_loss -0.22261487988890472\n",
      "==> threshold 0.07359565663013634\n",
      "==> margin limit 0.02\n",
      "==> prediction result : Normal\n",
      "======================================================================================================================================================\n",
      "==> WorkingNumber PD2506261066_B_010_20250723_1003_21645_1\n",
      "==> Setting Based Prediction\n",
      "==> model ISF\n",
      "==> Maker=LSM_Facility=1003_ITEM=W-J6921-24520-A_setting=335\n",
      "==> mae_recon_loss -0.22261487988890472\n",
      "==> threshold 0.07359565663013634\n",
      "==> margin limit 0.02\n",
      "==> prediction result : Normal\n",
      "======================================================================================================================================================\n",
      "==> WorkingNumber PD2506261255_B_010_20250723_2007_4067_1\n",
      "==> Setting Based Prediction\n"
     ]
    },
    {
     "name": "stderr",
     "output_type": "stream",
     "text": [
      "Predicting:  41%|████████████████████████████▏                                       | 207/500 [00:38<00:43,  6.72it/s]"
     ]
    },
    {
     "name": "stdout",
     "output_type": "stream",
     "text": [
      "==> model memae\n",
      "==> Maker=LSM_Facility=2007_ITEM=W-BE921-32040-A_setting=73\n",
      "==> mae_recon_loss 0.03229832346913604\n",
      "==> threshold 0.3329058739408617\n",
      "==> margin limit 0.03\n",
      "==> prediction result : Normal\n",
      "======================================================================================================================================================\n",
      "==> WorkingNumber PD2506261253_B_010_20250723_2007_4067_1\n",
      "==> Setting Based Prediction\n"
     ]
    },
    {
     "name": "stderr",
     "output_type": "stream",
     "text": [
      "Predicting:  42%|████████████████████████████▎                                       | 208/500 [00:38<00:49,  5.84it/s]"
     ]
    },
    {
     "name": "stdout",
     "output_type": "stream",
     "text": [
      "==> model memae\n",
      "==> Maker=LSM_Facility=2007_ITEM=W-BE921-32030-A_setting=73\n",
      "==> mae_recon_loss 0.030871908979218158\n",
      "==> threshold 0.2755943172080866\n",
      "==> margin limit 0.03\n",
      "==> prediction result : Normal\n",
      "======================================================================================================================================================\n",
      "==> WorkingNumber PD2506260035_B_010_20250723_1013_3702_1\n",
      "==> Search Closest Trained Setting from current Facility/ItemCode\n",
      "==> Setting Based Prediction\n"
     ]
    },
    {
     "name": "stderr",
     "output_type": "stream",
     "text": [
      "Predicting:  42%|████████████████████████████▍                                       | 209/500 [00:38<00:56,  5.11it/s]"
     ]
    },
    {
     "name": "stdout",
     "output_type": "stream",
     "text": [
      "==> model memae\n",
      "==> Maker=JSW_Facility=1013_ITEM=T1Z23-04010_setting=233\n",
      "==> mae_recon_loss 0.09016391665446702\n",
      "==> threshold 0.31496373944544215\n",
      "==> margin limit 0.03614166644711005\n",
      "==> prediction result : Normal\n",
      "======================================================================================================================================================\n",
      "==> WorkingNumber PD2506260034_B_010_20250723_1013_3702_1\n",
      "==> Search Closest Trained Setting from current Facility/ItemCode\n",
      "==> Setting Based Prediction\n"
     ]
    },
    {
     "name": "stderr",
     "output_type": "stream",
     "text": [
      "Predicting:  42%|████████████████████████████▋                                       | 211/500 [00:38<00:53,  5.36it/s]"
     ]
    },
    {
     "name": "stdout",
     "output_type": "stream",
     "text": [
      "==> model memae\n",
      "==> Maker=JSW_Facility=1013_ITEM=T1Z23-03010_setting=233\n",
      "==> mae_recon_loss 0.09016391665446702\n",
      "==> threshold 0.3181978900568507\n",
      "==> margin limit 0.035388630063138096\n",
      "==> prediction result : Normal\n",
      "======================================================================================================================================================\n",
      "==> WorkingNumber PD2506260031_B_010_20250723_1012_3301_4\n",
      "==> Setting Based Prediction\n",
      "==> model AE\n",
      "==> Maker=JSW_Facility=1012_ITEM=F-N1921-37520-A_setting=242\n",
      "==> mae_recon_loss 0.10518770249397698\n",
      "==> threshold 0.2137330775032018\n",
      "==> margin limit 0.03\n",
      "==> prediction result : Normal\n",
      "======================================================================================================================================================\n",
      "==> WorkingNumber PD2506260030_B_010_20250723_1012_3301_4\n",
      "==> Setting Based Prediction\n"
     ]
    },
    {
     "name": "stderr",
     "output_type": "stream",
     "text": [
      "Predicting:  42%|████████████████████████████▊                                       | 212/500 [00:39<00:49,  5.76it/s]"
     ]
    },
    {
     "name": "stdout",
     "output_type": "stream",
     "text": [
      "==> model AE\n",
      "==> Maker=JSW_Facility=1012_ITEM=F-N1921-37510-A_setting=242\n",
      "==> mae_recon_loss 0.10667619235105218\n",
      "==> threshold 0.21577117784742858\n",
      "==> margin limit 0.03\n",
      "==> prediction result : Normal\n",
      "======================================================================================================================================================\n",
      "==> WorkingNumber PD2506260039_B_010_20250723_1106_12113_1\n",
      "==> Search Closest Trained Setting from Dictionary\n",
      "==> Setting Based Prediction\n"
     ]
    },
    {
     "name": "stderr",
     "output_type": "stream",
     "text": [
      "Predicting:  43%|████████████████████████████▉                                       | 213/500 [00:39<00:55,  5.15it/s]"
     ]
    },
    {
     "name": "stdout",
     "output_type": "stream",
     "text": [
      "==> model memae\n",
      "==> Maker=JSW_Facility=1012_ITEM=F-N1921-37520-A_setting=306\n",
      "==> mae_recon_loss 0.46516062920497925\n",
      "==> threshold 0.32280161749870484\n",
      "==> margin limit 0.03796185773708648\n",
      "==> prediction result : Fault\n",
      "======================================================================================================================================================\n",
      "==> WorkingNumber PD2506260038_B_010_20250723_1106_12113_1\n",
      "==> Search Closest Trained Setting from Dictionary\n",
      "==> Setting Based Prediction\n"
     ]
    },
    {
     "name": "stderr",
     "output_type": "stream",
     "text": [
      "Predicting:  43%|█████████████████████████████                                       | 214/500 [00:39<00:58,  4.88it/s]"
     ]
    },
    {
     "name": "stdout",
     "output_type": "stream",
     "text": [
      "==> model memae\n",
      "==> Maker=JSW_Facility=1012_ITEM=F-N1921-37520-A_setting=306\n",
      "==> mae_recon_loss 0.46516062920497925\n",
      "==> threshold 0.32072677813554606\n",
      "==> margin limit 0.037495103570338535\n",
      "==> prediction result : Fault\n",
      "======================================================================================================================================================\n",
      "==> WorkingNumber PD2506261335_B_010_20250723_2115_12324_1\n",
      "==> Search Closest Trained Setting from Dictionary\n",
      "==> Setting Based Prediction\n"
     ]
    },
    {
     "name": "stderr",
     "output_type": "stream",
     "text": [
      "Predicting:  43%|█████████████████████████████▏                                      | 215/500 [00:39<01:00,  4.75it/s]"
     ]
    },
    {
     "name": "stdout",
     "output_type": "stream",
     "text": [
      "==> model memae\n",
      "==> Maker=JSW_Facility=1012_ITEM=F-N1921-37520-A_setting=306\n",
      "==> mae_recon_loss 0.48597098363764535\n",
      "==> threshold 0.3228236338356533\n",
      "==> margin limit 0.037610080048228606\n",
      "==> prediction result : Fault\n",
      "======================================================================================================================================================\n",
      "==> WorkingNumber PD2506261334_B_010_20250723_2115_12324_1\n",
      "==> Search Closest Trained Setting from Dictionary\n",
      "==> Setting Based Prediction\n"
     ]
    },
    {
     "name": "stderr",
     "output_type": "stream",
     "text": [
      "Predicting:  43%|█████████████████████████████▌                                      | 217/500 [00:40<01:01,  4.57it/s]"
     ]
    },
    {
     "name": "stdout",
     "output_type": "stream",
     "text": [
      "==> model memae\n",
      "==> Maker=JSW_Facility=1012_ITEM=F-N1921-37520-A_setting=306\n",
      "==> mae_recon_loss 0.48597098363764535\n",
      "==> threshold 0.3205891697851277\n",
      "==> margin limit 0.03723761664206831\n",
      "==> prediction result : Fault\n",
      "======================================================================================================================================================\n",
      "==> WorkingNumber PD2506260018_B_010_20250723_2027_15624_1\n",
      "==> Setting Based Prediction\n",
      "==> model AE\n",
      "==> Maker=JSW_Facility=2027_ITEM=T1Z23-04020_setting=197\n",
      "==> mae_recon_loss 0.15573341000128954\n",
      "==> threshold 0.1524310932170106\n",
      "==> margin limit 0.03\n",
      "==> prediction result : Normal\n",
      "======================================================================================================================================================\n",
      "==> WorkingNumber PD2506260017_B_010_20250723_2027_15624_1\n",
      "==> Setting Based Prediction\n"
     ]
    },
    {
     "name": "stderr",
     "output_type": "stream",
     "text": [
      "Predicting:  44%|█████████████████████████████▊                                      | 219/500 [00:40<00:55,  5.09it/s]"
     ]
    },
    {
     "name": "stdout",
     "output_type": "stream",
     "text": [
      "==> model AE\n",
      "==> Maker=JSW_Facility=2027_ITEM=T1Z23-03020_setting=197\n",
      "==> mae_recon_loss 0.15573341000128954\n",
      "==> threshold 0.1524310932170106\n",
      "==> margin limit 0.03\n",
      "==> prediction result : Normal\n",
      "======================================================================================================================================================\n",
      "==> WorkingNumber PD2506261225_B_010_20250723_2008_14026_1\n",
      "==> Search Closest Trained Setting from Dictionary\n",
      "==> Setting Based Prediction\n",
      "==> model AE\n",
      "==> Maker=LSM_Facility=2008_ITEM=W-L2921-22560-A_setting=179\n",
      "==> mae_recon_loss 0.13369029036582922\n",
      "==> threshold 0.20498401681402123\n",
      "==> margin limit 0.13397561243134634\n",
      "==> prediction result : Normal\n",
      "======================================================================================================================================================\n"
     ]
    },
    {
     "name": "stderr",
     "output_type": "stream",
     "text": [
      "Predicting:  44%|█████████████████████████████▉                                      | 220/500 [00:40<00:55,  5.04it/s]"
     ]
    },
    {
     "name": "stdout",
     "output_type": "stream",
     "text": [
      "==> WorkingNumber PD2506261226_B_010_20250723_2008_14026_1\n",
      "==> Search Closest Trained Setting from Dictionary\n",
      "==> Setting Based Prediction\n",
      "==> model AE\n",
      "==> Maker=LSM_Facility=2008_ITEM=W-L2921-22560-A_setting=179\n",
      "==> mae_recon_loss 0.13369029036582922\n",
      "==> threshold 0.2061305935137612\n",
      "==> margin limit 0.13366922416102597\n",
      "==> prediction result : Normal\n",
      "======================================================================================================================================================\n",
      "==> WorkingNumber PD2506261228_B_010_20250723_2008_14026_1\n",
      "==> Search Closest Trained Setting from Dictionary\n"
     ]
    },
    {
     "name": "stderr",
     "output_type": "stream",
     "text": [
      "Predicting:  44%|██████████████████████████████                                      | 221/500 [00:40<00:55,  5.00it/s]"
     ]
    },
    {
     "name": "stdout",
     "output_type": "stream",
     "text": [
      "==> Setting Based Prediction\n",
      "==> model AE\n",
      "==> Maker=LSM_Facility=2008_ITEM=W-L2921-22560-A_setting=179\n",
      "==> mae_recon_loss 0.13369029036582922\n",
      "==> threshold 0.20324014894363668\n",
      "==> margin limit 0.1339236597181195\n",
      "==> prediction result : Normal\n",
      "======================================================================================================================================================\n",
      "==> WorkingNumber PD2506261227_B_010_20250723_2008_14026_1\n",
      "==> Search Closest Trained Setting from Dictionary\n",
      "==> Setting Based Prediction\n"
     ]
    },
    {
     "name": "stderr",
     "output_type": "stream",
     "text": [
      "Predicting:  44%|██████████████████████████████▏                                     | 222/500 [00:41<00:56,  4.96it/s]"
     ]
    },
    {
     "name": "stdout",
     "output_type": "stream",
     "text": [
      "==> model AE\n",
      "==> Maker=LSM_Facility=2008_ITEM=W-L2921-22560-A_setting=179\n",
      "==> mae_recon_loss 0.13369029036582922\n",
      "==> threshold 0.20279231068605397\n",
      "==> margin limit 0.133832868268819\n",
      "==> prediction result : Normal\n",
      "======================================================================================================================================================\n",
      "==> WorkingNumber PD2506260008_B_010_20250723_1101_35856_4\n",
      "==> Search Closest Trained Setting from current Facility/ItemCode\n",
      "==> Setting Based Prediction\n"
     ]
    },
    {
     "name": "stderr",
     "output_type": "stream",
     "text": [
      "Predicting:  45%|██████████████████████████████▎                                     | 223/500 [00:41<00:58,  4.77it/s]"
     ]
    },
    {
     "name": "stdout",
     "output_type": "stream",
     "text": [
      "==> model memae\n",
      "==> Maker=JSW_Facility=1101_ITEM=W-BE921-37041-A_setting=24\n",
      "==> mae_recon_loss 0.11512065376654178\n",
      "==> threshold 0.3442375946396948\n",
      "==> margin limit 0.04926530177428125\n",
      "==> prediction result : Normal\n",
      "======================================================================================================================================================\n",
      "==> WorkingNumber PD2506260010_B_010_20250723_1104_7221_8\n",
      "==> Search Closest Trained Setting from current Facility/ItemCode\n",
      "==> Setting Based Prediction\n",
      "==> model ISF\n",
      "==> Maker=JSW_Facility=1104_ITEM=F-CG921-37220-A_setting=1061\n",
      "==> mae_recon_loss 0.10212681059119022\n",
      "==> threshold 0.08568718354454342\n",
      "==> margin limit 0.026440581290529525\n",
      "==> prediction result : Normal\n",
      "======================================================================================================================================================\n",
      "==> WorkingNumber PD2506260878_B_010_20250723_2005_54431_1\n",
      "==> Setting Based Prediction\n"
     ]
    },
    {
     "name": "stderr",
     "output_type": "stream",
     "text": [
      "Predicting:  45%|██████████████████████████████▋                                     | 226/500 [00:41<00:45,  6.07it/s]"
     ]
    },
    {
     "name": "stdout",
     "output_type": "stream",
     "text": [
      "==> model AE\n",
      "==> Maker=LSM_Facility=2005_ITEM=W-T1921-22640-A_setting=760\n",
      "==> mae_recon_loss 0.041572434096164894\n",
      "==> threshold 0.3391687788869546\n",
      "==> margin limit 0.04\n",
      "==> prediction result : Normal\n",
      "======================================================================================================================================================\n",
      "==> WorkingNumber PD2506260877_B_010_20250723_2005_54431_1\n",
      "==> Setting Based Prediction\n",
      "==> model AE\n",
      "==> Maker=LSM_Facility=2005_ITEM=W-T1921-22630-A_setting=760\n",
      "==> mae_recon_loss 0.041572434096164894\n",
      "==> threshold 0.3391687788869546\n",
      "==> margin limit 0.04\n",
      "==> prediction result : Normal\n",
      "======================================================================================================================================================\n",
      "==> WorkingNumber PD2506260694_B_010_20250723_1001_11321_4\n",
      "==> Search Closest Trained Setting from current Facility/ItemCode\n",
      "==> Setting Based Prediction\n"
     ]
    },
    {
     "name": "stderr",
     "output_type": "stream",
     "text": [
      "Predicting:  45%|██████████████████████████████▊                                     | 227/500 [00:42<00:47,  5.73it/s]"
     ]
    },
    {
     "name": "stdout",
     "output_type": "stream",
     "text": [
      "==> model AE\n",
      "==> Maker=LSM_Facility=1001_ITEM=F-G78194-A_setting=678\n",
      "==> mae_recon_loss 0.12049566953572043\n",
      "==> threshold 0.261515840907912\n",
      "==> margin limit 0.09648818364229816\n",
      "==> prediction result : Normal\n",
      "======================================================================================================================================================\n",
      "==> WorkingNumber PD2506260014_B_010_20250723_2117_6454_8\n",
      "==> Search Closest Trained Setting from current Facility/ItemCode\n",
      "==> Setting Based Prediction\n",
      "==> model ISF\n",
      "==> Maker=JSW_Facility=2117_ITEM=F-CG921-37240-A_setting=140\n",
      "==> mae_recon_loss -0.017678528320153597\n",
      "==> threshold 0.10789486926003558\n",
      "==> margin limit 0.030289736255597083\n",
      "==> prediction result : Normal\n",
      "======================================================================================================================================================\n",
      "==> WorkingNumber PD2506260011_B_010_20250723_1015_668675_4\n",
      "==> Search Closest Trained Setting from current Facility/ItemCode\n",
      "==> Setting Based Prediction\n"
     ]
    },
    {
     "name": "stderr",
     "output_type": "stream",
     "text": [
      "Predicting:  46%|███████████████████████████████▎                                    | 230/500 [00:42<00:46,  5.86it/s]"
     ]
    },
    {
     "name": "stdout",
     "output_type": "stream",
     "text": [
      "==> model AE\n",
      "==> Maker=ENGEL_Facility=1015_ITEM=W-CG921-37220-A_setting=93\n",
      "==> mae_recon_loss 0.2186912082984075\n",
      "==> threshold 0.18507160831834532\n",
      "==> margin limit 0.05163882248423608\n",
      "==> prediction result : Normal\n",
      "======================================================================================================================================================\n",
      "==> WorkingNumber PD2506260135_B_010_20250723_2002_32373_1\n",
      "==> Setting Based Prediction\n",
      "==> model AE\n",
      "==> Maker=LSM_Facility=2002_ITEM=EFM92-423020_setting=764\n",
      "==> mae_recon_loss 0.2653040101937758\n",
      "==> threshold 0.19118697839472298\n",
      "==> margin limit 0.04\n",
      "==> prediction result : Fault\n",
      "======================================================================================================================================================\n",
      "==> WorkingNumber PD2506260134_B_010_20250723_2002_32373_1\n",
      "==> Setting Based Prediction\n"
     ]
    },
    {
     "name": "stderr",
     "output_type": "stream",
     "text": [
      "Predicting:  46%|███████████████████████████████▌                                    | 232/500 [00:42<00:45,  5.83it/s]"
     ]
    },
    {
     "name": "stdout",
     "output_type": "stream",
     "text": [
      "==> model AE\n",
      "==> Maker=LSM_Facility=2002_ITEM=EFM92-423010_setting=764\n",
      "==> mae_recon_loss 0.2653040101937758\n",
      "==> threshold 0.19118697839472298\n",
      "==> margin limit 0.04\n",
      "==> prediction result : Fault\n",
      "======================================================================================================================================================\n",
      "==> WorkingNumber PD2506260021_B_010_20250723_1103_5158_4\n",
      "==> Search Closest Trained Setting from Dictionary\n",
      "==> Setting Based Prediction\n",
      "==> model AE\n",
      "==> Maker=JSW_Facility=1104_ITEM=P2921-37000_setting=125\n",
      "==> mae_recon_loss 0.17638799061808355\n",
      "==> threshold 0.28573509476845244\n",
      "==> margin limit 0.06086911012521273\n",
      "==> prediction result : Normal\n",
      "======================================================================================================================================================\n"
     ]
    },
    {
     "name": "stderr",
     "output_type": "stream",
     "text": [
      "Predicting:  47%|███████████████████████████████▋                                    | 233/500 [00:43<00:50,  5.34it/s]"
     ]
    },
    {
     "name": "stdout",
     "output_type": "stream",
     "text": [
      "==> WorkingNumber PD2506261255_B_010_20250723_2007_4068_1\n",
      "==> Setting Based Prediction\n",
      "==> model memae\n",
      "==> Maker=LSM_Facility=2007_ITEM=W-BE921-32040-A_setting=73\n",
      "==> mae_recon_loss 0.03525386109651876\n",
      "==> threshold 0.3329058739408617\n",
      "==> margin limit 0.03\n",
      "==> prediction result : Normal\n",
      "======================================================================================================================================================\n",
      "==> WorkingNumber PD2506261253_B_010_20250723_2007_4068_1\n",
      "==> Setting Based Prediction\n"
     ]
    },
    {
     "name": "stderr",
     "output_type": "stream",
     "text": [
      "Predicting:  47%|███████████████████████████████▉                                    | 235/500 [00:43<00:53,  5.00it/s]"
     ]
    },
    {
     "name": "stdout",
     "output_type": "stream",
     "text": [
      "==> model memae\n",
      "==> Maker=LSM_Facility=2007_ITEM=W-BE921-32030-A_setting=73\n",
      "==> mae_recon_loss 0.03375340946943017\n",
      "==> threshold 0.2755943172080866\n",
      "==> margin limit 0.03\n",
      "==> prediction result : Normal\n",
      "======================================================================================================================================================\n",
      "==> WorkingNumber PD2506261225_B_010_20250723_2008_14027_1\n",
      "==> Search Closest Trained Setting from Dictionary\n",
      "==> Setting Based Prediction\n",
      "==> model AE\n",
      "==> Maker=LSM_Facility=2008_ITEM=W-L2921-22560-A_setting=179\n",
      "==> mae_recon_loss 0.13369029036582922\n",
      "==> threshold 0.20251946299741136\n",
      "==> margin limit 0.1330737421063228\n",
      "==> prediction result : Normal\n",
      "======================================================================================================================================================\n"
     ]
    },
    {
     "name": "stderr",
     "output_type": "stream",
     "text": [
      "Predicting:  47%|████████████████████████████████                                    | 236/500 [00:43<00:53,  4.95it/s]"
     ]
    },
    {
     "name": "stdout",
     "output_type": "stream",
     "text": [
      "==> WorkingNumber PD2506261226_B_010_20250723_2008_14027_1\n",
      "==> Search Closest Trained Setting from Dictionary\n",
      "==> Setting Based Prediction\n",
      "==> model AE\n",
      "==> Maker=LSM_Facility=2008_ITEM=W-L2921-22560-A_setting=179\n",
      "==> mae_recon_loss 0.13369029036582922\n",
      "==> threshold 0.20426659378515086\n",
      "==> margin limit 0.13394013664799945\n",
      "==> prediction result : Normal\n",
      "======================================================================================================================================================\n"
     ]
    },
    {
     "name": "stderr",
     "output_type": "stream",
     "text": [
      "Predicting:  47%|████████████████████████████████▏                                   | 237/500 [00:43<00:51,  5.08it/s]"
     ]
    },
    {
     "name": "stdout",
     "output_type": "stream",
     "text": [
      "==> WorkingNumber PD2506261228_B_010_20250723_2008_14027_1\n",
      "==> Search Closest Trained Setting from Dictionary\n",
      "==> Setting Based Prediction\n",
      "==> model AE\n",
      "==> Maker=LSM_Facility=2008_ITEM=W-L2921-22560-A_setting=179\n",
      "==> mae_recon_loss 0.13369029036582922\n",
      "==> threshold 0.20205678521932197\n",
      "==> margin limit 0.13391751305585084\n",
      "==> prediction result : Normal\n",
      "======================================================================================================================================================\n",
      "==> WorkingNumber PD2506261227_B_010_20250723_2008_14027_1\n",
      "==> Search Closest Trained Setting from Dictionary\n"
     ]
    },
    {
     "name": "stderr",
     "output_type": "stream",
     "text": [
      "Predicting:  48%|████████████████████████████████▎                                   | 238/500 [00:44<00:52,  5.01it/s]"
     ]
    },
    {
     "name": "stdout",
     "output_type": "stream",
     "text": [
      "==> Setting Based Prediction\n",
      "==> model AE\n",
      "==> Maker=LSM_Facility=2008_ITEM=W-L2921-22560-A_setting=179\n",
      "==> mae_recon_loss 0.13369029036582922\n",
      "==> threshold 0.20329605403144876\n",
      "==> margin limit 0.13319681941191577\n",
      "==> prediction result : Normal\n",
      "======================================================================================================================================================\n",
      "==> WorkingNumber PD2506260035_B_010_20250723_1013_3703_1\n",
      "==> Search Closest Trained Setting from current Facility/ItemCode\n",
      "==> Setting Based Prediction\n"
     ]
    },
    {
     "name": "stderr",
     "output_type": "stream",
     "text": [
      "Predicting:  48%|████████████████████████████████▌                                   | 239/500 [00:44<00:56,  4.64it/s]"
     ]
    },
    {
     "name": "stdout",
     "output_type": "stream",
     "text": [
      "==> model memae\n",
      "==> Maker=JSW_Facility=1013_ITEM=T1Z23-04010_setting=233\n",
      "==> mae_recon_loss 0.0887055848036038\n",
      "==> threshold 0.3180966706257159\n",
      "==> margin limit 0.03559723228841312\n",
      "==> prediction result : Normal\n",
      "======================================================================================================================================================\n",
      "==> WorkingNumber PD2506260034_B_010_20250723_1013_3703_1\n",
      "==> Search Closest Trained Setting from current Facility/ItemCode\n",
      "==> Setting Based Prediction\n"
     ]
    },
    {
     "name": "stderr",
     "output_type": "stream",
     "text": [
      "Predicting:  48%|████████████████████████████████▋                                   | 240/500 [00:44<00:59,  4.34it/s]"
     ]
    },
    {
     "name": "stdout",
     "output_type": "stream",
     "text": [
      "==> model memae\n",
      "==> Maker=JSW_Facility=1013_ITEM=T1Z23-03010_setting=233\n",
      "==> mae_recon_loss 0.0887055848036038\n",
      "==> threshold 0.31557228766460216\n",
      "==> margin limit 0.03553631938901821\n",
      "==> prediction result : Normal\n",
      "======================================================================================================================================================\n",
      "==> WorkingNumber PD2506260001_B_010_20250723_M1006_240013_1\n",
      "==> Search Closest Trained Setting from Dictionary\n",
      "==> Setting Based Prediction\n"
     ]
    },
    {
     "name": "stderr",
     "output_type": "stream",
     "text": [
      "Predicting:  48%|████████████████████████████████▊                                   | 241/500 [00:44<01:00,  4.28it/s]"
     ]
    },
    {
     "name": "stdout",
     "output_type": "stream",
     "text": [
      "==> model memae\n",
      "==> Maker=ENGEL_Facility=1015_ITEM=W-CG921-37220-A_setting=23\n",
      "==> mae_recon_loss 0.28251446748618037\n",
      "==> threshold 0.4855038335506964\n",
      "==> margin limit 0.134235211451342\n",
      "==> prediction result : Normal\n",
      "======================================================================================================================================================\n",
      "==> WorkingNumber PD2506261335_B_010_20250723_2115_12325_1\n",
      "==> Search Closest Trained Setting from Dictionary\n",
      "==> Setting Based Prediction\n"
     ]
    },
    {
     "name": "stderr",
     "output_type": "stream",
     "text": [
      "Predicting:  48%|████████████████████████████████▉                                   | 242/500 [00:45<01:10,  3.66it/s]"
     ]
    },
    {
     "name": "stdout",
     "output_type": "stream",
     "text": [
      "==> model memae\n",
      "==> Maker=JSW_Facility=1013_ITEM=T1Z23-04010_setting=233\n",
      "==> mae_recon_loss 0.49719713854596714\n",
      "==> threshold 0.30647059214012995\n",
      "==> margin limit 0.03298414404571875\n",
      "==> prediction result : Fault\n",
      "======================================================================================================================================================\n",
      "==> WorkingNumber PD2506261334_B_010_20250723_2115_12325_1\n",
      "==> Search Closest Trained Setting from Dictionary\n",
      "==> Setting Based Prediction\n"
     ]
    },
    {
     "name": "stderr",
     "output_type": "stream",
     "text": [
      "Predicting:  49%|█████████████████████████████████▏                                  | 244/500 [00:45<00:57,  4.43it/s]"
     ]
    },
    {
     "name": "stdout",
     "output_type": "stream",
     "text": [
      "==> model memae\n",
      "==> Maker=JSW_Facility=1013_ITEM=T1Z23-04010_setting=233\n",
      "==> mae_recon_loss 0.49719713854596714\n",
      "==> threshold 0.30529124889172643\n",
      "==> margin limit 0.03213352914116133\n",
      "==> prediction result : Fault\n",
      "======================================================================================================================================================\n",
      "==> WorkingNumber PD2506260878_B_010_20250723_2005_54432_1\n",
      "==> Setting Based Prediction\n",
      "==> model AE\n",
      "==> Maker=LSM_Facility=2005_ITEM=W-T1921-22640-A_setting=760\n",
      "==> mae_recon_loss 0.04284870588711473\n",
      "==> threshold 0.3391687788869546\n",
      "==> margin limit 0.04\n",
      "==> prediction result : Normal\n",
      "======================================================================================================================================================\n",
      "==> WorkingNumber PD2506260877_B_010_20250723_2005_54432_1\n",
      "==> Setting Based Prediction\n"
     ]
    },
    {
     "name": "stderr",
     "output_type": "stream",
     "text": [
      "Predicting:  49%|█████████████████████████████████▍                                  | 246/500 [00:45<00:45,  5.53it/s]"
     ]
    },
    {
     "name": "stdout",
     "output_type": "stream",
     "text": [
      "==> model AE\n",
      "==> Maker=LSM_Facility=2005_ITEM=W-T1921-22630-A_setting=760\n",
      "==> mae_recon_loss 0.04284870588711473\n",
      "==> threshold 0.3391687788869546\n",
      "==> margin limit 0.04\n",
      "==> prediction result : Normal\n",
      "======================================================================================================================================================\n",
      "==> WorkingNumber PD2506260018_B_010_20250723_2027_15625_1\n",
      "==> Setting Based Prediction\n",
      "==> model AE\n",
      "==> Maker=JSW_Facility=2027_ITEM=T1Z23-04020_setting=197\n",
      "==> mae_recon_loss 0.12816740776519722\n",
      "==> threshold 0.1524310932170106\n",
      "==> margin limit 0.03\n",
      "==> prediction result : Normal\n",
      "======================================================================================================================================================\n",
      "==> WorkingNumber PD2506260017_B_010_20250723_2027_15625_1\n",
      "==> Setting Based Prediction\n"
     ]
    },
    {
     "name": "stderr",
     "output_type": "stream",
     "text": [
      "Predicting:  49%|█████████████████████████████████▌                                  | 247/500 [00:46<00:42,  5.99it/s]"
     ]
    },
    {
     "name": "stdout",
     "output_type": "stream",
     "text": [
      "==> model AE\n",
      "==> Maker=JSW_Facility=2027_ITEM=T1Z23-03020_setting=197\n",
      "==> mae_recon_loss 0.12816740776519722\n",
      "==> threshold 0.1524310932170106\n",
      "==> margin limit 0.03\n",
      "==> prediction result : Normal\n",
      "======================================================================================================================================================\n",
      "==> WorkingNumber PD2506260694_B_010_20250723_1001_11322_4\n",
      "==> Search Closest Trained Setting from current Facility/ItemCode\n",
      "==> Setting Based Prediction\n"
     ]
    },
    {
     "name": "stderr",
     "output_type": "stream",
     "text": [
      "Predicting:  50%|██████████████████████████████████                                  | 250/500 [00:46<00:30,  8.15it/s]"
     ]
    },
    {
     "name": "stdout",
     "output_type": "stream",
     "text": [
      "==> model AE\n",
      "==> Maker=LSM_Facility=1001_ITEM=F-G78194-A_setting=678\n",
      "==> mae_recon_loss 0.12307207215718537\n",
      "==> threshold 0.26049455492532403\n",
      "==> margin limit 0.0973065446622267\n",
      "==> prediction result : Normal\n",
      "======================================================================================================================================================\n",
      "==> WorkingNumber PD2506261066_B_010_20250723_1003_21646_1\n",
      "==> Setting Based Prediction\n",
      "==> model ISF\n",
      "==> Maker=LSM_Facility=1003_ITEM=W-J6921-24520-A_setting=335\n",
      "==> mae_recon_loss -0.21500134386648861\n",
      "==> threshold 0.07359565663013634\n",
      "==> margin limit 0.02\n",
      "==> prediction result : Normal\n",
      "======================================================================================================================================================\n",
      "==> WorkingNumber PD2506261065_B_010_20250723_1003_21646_1\n",
      "==> Setting Based Prediction\n",
      "==> model ISF\n",
      "==> Maker=LSM_Facility=1003_ITEM=W-J6921-24510-A_setting=335\n",
      "==> mae_recon_loss -0.21500134386648861\n",
      "==> threshold 0.07359565663013634\n",
      "==> margin limit 0.02\n",
      "==> prediction result : Normal\n",
      "======================================================================================================================================================\n",
      "==> WorkingNumber PD2506261228_B_010_20250723_2008_14028_1\n",
      "==> Search Closest Trained Setting from Dictionary\n",
      "==> Setting Based Prediction\n"
     ]
    },
    {
     "name": "stderr",
     "output_type": "stream",
     "text": [
      "Predicting:  50%|██████████████████████████████████▎                                 | 252/500 [00:46<00:36,  6.74it/s]"
     ]
    },
    {
     "name": "stdout",
     "output_type": "stream",
     "text": [
      "==> model AE\n",
      "==> Maker=LSM_Facility=2008_ITEM=W-L2921-22560-A_setting=179\n",
      "==> mae_recon_loss 0.13369029036582922\n",
      "==> threshold 0.2019226497240814\n",
      "==> margin limit 0.13368110522364024\n",
      "==> prediction result : Normal\n",
      "======================================================================================================================================================\n",
      "==> WorkingNumber PD2506261226_B_010_20250723_2008_14028_1\n",
      "==> Search Closest Trained Setting from Dictionary\n",
      "==> Setting Based Prediction\n",
      "==> model AE\n",
      "==> Maker=LSM_Facility=2008_ITEM=W-L2921-22560-A_setting=179\n",
      "==> mae_recon_loss 0.13369029036582922\n",
      "==> threshold 0.2018492834926018\n",
      "==> margin limit 0.13466361680020797\n",
      "==> prediction result : Normal\n",
      "======================================================================================================================================================\n"
     ]
    },
    {
     "name": "stderr",
     "output_type": "stream",
     "text": [
      "Predicting:  51%|██████████████████████████████████▍                                 | 253/500 [00:46<00:40,  6.15it/s]"
     ]
    },
    {
     "name": "stdout",
     "output_type": "stream",
     "text": [
      "==> WorkingNumber PD2506261227_B_010_20250723_2008_14028_1\n",
      "==> Search Closest Trained Setting from Dictionary\n",
      "==> Setting Based Prediction\n",
      "==> model AE\n",
      "==> Maker=LSM_Facility=2008_ITEM=W-L2921-22560-A_setting=179\n",
      "==> mae_recon_loss 0.13369029036582922\n",
      "==> threshold 0.20517801179933057\n",
      "==> margin limit 0.13469412359340435\n",
      "==> prediction result : Normal\n",
      "======================================================================================================================================================\n",
      "==> WorkingNumber PD2506261225_B_010_20250723_2008_14028_1\n"
     ]
    },
    {
     "name": "stderr",
     "output_type": "stream",
     "text": [
      "Predicting:  51%|██████████████████████████████████▌                                 | 254/500 [00:47<00:42,  5.73it/s]"
     ]
    },
    {
     "name": "stdout",
     "output_type": "stream",
     "text": [
      "==> Search Closest Trained Setting from Dictionary\n",
      "==> Setting Based Prediction\n",
      "==> model AE\n",
      "==> Maker=LSM_Facility=2008_ITEM=W-L2921-22560-A_setting=179\n",
      "==> mae_recon_loss 0.13369029036582922\n",
      "==> threshold 0.20618706467415826\n",
      "==> margin limit 0.13289953099203605\n",
      "==> prediction result : Normal\n",
      "======================================================================================================================================================\n",
      "==> WorkingNumber PD2506260008_B_010_20250723_1101__4\n",
      "==> Search Closest Trained Setting from Dictionary\n",
      "==> Setting Based Prediction\n"
     ]
    },
    {
     "name": "stderr",
     "output_type": "stream",
     "text": [
      "Predicting:  51%|██████████████████████████████████▊                                 | 256/500 [00:47<00:44,  5.46it/s]"
     ]
    },
    {
     "name": "stdout",
     "output_type": "stream",
     "text": [
      "==> model AE\n",
      "==> Maker=JSW_Facility=1013_ITEM=T1Z23-04010_setting=0\n",
      "==> mae_recon_loss 0.4110663514340962\n",
      "==> threshold 0.3367395259491858\n",
      "==> margin limit 0.052048149614956574\n",
      "==> prediction result : Fault\n",
      "======================================================================================================================================================\n",
      "==> WorkingNumber PD2506260027_B_010_20250723_1102__1\n",
      "==> Search Closest Trained Setting from Dictionary\n",
      "==> Setting Based Prediction\n",
      "==> model AE\n",
      "==> Maker=JSW_Facility=1013_ITEM=T1Z23-04010_setting=0\n",
      "==> mae_recon_loss 0.4110663514340962\n",
      "==> threshold 0.3336863191089371\n",
      "==> margin limit 0.052074260136592734\n",
      "==> prediction result : Fault\n",
      "======================================================================================================================================================\n"
     ]
    },
    {
     "name": "stderr",
     "output_type": "stream",
     "text": [
      "Predicting:  51%|██████████████████████████████████▉                                 | 257/500 [00:47<00:54,  4.43it/s]"
     ]
    },
    {
     "name": "stdout",
     "output_type": "stream",
     "text": [
      "==> WorkingNumber PD2506260012_B_010_20250723_2110__1\n",
      "==> Search Closest Trained Setting from Dictionary\n",
      "==> Setting Based Prediction\n",
      "==> model AE\n",
      "==> Maker=JSW_Facility=1013_ITEM=T1Z23-04010_setting=0\n",
      "==> mae_recon_loss 0.4110663514340962\n",
      "==> threshold 0.33367145526315883\n",
      "==> margin limit 0.0520243896714377\n",
      "==> prediction result : Fault\n",
      "======================================================================================================================================================\n"
     ]
    },
    {
     "name": "stderr",
     "output_type": "stream",
     "text": [
      "Predicting:  52%|███████████████████████████████████                                 | 258/500 [00:48<00:51,  4.65it/s]"
     ]
    },
    {
     "name": "stdout",
     "output_type": "stream",
     "text": [
      "==> WorkingNumber PD2506260011_B_010_20250723_1015__4\n",
      "==> Setting Based Prediction\n",
      "==> model memae\n",
      "==> Maker=ENGEL_Facility=1015_ITEM=W-CG921-37220-A_setting=23\n",
      "==> mae_recon_loss 0.5023235475378249\n",
      "==> threshold 0.4440319560851052\n",
      "==> margin limit 0.04\n",
      "==> prediction result : Fault\n",
      "======================================================================================================================================================\n",
      "==> WorkingNumber PD2506260013_B_010_20250723_2110__1\n",
      "==> Search Closest Trained Setting from Dictionary\n",
      "==> Setting Based Prediction\n"
     ]
    },
    {
     "name": "stderr",
     "output_type": "stream",
     "text": [
      "Predicting:  52%|███████████████████████████████████▏                                | 259/500 [00:48<00:50,  4.74it/s]"
     ]
    },
    {
     "name": "stdout",
     "output_type": "stream",
     "text": [
      "==> model AE\n",
      "==> Maker=JSW_Facility=1013_ITEM=T1Z23-04010_setting=0\n",
      "==> mae_recon_loss 0.4110663514340962\n",
      "==> threshold 0.3327862513097033\n",
      "==> margin limit 0.05204644966779348\n",
      "==> prediction result : Fault\n",
      "======================================================================================================================================================\n",
      "==> WorkingNumber PD2506260172_B_010_20250723_1010__4\n",
      "==> Search Closest Trained Setting from Dictionary\n",
      "==> Setting Based Prediction\n"
     ]
    },
    {
     "name": "stderr",
     "output_type": "stream",
     "text": [
      "Predicting:  52%|███████████████████████████████████▍                                | 261/500 [00:48<00:49,  4.87it/s]"
     ]
    },
    {
     "name": "stdout",
     "output_type": "stream",
     "text": [
      "==> model AE\n",
      "==> Maker=JSW_Facility=1013_ITEM=T1Z23-04010_setting=0\n",
      "==> mae_recon_loss 0.4110663514340962\n",
      "==> threshold 0.334196763248344\n",
      "==> margin limit 0.05196818944551599\n",
      "==> prediction result : Fault\n",
      "======================================================================================================================================================\n",
      "==> WorkingNumber PD2506260038_B_010_20250723_1106__1\n",
      "==> Search Closest Trained Setting from Dictionary\n",
      "==> Setting Based Prediction\n",
      "==> model AE\n",
      "==> Maker=JSW_Facility=1013_ITEM=T1Z23-04010_setting=0\n",
      "==> mae_recon_loss 0.4110663514340962\n",
      "==> threshold 0.3350342201172163\n",
      "==> margin limit 0.05276133330436466\n",
      "==> prediction result : Fault\n",
      "======================================================================================================================================================\n"
     ]
    },
    {
     "name": "stderr",
     "output_type": "stream",
     "text": [
      "Predicting:  52%|███████████████████████████████████▋                                | 262/500 [00:48<00:50,  4.75it/s]"
     ]
    },
    {
     "name": "stdout",
     "output_type": "stream",
     "text": [
      "==> WorkingNumber PD2506260039_B_010_20250723_1106__1\n",
      "==> Search Closest Trained Setting from Dictionary\n",
      "==> Setting Based Prediction\n",
      "==> model AE\n",
      "==> Maker=JSW_Facility=1013_ITEM=S1Z22-02160_setting=41\n",
      "==> mae_recon_loss 0.3642535645379232\n",
      "==> threshold 0.4393964656746853\n",
      "==> margin limit 0.07654055432438334\n",
      "==> prediction result : Normal\n",
      "======================================================================================================================================================\n"
     ]
    },
    {
     "name": "stderr",
     "output_type": "stream",
     "text": [
      "Predicting:  53%|███████████████████████████████████▊                                | 263/500 [00:49<00:49,  4.80it/s]"
     ]
    },
    {
     "name": "stdout",
     "output_type": "stream",
     "text": [
      "==> WorkingNumber PD2506260034_B_010_20250723_1013__1\n",
      "==> Search Closest Trained Setting from Dictionary\n",
      "==> Setting Based Prediction\n",
      "==> model AE\n",
      "==> Maker=JSW_Facility=1013_ITEM=T1Z23-04010_setting=0\n",
      "==> mae_recon_loss 0.4110663514340962\n",
      "==> threshold 0.3329915347974601\n",
      "==> margin limit 0.05251658345016422\n",
      "==> prediction result : Fault\n",
      "======================================================================================================================================================\n",
      "==> WorkingNumber PD2506260035_B_010_20250723_1013__1\n",
      "==> Search Closest Trained Setting from Dictionary\n"
     ]
    },
    {
     "name": "stderr",
     "output_type": "stream",
     "text": [
      "Predicting:  53%|███████████████████████████████████▉                                | 264/500 [00:49<00:49,  4.79it/s]"
     ]
    },
    {
     "name": "stdout",
     "output_type": "stream",
     "text": [
      "==> Setting Based Prediction\n",
      "==> model AE\n",
      "==> Maker=JSW_Facility=1013_ITEM=T1Z23-04010_setting=0\n",
      "==> mae_recon_loss 0.4110663514340962\n",
      "==> threshold 0.3360082851229137\n",
      "==> margin limit 0.052168595021484146\n",
      "==> prediction result : Fault\n",
      "======================================================================================================================================================\n",
      "==> WorkingNumber PD2506260011_B_010_20250723_1015_668677_4\n",
      "==> Search Closest Trained Setting from current Facility/ItemCode\n",
      "==> Setting Based Prediction\n"
     ]
    },
    {
     "name": "stderr",
     "output_type": "stream",
     "text": [
      "Predicting:  53%|████████████████████████████████████                                | 265/500 [00:49<00:48,  4.88it/s]"
     ]
    },
    {
     "name": "stdout",
     "output_type": "stream",
     "text": [
      "==> model AE\n",
      "==> Maker=ENGEL_Facility=1015_ITEM=W-CG921-37220-A_setting=93\n",
      "==> mae_recon_loss 0.22260059824421682\n",
      "==> threshold 0.1863040849987362\n",
      "==> margin limit 0.05287486959221971\n",
      "==> prediction result : Normal\n",
      "======================================================================================================================================================\n",
      "==> WorkingNumber PD2506260038_B_010_20250723_1106__1\n",
      "==> Search Closest Trained Setting from Dictionary\n",
      "==> Setting Based Prediction\n"
     ]
    },
    {
     "name": "stderr",
     "output_type": "stream",
     "text": [
      "Predicting:  53%|████████████████████████████████████▎                               | 267/500 [00:49<00:49,  4.73it/s]"
     ]
    },
    {
     "name": "stdout",
     "output_type": "stream",
     "text": [
      "==> model memae\n",
      "==> Maker=JSW_Facility=1013_ITEM=T1Z23-04010_setting=233\n",
      "==> mae_recon_loss 0.08400122982916691\n",
      "==> threshold 0.30454387071805644\n",
      "==> margin limit 0.03228296553770189\n",
      "==> prediction result : Normal\n",
      "======================================================================================================================================================\n",
      "==> WorkingNumber PD2506260039_B_010_20250723_1106__1\n",
      "==> Search Closest Trained Setting from Dictionary\n",
      "==> Setting Based Prediction\n",
      "==> model AE\n",
      "==> Maker=JSW_Facility=1013_ITEM=T1Z23-04010_setting=0\n",
      "==> mae_recon_loss 0.4110663514340962\n",
      "==> threshold 0.3351241451843622\n",
      "==> margin limit 0.05192488309430441\n",
      "==> prediction result : Fault\n",
      "======================================================================================================================================================\n",
      "==> WorkingNumber PD2506260008_B_010_20250723_1101_35858_4\n",
      "==> Search Closest Trained Setting from current Facility/ItemCode\n",
      "==> Setting Based Prediction\n"
     ]
    },
    {
     "name": "stderr",
     "output_type": "stream",
     "text": [
      "Predicting:  54%|████████████████████████████████████▍                               | 268/500 [00:50<00:51,  4.48it/s]"
     ]
    },
    {
     "name": "stdout",
     "output_type": "stream",
     "text": [
      "==> model memae\n",
      "==> Maker=JSW_Facility=1101_ITEM=W-BE921-37041-A_setting=24\n",
      "==> mae_recon_loss 0.12047051160221156\n",
      "==> threshold 0.34007982726351066\n",
      "==> margin limit 0.048698064968849715\n",
      "==> prediction result : Normal\n",
      "======================================================================================================================================================\n",
      "==> WorkingNumber PD2506260035_B_010_20250723_1013_3705_1\n",
      "==> Search Closest Trained Setting from current Facility/ItemCode\n",
      "==> Setting Based Prediction\n"
     ]
    },
    {
     "name": "stderr",
     "output_type": "stream",
     "text": [
      "Predicting:  54%|████████████████████████████████████▌                               | 269/500 [00:50<00:53,  4.30it/s]"
     ]
    },
    {
     "name": "stdout",
     "output_type": "stream",
     "text": [
      "==> model memae\n",
      "==> Maker=JSW_Facility=1013_ITEM=T1Z23-04010_setting=233\n",
      "==> mae_recon_loss 0.08437221914665549\n",
      "==> threshold 0.31494761741761773\n",
      "==> margin limit 0.03626150862698408\n",
      "==> prediction result : Normal\n",
      "======================================================================================================================================================\n",
      "==> WorkingNumber PD2506260034_B_010_20250723_1013_3705_1\n",
      "==> Search Closest Trained Setting from current Facility/ItemCode\n",
      "==> Setting Based Prediction\n"
     ]
    },
    {
     "name": "stderr",
     "output_type": "stream",
     "text": [
      "Predicting:  54%|████████████████████████████████████▋                               | 270/500 [00:50<01:03,  3.64it/s]"
     ]
    },
    {
     "name": "stdout",
     "output_type": "stream",
     "text": [
      "==> model memae\n",
      "==> Maker=JSW_Facility=1013_ITEM=T1Z23-03010_setting=233\n",
      "==> mae_recon_loss 0.08437221914665549\n",
      "==> threshold 0.31784690550338207\n",
      "==> margin limit 0.03581548638697592\n",
      "==> prediction result : Normal\n",
      "======================================================================================================================================================\n",
      "==> WorkingNumber PD2506260022_B_010_20250723_1009__8\n",
      "==> Search Closest Trained Setting from Dictionary\n",
      "==> Setting Based Prediction\n"
     ]
    },
    {
     "name": "stderr",
     "output_type": "stream",
     "text": [
      "Predicting:  54%|████████████████████████████████████▊                               | 271/500 [00:51<01:01,  3.72it/s]"
     ]
    },
    {
     "name": "stdout",
     "output_type": "stream",
     "text": [
      "==> model memae\n",
      "==> Maker=JSW_Facility=1013_ITEM=T1Z23-04010_setting=233\n",
      "==> mae_recon_loss 0.08437221914665549\n",
      "==> threshold 0.30287631591941544\n",
      "==> margin limit 0.032090215502003715\n",
      "==> prediction result : Normal\n",
      "======================================================================================================================================================\n",
      "==> WorkingNumber PD2506261346_B_010_20250723_2113__1\n",
      "==> Search Closest Trained Setting from Dictionary\n",
      "==> Setting Based Prediction\n"
     ]
    },
    {
     "name": "stderr",
     "output_type": "stream",
     "text": [
      "Predicting:  54%|████████████████████████████████████▉                               | 272/500 [00:51<01:00,  3.77it/s]"
     ]
    },
    {
     "name": "stdout",
     "output_type": "stream",
     "text": [
      "==> model memae\n",
      "==> Maker=JSW_Facility=1013_ITEM=T1Z23-04010_setting=233\n",
      "==> mae_recon_loss 0.08437221914665549\n",
      "==> threshold 0.3047126079441172\n",
      "==> margin limit 0.03244494021689932\n",
      "==> prediction result : Normal\n",
      "======================================================================================================================================================\n",
      "==> WorkingNumber PD2506260010_B_010_20250723_1104__8\n",
      "==> Search Closest Trained Setting from Dictionary\n",
      "==> Setting Based Prediction\n"
     ]
    },
    {
     "name": "stderr",
     "output_type": "stream",
     "text": [
      "Predicting:  55%|█████████████████████████████████████▎                              | 274/500 [00:51<00:54,  4.15it/s]"
     ]
    },
    {
     "name": "stdout",
     "output_type": "stream",
     "text": [
      "==> model memae\n",
      "==> Maker=JSW_Facility=1013_ITEM=T1Z23-04010_setting=233\n",
      "==> mae_recon_loss 0.08437221914665549\n",
      "==> threshold 0.3056882891903628\n",
      "==> margin limit 0.03173686533141454\n",
      "==> prediction result : Normal\n",
      "======================================================================================================================================================\n",
      "==> WorkingNumber PD2506260011_B_010_20250723_1015_668678_4\n",
      "==> Search Closest Trained Setting from current Facility/ItemCode\n",
      "==> Setting Based Prediction\n",
      "==> model AE\n",
      "==> Maker=ENGEL_Facility=1015_ITEM=W-CG921-37220-A_setting=93\n",
      "==> mae_recon_loss 0.22339552512770935\n",
      "==> threshold 0.18565248397291234\n",
      "==> margin limit 0.05241355733094193\n",
      "==> prediction result : Normal\n",
      "======================================================================================================================================================\n",
      "==> WorkingNumber PD2506260039_B_010_20250723_1106_12115_1\n",
      "==> Search Closest Trained Setting from Dictionary\n",
      "==> Setting Based Prediction\n"
     ]
    },
    {
     "name": "stderr",
     "output_type": "stream",
     "text": [
      "Predicting:  55%|█████████████████████████████████████▌                              | 276/500 [00:52<00:51,  4.39it/s]"
     ]
    },
    {
     "name": "stdout",
     "output_type": "stream",
     "text": [
      "==> model AE\n",
      "==> Maker=JSW_Facility=1013_ITEM=S1Z22-02150_setting=90\n",
      "==> mae_recon_loss 0.5491419834976359\n",
      "==> threshold 0.23191737794081485\n",
      "==> margin limit 0.05545133809787603\n",
      "==> prediction result : Fault\n",
      "======================================================================================================================================================\n",
      "==> WorkingNumber PD2506260038_B_010_20250723_1106_12115_1\n",
      "==> Search Closest Trained Setting from Dictionary\n",
      "==> Setting Based Prediction\n",
      "==> model AE\n",
      "==> Maker=JSW_Facility=1013_ITEM=S1Z22-02150_setting=90\n",
      "==> mae_recon_loss 0.5491419834976359\n",
      "==> threshold 0.23291194789499003\n",
      "==> margin limit 0.055165109523657385\n",
      "==> prediction result : Fault\n",
      "======================================================================================================================================================\n"
     ]
    },
    {
     "name": "stderr",
     "output_type": "stream",
     "text": [
      "Predicting:  55%|█████████████████████████████████████▋                              | 277/500 [00:52<00:50,  4.44it/s]"
     ]
    },
    {
     "name": "stdout",
     "output_type": "stream",
     "text": [
      "==> WorkingNumber PD2506260027_B_010_20250723_1102_6145_1\n",
      "==> Search Closest Trained Setting from Dictionary\n",
      "==> Setting Based Prediction\n",
      "==> model AE\n",
      "==> Maker=JSW_Facility=1013_ITEM=S1Z22-02150_setting=90\n",
      "==> mae_recon_loss 0.5202568976241654\n",
      "==> threshold 0.23609289955856722\n",
      "==> margin limit 0.05555480888142233\n",
      "==> prediction result : Fault\n",
      "======================================================================================================================================================\n",
      "==> WorkingNumber PD2506260035_B_010_20250723_1013_3706_1\n",
      "==> Search Closest Trained Setting from current Facility/ItemCode\n",
      "==> Setting Based Prediction\n"
     ]
    },
    {
     "name": "stderr",
     "output_type": "stream",
     "text": [
      "Predicting:  56%|█████████████████████████████████████▊                              | 278/500 [00:52<00:52,  4.22it/s]"
     ]
    },
    {
     "name": "stdout",
     "output_type": "stream",
     "text": [
      "==> model memae\n",
      "==> Maker=JSW_Facility=1013_ITEM=T1Z23-04010_setting=233\n",
      "==> mae_recon_loss 0.08330230844785286\n",
      "==> threshold 0.31513685068533276\n",
      "==> margin limit 0.036027433313649174\n",
      "==> prediction result : Normal\n",
      "======================================================================================================================================================\n",
      "==> WorkingNumber PD2506260034_B_010_20250723_1013_3706_1\n",
      "==> Search Closest Trained Setting from current Facility/ItemCode\n",
      "==> Setting Based Prediction\n"
     ]
    },
    {
     "name": "stderr",
     "output_type": "stream",
     "text": [
      "Predicting:  56%|██████████████████████████████████████                              | 280/500 [00:53<00:49,  4.47it/s]"
     ]
    },
    {
     "name": "stdout",
     "output_type": "stream",
     "text": [
      "==> model memae\n",
      "==> Maker=JSW_Facility=1013_ITEM=T1Z23-03010_setting=233\n",
      "==> mae_recon_loss 0.08330230844785286\n",
      "==> threshold 0.3171084355757298\n",
      "==> margin limit 0.0360824916205899\n",
      "==> prediction result : Normal\n",
      "======================================================================================================================================================\n",
      "==> WorkingNumber PD2506260001_B_010_20250723_M1006__1\n",
      "==> Search Closest Trained Setting from Dictionary\n",
      "==> Setting Based Prediction\n",
      "==> model AE\n",
      "==> Maker=ENGEL_Facility=1015_ITEM=W-CG921-37220-A_setting=93\n",
      "==> mae_recon_loss 0.06636507995426655\n",
      "==> threshold 0.18774350451381222\n",
      "==> margin limit 0.055026695552223684\n",
      "==> prediction result : Normal\n",
      "======================================================================================================================================================\n",
      "==> WorkingNumber PD2506260008_B_010_20250723_1101_35859_4\n",
      "==> Search Closest Trained Setting from current Facility/ItemCode\n",
      "==> Setting Based Prediction\n"
     ]
    },
    {
     "name": "stderr",
     "output_type": "stream",
     "text": [
      "Predicting:  56%|██████████████████████████████████████▎                             | 282/500 [00:53<00:48,  4.54it/s]"
     ]
    },
    {
     "name": "stdout",
     "output_type": "stream",
     "text": [
      "==> model memae\n",
      "==> Maker=JSW_Facility=1101_ITEM=W-BE921-37041-A_setting=24\n",
      "==> mae_recon_loss 0.11652114851673295\n",
      "==> threshold 0.34462823508050067\n",
      "==> margin limit 0.04880090775433116\n",
      "==> prediction result : Normal\n",
      "======================================================================================================================================================\n",
      "==> WorkingNumber PD2506260011_B_010_20250723_1015_668679_4\n",
      "==> Search Closest Trained Setting from current Facility/ItemCode\n",
      "==> Setting Based Prediction\n",
      "==> model AE\n",
      "==> Maker=ENGEL_Facility=1015_ITEM=W-CG921-37220-A_setting=93\n",
      "==> mae_recon_loss 0.22054937163668564\n",
      "==> threshold 0.18305783688133181\n",
      "==> margin limit 0.050514233699062196\n",
      "==> prediction result : Normal\n",
      "======================================================================================================================================================\n"
     ]
    },
    {
     "name": "stderr",
     "output_type": "stream",
     "text": [
      "Predicting:  57%|██████████████████████████████████████▍                             | 283/500 [00:53<00:54,  4.00it/s]"
     ]
    },
    {
     "name": "stdout",
     "output_type": "stream",
     "text": [
      "==> WorkingNumber PD2506260017_B_010_20250723_2027__1\n",
      "==> Search Closest Trained Setting from Dictionary\n",
      "==> Setting Based Prediction\n",
      "==> model AE\n",
      "==> Maker=JSW_Facility=1102_ITEM=W-ZMM92-137010-A_setting=81\n",
      "==> mae_recon_loss 0.3013345504506072\n",
      "==> threshold 0.3628166330226334\n",
      "==> margin limit 0.10187476037484765\n",
      "==> prediction result : Normal\n",
      "======================================================================================================================================================\n",
      "==> WorkingNumber PD2506260021_B_010_20250723_1103__4\n",
      "==> Search Closest Trained Setting from Dictionary\n"
     ]
    },
    {
     "name": "stderr",
     "output_type": "stream",
     "text": [
      "Predicting:  57%|██████████████████████████████████████▌                             | 284/500 [00:54<00:51,  4.23it/s]"
     ]
    },
    {
     "name": "stdout",
     "output_type": "stream",
     "text": [
      "==> Setting Based Prediction\n",
      "==> model AE\n",
      "==> Maker=JSW_Facility=1102_ITEM=W-ZMM92-137010-A_setting=81\n",
      "==> mae_recon_loss 0.3013345504506072\n",
      "==> threshold 0.363044448121269\n",
      "==> margin limit 0.10087060462505607\n",
      "==> prediction result : Normal\n",
      "======================================================================================================================================================\n",
      "==> WorkingNumber PD2506260018_B_010_20250723_2027__1\n",
      "==> Search Closest Trained Setting from Dictionary\n",
      "==> Setting Based Prediction\n"
     ]
    },
    {
     "name": "stderr",
     "output_type": "stream",
     "text": [
      "Predicting:  57%|██████████████████████████████████████▉                             | 286/500 [00:54<00:46,  4.64it/s]"
     ]
    },
    {
     "name": "stdout",
     "output_type": "stream",
     "text": [
      "==> model AE\n",
      "==> Maker=JSW_Facility=1102_ITEM=W-ZMM92-137010-A_setting=81\n",
      "==> mae_recon_loss 0.3013345504506072\n",
      "==> threshold 0.36410471098342195\n",
      "==> margin limit 0.10140280924339429\n",
      "==> prediction result : Normal\n",
      "======================================================================================================================================================\n",
      "==> WorkingNumber PD2506260012_B_010_20250723_2110_3265_1\n",
      "==> Search Closest Trained Setting from Dictionary\n",
      "==> Setting Based Prediction\n",
      "==> model AE\n",
      "==> Maker=JSW_Facility=1102_ITEM=W-ZMM92-137010-A_setting=81\n",
      "==> mae_recon_loss 0.398637334343138\n",
      "==> threshold 0.36046539449894166\n",
      "==> margin limit 0.10157109281448995\n",
      "==> prediction result : Normal\n",
      "======================================================================================================================================================\n"
     ]
    },
    {
     "name": "stderr",
     "output_type": "stream",
     "text": [
      "Predicting:  57%|███████████████████████████████████████                             | 287/500 [00:54<00:44,  4.83it/s]"
     ]
    },
    {
     "name": "stdout",
     "output_type": "stream",
     "text": [
      "==> WorkingNumber PD2506260013_B_010_20250723_2110_3265_1\n",
      "==> Search Closest Trained Setting from Dictionary\n",
      "==> Setting Based Prediction\n",
      "==> model AE\n",
      "==> Maker=JSW_Facility=1102_ITEM=W-ZMM92-137010-A_setting=81\n",
      "==> mae_recon_loss 0.398637334343138\n",
      "==> threshold 0.36494639275243046\n",
      "==> margin limit 0.10116524380313495\n",
      "==> prediction result : Normal\n",
      "======================================================================================================================================================\n",
      "==> WorkingNumber PD2506260038_B_010_20250723_1106_1_1\n",
      "==> Search Closest Trained Setting from Dictionary\n",
      "==> Setting Based Prediction\n"
     ]
    },
    {
     "name": "stderr",
     "output_type": "stream",
     "text": [
      "Predicting:  58%|███████████████████████████████████████▎                            | 289/500 [00:55<00:41,  5.14it/s]"
     ]
    },
    {
     "name": "stdout",
     "output_type": "stream",
     "text": [
      "==> model AE\n",
      "==> Maker=JSW_Facility=1102_ITEM=W-ZMM92-137010-A_setting=81\n",
      "==> mae_recon_loss 0.3417440263064751\n",
      "==> threshold 0.36312962269840715\n",
      "==> margin limit 0.10139381630563588\n",
      "==> prediction result : Normal\n",
      "======================================================================================================================================================\n",
      "==> WorkingNumber PD2506260039_B_010_20250723_1106_1_1\n",
      "==> Search Closest Trained Setting from Dictionary\n",
      "==> Setting Based Prediction\n",
      "==> model AE\n",
      "==> Maker=JSW_Facility=1102_ITEM=W-ZMM92-137010-A_setting=81\n",
      "==> mae_recon_loss 0.3417440263064751\n",
      "==> threshold 0.3630012285592932\n",
      "==> margin limit 0.10021398004716708\n",
      "==> prediction result : Normal\n",
      "======================================================================================================================================================\n",
      "==> WorkingNumber PD2506260008_B_010_20250723_1101_35860_4\n",
      "==> Search Closest Trained Setting from current Facility/ItemCode\n",
      "==> Setting Based Prediction\n"
     ]
    },
    {
     "name": "stderr",
     "output_type": "stream",
     "text": [
      "Predicting:  58%|███████████████████████████████████████▌                            | 291/500 [00:55<00:42,  4.92it/s]"
     ]
    },
    {
     "name": "stdout",
     "output_type": "stream",
     "text": [
      "==> model memae\n",
      "==> Maker=JSW_Facility=1101_ITEM=W-BE921-37041-A_setting=24\n",
      "==> mae_recon_loss 0.11839541889090183\n",
      "==> threshold 0.3433858551018236\n",
      "==> margin limit 0.04986220401720355\n",
      "==> prediction result : Normal\n",
      "======================================================================================================================================================\n",
      "==> WorkingNumber PD2506260022_B_010_20250723_1009_431_8\n",
      "==> Setting Based Prediction\n",
      "==> model memae\n",
      "==> Maker=JSW_Facility=1009_ITEM=W-BE921-37040-A_setting=394\n",
      "==> mae_recon_loss 0.11999233379676845\n",
      "==> threshold 0.2950071299376406\n",
      "==> margin limit 0.03\n",
      "==> prediction result : Normal\n",
      "======================================================================================================================================================\n"
     ]
    },
    {
     "name": "stderr",
     "output_type": "stream",
     "text": [
      "Predicting:  58%|███████████████████████████████████████▋                            | 292/500 [00:55<00:41,  4.97it/s]"
     ]
    },
    {
     "name": "stdout",
     "output_type": "stream",
     "text": [
      "==> WorkingNumber PD2506260011_B_010_20250723_1015_668680_4\n",
      "==> Search Closest Trained Setting from current Facility/ItemCode\n",
      "==> Setting Based Prediction\n",
      "==> model AE\n",
      "==> Maker=ENGEL_Facility=1015_ITEM=W-CG921-37220-A_setting=93\n",
      "==> mae_recon_loss 0.22783090922057073\n",
      "==> threshold 0.18280082183893695\n",
      "==> margin limit 0.04949440130106612\n",
      "==> prediction result : Normal\n",
      "======================================================================================================================================================\n",
      "==> WorkingNumber PD2506260035_B_010_20250723_1013_3708_1\n",
      "==> Search Closest Trained Setting from current Facility/ItemCode\n",
      "==> Setting Based Prediction\n"
     ]
    },
    {
     "name": "stderr",
     "output_type": "stream",
     "text": [
      "Predicting:  59%|███████████████████████████████████████▊                            | 293/500 [00:55<00:45,  4.58it/s]"
     ]
    },
    {
     "name": "stdout",
     "output_type": "stream",
     "text": [
      "==> model memae\n",
      "==> Maker=JSW_Facility=1013_ITEM=T1Z23-04010_setting=233\n",
      "==> mae_recon_loss 0.08893941045581537\n",
      "==> threshold 0.3180574088754913\n",
      "==> margin limit 0.036105567572552115\n",
      "==> prediction result : Normal\n",
      "======================================================================================================================================================\n",
      "==> WorkingNumber PD2506260034_B_010_20250723_1013_3708_1\n",
      "==> Search Closest Trained Setting from current Facility/ItemCode\n",
      "==> Setting Based Prediction\n"
     ]
    },
    {
     "name": "stderr",
     "output_type": "stream",
     "text": [
      "Predicting:  59%|████████████████████████████████████████                            | 295/500 [00:56<00:45,  4.54it/s]"
     ]
    },
    {
     "name": "stdout",
     "output_type": "stream",
     "text": [
      "==> model memae\n",
      "==> Maker=JSW_Facility=1013_ITEM=T1Z23-03010_setting=233\n",
      "==> mae_recon_loss 0.08893941045581537\n",
      "==> threshold 0.3146553938678198\n",
      "==> margin limit 0.0357929295581865\n",
      "==> prediction result : Normal\n",
      "======================================================================================================================================================\n",
      "==> WorkingNumber PD2506260001_B_010_20250723_M1006_240015_1\n",
      "==> Search Closest Trained Setting from Dictionary\n",
      "==> Setting Based Prediction\n",
      "==> model AE\n",
      "==> Maker=ENGEL_Facility=1015_ITEM=W-CG921-37220-A_setting=93\n",
      "==> mae_recon_loss 0.398362472653389\n",
      "==> threshold 0.18772742723019403\n",
      "==> margin limit 0.05233808212812219\n",
      "==> prediction result : Fault\n",
      "======================================================================================================================================================\n"
     ]
    },
    {
     "name": "stderr",
     "output_type": "stream",
     "text": [
      "Predicting:  59%|████████████████████████████████████████▍                           | 297/500 [00:56<00:33,  6.04it/s]"
     ]
    },
    {
     "name": "stdout",
     "output_type": "stream",
     "text": [
      "==> WorkingNumber PD2506260010_B_010_20250723_1104_7223_8\n",
      "==> Search Closest Trained Setting from current Facility/ItemCode\n",
      "==> Setting Based Prediction\n",
      "==> model ISF\n",
      "==> Maker=JSW_Facility=1104_ITEM=F-CG921-37220-A_setting=1061\n",
      "==> mae_recon_loss 0.10212681059119022\n",
      "==> threshold 0.0873111987788395\n",
      "==> margin limit 0.02644359850162046\n",
      "==> prediction result : Normal\n",
      "======================================================================================================================================================\n",
      "==> WorkingNumber PD2506260027_B_010_20250723_1102_6146_1\n",
      "==> Search Closest Trained Setting from Dictionary\n",
      "==> Setting Based Prediction\n",
      "==> model ISF\n",
      "==> Maker=JSW_Facility=1104_ITEM=F-CG921-37220-A_setting=1061\n",
      "==> mae_recon_loss 0.1128997084810831\n",
      "==> threshold 0.08554431010343407\n",
      "==> margin limit 0.024744995527931104\n",
      "==> prediction result : Fault\n",
      "======================================================================================================================================================\n"
     ]
    },
    {
     "name": "stderr",
     "output_type": "stream",
     "text": [
      "Predicting:  60%|████████████████████████████████████████▌                           | 298/500 [00:56<00:30,  6.55it/s]"
     ]
    },
    {
     "name": "stdout",
     "output_type": "stream",
     "text": [
      "==> WorkingNumber PD2506261346_B_010_20250723_2113_26888_1\n",
      "==> Search Closest Trained Setting from Dictionary\n",
      "==> Setting Based Prediction\n",
      "==> model ISF\n",
      "==> Maker=JSW_Facility=1104_ITEM=F-CG921-37220-A_setting=1061\n",
      "==> mae_recon_loss 0.14416708746082807\n",
      "==> threshold 0.08391531265742327\n",
      "==> margin limit 0.024789102708159264\n",
      "==> prediction result : Fault\n",
      "======================================================================================================================================================\n",
      "==> WorkingNumber PD2506260011_B_010_20250723_1015_668681_4\n",
      "==> Search Closest Trained Setting from current Facility/ItemCode\n",
      "==> Setting Based Prediction\n"
     ]
    },
    {
     "name": "stderr",
     "output_type": "stream",
     "text": [
      "Predicting:  60%|████████████████████████████████████████▋                           | 299/500 [00:57<00:39,  5.04it/s]"
     ]
    },
    {
     "name": "stdout",
     "output_type": "stream",
     "text": [
      "==> model AE\n",
      "==> Maker=ENGEL_Facility=1015_ITEM=W-CG921-37220-A_setting=93\n",
      "==> mae_recon_loss 0.2294111424157471\n",
      "==> threshold 0.1856838732107039\n",
      "==> margin limit 0.05278027394024433\n",
      "==> prediction result : Normal\n",
      "======================================================================================================================================================\n",
      "==> WorkingNumber PD2506260008_B_010_20250723_1101_35861_4\n",
      "==> Search Closest Trained Setting from current Facility/ItemCode\n",
      "==> Setting Based Prediction\n"
     ]
    },
    {
     "name": "stderr",
     "output_type": "stream",
     "text": [
      "Predicting:  60%|█████████████████████████████████████████                           | 302/500 [00:57<00:31,  6.34it/s]"
     ]
    },
    {
     "name": "stdout",
     "output_type": "stream",
     "text": [
      "==> model memae\n",
      "==> Maker=JSW_Facility=1101_ITEM=W-BE921-37041-A_setting=24\n",
      "==> mae_recon_loss 0.12393192609692585\n",
      "==> threshold 0.3408070824683988\n",
      "==> margin limit 0.04983487046426703\n",
      "==> prediction result : Normal\n",
      "======================================================================================================================================================\n",
      "==> WorkingNumber PD2506260030_B_010_20250723_1012__4\n",
      "==> Search Closest Trained Setting from Dictionary\n",
      "==> Setting Based Prediction\n",
      "==> model ISF\n",
      "==> Maker=JSW_Facility=1101_ITEM=W-BE921-37021-A_setting=474\n",
      "==> mae_recon_loss 0.02898404807132049\n",
      "==> threshold 0.11868222992772923\n",
      "==> margin limit 0.024517160870801042\n",
      "==> prediction result : Normal\n",
      "======================================================================================================================================================\n",
      "==> WorkingNumber PD2506260031_B_010_20250723_1012__4\n",
      "==> Search Closest Trained Setting from Dictionary\n",
      "==> Setting Based Prediction\n",
      "==> model ISF\n",
      "==> Maker=JSW_Facility=1101_ITEM=W-BE921-37021-A_setting=474\n",
      "==> mae_recon_loss 0.02898404807132049\n",
      "==> threshold 0.12037658097403281\n",
      "==> margin limit 0.024515041341073174\n",
      "==> prediction result : Normal\n",
      "======================================================================================================================================================\n",
      "==> WorkingNumber PD2506260035_B_010_20250723_1013_3709_1\n",
      "==> Search Closest Trained Setting from current Facility/ItemCode\n",
      "==> Setting Based Prediction\n"
     ]
    },
    {
     "name": "stderr",
     "output_type": "stream",
     "text": [
      "Predicting:  61%|█████████████████████████████████████████▏                          | 303/500 [00:57<00:35,  5.53it/s]"
     ]
    },
    {
     "name": "stdout",
     "output_type": "stream",
     "text": [
      "==> model memae\n",
      "==> Maker=JSW_Facility=1013_ITEM=T1Z23-04010_setting=233\n",
      "==> mae_recon_loss 0.09062079774244258\n",
      "==> threshold 0.3178999876252687\n",
      "==> margin limit 0.036077234313300725\n",
      "==> prediction result : Normal\n",
      "======================================================================================================================================================\n",
      "==> WorkingNumber PD2506260034_B_010_20250723_1013_3709_1\n",
      "==> Search Closest Trained Setting from current Facility/ItemCode\n",
      "==> Setting Based Prediction\n"
     ]
    },
    {
     "name": "stderr",
     "output_type": "stream",
     "text": [
      "Predicting:  61%|█████████████████████████████████████████▎                          | 304/500 [00:57<00:39,  4.97it/s]"
     ]
    },
    {
     "name": "stdout",
     "output_type": "stream",
     "text": [
      "==> model memae\n",
      "==> Maker=JSW_Facility=1013_ITEM=T1Z23-03010_setting=233\n",
      "==> mae_recon_loss 0.09062079774244258\n",
      "==> threshold 0.3191580615204906\n",
      "==> margin limit 0.03587061362676819\n",
      "==> prediction result : Normal\n",
      "======================================================================================================================================================\n",
      "==> WorkingNumber PD2506260039_B_010_20250723_1106_2_1\n",
      "==> Search Closest Trained Setting from Dictionary\n",
      "==> Setting Based Prediction\n"
     ]
    },
    {
     "name": "stderr",
     "output_type": "stream",
     "text": [
      "Predicting:  61%|█████████████████████████████████████████▍                          | 305/500 [00:58<00:42,  4.64it/s]"
     ]
    },
    {
     "name": "stdout",
     "output_type": "stream",
     "text": [
      "==> model memae\n",
      "==> Maker=JSW_Facility=1013_ITEM=T1Z23-04010_setting=233\n",
      "==> mae_recon_loss 0.480638291839689\n",
      "==> threshold 0.30379549933022887\n",
      "==> margin limit 0.032092616423220685\n",
      "==> prediction result : Fault\n",
      "======================================================================================================================================================\n",
      "==> WorkingNumber PD2506260038_B_010_20250723_1106_2_1\n",
      "==> Search Closest Trained Setting from Dictionary\n",
      "==> Setting Based Prediction\n"
     ]
    },
    {
     "name": "stderr",
     "output_type": "stream",
     "text": [
      "Predicting:  61%|█████████████████████████████████████████▊                          | 307/500 [00:58<00:39,  4.86it/s]"
     ]
    },
    {
     "name": "stdout",
     "output_type": "stream",
     "text": [
      "==> model memae\n",
      "==> Maker=JSW_Facility=1013_ITEM=T1Z23-04010_setting=233\n",
      "==> mae_recon_loss 0.480638291839689\n",
      "==> threshold 0.30481413182609857\n",
      "==> margin limit 0.032436081556961725\n",
      "==> prediction result : Fault\n",
      "======================================================================================================================================================\n",
      "==> WorkingNumber PD2506260011_B_010_20250723_1015_668682_4\n",
      "==> Search Closest Trained Setting from current Facility/ItemCode\n",
      "==> Setting Based Prediction\n",
      "==> model AE\n",
      "==> Maker=ENGEL_Facility=1015_ITEM=W-CG921-37220-A_setting=93\n",
      "==> mae_recon_loss 0.22549262811835039\n",
      "==> threshold 0.1836070310708114\n",
      "==> margin limit 0.053167504293307404\n",
      "==> prediction result : Normal\n",
      "======================================================================================================================================================\n",
      "==> WorkingNumber PD2506260035_B_010_20250723_1013_3710_1\n",
      "==> Search Closest Trained Setting from current Facility/ItemCode\n",
      "==> Setting Based Prediction\n"
     ]
    },
    {
     "name": "stderr",
     "output_type": "stream",
     "text": [
      "Predicting:  62%|█████████████████████████████████████████▉                          | 308/500 [00:58<00:42,  4.54it/s]"
     ]
    },
    {
     "name": "stdout",
     "output_type": "stream",
     "text": [
      "==> model memae\n",
      "==> Maker=JSW_Facility=1013_ITEM=T1Z23-04010_setting=233\n",
      "==> mae_recon_loss 0.09053152607202647\n",
      "==> threshold 0.31452215531273126\n",
      "==> margin limit 0.03558948158145759\n",
      "==> prediction result : Normal\n",
      "======================================================================================================================================================\n",
      "==> WorkingNumber PD2506260034_B_010_20250723_1013_3710_1\n",
      "==> Search Closest Trained Setting from current Facility/ItemCode\n",
      "==> Setting Based Prediction\n"
     ]
    },
    {
     "name": "stderr",
     "output_type": "stream",
     "text": [
      "Predicting:  62%|██████████████████████████████████████████                          | 309/500 [00:59<00:44,  4.31it/s]"
     ]
    },
    {
     "name": "stdout",
     "output_type": "stream",
     "text": [
      "==> model memae\n",
      "==> Maker=JSW_Facility=1013_ITEM=T1Z23-03010_setting=233\n",
      "==> mae_recon_loss 0.09053152607202647\n",
      "==> threshold 0.31644845564010304\n",
      "==> margin limit 0.036007562458366824\n",
      "==> prediction result : Normal\n",
      "======================================================================================================================================================\n",
      "==> WorkingNumber PD2506260008_B_010_20250723_1101_35862_4\n",
      "==> Search Closest Trained Setting from current Facility/ItemCode\n",
      "==> Setting Based Prediction\n"
     ]
    },
    {
     "name": "stderr",
     "output_type": "stream",
     "text": [
      "Predicting:  62%|██████████████████████████████████████████▍                         | 312/500 [00:59<00:32,  5.87it/s]"
     ]
    },
    {
     "name": "stdout",
     "output_type": "stream",
     "text": [
      "==> model memae\n",
      "==> Maker=JSW_Facility=1101_ITEM=W-BE921-37041-A_setting=24\n",
      "==> mae_recon_loss 0.11775245428025524\n",
      "==> threshold 0.3438993948527121\n",
      "==> margin limit 0.050434163712494345\n",
      "==> prediction result : Normal\n",
      "======================================================================================================================================================\n",
      "==> WorkingNumber PD2506260013_B_010_20250723_2110_3266_1\n",
      "==> Search Closest Trained Setting from Dictionary\n",
      "==> Setting Based Prediction\n",
      "==> model ISF\n",
      "==> Maker=JSW_Facility=1101_ITEM=W-BE921-37021-A_setting=474\n",
      "==> mae_recon_loss 0.13891470038654996\n",
      "==> threshold 0.1185294203179011\n",
      "==> margin limit 0.024658673556413536\n",
      "==> prediction result : Normal\n",
      "======================================================================================================================================================\n",
      "==> WorkingNumber PD2506260012_B_010_20250723_2110_3266_1\n",
      "==> Search Closest Trained Setting from Dictionary\n",
      "==> Setting Based Prediction\n",
      "==> model ISF\n",
      "==> Maker=JSW_Facility=1101_ITEM=W-BE921-37021-A_setting=474\n",
      "==> mae_recon_loss 0.13891470038654996\n",
      "==> threshold 0.11863444558374542\n",
      "==> margin limit 0.0246913844354144\n",
      "==> prediction result : Normal\n",
      "======================================================================================================================================================\n"
     ]
    },
    {
     "name": "stderr",
     "output_type": "stream",
     "text": [
      "Predicting:  63%|██████████████████████████████████████████▌                         | 313/500 [00:59<00:32,  5.72it/s]"
     ]
    },
    {
     "name": "stdout",
     "output_type": "stream",
     "text": [
      "==> WorkingNumber PD2506260021_B_010_20250723_1103_5160_4\n",
      "==> Search Closest Trained Setting from Dictionary\n",
      "==> Setting Based Prediction\n",
      "==> model AE\n",
      "==> Maker=JSW_Facility=1104_ITEM=P2921-37000_setting=125\n",
      "==> mae_recon_loss 0.18527298418208368\n",
      "==> threshold 0.28355664960426685\n",
      "==> margin limit 0.06128140422905786\n",
      "==> prediction result : Normal\n",
      "======================================================================================================================================================\n",
      "==> WorkingNumber PD2506260027_B_010_20250723_1102_6147_1\n",
      "==> Search Closest Trained Setting from Dictionary\n",
      "==> Setting Based Prediction\n"
     ]
    },
    {
     "name": "stderr",
     "output_type": "stream",
     "text": [
      "Predicting:  63%|██████████████████████████████████████████▊                         | 315/500 [01:00<00:32,  5.66it/s]"
     ]
    },
    {
     "name": "stdout",
     "output_type": "stream",
     "text": [
      "==> model AE\n",
      "==> Maker=JSW_Facility=1104_ITEM=P2921-37000_setting=125\n",
      "==> mae_recon_loss 0.406935473561733\n",
      "==> threshold 0.28322737236615236\n",
      "==> margin limit 0.06135507878320683\n",
      "==> prediction result : Fault\n",
      "======================================================================================================================================================\n",
      "==> WorkingNumber PD2506260001_B_010_20250723_M1006_240016_1\n",
      "==> Search Closest Trained Setting from Dictionary\n",
      "==> Setting Based Prediction\n",
      "==> model AE\n",
      "==> Maker=ENGEL_Facility=1015_ITEM=W-CG921-37220-A_setting=93\n",
      "==> mae_recon_loss 0.398362472653389\n",
      "==> threshold 0.18378794410125177\n",
      "==> margin limit 0.05313861081550179\n",
      "==> prediction result : Fault\n",
      "======================================================================================================================================================\n",
      "==> WorkingNumber PD2506260011_B_010_20250723_1015_668683_4\n",
      "==> Search Closest Trained Setting from current Facility/ItemCode\n",
      "==> Setting Based Prediction\n"
     ]
    },
    {
     "name": "stderr",
     "output_type": "stream",
     "text": [
      "Predicting:  63%|██████████████████████████████████████████▉                         | 316/500 [01:00<00:39,  4.68it/s]"
     ]
    },
    {
     "name": "stdout",
     "output_type": "stream",
     "text": [
      "==> model AE\n",
      "==> Maker=ENGEL_Facility=1015_ITEM=W-CG921-37220-A_setting=93\n",
      "==> mae_recon_loss 0.22431935839915604\n",
      "==> threshold 0.1865400651754745\n",
      "==> margin limit 0.051028642309026734\n",
      "==> prediction result : Normal\n",
      "======================================================================================================================================================\n",
      "==> WorkingNumber PD2506260035_B_010_20250723_1013_3711_1\n",
      "==> Search Closest Trained Setting from current Facility/ItemCode\n",
      "==> Setting Based Prediction\n"
     ]
    },
    {
     "name": "stderr",
     "output_type": "stream",
     "text": [
      "Predicting:  63%|███████████████████████████████████████████                         | 317/500 [01:00<00:39,  4.58it/s]"
     ]
    },
    {
     "name": "stdout",
     "output_type": "stream",
     "text": [
      "==> model memae\n",
      "==> Maker=JSW_Facility=1013_ITEM=T1Z23-04010_setting=233\n",
      "==> mae_recon_loss 0.08081268370545162\n",
      "==> threshold 0.3172949885145642\n",
      "==> margin limit 0.03549122257698805\n",
      "==> prediction result : Normal\n",
      "======================================================================================================================================================\n",
      "==> WorkingNumber PD2506260034_B_010_20250723_1013_3711_1\n",
      "==> Search Closest Trained Setting from current Facility/ItemCode\n",
      "==> Setting Based Prediction\n"
     ]
    },
    {
     "name": "stderr",
     "output_type": "stream",
     "text": [
      "Predicting:  64%|███████████████████████████████████████████▏                        | 318/500 [01:00<00:40,  4.51it/s]"
     ]
    },
    {
     "name": "stdout",
     "output_type": "stream",
     "text": [
      "==> model memae\n",
      "==> Maker=JSW_Facility=1013_ITEM=T1Z23-03010_setting=233\n",
      "==> mae_recon_loss 0.08081268370545162\n",
      "==> threshold 0.31830456033731397\n",
      "==> margin limit 0.036091832052041126\n",
      "==> prediction result : Normal\n",
      "======================================================================================================================================================\n",
      "==> WorkingNumber PD2506260039_B_010_20250723_1106_3_1\n",
      "==> Search Closest Trained Setting from Dictionary\n",
      "==> Setting Based Prediction\n"
     ]
    },
    {
     "name": "stderr",
     "output_type": "stream",
     "text": [
      "Predicting:  64%|███████████████████████████████████████████▍                        | 319/500 [01:01<00:42,  4.31it/s]"
     ]
    },
    {
     "name": "stdout",
     "output_type": "stream",
     "text": [
      "==> model memae\n",
      "==> Maker=JSW_Facility=1013_ITEM=T1Z23-04010_setting=233\n",
      "==> mae_recon_loss 0.48079275633433016\n",
      "==> threshold 0.30278684124348665\n",
      "==> margin limit 0.03193046191243456\n",
      "==> prediction result : Fault\n",
      "======================================================================================================================================================\n",
      "==> WorkingNumber PD2506260038_B_010_20250723_1106_3_1\n",
      "==> Search Closest Trained Setting from Dictionary\n",
      "==> Setting Based Prediction\n"
     ]
    },
    {
     "name": "stderr",
     "output_type": "stream",
     "text": [
      "Predicting:  64%|███████████████████████████████████████████▌                        | 320/500 [01:01<00:43,  4.17it/s]"
     ]
    },
    {
     "name": "stdout",
     "output_type": "stream",
     "text": [
      "==> model memae\n",
      "==> Maker=JSW_Facility=1013_ITEM=T1Z23-04010_setting=233\n",
      "==> mae_recon_loss 0.48079275633433016\n",
      "==> threshold 0.3058361618150505\n",
      "==> margin limit 0.03192217179900487\n",
      "==> prediction result : Fault\n",
      "======================================================================================================================================================\n",
      "==> WorkingNumber PD2506260010_B_010_20250723_1104_7224_8\n",
      "==> Search Closest Trained Setting from current Facility/ItemCode\n",
      "==> Setting Based Prediction\n",
      "==> model ISF\n",
      "==> Maker=JSW_Facility=1104_ITEM=F-CG921-37220-A_setting=1061\n",
      "==> mae_recon_loss 0.10212681059119022\n",
      "==> threshold 0.0863020923757837\n",
      "==> margin limit 0.02632743707540738\n",
      "==> prediction result : Normal\n",
      "======================================================================================================================================================\n",
      "==> WorkingNumber PD2506260008_B_010_20250723_1101_35863_4\n",
      "==> Search Closest Trained Setting from current Facility/ItemCode\n",
      "==> Setting Based Prediction\n"
     ]
    },
    {
     "name": "stderr",
     "output_type": "stream",
     "text": [
      "Predicting:  65%|███████████████████████████████████████████▉                        | 323/500 [01:01<00:35,  4.96it/s]"
     ]
    },
    {
     "name": "stdout",
     "output_type": "stream",
     "text": [
      "==> model memae\n",
      "==> Maker=JSW_Facility=1101_ITEM=W-BE921-37041-A_setting=24\n",
      "==> mae_recon_loss 0.11562640061961535\n",
      "==> threshold 0.3402032043289963\n",
      "==> margin limit 0.04926896416747004\n",
      "==> prediction result : Normal\n",
      "======================================================================================================================================================\n",
      "==> WorkingNumber PD2506260011_B_010_20250723_1015_668684_4\n",
      "==> Search Closest Trained Setting from current Facility/ItemCode\n",
      "==> Setting Based Prediction\n",
      "==> model AE\n",
      "==> Maker=ENGEL_Facility=1015_ITEM=W-CG921-37220-A_setting=93\n",
      "==> mae_recon_loss 0.22609097978078393\n",
      "==> threshold 0.18590738560795625\n",
      "==> margin limit 0.050795792116658314\n",
      "==> prediction result : Normal\n",
      "======================================================================================================================================================\n"
     ]
    },
    {
     "name": "stderr",
     "output_type": "stream",
     "text": [
      "Predicting:  65%|████████████████████████████████████████████                        | 324/500 [01:02<00:35,  5.01it/s]"
     ]
    },
    {
     "name": "stdout",
     "output_type": "stream",
     "text": [
      "==> WorkingNumber PD2506261346_B_010_20250723_2113_26889_1\n",
      "==> Search Closest Trained Setting from Dictionary\n",
      "==> Setting Based Prediction\n",
      "==> model AE\n",
      "==> Maker=JSW_Facility=1102_ITEM=W-ZMM92-137010-A_setting=81\n",
      "==> mae_recon_loss 0.429694145101044\n",
      "==> threshold 0.365043634453932\n",
      "==> margin limit 0.10185174457771423\n",
      "==> prediction result : Normal\n",
      "======================================================================================================================================================\n"
     ]
    },
    {
     "name": "stderr",
     "output_type": "stream",
     "text": [
      "Predicting:  65%|████████████████████████████████████████████▏                       | 325/500 [01:02<00:32,  5.45it/s]"
     ]
    },
    {
     "name": "stdout",
     "output_type": "stream",
     "text": [
      "==> WorkingNumber PD2506260031_B_010_20250723_1012_3304_4\n",
      "==> Setting Based Prediction\n",
      "==> model AE\n",
      "==> Maker=JSW_Facility=1012_ITEM=F-N1921-37520-A_setting=242\n",
      "==> mae_recon_loss 0.0964340585513799\n",
      "==> threshold 0.2137330775032018\n",
      "==> margin limit 0.03\n",
      "==> prediction result : Normal\n",
      "======================================================================================================================================================\n",
      "==> WorkingNumber PD2506260030_B_010_20250723_1012_3304_4\n",
      "==> Setting Based Prediction\n"
     ]
    },
    {
     "name": "stderr",
     "output_type": "stream",
     "text": [
      "Predicting:  65%|████████████████████████████████████████████▍                       | 327/500 [01:02<00:27,  6.24it/s]"
     ]
    },
    {
     "name": "stdout",
     "output_type": "stream",
     "text": [
      "==> model AE\n",
      "==> Maker=JSW_Facility=1012_ITEM=F-N1921-37510-A_setting=242\n",
      "==> mae_recon_loss 0.09760015345270892\n",
      "==> threshold 0.21577117784742858\n",
      "==> margin limit 0.03\n",
      "==> prediction result : Normal\n",
      "======================================================================================================================================================\n",
      "==> WorkingNumber PD2506260018_B_010_20250723_2027_15633_1\n",
      "==> Setting Based Prediction\n",
      "==> model AE\n",
      "==> Maker=JSW_Facility=2027_ITEM=T1Z23-04020_setting=197\n",
      "==> mae_recon_loss 0.11367482393572158\n",
      "==> threshold 0.1524310932170106\n",
      "==> margin limit 0.03\n",
      "==> prediction result : Normal\n",
      "======================================================================================================================================================\n",
      "==> WorkingNumber PD2506260017_B_010_20250723_2027_15633_1\n",
      "==> Setting Based Prediction\n"
     ]
    },
    {
     "name": "stderr",
     "output_type": "stream",
     "text": [
      "Predicting:  66%|████████████████████████████████████████████▌                       | 328/500 [01:02<00:26,  6.52it/s]"
     ]
    },
    {
     "name": "stdout",
     "output_type": "stream",
     "text": [
      "==> model AE\n",
      "==> Maker=JSW_Facility=2027_ITEM=T1Z23-03020_setting=197\n",
      "==> mae_recon_loss 0.11367482393572158\n",
      "==> threshold 0.1524310932170106\n",
      "==> margin limit 0.03\n",
      "==> prediction result : Normal\n",
      "======================================================================================================================================================\n",
      "==> WorkingNumber PD2506260008_B_010_20250723_1101_35864_4\n",
      "==> Search Closest Trained Setting from current Facility/ItemCode\n",
      "==> Setting Based Prediction\n"
     ]
    },
    {
     "name": "stderr",
     "output_type": "stream",
     "text": [
      "Predicting:  66%|█████████████████████████████████████████████                       | 331/500 [01:03<00:24,  6.90it/s]"
     ]
    },
    {
     "name": "stdout",
     "output_type": "stream",
     "text": [
      "==> model memae\n",
      "==> Maker=JSW_Facility=1101_ITEM=W-BE921-37041-A_setting=24\n",
      "==> mae_recon_loss 0.11688568777955327\n",
      "==> threshold 0.3421406799899744\n",
      "==> margin limit 0.04960002740858119\n",
      "==> prediction result : Normal\n",
      "======================================================================================================================================================\n",
      "==> WorkingNumber PD2506260039_B_010_20250723_1106_4_1\n",
      "==> Search Closest Trained Setting from Dictionary\n",
      "==> Setting Based Prediction\n",
      "==> model ISF\n",
      "==> Maker=JSW_Facility=1101_ITEM=W-BE921-37021-A_setting=474\n",
      "==> mae_recon_loss 0.08658444359749706\n",
      "==> threshold 0.1227442678247584\n",
      "==> margin limit 0.024493317022092554\n",
      "==> prediction result : Normal\n",
      "======================================================================================================================================================\n",
      "==> WorkingNumber PD2506260038_B_010_20250723_1106_4_1\n",
      "==> Search Closest Trained Setting from Dictionary\n",
      "==> Setting Based Prediction\n",
      "==> model ISF\n",
      "==> Maker=JSW_Facility=1101_ITEM=W-BE921-37021-A_setting=474\n",
      "==> mae_recon_loss 0.08658444359749706\n",
      "==> threshold 0.12032867509637092\n",
      "==> margin limit 0.02470648481878002\n",
      "==> prediction result : Normal\n",
      "======================================================================================================================================================\n",
      "==> WorkingNumber PD2506260011_B_010_20250723_1015_668685_4\n",
      "==> Search Closest Trained Setting from current Facility/ItemCode\n",
      "==> Setting Based Prediction\n"
     ]
    },
    {
     "name": "stderr",
     "output_type": "stream",
     "text": [
      "Predicting:  67%|█████████████████████████████████████████████▎                      | 333/500 [01:03<00:32,  5.19it/s]"
     ]
    },
    {
     "name": "stdout",
     "output_type": "stream",
     "text": [
      "==> model AE\n",
      "==> Maker=ENGEL_Facility=1015_ITEM=W-CG921-37220-A_setting=93\n",
      "==> mae_recon_loss 0.23045935630652337\n",
      "==> threshold 0.1838777719955779\n",
      "==> margin limit 0.052158856633149564\n",
      "==> prediction result : Normal\n",
      "======================================================================================================================================================\n",
      "==> WorkingNumber PD2506260027_B_010_20250723_1102_6148_1\n",
      "==> Search Closest Trained Setting from Dictionary\n",
      "==> Setting Based Prediction\n",
      "==> model AE\n",
      "==> Maker=JSW_Facility=1102_ITEM=W-ZMM92-137010-A_setting=81\n",
      "==> mae_recon_loss 0.45193094047103965\n",
      "==> threshold 0.36459521230545433\n",
      "==> margin limit 0.10123969288797158\n",
      "==> prediction result : Normal\n",
      "======================================================================================================================================================\n",
      "==> WorkingNumber PD2506260034_B_010_20250723_1013_3713_1\n",
      "==> Search Closest Trained Setting from current Facility/ItemCode\n",
      "==> Setting Based Prediction\n"
     ]
    },
    {
     "name": "stderr",
     "output_type": "stream",
     "text": [
      "Predicting:  67%|█████████████████████████████████████████████▍                      | 334/500 [01:03<00:35,  4.74it/s]"
     ]
    },
    {
     "name": "stdout",
     "output_type": "stream",
     "text": [
      "==> model memae\n",
      "==> Maker=JSW_Facility=1013_ITEM=T1Z23-03010_setting=233\n",
      "==> mae_recon_loss 0.08238192950765265\n",
      "==> threshold 0.3145491021793235\n",
      "==> margin limit 0.035760446678263676\n",
      "==> prediction result : Normal\n",
      "======================================================================================================================================================\n",
      "==> WorkingNumber PD2506260035_B_010_20250723_1013_3713_1\n",
      "==> Search Closest Trained Setting from current Facility/ItemCode\n",
      "==> Setting Based Prediction\n"
     ]
    },
    {
     "name": "stderr",
     "output_type": "stream",
     "text": [
      "Predicting:  67%|█████████████████████████████████████████████▋                      | 336/500 [01:04<00:34,  4.81it/s]"
     ]
    },
    {
     "name": "stdout",
     "output_type": "stream",
     "text": [
      "==> model memae\n",
      "==> Maker=JSW_Facility=1013_ITEM=T1Z23-04010_setting=233\n",
      "==> mae_recon_loss 0.08238192950765265\n",
      "==> threshold 0.31673892527693065\n",
      "==> margin limit 0.035997783570221036\n",
      "==> prediction result : Normal\n",
      "======================================================================================================================================================\n",
      "==> WorkingNumber PD2506260001_B_010_20250723_M1006_240017_1\n",
      "==> Search Closest Trained Setting from Dictionary\n",
      "==> Setting Based Prediction\n",
      "==> model AE\n",
      "==> Maker=ENGEL_Facility=1015_ITEM=W-CG921-37220-A_setting=93\n",
      "==> mae_recon_loss 0.398362472653389\n",
      "==> threshold 0.186355713253829\n",
      "==> margin limit 0.050280354823265296\n",
      "==> prediction result : Fault\n",
      "======================================================================================================================================================\n",
      "==> WorkingNumber PD2506260013_B_010_20250723_2110_3267_1\n",
      "==> Search Closest Trained Setting from Dictionary\n",
      "==> Setting Based Prediction\n"
     ]
    },
    {
     "name": "stderr",
     "output_type": "stream",
     "text": [
      "Predicting:  67%|█████████████████████████████████████████████▊                      | 337/500 [01:04<00:36,  4.43it/s]"
     ]
    },
    {
     "name": "stdout",
     "output_type": "stream",
     "text": [
      "==> model memae\n",
      "==> Maker=JSW_Facility=1013_ITEM=T1Z23-04010_setting=233\n",
      "==> mae_recon_loss 0.47132218496258055\n",
      "==> threshold 0.3050084128633109\n",
      "==> margin limit 0.03235505062260934\n",
      "==> prediction result : Fault\n",
      "======================================================================================================================================================\n",
      "==> WorkingNumber PD2506260012_B_010_20250723_2110_3267_1\n",
      "==> Search Closest Trained Setting from Dictionary\n",
      "==> Setting Based Prediction\n"
     ]
    },
    {
     "name": "stderr",
     "output_type": "stream",
     "text": [
      "Predicting:  68%|██████████████████████████████████████████████                      | 339/500 [01:04<00:32,  5.02it/s]"
     ]
    },
    {
     "name": "stdout",
     "output_type": "stream",
     "text": [
      "==> model memae\n",
      "==> Maker=JSW_Facility=1013_ITEM=T1Z23-04010_setting=233\n",
      "==> mae_recon_loss 0.47132218496258055\n",
      "==> threshold 0.3030227889543994\n",
      "==> margin limit 0.03223142739011194\n",
      "==> prediction result : Fault\n",
      "======================================================================================================================================================\n",
      "==> WorkingNumber PD2506260018_B_010_20250723_2027_15634_1\n",
      "==> Setting Based Prediction\n",
      "==> model AE\n",
      "==> Maker=JSW_Facility=2027_ITEM=T1Z23-04020_setting=197\n",
      "==> mae_recon_loss 0.12573575749897778\n",
      "==> threshold 0.1524310932170106\n",
      "==> margin limit 0.03\n",
      "==> prediction result : Normal\n",
      "======================================================================================================================================================\n",
      "==> WorkingNumber PD2506260017_B_010_20250723_2027_15634_1\n",
      "==> Setting Based Prediction\n"
     ]
    },
    {
     "name": "stderr",
     "output_type": "stream",
     "text": [
      "Predicting:  68%|██████████████████████████████████████████████▍                     | 341/500 [01:05<00:28,  5.64it/s]"
     ]
    },
    {
     "name": "stdout",
     "output_type": "stream",
     "text": [
      "==> model AE\n",
      "==> Maker=JSW_Facility=2027_ITEM=T1Z23-03020_setting=197\n",
      "==> mae_recon_loss 0.12573575749897778\n",
      "==> threshold 0.1524310932170106\n",
      "==> margin limit 0.03\n",
      "==> prediction result : Normal\n",
      "======================================================================================================================================================\n",
      "==> WorkingNumber PD2506260011_B_010_20250723_1015_668686_4\n",
      "==> Search Closest Trained Setting from current Facility/ItemCode\n",
      "==> Setting Based Prediction\n",
      "==> model AE\n",
      "==> Maker=ENGEL_Facility=1015_ITEM=W-CG921-37220-A_setting=93\n",
      "==> mae_recon_loss 0.21897483812235233\n",
      "==> threshold 0.18657236398444127\n",
      "==> margin limit 0.0508011359942017\n",
      "==> prediction result : Normal\n",
      "======================================================================================================================================================\n",
      "==> WorkingNumber PD2506260035_B_010_20250723_1013_3714_1\n",
      "==> Search Closest Trained Setting from current Facility/ItemCode\n",
      "==> Setting Based Prediction\n"
     ]
    },
    {
     "name": "stderr",
     "output_type": "stream",
     "text": [
      "Predicting:  68%|██████████████████████████████████████████████▌                     | 342/500 [01:05<00:31,  4.95it/s]"
     ]
    },
    {
     "name": "stdout",
     "output_type": "stream",
     "text": [
      "==> model memae\n",
      "==> Maker=JSW_Facility=1013_ITEM=T1Z23-04010_setting=233\n",
      "==> mae_recon_loss 0.08968154468597582\n",
      "==> threshold 0.31730906191777986\n",
      "==> margin limit 0.036119913191107945\n",
      "==> prediction result : Normal\n",
      "======================================================================================================================================================\n",
      "==> WorkingNumber PD2506260034_B_010_20250723_1013_3714_1\n",
      "==> Search Closest Trained Setting from current Facility/ItemCode\n",
      "==> Setting Based Prediction\n"
     ]
    },
    {
     "name": "stderr",
     "output_type": "stream",
     "text": [
      "Predicting:  69%|██████████████████████████████████████████████▋                     | 343/500 [01:05<00:34,  4.59it/s]"
     ]
    },
    {
     "name": "stdout",
     "output_type": "stream",
     "text": [
      "==> model memae\n",
      "==> Maker=JSW_Facility=1013_ITEM=T1Z23-03010_setting=233\n",
      "==> mae_recon_loss 0.08968154468597582\n",
      "==> threshold 0.3154513051670663\n",
      "==> margin limit 0.03554238341609336\n",
      "==> prediction result : Normal\n",
      "======================================================================================================================================================\n",
      "==> WorkingNumber PD2506260008_B_010_20250723_1101_35865_4\n",
      "==> Search Closest Trained Setting from current Facility/ItemCode\n",
      "==> Setting Based Prediction\n"
     ]
    },
    {
     "name": "stderr",
     "output_type": "stream",
     "text": [
      "Predicting:  69%|██████████████████████████████████████████████▊                     | 344/500 [01:06<00:35,  4.38it/s]"
     ]
    },
    {
     "name": "stdout",
     "output_type": "stream",
     "text": [
      "==> model memae\n",
      "==> Maker=JSW_Facility=1101_ITEM=W-BE921-37041-A_setting=24\n",
      "==> mae_recon_loss 0.11679745373970965\n",
      "==> threshold 0.3402237087828148\n",
      "==> margin limit 0.04789077786841363\n",
      "==> prediction result : Normal\n",
      "======================================================================================================================================================\n",
      "==> WorkingNumber PD2506260010_B_010_20250723_1104_7225_8\n",
      "==> Search Closest Trained Setting from current Facility/ItemCode\n",
      "==> Setting Based Prediction\n",
      "==> model ISF\n",
      "==> Maker=JSW_Facility=1104_ITEM=F-CG921-37220-A_setting=1061\n",
      "==> mae_recon_loss 0.12539748264028927\n",
      "==> threshold 0.0848360156873497\n",
      "==> margin limit 0.02614903122692032\n",
      "==> prediction result : Fault\n",
      "======================================================================================================================================================\n",
      "==> WorkingNumber PD2506260021_B_010_20250723_1103_5161_4\n",
      "==> Search Closest Trained Setting from Dictionary\n",
      "==> Setting Based Prediction\n"
     ]
    },
    {
     "name": "stderr",
     "output_type": "stream",
     "text": [
      "Predicting:  69%|███████████████████████████████████████████████                     | 346/500 [01:06<00:29,  5.28it/s]"
     ]
    },
    {
     "name": "stdout",
     "output_type": "stream",
     "text": [
      "==> model AE\n",
      "==> Maker=JSW_Facility=1104_ITEM=P2921-37000_setting=125\n",
      "==> mae_recon_loss 0.1878711613656542\n",
      "==> threshold 0.28708176132931984\n",
      "==> margin limit 0.06129981346335711\n",
      "==> prediction result : Normal\n",
      "======================================================================================================================================================\n",
      "==> WorkingNumber PD2506260039_B_010_20250723_1106__1\n",
      "==> Search Closest Trained Setting from Dictionary\n",
      "==> Setting Based Prediction\n"
     ]
    },
    {
     "name": "stderr",
     "output_type": "stream",
     "text": [
      "Predicting:  70%|███████████████████████████████████████████████▎                    | 348/500 [01:06<00:32,  4.73it/s]"
     ]
    },
    {
     "name": "stdout",
     "output_type": "stream",
     "text": [
      "==> model AE\n",
      "==> Maker=JSW_Facility=1013_ITEM=T1Z23-04010_setting=0\n",
      "==> mae_recon_loss 0.4110663514340962\n",
      "==> threshold 0.3356051930632379\n",
      "==> margin limit 0.05237316015580415\n",
      "==> prediction result : Fault\n",
      "======================================================================================================================================================\n",
      "==> WorkingNumber PD2506260038_B_010_20250723_1106__1\n",
      "==> Search Closest Trained Setting from Dictionary\n",
      "==> Setting Based Prediction\n",
      "==> model AE\n",
      "==> Maker=JSW_Facility=1104_ITEM=P2921-37000_setting=125\n",
      "==> mae_recon_loss 0.1878711613656542\n",
      "==> threshold 0.2867705186638892\n",
      "==> margin limit 0.06135130857679177\n",
      "==> prediction result : Normal\n",
      "======================================================================================================================================================\n",
      "==> WorkingNumber PD2506260039_B_010_20250723_1106_5_1\n",
      "==> Search Closest Trained Setting from Dictionary\n",
      "==> Setting Based Prediction\n"
     ]
    },
    {
     "name": "stderr",
     "output_type": "stream",
     "text": [
      "Predicting:  70%|███████████████████████████████████████████████▌                    | 350/500 [01:07<00:30,  4.96it/s]"
     ]
    },
    {
     "name": "stdout",
     "output_type": "stream",
     "text": [
      "==> model AE\n",
      "==> Maker=JSW_Facility=1104_ITEM=P2921-37000_setting=125\n",
      "==> mae_recon_loss 0.2803829212570987\n",
      "==> threshold 0.2856522134999743\n",
      "==> margin limit 0.06167517794596122\n",
      "==> prediction result : Normal\n",
      "======================================================================================================================================================\n",
      "==> WorkingNumber PD2506260038_B_010_20250723_1106_5_1\n",
      "==> Search Closest Trained Setting from Dictionary\n",
      "==> Setting Based Prediction\n",
      "==> model AE\n",
      "==> Maker=JSW_Facility=1104_ITEM=P2921-37000_setting=125\n",
      "==> mae_recon_loss 0.2803829212570987\n",
      "==> threshold 0.2846290894945068\n",
      "==> margin limit 0.06131981914020809\n",
      "==> prediction result : Normal\n",
      "======================================================================================================================================================\n",
      "==> WorkingNumber PD2506260012_B_010_20250723_2110__1\n",
      "==> Search Closest Trained Setting from Dictionary\n",
      "==> Setting Based Prediction\n",
      "==> model ISF\n",
      "==> Maker=JSW_Facility=1010_ITEM=F-J7921-37100-A_setting=1421\n",
      "==> mae_recon_loss 0.1029092587135022\n",
      "==> threshold 0.10946766865168572\n",
      "==> margin limit 0.025052887357176402\n",
      "==> prediction result : Normal\n",
      "======================================================================================================================================================\n",
      "==> WorkingNumber PD2506260011_B_010_20250723_1015_668687_4\n",
      "==> Search Closest Trained Setting from current Facility/ItemCode\n",
      "==> Setting Based Prediction\n"
     ]
    },
    {
     "name": "stderr",
     "output_type": "stream",
     "text": [
      "Predicting:  70%|███████████████████████████████████████████████▊                    | 352/500 [01:07<00:25,  5.80it/s]"
     ]
    },
    {
     "name": "stdout",
     "output_type": "stream",
     "text": [
      "==> model AE\n",
      "==> Maker=ENGEL_Facility=1015_ITEM=W-CG921-37220-A_setting=93\n",
      "==> mae_recon_loss 0.22838896464329242\n",
      "==> threshold 0.185542686592279\n",
      "==> margin limit 0.051520916169732936\n",
      "==> prediction result : Normal\n",
      "======================================================================================================================================================\n",
      "==> WorkingNumber PD2506260035_B_010_20250723_1013_3715_1\n",
      "==> Search Closest Trained Setting from current Facility/ItemCode\n",
      "==> Setting Based Prediction\n"
     ]
    },
    {
     "name": "stderr",
     "output_type": "stream",
     "text": [
      "Predicting:  71%|████████████████████████████████████████████████                    | 353/500 [01:07<00:28,  5.18it/s]"
     ]
    },
    {
     "name": "stdout",
     "output_type": "stream",
     "text": [
      "==> model memae\n",
      "==> Maker=JSW_Facility=1013_ITEM=T1Z23-04010_setting=233\n",
      "==> mae_recon_loss 0.0831935566079837\n",
      "==> threshold 0.31903980486560557\n",
      "==> margin limit 0.03529047709947848\n",
      "==> prediction result : Normal\n",
      "======================================================================================================================================================\n",
      "==> WorkingNumber PD2506260034_B_010_20250723_1013_3715_1\n",
      "==> Search Closest Trained Setting from current Facility/ItemCode\n",
      "==> Setting Based Prediction\n"
     ]
    },
    {
     "name": "stderr",
     "output_type": "stream",
     "text": [
      "Predicting:  71%|████████████████████████████████████████████████▏                   | 354/500 [01:07<00:30,  4.77it/s]"
     ]
    },
    {
     "name": "stdout",
     "output_type": "stream",
     "text": [
      "==> model memae\n",
      "==> Maker=JSW_Facility=1013_ITEM=T1Z23-03010_setting=233\n",
      "==> mae_recon_loss 0.0831935566079837\n",
      "==> threshold 0.3159281470586204\n",
      "==> margin limit 0.03545476820390397\n",
      "==> prediction result : Normal\n",
      "======================================================================================================================================================\n",
      "==> WorkingNumber PD2506260027_B_010_20250723_1102_6149_1\n",
      "==> Search Closest Trained Setting from Dictionary\n",
      "==> Setting Based Prediction\n"
     ]
    },
    {
     "name": "stderr",
     "output_type": "stream",
     "text": [
      "Predicting:  71%|████████████████████████████████████████████████▎                   | 355/500 [01:08<00:32,  4.49it/s]"
     ]
    },
    {
     "name": "stdout",
     "output_type": "stream",
     "text": [
      "==> model memae\n",
      "==> Maker=JSW_Facility=1013_ITEM=T1Z23-04010_setting=233\n",
      "==> mae_recon_loss 0.4569591975959\n",
      "==> threshold 0.3036572381923871\n",
      "==> margin limit 0.032005506583877574\n",
      "==> prediction result : Fault\n",
      "======================================================================================================================================================\n",
      "==> WorkingNumber PD2506260008_B_010_20250723_1101_35866_4\n",
      "==> Search Closest Trained Setting from current Facility/ItemCode\n",
      "==> Setting Based Prediction\n"
     ]
    },
    {
     "name": "stderr",
     "output_type": "stream",
     "text": [
      "Predicting:  71%|████████████████████████████████████████████████▍                   | 356/500 [01:08<00:33,  4.32it/s]"
     ]
    },
    {
     "name": "stdout",
     "output_type": "stream",
     "text": [
      "==> model memae\n",
      "==> Maker=JSW_Facility=1101_ITEM=W-BE921-37041-A_setting=24\n",
      "==> mae_recon_loss 0.11881216891549516\n",
      "==> threshold 0.3442138794901732\n",
      "==> margin limit 0.04923605199184806\n",
      "==> prediction result : Normal\n",
      "======================================================================================================================================================\n",
      "==> WorkingNumber PD2506261346_B_010_20250723_2113_26890_1\n",
      "==> Search Closest Trained Setting from Dictionary\n",
      "==> Setting Based Prediction\n",
      "==> model ISF\n",
      "==> Maker=JSW_Facility=1101_ITEM=W-BE921-37021-A_setting=474\n",
      "==> mae_recon_loss 0.1012520254194258\n",
      "==> threshold 0.12037088758113856\n",
      "==> margin limit 0.024968181410952743\n",
      "==> prediction result : Normal\n",
      "======================================================================================================================================================\n",
      "==> WorkingNumber PD2506260001_B_010_20250723_M1006_240018_1\n",
      "==> Search Closest Trained Setting from Dictionary\n",
      "==> Setting Based Prediction\n"
     ]
    },
    {
     "name": "stderr",
     "output_type": "stream",
     "text": [
      "Predicting:  72%|████████████████████████████████████████████████▊                   | 359/500 [01:08<00:27,  5.21it/s]"
     ]
    },
    {
     "name": "stdout",
     "output_type": "stream",
     "text": [
      "==> model AE\n",
      "==> Maker=ENGEL_Facility=1015_ITEM=W-CG921-37220-A_setting=93\n",
      "==> mae_recon_loss 0.398362472653389\n",
      "==> threshold 0.1845230927064718\n",
      "==> margin limit 0.04924746669263263\n",
      "==> prediction result : Fault\n",
      "======================================================================================================================================================\n",
      "==> WorkingNumber PD2506260011_B_010_20250723_1015_668688_4\n",
      "==> Search Closest Trained Setting from current Facility/ItemCode\n",
      "==> Setting Based Prediction\n",
      "==> model AE\n",
      "==> Maker=ENGEL_Facility=1015_ITEM=W-CG921-37220-A_setting=93\n",
      "==> mae_recon_loss 0.22072815709747265\n",
      "==> threshold 0.18481350410090147\n",
      "==> margin limit 0.05099614582216643\n",
      "==> prediction result : Normal\n",
      "======================================================================================================================================================\n",
      "==> WorkingNumber PD2506260035_B_010_20250723_1013_3716_1\n",
      "==> Search Closest Trained Setting from current Facility/ItemCode\n",
      "==> Setting Based Prediction\n"
     ]
    },
    {
     "name": "stderr",
     "output_type": "stream",
     "text": [
      "Predicting:  72%|████████████████████████████████████████████████▉                   | 360/500 [01:09<00:29,  4.81it/s]"
     ]
    },
    {
     "name": "stdout",
     "output_type": "stream",
     "text": [
      "==> model memae\n",
      "==> Maker=JSW_Facility=1013_ITEM=T1Z23-04010_setting=233\n",
      "==> mae_recon_loss 0.08466704287808555\n",
      "==> threshold 0.3182656318164029\n",
      "==> margin limit 0.03558760084058037\n",
      "==> prediction result : Normal\n",
      "======================================================================================================================================================\n",
      "==> WorkingNumber PD2506260034_B_010_20250723_1013_3716_1\n",
      "==> Search Closest Trained Setting from current Facility/ItemCode\n",
      "==> Setting Based Prediction\n"
     ]
    },
    {
     "name": "stderr",
     "output_type": "stream",
     "text": [
      "Predicting:  72%|█████████████████████████████████████████████████                   | 361/500 [01:09<00:30,  4.52it/s]"
     ]
    },
    {
     "name": "stdout",
     "output_type": "stream",
     "text": [
      "==> model memae\n",
      "==> Maker=JSW_Facility=1013_ITEM=T1Z23-03010_setting=233\n",
      "==> mae_recon_loss 0.08466704287808555\n",
      "==> threshold 0.31565313585739546\n",
      "==> margin limit 0.03613548179025676\n",
      "==> prediction result : Normal\n",
      "======================================================================================================================================================\n",
      "==> WorkingNumber PD2506260038_B_010_20250723_1106_6_1\n",
      "==> Search Closest Trained Setting from Dictionary\n",
      "==> Setting Based Prediction\n"
     ]
    },
    {
     "name": "stderr",
     "output_type": "stream",
     "text": [
      "Predicting:  72%|█████████████████████████████████████████████████▏                  | 362/500 [01:09<00:36,  3.83it/s]"
     ]
    },
    {
     "name": "stdout",
     "output_type": "stream",
     "text": [
      "==> model memae\n",
      "==> Maker=JSW_Facility=1013_ITEM=T1Z23-04010_setting=233\n",
      "==> mae_recon_loss 0.4770442481834383\n",
      "==> threshold 0.3052127103057536\n",
      "==> margin limit 0.032306363075663876\n",
      "==> prediction result : Fault\n",
      "======================================================================================================================================================\n",
      "==> WorkingNumber PD2506260039_B_010_20250723_1106_6_1\n",
      "==> Search Closest Trained Setting from Dictionary\n",
      "==> Setting Based Prediction\n"
     ]
    },
    {
     "name": "stderr",
     "output_type": "stream",
     "text": [
      "Predicting:  73%|█████████████████████████████████████████████████▎                  | 363/500 [01:10<00:34,  3.97it/s]"
     ]
    },
    {
     "name": "stdout",
     "output_type": "stream",
     "text": [
      "==> model memae\n",
      "==> Maker=JSW_Facility=1013_ITEM=T1Z23-04010_setting=233\n",
      "==> mae_recon_loss 0.4770442481834383\n",
      "==> threshold 0.3028428556766963\n",
      "==> margin limit 0.03227790796912385\n",
      "==> prediction result : Fault\n",
      "======================================================================================================================================================\n",
      "==> WorkingNumber PD2506260008_B_010_20250723_1101_35867_4\n",
      "==> Search Closest Trained Setting from current Facility/ItemCode\n",
      "==> Setting Based Prediction\n"
     ]
    },
    {
     "name": "stderr",
     "output_type": "stream",
     "text": [
      "Predicting:  73%|█████████████████████████████████████████████████▊                  | 366/500 [01:10<00:24,  5.56it/s]"
     ]
    },
    {
     "name": "stdout",
     "output_type": "stream",
     "text": [
      "==> model memae\n",
      "==> Maker=JSW_Facility=1101_ITEM=W-BE921-37041-A_setting=24\n",
      "==> mae_recon_loss 0.1169544482677519\n",
      "==> threshold 0.3447560864497718\n",
      "==> margin limit 0.050155099191431164\n",
      "==> prediction result : Normal\n",
      "======================================================================================================================================================\n",
      "==> WorkingNumber PD2506260013_B_010_20250723_2110_3268_1\n",
      "==> Search Closest Trained Setting from Dictionary\n",
      "==> Setting Based Prediction\n",
      "==> model ISF\n",
      "==> Maker=JSW_Facility=1101_ITEM=W-BE921-37021-A_setting=474\n",
      "==> mae_recon_loss 0.16337395074459693\n",
      "==> threshold 0.11838487864674388\n",
      "==> margin limit 0.024398870984909143\n",
      "==> prediction result : Fault\n",
      "======================================================================================================================================================\n",
      "==> WorkingNumber PD2506260012_B_010_20250723_2110_3268_1\n",
      "==> Search Closest Trained Setting from Dictionary\n",
      "==> Setting Based Prediction\n",
      "==> model ISF\n",
      "==> Maker=JSW_Facility=1101_ITEM=W-BE921-37021-A_setting=474\n",
      "==> mae_recon_loss 0.16337395074459693\n",
      "==> threshold 0.12213502793914088\n",
      "==> margin limit 0.024774907730674617\n",
      "==> prediction result : Fault\n",
      "======================================================================================================================================================\n"
     ]
    },
    {
     "name": "stderr",
     "output_type": "stream",
     "text": [
      "Predicting:  73%|█████████████████████████████████████████████████▉                  | 367/500 [01:10<00:25,  5.31it/s]"
     ]
    },
    {
     "name": "stdout",
     "output_type": "stream",
     "text": [
      "==> WorkingNumber PD2506260011_B_010_20250723_1015_668689_4\n",
      "==> Search Closest Trained Setting from current Facility/ItemCode\n",
      "==> Setting Based Prediction\n",
      "==> model AE\n",
      "==> Maker=ENGEL_Facility=1015_ITEM=W-CG921-37220-A_setting=93\n",
      "==> mae_recon_loss 0.22012000616085234\n",
      "==> threshold 0.1825040744078315\n",
      "==> margin limit 0.04882710348465594\n",
      "==> prediction result : Normal\n",
      "======================================================================================================================================================\n",
      "==> WorkingNumber PD2506260010_B_010_20250723_1104_7226_8\n",
      "==> Search Closest Trained Setting from current Facility/ItemCode\n",
      "==> Setting Based Prediction\n",
      "==> model ISF\n",
      "==> Maker=JSW_Facility=1104_ITEM=F-CG921-37220-A_setting=1061\n",
      "==> mae_recon_loss 0.10212681059119022\n",
      "==> threshold 0.08745817017336326\n",
      "==> margin limit 0.026401091155010215\n",
      "==> prediction result : Normal\n",
      "======================================================================================================================================================\n",
      "==> WorkingNumber PD2506260035_B_010_20250723_1013_3717_1\n",
      "==> Search Closest Trained Setting from current Facility/ItemCode\n",
      "==> Setting Based Prediction\n"
     ]
    },
    {
     "name": "stderr",
     "output_type": "stream",
     "text": [
      "Predicting:  74%|██████████████████████████████████████████████████▏                 | 369/500 [01:11<00:24,  5.45it/s]"
     ]
    },
    {
     "name": "stdout",
     "output_type": "stream",
     "text": [
      "==> model memae\n",
      "==> Maker=JSW_Facility=1013_ITEM=T1Z23-04010_setting=233\n",
      "==> mae_recon_loss 0.0984479486891331\n",
      "==> threshold 0.31679921082500584\n",
      "==> margin limit 0.035949006476929876\n",
      "==> prediction result : Normal\n",
      "======================================================================================================================================================\n",
      "==> WorkingNumber PD2506260034_B_010_20250723_1013_3717_1\n",
      "==> Search Closest Trained Setting from current Facility/ItemCode\n",
      "==> Setting Based Prediction\n"
     ]
    },
    {
     "name": "stderr",
     "output_type": "stream",
     "text": [
      "Predicting:  74%|██████████████████████████████████████████████████▎                 | 370/500 [01:11<00:25,  5.02it/s]"
     ]
    },
    {
     "name": "stdout",
     "output_type": "stream",
     "text": [
      "==> model memae\n",
      "==> Maker=JSW_Facility=1013_ITEM=T1Z23-03010_setting=233\n",
      "==> mae_recon_loss 0.0984479486891331\n",
      "==> threshold 0.318554835133555\n",
      "==> margin limit 0.036362456984139646\n",
      "==> prediction result : Normal\n",
      "======================================================================================================================================================\n",
      "==> WorkingNumber PD2506260027_B_010_20250723_1102_6150_1\n",
      "==> Search Closest Trained Setting from Dictionary\n",
      "==> Setting Based Prediction\n"
     ]
    },
    {
     "name": "stderr",
     "output_type": "stream",
     "text": [
      "Predicting:  74%|██████████████████████████████████████████████████▌                 | 372/500 [01:11<00:26,  4.91it/s]"
     ]
    },
    {
     "name": "stdout",
     "output_type": "stream",
     "text": [
      "==> model memae\n",
      "==> Maker=JSW_Facility=1013_ITEM=T1Z23-04010_setting=233\n",
      "==> mae_recon_loss 0.45689154942294\n",
      "==> threshold 0.3040183279872871\n",
      "==> margin limit 0.03212790251082092\n",
      "==> prediction result : Fault\n",
      "======================================================================================================================================================\n",
      "==> WorkingNumber PD2506260011_B_010_20250723_1015_668690_4\n",
      "==> Search Closest Trained Setting from current Facility/ItemCode\n",
      "==> Setting Based Prediction\n",
      "==> model AE\n",
      "==> Maker=ENGEL_Facility=1015_ITEM=W-CG921-37220-A_setting=93\n",
      "==> mae_recon_loss 0.22348034521843488\n",
      "==> threshold 0.18533436204619602\n",
      "==> margin limit 0.05115454332740357\n",
      "==> prediction result : Normal\n",
      "======================================================================================================================================================\n",
      "==> WorkingNumber PD2506260039_B_010_20250723_1106_7_1\n",
      "==> Search Closest Trained Setting from Dictionary\n",
      "==> Setting Based Prediction\n"
     ]
    },
    {
     "name": "stderr",
     "output_type": "stream",
     "text": [
      "Predicting:  75%|██████████████████████████████████████████████████▊                 | 374/500 [01:12<00:26,  4.79it/s]"
     ]
    },
    {
     "name": "stdout",
     "output_type": "stream",
     "text": [
      "==> model AE\n",
      "==> Maker=JSW_Facility=1013_ITEM=S1Z22-02150_setting=90\n",
      "==> mae_recon_loss 0.5505528265946236\n",
      "==> threshold 0.2363504812645582\n",
      "==> margin limit 0.055425511216384116\n",
      "==> prediction result : Fault\n",
      "======================================================================================================================================================\n",
      "==> WorkingNumber PD2506260038_B_010_20250723_1106_7_1\n",
      "==> Search Closest Trained Setting from Dictionary\n",
      "==> Setting Based Prediction\n",
      "==> model AE\n",
      "==> Maker=JSW_Facility=1013_ITEM=S1Z22-02150_setting=90\n",
      "==> mae_recon_loss 0.5505528265946236\n",
      "==> threshold 0.23629619019056183\n",
      "==> margin limit 0.05605410710329888\n",
      "==> prediction result : Fault\n",
      "======================================================================================================================================================\n",
      "==> WorkingNumber PD2506260008_B_010_20250723_1101_35868_4\n",
      "==> Search Closest Trained Setting from current Facility/ItemCode\n",
      "==> Setting Based Prediction\n"
     ]
    },
    {
     "name": "stderr",
     "output_type": "stream",
     "text": [
      "Predicting:  75%|███████████████████████████████████████████████████▏                | 376/500 [01:12<00:26,  4.71it/s]"
     ]
    },
    {
     "name": "stdout",
     "output_type": "stream",
     "text": [
      "==> model memae\n",
      "==> Maker=JSW_Facility=1101_ITEM=W-BE921-37041-A_setting=24\n",
      "==> mae_recon_loss 0.12300530796460835\n",
      "==> threshold 0.342085124655888\n",
      "==> margin limit 0.04974556830023587\n",
      "==> prediction result : Normal\n",
      "======================================================================================================================================================\n",
      "==> WorkingNumber PD2506260021_B_010_20250723_1103_5162_4\n",
      "==> Search Closest Trained Setting from Dictionary\n",
      "==> Setting Based Prediction\n",
      "==> model AE\n",
      "==> Maker=JSW_Facility=1104_ITEM=P2921-37000_setting=125\n",
      "==> mae_recon_loss 0.18435946480115942\n",
      "==> threshold 0.2824692508980263\n",
      "==> margin limit 0.06114746102237017\n",
      "==> prediction result : Normal\n",
      "======================================================================================================================================================\n",
      "==> WorkingNumber PD2506260035_B_010_20250723_1013_3718_1\n",
      "==> Search Closest Trained Setting from current Facility/ItemCode\n",
      "==> Setting Based Prediction\n"
     ]
    },
    {
     "name": "stderr",
     "output_type": "stream",
     "text": [
      "Predicting:  75%|███████████████████████████████████████████████████▎                | 377/500 [01:12<00:28,  4.39it/s]"
     ]
    },
    {
     "name": "stdout",
     "output_type": "stream",
     "text": [
      "==> model memae\n",
      "==> Maker=JSW_Facility=1013_ITEM=T1Z23-04010_setting=233\n",
      "==> mae_recon_loss 0.0895890153728717\n",
      "==> threshold 0.3161728149341353\n",
      "==> margin limit 0.03613789007725293\n",
      "==> prediction result : Normal\n",
      "======================================================================================================================================================\n",
      "==> WorkingNumber PD2506260034_B_010_20250723_1013_3718_1\n",
      "==> Search Closest Trained Setting from current Facility/ItemCode\n",
      "==> Setting Based Prediction\n"
     ]
    },
    {
     "name": "stderr",
     "output_type": "stream",
     "text": [
      "Predicting:  76%|███████████████████████████████████████████████████▍                | 378/500 [01:13<00:28,  4.25it/s]"
     ]
    },
    {
     "name": "stdout",
     "output_type": "stream",
     "text": [
      "==> model memae\n",
      "==> Maker=JSW_Facility=1013_ITEM=T1Z23-03010_setting=233\n",
      "==> mae_recon_loss 0.0895890153728717\n",
      "==> threshold 0.31557662452041385\n",
      "==> margin limit 0.03558117454274401\n",
      "==> prediction result : Normal\n",
      "======================================================================================================================================================\n",
      "==> WorkingNumber PD2506260001_B_010_20250723_M1006_240019_1\n",
      "==> Search Closest Trained Setting from Dictionary\n",
      "==> Setting Based Prediction\n"
     ]
    },
    {
     "name": "stderr",
     "output_type": "stream",
     "text": [
      "Predicting:  76%|███████████████████████████████████████████████████▋                | 380/500 [01:13<00:26,  4.52it/s]"
     ]
    },
    {
     "name": "stdout",
     "output_type": "stream",
     "text": [
      "==> model AE\n",
      "==> Maker=ENGEL_Facility=1015_ITEM=W-CG921-37220-A_setting=93\n",
      "==> mae_recon_loss 0.4709860060445619\n",
      "==> threshold 0.18318997642442786\n",
      "==> margin limit 0.0522176421157548\n",
      "==> prediction result : Fault\n",
      "======================================================================================================================================================\n",
      "==> WorkingNumber PD2506260017_B_010_20250723_2027_15637_1\n",
      "==> Setting Based Prediction\n",
      "==> model AE\n",
      "==> Maker=JSW_Facility=2027_ITEM=T1Z23-03020_setting=197\n",
      "==> mae_recon_loss 0.11856725851985225\n",
      "==> threshold 0.1524310932170106\n",
      "==> margin limit 0.03\n",
      "==> prediction result : Normal\n",
      "======================================================================================================================================================\n",
      "==> WorkingNumber PD2506260018_B_010_20250723_2027_15637_1\n",
      "==> Setting Based Prediction\n"
     ]
    },
    {
     "name": "stderr",
     "output_type": "stream",
     "text": [
      "Predicting:  76%|███████████████████████████████████████████████████▊                | 381/500 [01:13<00:23,  5.15it/s]"
     ]
    },
    {
     "name": "stdout",
     "output_type": "stream",
     "text": [
      "==> model AE\n",
      "==> Maker=JSW_Facility=2027_ITEM=T1Z23-04020_setting=197\n",
      "==> mae_recon_loss 0.11856725851985225\n",
      "==> threshold 0.1524310932170106\n",
      "==> margin limit 0.03\n",
      "==> prediction result : Normal\n",
      "======================================================================================================================================================\n",
      "==> WorkingNumber PD2506260038_B_010_20250723_1106__1\n",
      "==> Search Closest Trained Setting from Dictionary\n",
      "==> Setting Based Prediction\n"
     ]
    },
    {
     "name": "stderr",
     "output_type": "stream",
     "text": [
      "Predicting:  76%|███████████████████████████████████████████████████▉                | 382/500 [01:13<00:23,  5.01it/s]"
     ]
    },
    {
     "name": "stdout",
     "output_type": "stream",
     "text": [
      "==> model AE\n",
      "==> Maker=JSW_Facility=1013_ITEM=T1Z23-04010_setting=0\n",
      "==> mae_recon_loss 0.4110663514340962\n",
      "==> threshold 0.3363629727610293\n",
      "==> margin limit 0.05142388365676196\n",
      "==> prediction result : Fault\n",
      "======================================================================================================================================================\n",
      "==> WorkingNumber PD2506260039_B_010_20250723_1106__1\n",
      "==> Search Closest Trained Setting from Dictionary\n",
      "==> Setting Based Prediction\n"
     ]
    },
    {
     "name": "stderr",
     "output_type": "stream",
     "text": [
      "Predicting:  77%|████████████████████████████████████████████████████                | 383/500 [01:14<00:23,  4.91it/s]"
     ]
    },
    {
     "name": "stdout",
     "output_type": "stream",
     "text": [
      "==> model AE\n",
      "==> Maker=JSW_Facility=1013_ITEM=S1Z22-02160_setting=41\n",
      "==> mae_recon_loss 0.3642535645379232\n",
      "==> threshold 0.4371194078756172\n",
      "==> margin limit 0.0755334628520374\n",
      "==> prediction result : Normal\n",
      "======================================================================================================================================================\n",
      "==> WorkingNumber PD2506260011_B_010_20250723_1015_668691_4\n",
      "==> Search Closest Trained Setting from current Facility/ItemCode\n",
      "==> Setting Based Prediction\n"
     ]
    },
    {
     "name": "stderr",
     "output_type": "stream",
     "text": [
      "Predicting:  77%|████████████████████████████████████████████████████▏               | 384/500 [01:14<00:23,  5.00it/s]"
     ]
    },
    {
     "name": "stdout",
     "output_type": "stream",
     "text": [
      "==> model AE\n",
      "==> Maker=ENGEL_Facility=1015_ITEM=W-CG921-37220-A_setting=93\n",
      "==> mae_recon_loss 0.22052398786445448\n",
      "==> threshold 0.18620912875834492\n",
      "==> margin limit 0.04904754539492276\n",
      "==> prediction result : Normal\n",
      "======================================================================================================================================================\n",
      "==> WorkingNumber PD2506260012_B_010_20250723_2110__1\n",
      "==> Search Closest Trained Setting from Dictionary\n",
      "==> Setting Based Prediction\n"
     ]
    },
    {
     "name": "stderr",
     "output_type": "stream",
     "text": [
      "Predicting:  77%|████████████████████████████████████████████████████▍               | 386/500 [01:14<00:24,  4.74it/s]"
     ]
    },
    {
     "name": "stdout",
     "output_type": "stream",
     "text": [
      "==> model memae\n",
      "==> Maker=JSW_Facility=2027_ITEM=T1Z23-04020_setting=14\n",
      "==> mae_recon_loss 0.48138598106227776\n",
      "==> threshold 0.29537311905139646\n",
      "==> margin limit 0.037992872033421325\n",
      "==> prediction result : Fault\n",
      "======================================================================================================================================================\n",
      "==> WorkingNumber PD2506260012_B_010_20250723_2110__1\n",
      "==> Search Closest Trained Setting from Dictionary\n",
      "==> Setting Based Prediction\n",
      "==> model AE\n",
      "==> Maker=JSW_Facility=2027_ITEM=T1Z23-04020_setting=197\n",
      "==> mae_recon_loss 0.25487970582016023\n",
      "==> threshold 0.1927223760447222\n",
      "==> margin limit 0.05677340584667823\n",
      "==> prediction result : Fault\n",
      "======================================================================================================================================================\n"
     ]
    },
    {
     "name": "stderr",
     "output_type": "stream",
     "text": [
      "Predicting:  77%|████████████████████████████████████████████████████▋               | 387/500 [01:14<00:21,  5.24it/s]"
     ]
    },
    {
     "name": "stdout",
     "output_type": "stream",
     "text": [
      "==> WorkingNumber PD2506260031_B_010_20250723_1012_3306_4\n",
      "==> Setting Based Prediction\n",
      "==> model AE\n",
      "==> Maker=JSW_Facility=1012_ITEM=F-N1921-37520-A_setting=242\n",
      "==> mae_recon_loss 0.10975405512703358\n",
      "==> threshold 0.2137330775032018\n",
      "==> margin limit 0.03\n",
      "==> prediction result : Normal\n",
      "======================================================================================================================================================\n",
      "==> WorkingNumber PD2506260030_B_010_20250723_1012_3306_4\n",
      "==> Setting Based Prediction\n"
     ]
    },
    {
     "name": "stderr",
     "output_type": "stream",
     "text": [
      "Predicting:  78%|████████████████████████████████████████████████████▊               | 388/500 [01:15<00:19,  5.69it/s]"
     ]
    },
    {
     "name": "stdout",
     "output_type": "stream",
     "text": [
      "==> model AE\n",
      "==> Maker=JSW_Facility=1012_ITEM=F-N1921-37510-A_setting=242\n",
      "==> mae_recon_loss 0.11136165454008633\n",
      "==> threshold 0.21577117784742858\n",
      "==> margin limit 0.03\n",
      "==> prediction result : Normal\n",
      "======================================================================================================================================================\n",
      "==> WorkingNumber PD2506260035_B_010_20250723_1013_3719_1\n",
      "==> Search Closest Trained Setting from current Facility/ItemCode\n",
      "==> Setting Based Prediction\n"
     ]
    },
    {
     "name": "stderr",
     "output_type": "stream",
     "text": [
      "Predicting:  78%|████████████████████████████████████████████████████▉               | 389/500 [01:15<00:21,  5.06it/s]"
     ]
    },
    {
     "name": "stdout",
     "output_type": "stream",
     "text": [
      "==> model memae\n",
      "==> Maker=JSW_Facility=1013_ITEM=T1Z23-04010_setting=233\n",
      "==> mae_recon_loss 0.08642705080736372\n",
      "==> threshold 0.31758717196986047\n",
      "==> margin limit 0.03596479600114485\n",
      "==> prediction result : Normal\n",
      "======================================================================================================================================================\n",
      "==> WorkingNumber PD2506260034_B_010_20250723_1013_3719_1\n",
      "==> Search Closest Trained Setting from current Facility/ItemCode\n",
      "==> Setting Based Prediction\n"
     ]
    },
    {
     "name": "stderr",
     "output_type": "stream",
     "text": [
      "Predicting:  78%|█████████████████████████████████████████████████████▏              | 391/500 [01:15<00:22,  4.88it/s]"
     ]
    },
    {
     "name": "stdout",
     "output_type": "stream",
     "text": [
      "==> model memae\n",
      "==> Maker=JSW_Facility=1013_ITEM=T1Z23-03010_setting=233\n",
      "==> mae_recon_loss 0.08642705080736372\n",
      "==> threshold 0.31716532675501247\n",
      "==> margin limit 0.035288619637033045\n",
      "==> prediction result : Normal\n",
      "======================================================================================================================================================\n",
      "==> WorkingNumber PD2506260001_B_010_20250723_M1006__1\n",
      "==> Search Closest Trained Setting from Dictionary\n",
      "==> Setting Based Prediction\n",
      "==> model AE\n",
      "==> Maker=ENGEL_Facility=1015_ITEM=W-CG921-37220-A_setting=93\n",
      "==> mae_recon_loss 0.23113517860619556\n",
      "==> threshold 0.18763143918799843\n",
      "==> margin limit 0.0553797679154729\n",
      "==> prediction result : Normal\n",
      "======================================================================================================================================================\n",
      "==> WorkingNumber PD2506260008_B_010_20250723_1101_35869_4\n",
      "==> Search Closest Trained Setting from current Facility/ItemCode\n",
      "==> Setting Based Prediction\n"
     ]
    },
    {
     "name": "stderr",
     "output_type": "stream",
     "text": [
      "Predicting:  78%|█████████████████████████████████████████████████████▎              | 392/500 [01:16<00:27,  3.94it/s]"
     ]
    },
    {
     "name": "stdout",
     "output_type": "stream",
     "text": [
      "==> model memae\n",
      "==> Maker=JSW_Facility=1101_ITEM=W-BE921-37041-A_setting=24\n",
      "==> mae_recon_loss 0.11833261195279889\n",
      "==> threshold 0.3443899756763856\n",
      "==> margin limit 0.0501468448314658\n",
      "==> prediction result : Normal\n",
      "======================================================================================================================================================\n",
      "==> WorkingNumber PD2506261346_B_010_20250723_2113_26891_1\n",
      "==> Search Closest Trained Setting from Dictionary\n",
      "==> Setting Based Prediction\n",
      "==> model ISF\n",
      "==> Maker=JSW_Facility=1101_ITEM=W-BE921-37021-A_setting=474\n",
      "==> mae_recon_loss 0.1012520254194258\n",
      "==> threshold 0.12146983554857962\n",
      "==> margin limit 0.02452128228671477\n",
      "==> prediction result : Normal\n",
      "======================================================================================================================================================\n",
      "==> WorkingNumber PD2506260038_B_010_20250723_1106_8_1\n",
      "==> Search Closest Trained Setting from Dictionary\n",
      "==> Setting Based Prediction\n"
     ]
    },
    {
     "name": "stderr",
     "output_type": "stream",
     "text": [
      "Predicting:  79%|█████████████████████████████████████████████████████▋              | 395/500 [01:16<00:17,  6.03it/s]"
     ]
    },
    {
     "name": "stdout",
     "output_type": "stream",
     "text": [
      "==> model ISF\n",
      "==> Maker=JSW_Facility=1101_ITEM=W-BE921-37021-A_setting=474\n",
      "==> mae_recon_loss 0.0828026100429814\n",
      "==> threshold 0.1192751996593906\n",
      "==> margin limit 0.024785045915144802\n",
      "==> prediction result : Normal\n",
      "======================================================================================================================================================\n",
      "==> WorkingNumber PD2506260039_B_010_20250723_1106_8_1\n",
      "==> Search Closest Trained Setting from Dictionary\n",
      "==> Setting Based Prediction\n",
      "==> model ISF\n",
      "==> Maker=JSW_Facility=1101_ITEM=W-BE921-37021-A_setting=474\n",
      "==> mae_recon_loss 0.0828026100429814\n",
      "==> threshold 0.12029832968305981\n",
      "==> margin limit 0.02444675637031616\n",
      "==> prediction result : Normal\n",
      "======================================================================================================================================================\n",
      "==> WorkingNumber PD2506260011_B_010_20250723_1015_668692_4\n",
      "==> Search Closest Trained Setting from current Facility/ItemCode\n",
      "==> Setting Based Prediction\n"
     ]
    },
    {
     "name": "stderr",
     "output_type": "stream",
     "text": [
      "Predicting:  79%|█████████████████████████████████████████████████████▉              | 397/500 [01:16<00:18,  5.49it/s]"
     ]
    },
    {
     "name": "stdout",
     "output_type": "stream",
     "text": [
      "==> model AE\n",
      "==> Maker=ENGEL_Facility=1015_ITEM=W-CG921-37220-A_setting=93\n",
      "==> mae_recon_loss 0.2187308778947786\n",
      "==> threshold 0.18409173726137795\n",
      "==> margin limit 0.05555423578893542\n",
      "==> prediction result : Normal\n",
      "======================================================================================================================================================\n",
      "==> WorkingNumber PD2506260013_B_010_20250723_2110_3269_1\n",
      "==> Search Closest Trained Setting from Dictionary\n",
      "==> Setting Based Prediction\n",
      "==> model AE\n",
      "==> Maker=JSW_Facility=1102_ITEM=W-ZMM92-137010-A_setting=81\n",
      "==> mae_recon_loss 0.37939934977656414\n",
      "==> threshold 0.36354631352906447\n",
      "==> margin limit 0.10283502487807286\n",
      "==> prediction result : Normal\n",
      "======================================================================================================================================================\n"
     ]
    },
    {
     "name": "stderr",
     "output_type": "stream",
     "text": [
      "Predicting:  80%|██████████████████████████████████████████████████████▏             | 398/500 [01:17<00:19,  5.34it/s]"
     ]
    },
    {
     "name": "stdout",
     "output_type": "stream",
     "text": [
      "==> WorkingNumber PD2506260012_B_010_20250723_2110_3269_1\n",
      "==> Search Closest Trained Setting from Dictionary\n",
      "==> Setting Based Prediction\n",
      "==> model AE\n",
      "==> Maker=JSW_Facility=1102_ITEM=W-ZMM92-137010-A_setting=81\n",
      "==> mae_recon_loss 0.37939934977656414\n",
      "==> threshold 0.36483013844987244\n",
      "==> margin limit 0.10087778334007101\n",
      "==> prediction result : Normal\n",
      "======================================================================================================================================================\n",
      "==> WorkingNumber PD2506260027_B_010_20250723_1102_6151_1\n",
      "==> Search Closest Trained Setting from Dictionary\n",
      "==> Setting Based Prediction\n"
     ]
    },
    {
     "name": "stderr",
     "output_type": "stream",
     "text": [
      "Predicting:  80%|██████████████████████████████████████████████████████▎             | 399/500 [01:17<00:19,  5.28it/s]"
     ]
    },
    {
     "name": "stdout",
     "output_type": "stream",
     "text": [
      "==> model AE\n",
      "==> Maker=JSW_Facility=1102_ITEM=W-ZMM92-137010-A_setting=81\n",
      "==> mae_recon_loss 0.45142628155553494\n",
      "==> threshold 0.36057936059270773\n",
      "==> margin limit 0.10130973068493317\n",
      "==> prediction result : Normal\n",
      "======================================================================================================================================================\n",
      "==> WorkingNumber PD2506260010_B_010_20250723_1104_7227_8\n",
      "==> Search Closest Trained Setting from current Facility/ItemCode\n",
      "==> Setting Based Prediction\n",
      "==> model ISF\n",
      "==> Maker=JSW_Facility=1104_ITEM=F-CG921-37220-A_setting=1061\n",
      "==> mae_recon_loss 0.10212681059119022\n",
      "==> threshold 0.08709002136614848\n",
      "==> margin limit 0.026221974884302158\n",
      "==> prediction result : Normal\n",
      "======================================================================================================================================================\n",
      "==> WorkingNumber PD2506260008_B_010_20250723_1101_35870_4\n",
      "==> Search Closest Trained Setting from current Facility/ItemCode\n",
      "==> Setting Based Prediction\n"
     ]
    },
    {
     "name": "stderr",
     "output_type": "stream",
     "text": [
      "Predicting:  80%|██████████████████████████████████████████████████████▌             | 401/500 [01:17<00:17,  5.64it/s]"
     ]
    },
    {
     "name": "stdout",
     "output_type": "stream",
     "text": [
      "==> model memae\n",
      "==> Maker=JSW_Facility=1101_ITEM=W-BE921-37041-A_setting=24\n",
      "==> mae_recon_loss 0.11752870163335012\n",
      "==> threshold 0.3418723275831277\n",
      "==> margin limit 0.04907512417203059\n",
      "==> prediction result : Normal\n",
      "======================================================================================================================================================\n",
      "==> WorkingNumber PD2506260172_B_010_20250723_1010_76_4\n",
      "==> Search Closest Trained Setting from Dictionary\n",
      "==> Setting Based Prediction\n",
      "==> model ISF\n",
      "==> Maker=JSW_Facility=1010_ITEM=F-J7921-37220-A_setting=374\n",
      "==> mae_recon_loss 0.03079049856693583\n",
      "==> threshold 0.17342743592887588\n",
      "==> margin limit 0.02397181256925394\n",
      "==> prediction result : Normal\n",
      "======================================================================================================================================================\n",
      "==> WorkingNumber PD2506260018_B_010_20250723_2027_15639_1\n",
      "==> Setting Based Prediction\n"
     ]
    },
    {
     "name": "stderr",
     "output_type": "stream",
     "text": [
      "Predicting:  81%|██████████████████████████████████████████████████████▉             | 404/500 [01:17<00:14,  6.76it/s]"
     ]
    },
    {
     "name": "stdout",
     "output_type": "stream",
     "text": [
      "==> model AE\n",
      "==> Maker=JSW_Facility=2027_ITEM=T1Z23-04020_setting=197\n",
      "==> mae_recon_loss 0.1299770072763207\n",
      "==> threshold 0.1524310932170106\n",
      "==> margin limit 0.03\n",
      "==> prediction result : Normal\n",
      "======================================================================================================================================================\n",
      "==> WorkingNumber PD2506260017_B_010_20250723_2027_15639_1\n",
      "==> Setting Based Prediction\n",
      "==> model AE\n",
      "==> Maker=JSW_Facility=2027_ITEM=T1Z23-03020_setting=197\n",
      "==> mae_recon_loss 0.1299770072763207\n",
      "==> threshold 0.1524310932170106\n",
      "==> margin limit 0.03\n",
      "==> prediction result : Normal\n",
      "======================================================================================================================================================\n",
      "==> WorkingNumber PD2506260022_B_010_20250723_1009_434_8\n",
      "==> Setting Based Prediction\n"
     ]
    },
    {
     "name": "stderr",
     "output_type": "stream",
     "text": [
      "Predicting:  81%|███████████████████████████████████████████████████████▏            | 406/500 [01:18<00:15,  5.95it/s]"
     ]
    },
    {
     "name": "stdout",
     "output_type": "stream",
     "text": [
      "==> model memae\n",
      "==> Maker=JSW_Facility=1009_ITEM=W-BE921-37040-A_setting=394\n",
      "==> mae_recon_loss 0.10790559708581095\n",
      "==> threshold 0.2950071299376406\n",
      "==> margin limit 0.03\n",
      "==> prediction result : Normal\n",
      "======================================================================================================================================================\n",
      "==> WorkingNumber PD2506260001_B_010_20250723_M1006__1\n",
      "==> Search Closest Trained Setting from Dictionary\n",
      "==> Setting Based Prediction\n",
      "==> model AE\n",
      "==> Maker=ENGEL_Facility=1015_ITEM=W-CG921-37220-A_setting=93\n",
      "==> mae_recon_loss 0.23113517860619556\n",
      "==> threshold 0.18699379835148783\n",
      "==> margin limit 0.05268137996984201\n",
      "==> prediction result : Normal\n",
      "======================================================================================================================================================\n"
     ]
    },
    {
     "name": "stderr",
     "output_type": "stream",
     "text": [
      "Predicting:  81%|███████████████████████████████████████████████████████▎            | 407/500 [01:18<00:16,  5.72it/s]"
     ]
    },
    {
     "name": "stdout",
     "output_type": "stream",
     "text": [
      "==> WorkingNumber PD2506260001_B_010_20250723_M1006_240020_1\n",
      "==> Search Closest Trained Setting from Dictionary\n",
      "==> Setting Based Prediction\n",
      "==> model AE\n",
      "==> Maker=ENGEL_Facility=1015_ITEM=W-CG921-37220-A_setting=93\n",
      "==> mae_recon_loss 0.398362472653389\n",
      "==> threshold 0.18790789663459675\n",
      "==> margin limit 0.05212373571905361\n",
      "==> prediction result : Fault\n",
      "======================================================================================================================================================\n"
     ]
    },
    {
     "name": "stderr",
     "output_type": "stream",
     "text": [
      "Predicting:  82%|███████████████████████████████████████████████████████▍            | 408/500 [01:18<00:16,  5.71it/s]"
     ]
    },
    {
     "name": "stdout",
     "output_type": "stream",
     "text": [
      "==> WorkingNumber PD2506260011_B_010_20250723_1015_668693_4\n",
      "==> Search Closest Trained Setting from current Facility/ItemCode\n",
      "==> Setting Based Prediction\n",
      "==> model AE\n",
      "==> Maker=ENGEL_Facility=1015_ITEM=W-CG921-37220-A_setting=93\n",
      "==> mae_recon_loss 0.21522850188041143\n",
      "==> threshold 0.18688100319865258\n",
      "==> margin limit 0.047403754418407634\n",
      "==> prediction result : Normal\n",
      "======================================================================================================================================================\n",
      "==> WorkingNumber PD2506260038_B_010_20250723_1106_9_1\n",
      "==> Search Closest Trained Setting from Dictionary\n",
      "==> Setting Based Prediction\n"
     ]
    },
    {
     "name": "stderr",
     "output_type": "stream",
     "text": [
      "Predicting:  82%|███████████████████████████████████████████████████████▌            | 409/500 [01:18<00:18,  4.97it/s]"
     ]
    },
    {
     "name": "stdout",
     "output_type": "stream",
     "text": [
      "==> model memae\n",
      "==> Maker=JSW_Facility=1012_ITEM=F-N1921-37520-A_setting=15\n",
      "==> mae_recon_loss 0.506731467611385\n",
      "==> threshold 0.27412507287086624\n",
      "==> margin limit 0.039821448847585685\n",
      "==> prediction result : Fault\n",
      "======================================================================================================================================================\n",
      "==> WorkingNumber PD2506260039_B_010_20250723_1106_9_1\n",
      "==> Search Closest Trained Setting from Dictionary\n",
      "==> Setting Based Prediction\n"
     ]
    },
    {
     "name": "stderr",
     "output_type": "stream",
     "text": [
      "Predicting:  82%|███████████████████████████████████████████████████████▊            | 410/500 [01:19<00:22,  3.96it/s]"
     ]
    },
    {
     "name": "stdout",
     "output_type": "stream",
     "text": [
      "==> model memae\n",
      "==> Maker=JSW_Facility=1012_ITEM=F-N1921-37520-A_setting=15\n",
      "==> mae_recon_loss 0.506731467611385\n",
      "==> threshold 0.2766993200158742\n",
      "==> margin limit 0.04048281279167856\n",
      "==> prediction result : Fault\n",
      "======================================================================================================================================================\n",
      "==> WorkingNumber PD2506260008_B_010_20250723_1101_35871_4\n",
      "==> Search Closest Trained Setting from current Facility/ItemCode\n",
      "==> Setting Based Prediction\n"
     ]
    },
    {
     "name": "stderr",
     "output_type": "stream",
     "text": [
      "Predicting:  82%|████████████████████████████████████████████████████████            | 412/500 [01:19<00:20,  4.23it/s]"
     ]
    },
    {
     "name": "stdout",
     "output_type": "stream",
     "text": [
      "==> model memae\n",
      "==> Maker=JSW_Facility=1101_ITEM=W-BE921-37041-A_setting=24\n",
      "==> mae_recon_loss 0.11512623356582673\n",
      "==> threshold 0.34310515551572984\n",
      "==> margin limit 0.04965984820400332\n",
      "==> prediction result : Normal\n",
      "======================================================================================================================================================\n",
      "==> WorkingNumber PD2506260011_B_010_20250723_1015_668694_4\n",
      "==> Search Closest Trained Setting from current Facility/ItemCode\n",
      "==> Setting Based Prediction\n",
      "==> model AE\n",
      "==> Maker=ENGEL_Facility=1015_ITEM=W-CG921-37220-A_setting=93\n",
      "==> mae_recon_loss 0.22230311954780727\n",
      "==> threshold 0.18263147391000617\n",
      "==> margin limit 0.050164301353295165\n",
      "==> prediction result : Normal\n",
      "======================================================================================================================================================\n"
     ]
    },
    {
     "name": "stderr",
     "output_type": "stream",
     "text": [
      "Predicting:  83%|████████████████████████████████████████████████████████▏           | 413/500 [01:19<00:17,  4.86it/s]"
     ]
    },
    {
     "name": "stdout",
     "output_type": "stream",
     "text": [
      "==> WorkingNumber PD2506260018_B_010_20250723_2027_15640_1\n",
      "==> Setting Based Prediction\n",
      "==> model AE\n",
      "==> Maker=JSW_Facility=2027_ITEM=T1Z23-04020_setting=197\n",
      "==> mae_recon_loss 0.11635710227309783\n",
      "==> threshold 0.1524310932170106\n",
      "==> margin limit 0.03\n",
      "==> prediction result : Normal\n",
      "======================================================================================================================================================\n",
      "==> WorkingNumber PD2506260017_B_010_20250723_2027_15640_1\n",
      "==> Setting Based Prediction\n"
     ]
    },
    {
     "name": "stderr",
     "output_type": "stream",
     "text": [
      "Predicting:  83%|████████████████████████████████████████████████████████▎           | 414/500 [01:20<00:15,  5.41it/s]"
     ]
    },
    {
     "name": "stdout",
     "output_type": "stream",
     "text": [
      "==> model AE\n",
      "==> Maker=JSW_Facility=2027_ITEM=T1Z23-03020_setting=197\n",
      "==> mae_recon_loss 0.11635710227309783\n",
      "==> threshold 0.1524310932170106\n",
      "==> margin limit 0.03\n",
      "==> prediction result : Normal\n",
      "======================================================================================================================================================\n",
      "==> WorkingNumber PD2506260027_B_010_20250723_1102_6152_1\n",
      "==> Search Closest Trained Setting from Dictionary\n",
      "==> Setting Based Prediction\n"
     ]
    },
    {
     "name": "stderr",
     "output_type": "stream",
     "text": [
      "Predicting:  83%|████████████████████████████████████████████████████████▌           | 416/500 [01:20<00:15,  5.36it/s]"
     ]
    },
    {
     "name": "stdout",
     "output_type": "stream",
     "text": [
      "==> model memae\n",
      "==> Maker=JSW_Facility=2027_ITEM=T1Z23-04020_setting=14\n",
      "==> mae_recon_loss 0.507119753336358\n",
      "==> threshold 0.2955965212889478\n",
      "==> margin limit 0.038698354986598044\n",
      "==> prediction result : Fault\n",
      "======================================================================================================================================================\n",
      "==> WorkingNumber PD2506260031_B_010_20250723_1012_3307_4\n",
      "==> Setting Based Prediction\n",
      "==> model AE\n",
      "==> Maker=JSW_Facility=1012_ITEM=F-N1921-37520-A_setting=242\n",
      "==> mae_recon_loss 0.10432665319840943\n",
      "==> threshold 0.2137330775032018\n",
      "==> margin limit 0.03\n",
      "==> prediction result : Normal\n",
      "======================================================================================================================================================\n",
      "==> WorkingNumber PD2506260030_B_010_20250723_1012_3307_4\n",
      "==> Setting Based Prediction\n"
     ]
    },
    {
     "name": "stderr",
     "output_type": "stream",
     "text": [
      "Predicting:  84%|████████████████████████████████████████████████████████▊           | 418/500 [01:20<00:14,  5.52it/s]"
     ]
    },
    {
     "name": "stdout",
     "output_type": "stream",
     "text": [
      "==> model AE\n",
      "==> Maker=JSW_Facility=1012_ITEM=F-N1921-37510-A_setting=242\n",
      "==> mae_recon_loss 0.10440667003134609\n",
      "==> threshold 0.21577117784742858\n",
      "==> margin limit 0.03\n",
      "==> prediction result : Normal\n",
      "======================================================================================================================================================\n",
      "==> WorkingNumber PD2506260011_B_010_20250723_1015_668695_4\n",
      "==> Search Closest Trained Setting from current Facility/ItemCode\n",
      "==> Setting Based Prediction\n",
      "==> model AE\n",
      "==> Maker=ENGEL_Facility=1015_ITEM=W-CG921-37220-A_setting=93\n",
      "==> mae_recon_loss 0.21810647027337418\n",
      "==> threshold 0.1853657103106984\n",
      "==> margin limit 0.05333076070290427\n",
      "==> prediction result : Normal\n",
      "======================================================================================================================================================\n",
      "==> WorkingNumber PD2506261346_B_010_20250723_2113_26892_1\n",
      "==> Search Closest Trained Setting from Dictionary\n",
      "==> Setting Based Prediction\n"
     ]
    },
    {
     "name": "stderr",
     "output_type": "stream",
     "text": [
      "Predicting:  84%|█████████████████████████████████████████████████████████▎          | 421/500 [01:21<00:12,  6.32it/s]"
     ]
    },
    {
     "name": "stdout",
     "output_type": "stream",
     "text": [
      "==> model memae\n",
      "==> Maker=JSW_Facility=1012_ITEM=F-N1921-37520-A_setting=15\n",
      "==> mae_recon_loss 0.40332678583369763\n",
      "==> threshold 0.2726117350498912\n",
      "==> margin limit 0.039884565501252384\n",
      "==> prediction result : Fault\n",
      "======================================================================================================================================================\n",
      "==> WorkingNumber PD2506260172_B_010_20250723_1010_77_4\n",
      "==> Search Closest Trained Setting from Dictionary\n",
      "==> Setting Based Prediction\n",
      "==> model ISF\n",
      "==> Maker=JSW_Facility=1010_ITEM=F-J7921-37220-A_setting=374\n",
      "==> mae_recon_loss 0.021840587610566953\n",
      "==> threshold 0.17180095574753054\n",
      "==> margin limit 0.023744618379432866\n",
      "==> prediction result : Normal\n",
      "======================================================================================================================================================\n",
      "==> WorkingNumber PD2506260010_B_010_20250723_1104_7228_8\n",
      "==> Search Closest Trained Setting from current Facility/ItemCode\n",
      "==> Setting Based Prediction\n",
      "==> model ISF\n",
      "==> Maker=JSW_Facility=1104_ITEM=F-CG921-37220-A_setting=1061\n",
      "==> mae_recon_loss 0.11710330028710658\n",
      "==> threshold 0.0878341722538509\n",
      "==> margin limit 0.026122231445403446\n",
      "==> prediction result : Fault\n",
      "======================================================================================================================================================\n"
     ]
    },
    {
     "name": "stderr",
     "output_type": "stream",
     "text": [
      "Predicting:  84%|█████████████████████████████████████████████████████████▍          | 422/500 [01:21<00:12,  6.34it/s]"
     ]
    },
    {
     "name": "stdout",
     "output_type": "stream",
     "text": [
      "==> WorkingNumber PD2506260018_B_010_20250723_2027_15641_1\n",
      "==> Setting Based Prediction\n",
      "==> model AE\n",
      "==> Maker=JSW_Facility=2027_ITEM=T1Z23-04020_setting=197\n",
      "==> mae_recon_loss 0.1458730727503413\n",
      "==> threshold 0.1524310932170106\n",
      "==> margin limit 0.03\n",
      "==> prediction result : Normal\n",
      "======================================================================================================================================================\n",
      "==> WorkingNumber PD2506260017_B_010_20250723_2027_15641_1\n",
      "==> Setting Based Prediction\n"
     ]
    },
    {
     "name": "stderr",
     "output_type": "stream",
     "text": [
      "Predicting:  85%|█████████████████████████████████████████████████████████▌          | 423/500 [01:21<00:11,  6.60it/s]"
     ]
    },
    {
     "name": "stdout",
     "output_type": "stream",
     "text": [
      "==> model AE\n",
      "==> Maker=JSW_Facility=2027_ITEM=T1Z23-03020_setting=197\n",
      "==> mae_recon_loss 0.1458730727503413\n",
      "==> threshold 0.1524310932170106\n",
      "==> margin limit 0.03\n",
      "==> prediction result : Normal\n",
      "======================================================================================================================================================\n",
      "==> WorkingNumber PD2506260034_B_010_20250723_1013_3723_1\n",
      "==> Search Closest Trained Setting from current Facility/ItemCode\n",
      "==> Setting Based Prediction\n"
     ]
    },
    {
     "name": "stderr",
     "output_type": "stream",
     "text": [
      "Predicting:  85%|█████████████████████████████████████████████████████████▋          | 424/500 [01:21<00:13,  5.64it/s]"
     ]
    },
    {
     "name": "stdout",
     "output_type": "stream",
     "text": [
      "==> model memae\n",
      "==> Maker=JSW_Facility=1013_ITEM=T1Z23-03010_setting=233\n",
      "==> mae_recon_loss 0.08530627217695448\n",
      "==> threshold 0.3159806480371632\n",
      "==> margin limit 0.036064784274352654\n",
      "==> prediction result : Normal\n",
      "======================================================================================================================================================\n",
      "==> WorkingNumber PD2506260035_B_010_20250723_1013_3723_1\n",
      "==> Search Closest Trained Setting from current Facility/ItemCode\n",
      "==> Setting Based Prediction\n"
     ]
    },
    {
     "name": "stderr",
     "output_type": "stream",
     "text": [
      "Predicting:  85%|█████████████████████████████████████████████████████████▉          | 426/500 [01:22<00:14,  5.07it/s]"
     ]
    },
    {
     "name": "stdout",
     "output_type": "stream",
     "text": [
      "==> model memae\n",
      "==> Maker=JSW_Facility=1013_ITEM=T1Z23-04010_setting=233\n",
      "==> mae_recon_loss 0.08530627217695448\n",
      "==> threshold 0.31487542372185406\n",
      "==> margin limit 0.03622929892979772\n",
      "==> prediction result : Normal\n",
      "======================================================================================================================================================\n",
      "==> WorkingNumber PD2506260021_B_010_20250723_1103_5163_4\n",
      "==> Search Closest Trained Setting from Dictionary\n",
      "==> Setting Based Prediction\n",
      "==> model AE\n",
      "==> Maker=JSW_Facility=1104_ITEM=P2921-37000_setting=125\n",
      "==> mae_recon_loss 0.18531147712517454\n",
      "==> threshold 0.28251770359038947\n",
      "==> margin limit 0.06129930220975151\n",
      "==> prediction result : Normal\n",
      "======================================================================================================================================================\n"
     ]
    },
    {
     "name": "stderr",
     "output_type": "stream",
     "text": [
      "Predicting:  85%|██████████████████████████████████████████████████████████          | 427/500 [01:22<00:16,  4.32it/s]"
     ]
    },
    {
     "name": "stdout",
     "output_type": "stream",
     "text": [
      "==> WorkingNumber PD2506260039_B_010_20250723_1106_10_1\n",
      "==> Search Closest Trained Setting from Dictionary\n",
      "==> Setting Based Prediction\n",
      "==> model AE\n",
      "==> Maker=JSW_Facility=1104_ITEM=P2921-37000_setting=125\n",
      "==> mae_recon_loss 0.2815245562588016\n",
      "==> threshold 0.2854749326826119\n",
      "==> margin limit 0.06174019964902362\n",
      "==> prediction result : Normal\n",
      "======================================================================================================================================================\n",
      "==> WorkingNumber PD2506260038_B_010_20250723_1106_10_1\n",
      "==> Search Closest Trained Setting from Dictionary\n",
      "==> Setting Based Prediction\n"
     ]
    },
    {
     "name": "stderr",
     "output_type": "stream",
     "text": [
      "Predicting:  86%|██████████████████████████████████████████████████████████▎         | 429/500 [01:22<00:15,  4.69it/s]"
     ]
    },
    {
     "name": "stdout",
     "output_type": "stream",
     "text": [
      "==> model AE\n",
      "==> Maker=JSW_Facility=1104_ITEM=P2921-37000_setting=125\n",
      "==> mae_recon_loss 0.2815245562588016\n",
      "==> threshold 0.2858765094981969\n",
      "==> margin limit 0.0616441332860713\n",
      "==> prediction result : Normal\n",
      "======================================================================================================================================================\n",
      "==> WorkingNumber PD2506260013_B_010_20250723_2110_3270_1\n",
      "==> Search Closest Trained Setting from Dictionary\n",
      "==> Setting Based Prediction\n",
      "==> model AE\n",
      "==> Maker=JSW_Facility=1104_ITEM=P2921-37000_setting=125\n",
      "==> mae_recon_loss 0.4093868981436601\n",
      "==> threshold 0.2856365900806133\n",
      "==> margin limit 0.061499260714200414\n",
      "==> prediction result : Fault\n",
      "======================================================================================================================================================\n"
     ]
    },
    {
     "name": "stderr",
     "output_type": "stream",
     "text": [
      "Predicting:  86%|██████████████████████████████████████████████████████████▍         | 430/500 [01:23<00:14,  4.84it/s]"
     ]
    },
    {
     "name": "stdout",
     "output_type": "stream",
     "text": [
      "==> WorkingNumber PD2506260012_B_010_20250723_2110_3270_1\n",
      "==> Search Closest Trained Setting from Dictionary\n",
      "==> Setting Based Prediction\n",
      "==> model AE\n",
      "==> Maker=JSW_Facility=1104_ITEM=P2921-37000_setting=125\n",
      "==> mae_recon_loss 0.4093868981436601\n",
      "==> threshold 0.2847056821372904\n",
      "==> margin limit 0.06161308915288354\n",
      "==> prediction result : Fault\n",
      "======================================================================================================================================================\n",
      "==> WorkingNumber PD2506260008_B_010_20250723_1101_35872_4\n",
      "==> Search Closest Trained Setting from current Facility/ItemCode\n",
      "==> Setting Based Prediction\n"
     ]
    },
    {
     "name": "stderr",
     "output_type": "stream",
     "text": [
      "Predicting:  86%|██████████████████████████████████████████████████████████▊         | 432/500 [01:23<00:14,  4.70it/s]"
     ]
    },
    {
     "name": "stdout",
     "output_type": "stream",
     "text": [
      "==> model memae\n",
      "==> Maker=JSW_Facility=1101_ITEM=W-BE921-37041-A_setting=24\n",
      "==> mae_recon_loss 0.11884752430186829\n",
      "==> threshold 0.3419759828998496\n",
      "==> margin limit 0.049607474261532905\n",
      "==> prediction result : Normal\n",
      "======================================================================================================================================================\n",
      "==> WorkingNumber PD2506260001_B_010_20250723_M1006_240021_1\n",
      "==> Search Closest Trained Setting from Dictionary\n",
      "==> Setting Based Prediction\n",
      "==> model AE\n",
      "==> Maker=ENGEL_Facility=1015_ITEM=W-CG921-37220-A_setting=93\n",
      "==> mae_recon_loss 0.398362472653389\n",
      "==> threshold 0.1851801352490569\n",
      "==> margin limit 0.05309490816250167\n",
      "==> prediction result : Fault\n",
      "======================================================================================================================================================\n"
     ]
    },
    {
     "name": "stderr",
     "output_type": "stream",
     "text": [
      "Predicting:  87%|██████████████████████████████████████████████████████████▉         | 433/500 [01:23<00:13,  4.91it/s]"
     ]
    },
    {
     "name": "stdout",
     "output_type": "stream",
     "text": [
      "==> WorkingNumber PD2506260022_B_010_20250723_1009_435_8\n",
      "==> Setting Based Prediction\n",
      "==> model memae\n",
      "==> Maker=JSW_Facility=1009_ITEM=W-BE921-37040-A_setting=394\n",
      "==> mae_recon_loss 0.12657203973994993\n",
      "==> threshold 0.2950071299376406\n",
      "==> margin limit 0.03\n",
      "==> prediction result : Normal\n",
      "======================================================================================================================================================\n",
      "==> WorkingNumber PD2506260011_B_010_20250723_1015_668696_4\n",
      "==> Search Closest Trained Setting from current Facility/ItemCode\n",
      "==> Setting Based Prediction\n"
     ]
    },
    {
     "name": "stderr",
     "output_type": "stream",
     "text": [
      "Predicting:  87%|███████████████████████████████████████████████████████████         | 434/500 [01:23<00:13,  5.00it/s]"
     ]
    },
    {
     "name": "stdout",
     "output_type": "stream",
     "text": [
      "==> model AE\n",
      "==> Maker=ENGEL_Facility=1015_ITEM=W-CG921-37220-A_setting=93\n",
      "==> mae_recon_loss 0.22498045416926016\n",
      "==> threshold 0.1862214470011012\n",
      "==> margin limit 0.055072760295367465\n",
      "==> prediction result : Normal\n",
      "======================================================================================================================================================\n",
      "==> WorkingNumber PD2506260035_B_010_20250723_1013_3724_1\n",
      "==> Search Closest Trained Setting from current Facility/ItemCode\n",
      "==> Setting Based Prediction\n"
     ]
    },
    {
     "name": "stderr",
     "output_type": "stream",
     "text": [
      "Predicting:  87%|███████████████████████████████████████████████████████████▏        | 435/500 [01:24<00:14,  4.58it/s]"
     ]
    },
    {
     "name": "stdout",
     "output_type": "stream",
     "text": [
      "==> model memae\n",
      "==> Maker=JSW_Facility=1013_ITEM=T1Z23-04010_setting=233\n",
      "==> mae_recon_loss 0.07867721129340206\n",
      "==> threshold 0.31439144902681887\n",
      "==> margin limit 0.03591643720511477\n",
      "==> prediction result : Normal\n",
      "======================================================================================================================================================\n",
      "==> WorkingNumber PD2506260034_B_010_20250723_1013_3724_1\n",
      "==> Search Closest Trained Setting from current Facility/ItemCode\n",
      "==> Setting Based Prediction\n"
     ]
    },
    {
     "name": "stderr",
     "output_type": "stream",
     "text": [
      "Predicting:  87%|███████████████████████████████████████████████████████████▎        | 436/500 [01:24<00:14,  4.31it/s]"
     ]
    },
    {
     "name": "stdout",
     "output_type": "stream",
     "text": [
      "==> model memae\n",
      "==> Maker=JSW_Facility=1013_ITEM=T1Z23-03010_setting=233\n",
      "==> mae_recon_loss 0.07867721129340206\n",
      "==> threshold 0.31867871515673984\n",
      "==> margin limit 0.03581014798192588\n",
      "==> prediction result : Normal\n",
      "======================================================================================================================================================\n",
      "==> WorkingNumber PD2506260008_B_010_20250723_1101_35873_4\n",
      "==> Search Closest Trained Setting from current Facility/ItemCode\n",
      "==> Setting Based Prediction\n"
     ]
    },
    {
     "name": "stderr",
     "output_type": "stream",
     "text": [
      "Predicting:  88%|███████████████████████████████████████████████████████████▋        | 439/500 [01:24<00:10,  5.77it/s]"
     ]
    },
    {
     "name": "stdout",
     "output_type": "stream",
     "text": [
      "==> model memae\n",
      "==> Maker=JSW_Facility=1101_ITEM=W-BE921-37041-A_setting=24\n",
      "==> mae_recon_loss 0.11989308176309015\n",
      "==> threshold 0.3406932645290372\n",
      "==> margin limit 0.04867927583380399\n",
      "==> prediction result : Normal\n",
      "======================================================================================================================================================\n",
      "==> WorkingNumber PD2506260027_B_010_20250723_1102_6153_1\n",
      "==> Search Closest Trained Setting from Dictionary\n",
      "==> Setting Based Prediction\n",
      "==> model ISF\n",
      "==> Maker=JSW_Facility=1101_ITEM=W-BE921-37021-A_setting=474\n",
      "==> mae_recon_loss 0.12428855363178626\n",
      "==> threshold 0.12214270664909815\n",
      "==> margin limit 0.02464833996760152\n",
      "==> prediction result : Normal\n",
      "======================================================================================================================================================\n",
      "==> WorkingNumber PD2506260038_B_010_20250723_1106_11_1\n",
      "==> Search Closest Trained Setting from Dictionary\n",
      "==> Setting Based Prediction\n",
      "==> model ISF\n",
      "==> Maker=JSW_Facility=1101_ITEM=W-BE921-37021-A_setting=474\n",
      "==> mae_recon_loss 0.08658444359749706\n",
      "==> threshold 0.11999638558342259\n",
      "==> margin limit 0.025029049279831152\n",
      "==> prediction result : Normal\n",
      "======================================================================================================================================================\n"
     ]
    },
    {
     "name": "stderr",
     "output_type": "stream",
     "text": [
      "Predicting:  88%|███████████████████████████████████████████████████████████▊        | 440/500 [01:25<00:09,  6.33it/s]"
     ]
    },
    {
     "name": "stdout",
     "output_type": "stream",
     "text": [
      "==> WorkingNumber PD2506260039_B_010_20250723_1106_11_1\n",
      "==> Search Closest Trained Setting from Dictionary\n",
      "==> Setting Based Prediction\n",
      "==> model ISF\n",
      "==> Maker=JSW_Facility=1101_ITEM=W-BE921-37021-A_setting=474\n",
      "==> mae_recon_loss 0.08658444359749706\n",
      "==> threshold 0.11838237084593044\n",
      "==> margin limit 0.02484839270059236\n",
      "==> prediction result : Normal\n",
      "======================================================================================================================================================\n",
      "==> WorkingNumber PD2506260011_B_010_20250723_1015_668697_4\n",
      "==> Search Closest Trained Setting from current Facility/ItemCode\n",
      "==> Setting Based Prediction\n"
     ]
    },
    {
     "name": "stderr",
     "output_type": "stream",
     "text": [
      "Predicting:  88%|███████████████████████████████████████████████████████████▉        | 441/500 [01:25<00:10,  5.76it/s]"
     ]
    },
    {
     "name": "stdout",
     "output_type": "stream",
     "text": [
      "==> model AE\n",
      "==> Maker=ENGEL_Facility=1015_ITEM=W-CG921-37220-A_setting=93\n",
      "==> mae_recon_loss 0.21745592563028024\n",
      "==> threshold 0.18318835234669104\n",
      "==> margin limit 0.052213103927708726\n",
      "==> prediction result : Normal\n",
      "======================================================================================================================================================\n",
      "==> WorkingNumber PD2506260034_B_010_20250723_1013_3725_1\n",
      "==> Search Closest Trained Setting from current Facility/ItemCode\n",
      "==> Setting Based Prediction\n"
     ]
    },
    {
     "name": "stderr",
     "output_type": "stream",
     "text": [
      "Predicting:  88%|████████████████████████████████████████████████████████████        | 442/500 [01:25<00:11,  5.12it/s]"
     ]
    },
    {
     "name": "stdout",
     "output_type": "stream",
     "text": [
      "==> model memae\n",
      "==> Maker=JSW_Facility=1013_ITEM=T1Z23-03010_setting=233\n",
      "==> mae_recon_loss 0.09231914307214718\n",
      "==> threshold 0.3164327185204946\n",
      "==> margin limit 0.03576813491877145\n",
      "==> prediction result : Normal\n",
      "======================================================================================================================================================\n",
      "==> WorkingNumber PD2506260035_B_010_20250723_1013_3725_1\n",
      "==> Search Closest Trained Setting from current Facility/ItemCode\n",
      "==> Setting Based Prediction\n"
     ]
    },
    {
     "name": "stderr",
     "output_type": "stream",
     "text": [
      "Predicting:  89%|████████████████████████████████████████████████████████████▏       | 443/500 [01:25<00:13,  4.08it/s]"
     ]
    },
    {
     "name": "stdout",
     "output_type": "stream",
     "text": [
      "==> model memae\n",
      "==> Maker=JSW_Facility=1013_ITEM=T1Z23-04010_setting=233\n",
      "==> mae_recon_loss 0.09231914307214718\n",
      "==> threshold 0.31530576518556236\n",
      "==> margin limit 0.03551073835383289\n",
      "==> prediction result : Normal\n",
      "======================================================================================================================================================\n",
      "==> WorkingNumber PD2506260172_B_010_20250723_1010_78_4\n",
      "==> Search Closest Trained Setting from Dictionary\n",
      "==> Setting Based Prediction\n",
      "==> model ISF\n",
      "==> Maker=JSW_Facility=1010_ITEM=F-J7921-37220-A_setting=374\n",
      "==> mae_recon_loss 0.06794317353721768\n",
      "==> threshold 0.1729504166772108\n",
      "==> margin limit 0.024037183472045063\n",
      "==> prediction result : Normal\n",
      "======================================================================================================================================================\n",
      "==> WorkingNumber PD2506260018_B_010_20250723_2027_15643_1\n",
      "==> Setting Based Prediction\n"
     ]
    },
    {
     "name": "stderr",
     "output_type": "stream",
     "text": [
      "Predicting:  89%|████████████████████████████████████████████████████████████▋       | 446/500 [01:26<00:09,  5.64it/s]"
     ]
    },
    {
     "name": "stdout",
     "output_type": "stream",
     "text": [
      "==> model AE\n",
      "==> Maker=JSW_Facility=2027_ITEM=T1Z23-04020_setting=197\n",
      "==> mae_recon_loss 0.11383992763205804\n",
      "==> threshold 0.1524310932170106\n",
      "==> margin limit 0.03\n",
      "==> prediction result : Normal\n",
      "======================================================================================================================================================\n",
      "==> WorkingNumber PD2506260017_B_010_20250723_2027_15643_1\n",
      "==> Setting Based Prediction\n",
      "==> model AE\n",
      "==> Maker=JSW_Facility=2027_ITEM=T1Z23-03020_setting=197\n",
      "==> mae_recon_loss 0.11383992763205804\n",
      "==> threshold 0.1524310932170106\n",
      "==> margin limit 0.03\n",
      "==> prediction result : Normal\n",
      "======================================================================================================================================================\n",
      "==> WorkingNumber PD2506260008_B_010_20250723_1101_35874_4\n",
      "==> Search Closest Trained Setting from current Facility/ItemCode\n",
      "==> Setting Based Prediction\n"
     ]
    },
    {
     "name": "stderr",
     "output_type": "stream",
     "text": [
      "Predicting:  89%|████████████████████████████████████████████████████████████▊       | 447/500 [01:26<00:10,  5.07it/s]"
     ]
    },
    {
     "name": "stdout",
     "output_type": "stream",
     "text": [
      "==> model memae\n",
      "==> Maker=JSW_Facility=1101_ITEM=W-BE921-37041-A_setting=24\n",
      "==> mae_recon_loss 0.11890917027060419\n",
      "==> threshold 0.3444227723521993\n",
      "==> margin limit 0.04826526355481199\n",
      "==> prediction result : Normal\n",
      "======================================================================================================================================================\n",
      "==> WorkingNumber PD2506260010_B_010_20250723_1104_7229_8\n",
      "==> Search Closest Trained Setting from current Facility/ItemCode\n",
      "==> Setting Based Prediction\n",
      "==> model ISF\n",
      "==> Maker=JSW_Facility=1104_ITEM=F-CG921-37220-A_setting=1061\n",
      "==> mae_recon_loss 0.11710330028710658\n",
      "==> threshold 0.08697222502682073\n",
      "==> margin limit 0.02621677621649265\n",
      "==> prediction result : Fault\n",
      "======================================================================================================================================================\n",
      "==> WorkingNumber PD2506260001_B_010_20250723_M1006_240022_1\n",
      "==> Search Closest Trained Setting from Dictionary\n",
      "==> Setting Based Prediction\n"
     ]
    },
    {
     "name": "stderr",
     "output_type": "stream",
     "text": [
      "Predicting:  90%|█████████████████████████████████████████████████████████████▏      | 450/500 [01:26<00:08,  5.75it/s]"
     ]
    },
    {
     "name": "stdout",
     "output_type": "stream",
     "text": [
      "==> model AE\n",
      "==> Maker=ENGEL_Facility=1015_ITEM=W-CG921-37220-A_setting=93\n",
      "==> mae_recon_loss 0.398362472653389\n",
      "==> threshold 0.18404842220908718\n",
      "==> margin limit 0.05137183417535573\n",
      "==> prediction result : Fault\n",
      "======================================================================================================================================================\n",
      "==> WorkingNumber PD2506260011_B_010_20250723_1015_668698_4\n",
      "==> Search Closest Trained Setting from current Facility/ItemCode\n",
      "==> Setting Based Prediction\n",
      "==> model AE\n",
      "==> Maker=ENGEL_Facility=1015_ITEM=W-CG921-37220-A_setting=93\n",
      "==> mae_recon_loss 0.22183871338562514\n",
      "==> threshold 0.18669864607083259\n",
      "==> margin limit 0.04981770864051025\n",
      "==> prediction result : Normal\n",
      "======================================================================================================================================================\n",
      "==> WorkingNumber PD2506260012_B_010_20250723_2110__1\n",
      "==> Search Closest Trained Setting from Dictionary\n",
      "==> Setting Based Prediction\n"
     ]
    },
    {
     "name": "stderr",
     "output_type": "stream",
     "text": [
      "Predicting:  90%|█████████████████████████████████████████████████████████████▎      | 451/500 [01:27<00:09,  5.18it/s]"
     ]
    },
    {
     "name": "stdout",
     "output_type": "stream",
     "text": [
      "==> model memae\n",
      "==> Maker=JSW_Facility=2027_ITEM=T1Z23-04020_setting=14\n",
      "==> mae_recon_loss 0.48138598106227776\n",
      "==> threshold 0.2977657585357668\n",
      "==> margin limit 0.038266365709416855\n",
      "==> prediction result : Fault\n",
      "======================================================================================================================================================\n",
      "==> WorkingNumber PD2506260035_B_010_20250723_1013_3726_1\n",
      "==> Search Closest Trained Setting from current Facility/ItemCode\n",
      "==> Setting Based Prediction\n"
     ]
    },
    {
     "name": "stderr",
     "output_type": "stream",
     "text": [
      "Predicting:  90%|█████████████████████████████████████████████████████████████▍      | 452/500 [01:27<00:09,  4.93it/s]"
     ]
    },
    {
     "name": "stdout",
     "output_type": "stream",
     "text": [
      "==> model memae\n",
      "==> Maker=JSW_Facility=1013_ITEM=T1Z23-04010_setting=233\n",
      "==> mae_recon_loss 0.08278236219271126\n",
      "==> threshold 0.31505937665273687\n",
      "==> margin limit 0.03616500587584777\n",
      "==> prediction result : Normal\n",
      "======================================================================================================================================================\n",
      "==> WorkingNumber PD2506260034_B_010_20250723_1013_3726_1\n",
      "==> Search Closest Trained Setting from current Facility/ItemCode\n",
      "==> Setting Based Prediction\n"
     ]
    },
    {
     "name": "stderr",
     "output_type": "stream",
     "text": [
      "Predicting:  91%|█████████████████████████████████████████████████████████████▌      | 453/500 [01:27<00:09,  4.78it/s]"
     ]
    },
    {
     "name": "stdout",
     "output_type": "stream",
     "text": [
      "==> model memae\n",
      "==> Maker=JSW_Facility=1013_ITEM=T1Z23-03010_setting=233\n",
      "==> mae_recon_loss 0.08278236219271126\n",
      "==> threshold 0.3170409624119838\n",
      "==> margin limit 0.03549097726170709\n",
      "==> prediction result : Normal\n",
      "======================================================================================================================================================\n",
      "==> WorkingNumber PD2506260013_B_010_20250723_2110_3271_1\n",
      "==> Search Closest Trained Setting from Dictionary\n",
      "==> Setting Based Prediction\n"
     ]
    },
    {
     "name": "stderr",
     "output_type": "stream",
     "text": [
      "Predicting:  91%|█████████████████████████████████████████████████████████████▋      | 454/500 [01:27<00:10,  4.49it/s]"
     ]
    },
    {
     "name": "stdout",
     "output_type": "stream",
     "text": [
      "==> model memae\n",
      "==> Maker=JSW_Facility=1013_ITEM=T1Z23-04010_setting=233\n",
      "==> mae_recon_loss 0.4722652370604305\n",
      "==> threshold 0.3059174110676995\n",
      "==> margin limit 0.03231799896993793\n",
      "==> prediction result : Fault\n",
      "======================================================================================================================================================\n",
      "==> WorkingNumber PD2506260012_B_010_20250723_2110_3271_1\n",
      "==> Search Closest Trained Setting from Dictionary\n",
      "==> Setting Based Prediction\n"
     ]
    },
    {
     "name": "stderr",
     "output_type": "stream",
     "text": [
      "Predicting:  91%|██████████████████████████████████████████████████████████████      | 456/500 [01:28<00:09,  4.61it/s]"
     ]
    },
    {
     "name": "stdout",
     "output_type": "stream",
     "text": [
      "==> model memae\n",
      "==> Maker=JSW_Facility=1013_ITEM=T1Z23-04010_setting=233\n",
      "==> mae_recon_loss 0.4722652370604305\n",
      "==> threshold 0.30491957693649396\n",
      "==> margin limit 0.03257453760987726\n",
      "==> prediction result : Fault\n",
      "======================================================================================================================================================\n",
      "==> WorkingNumber PD2506260012_B_010_20250723_2110__1\n",
      "==> Search Closest Trained Setting from Dictionary\n",
      "==> Setting Based Prediction\n",
      "==> model AE\n",
      "==> Maker=JSW_Facility=2027_ITEM=T1Z23-04020_setting=197\n",
      "==> mae_recon_loss 0.25487970582016023\n",
      "==> threshold 0.19443086376597107\n",
      "==> margin limit 0.05664189322213664\n",
      "==> prediction result : Fault\n",
      "======================================================================================================================================================\n",
      "==> WorkingNumber PD2506260017_B_010_20250723_2027_15644_1\n",
      "==> Setting Based Prediction\n"
     ]
    },
    {
     "name": "stderr",
     "output_type": "stream",
     "text": [
      "Predicting:  92%|██████████████████████████████████████████████████████████████▎     | 458/500 [01:28<00:07,  5.60it/s]"
     ]
    },
    {
     "name": "stdout",
     "output_type": "stream",
     "text": [
      "==> model AE\n",
      "==> Maker=JSW_Facility=2027_ITEM=T1Z23-03020_setting=197\n",
      "==> mae_recon_loss 0.1162014483786339\n",
      "==> threshold 0.1524310932170106\n",
      "==> margin limit 0.03\n",
      "==> prediction result : Normal\n",
      "======================================================================================================================================================\n",
      "==> WorkingNumber PD2506260018_B_010_20250723_2027_15644_1\n",
      "==> Setting Based Prediction\n",
      "==> model AE\n",
      "==> Maker=JSW_Facility=2027_ITEM=T1Z23-04020_setting=197\n",
      "==> mae_recon_loss 0.1162014483786339\n",
      "==> threshold 0.1524310932170106\n",
      "==> margin limit 0.03\n",
      "==> prediction result : Normal\n",
      "======================================================================================================================================================\n",
      "==> WorkingNumber PD2506261346_B_010_20250723_2113_26893_1\n",
      "==> Search Closest Trained Setting from Dictionary\n",
      "==> Setting Based Prediction\n"
     ]
    },
    {
     "name": "stderr",
     "output_type": "stream",
     "text": [
      "Predicting:  92%|██████████████████████████████████████████████████████████████▍     | 459/500 [01:29<00:09,  4.26it/s]"
     ]
    },
    {
     "name": "stdout",
     "output_type": "stream",
     "text": [
      "==> model memae\n",
      "==> Maker=JSW_Facility=2027_ITEM=T1Z23-04020_setting=14\n",
      "==> mae_recon_loss 0.4909479364459599\n",
      "==> threshold 0.29797373367239965\n",
      "==> margin limit 0.03859126276610106\n",
      "==> prediction result : Fault\n",
      "======================================================================================================================================================\n",
      "==> WorkingNumber PD2506260039_B_010_20250723_1106_12_1\n",
      "==> Search Closest Trained Setting from Dictionary\n",
      "==> Setting Based Prediction\n"
     ]
    },
    {
     "name": "stderr",
     "output_type": "stream",
     "text": [
      "Predicting:  92%|██████████████████████████████████████████████████████████████▌     | 460/500 [01:29<00:09,  4.22it/s]"
     ]
    },
    {
     "name": "stdout",
     "output_type": "stream",
     "text": [
      "==> model memae\n",
      "==> Maker=JSW_Facility=2027_ITEM=T1Z23-04020_setting=14\n",
      "==> mae_recon_loss 0.48138598106227776\n",
      "==> threshold 0.2970052784349603\n",
      "==> margin limit 0.038244558348956716\n",
      "==> prediction result : Fault\n",
      "======================================================================================================================================================\n",
      "==> WorkingNumber PD2506260038_B_010_20250723_1106_12_1\n",
      "==> Search Closest Trained Setting from Dictionary\n",
      "==> Setting Based Prediction\n"
     ]
    },
    {
     "name": "stderr",
     "output_type": "stream",
     "text": [
      "Predicting:  92%|██████████████████████████████████████████████████████████████▊     | 462/500 [01:29<00:08,  4.43it/s]"
     ]
    },
    {
     "name": "stdout",
     "output_type": "stream",
     "text": [
      "==> model memae\n",
      "==> Maker=JSW_Facility=2027_ITEM=T1Z23-04020_setting=14\n",
      "==> mae_recon_loss 0.48138598106227776\n",
      "==> threshold 0.2959878044059796\n",
      "==> margin limit 0.038508295243110245\n",
      "==> prediction result : Fault\n",
      "======================================================================================================================================================\n",
      "==> WorkingNumber PD2506260012_B_010_20250723_2110__1\n",
      "==> Search Closest Trained Setting from Dictionary\n",
      "==> Setting Based Prediction\n",
      "==> model AE\n",
      "==> Maker=JSW_Facility=1104_ITEM=P2921-37000_setting=125\n",
      "==> mae_recon_loss 0.2803829212570987\n",
      "==> threshold 0.2838997462497892\n",
      "==> margin limit 0.06127335644035264\n",
      "==> prediction result : Normal\n",
      "======================================================================================================================================================\n"
     ]
    },
    {
     "name": "stderr",
     "output_type": "stream",
     "text": [
      "Predicting:  93%|██████████████████████████████████████████████████████████████▉     | 463/500 [01:29<00:08,  4.61it/s]"
     ]
    },
    {
     "name": "stdout",
     "output_type": "stream",
     "text": [
      "==> WorkingNumber PD2506260011_B_010_20250723_1015_668699_4\n",
      "==> Search Closest Trained Setting from current Facility/ItemCode\n",
      "==> Setting Based Prediction\n",
      "==> model AE\n",
      "==> Maker=ENGEL_Facility=1015_ITEM=W-CG921-37220-A_setting=93\n",
      "==> mae_recon_loss 0.22775234355200322\n",
      "==> threshold 0.18380165391367698\n",
      "==> margin limit 0.05374651658161205\n",
      "==> prediction result : Normal\n",
      "======================================================================================================================================================\n"
     ]
    },
    {
     "name": "stderr",
     "output_type": "stream",
     "text": [
      "Predicting:  93%|███████████████████████████████████████████████████████████████     | 464/500 [01:30<00:07,  4.72it/s]"
     ]
    },
    {
     "name": "stdout",
     "output_type": "stream",
     "text": [
      "==> WorkingNumber PD2506260027_B_010_20250723_1102_6154_1\n",
      "==> Search Closest Trained Setting from Dictionary\n",
      "==> Setting Based Prediction\n",
      "==> model AE\n",
      "==> Maker=JSW_Facility=2027_ITEM=T1Z23-04020_setting=197\n",
      "==> mae_recon_loss 0.4984947599992206\n",
      "==> threshold 0.19432798580963676\n",
      "==> margin limit 0.056796773514691305\n",
      "==> prediction result : Fault\n",
      "======================================================================================================================================================\n",
      "==> WorkingNumber PD2506260008_B_010_20250723_1101_35875_4\n",
      "==> Search Closest Trained Setting from current Facility/ItemCode\n",
      "==> Setting Based Prediction\n"
     ]
    },
    {
     "name": "stderr",
     "output_type": "stream",
     "text": [
      "Predicting:  93%|███████████████████████████████████████████████████████████████▏    | 465/500 [01:30<00:07,  4.48it/s]"
     ]
    },
    {
     "name": "stdout",
     "output_type": "stream",
     "text": [
      "==> model memae\n",
      "==> Maker=JSW_Facility=1101_ITEM=W-BE921-37041-A_setting=24\n",
      "==> mae_recon_loss 0.1212979597092569\n",
      "==> threshold 0.34338071072149334\n",
      "==> margin limit 0.04955347258215171\n",
      "==> prediction result : Normal\n",
      "======================================================================================================================================================\n",
      "==> WorkingNumber PD2506260035_B_010_20250723_1013_3727_1\n",
      "==> Search Closest Trained Setting from current Facility/ItemCode\n",
      "==> Setting Based Prediction\n"
     ]
    },
    {
     "name": "stderr",
     "output_type": "stream",
     "text": [
      "Predicting:  93%|███████████████████████████████████████████████████████████████▍    | 466/500 [01:30<00:07,  4.30it/s]"
     ]
    },
    {
     "name": "stdout",
     "output_type": "stream",
     "text": [
      "==> model memae\n",
      "==> Maker=JSW_Facility=1013_ITEM=T1Z23-04010_setting=233\n",
      "==> mae_recon_loss 0.08484388244355819\n",
      "==> threshold 0.3169500479381001\n",
      "==> margin limit 0.03547985288170963\n",
      "==> prediction result : Normal\n",
      "======================================================================================================================================================\n",
      "==> WorkingNumber PD2506260034_B_010_20250723_1013_3727_1\n",
      "==> Search Closest Trained Setting from current Facility/ItemCode\n",
      "==> Setting Based Prediction\n"
     ]
    },
    {
     "name": "stderr",
     "output_type": "stream",
     "text": [
      "Predicting:  93%|███████████████████████████████████████████████████████████████▌    | 467/500 [01:30<00:07,  4.30it/s]"
     ]
    },
    {
     "name": "stdout",
     "output_type": "stream",
     "text": [
      "==> model memae\n",
      "==> Maker=JSW_Facility=1013_ITEM=T1Z23-03010_setting=233\n",
      "==> mae_recon_loss 0.08484388244355819\n",
      "==> threshold 0.31815002844975726\n",
      "==> margin limit 0.03577654893970606\n",
      "==> prediction result : Normal\n",
      "======================================================================================================================================================\n",
      "==> WorkingNumber PD2506260172_B_010_20250723_1010_79_4\n",
      "==> Search Closest Trained Setting from Dictionary\n",
      "==> Setting Based Prediction\n",
      "==> model ISF\n",
      "==> Maker=JSW_Facility=1010_ITEM=F-J7921-37220-A_setting=374\n",
      "==> mae_recon_loss 0.022354710458468707\n",
      "==> threshold 0.1727091124890756\n",
      "==> margin limit 0.024072798026906737\n",
      "==> prediction result : Normal\n",
      "======================================================================================================================================================\n",
      "==> WorkingNumber PD2506260018_B_010_20250723_2027_15645_1\n",
      "==> Setting Based Prediction\n"
     ]
    },
    {
     "name": "stderr",
     "output_type": "stream",
     "text": [
      "Predicting:  94%|███████████████████████████████████████████████████████████████▉    | 470/500 [01:31<00:05,  5.76it/s]"
     ]
    },
    {
     "name": "stdout",
     "output_type": "stream",
     "text": [
      "==> model AE\n",
      "==> Maker=JSW_Facility=2027_ITEM=T1Z23-04020_setting=197\n",
      "==> mae_recon_loss 0.11547947906936148\n",
      "==> threshold 0.1524310932170106\n",
      "==> margin limit 0.03\n",
      "==> prediction result : Normal\n",
      "======================================================================================================================================================\n",
      "==> WorkingNumber PD2506260017_B_010_20250723_2027_15645_1\n",
      "==> Setting Based Prediction\n",
      "==> model AE\n",
      "==> Maker=JSW_Facility=2027_ITEM=T1Z23-03020_setting=197\n",
      "==> mae_recon_loss 0.11547947906936148\n",
      "==> threshold 0.1524310932170106\n",
      "==> margin limit 0.03\n",
      "==> prediction result : Normal\n",
      "======================================================================================================================================================\n",
      "==> WorkingNumber PD2506260011_B_010_20250723_1015_668700_4\n",
      "==> Search Closest Trained Setting from current Facility/ItemCode\n",
      "==> Setting Based Prediction\n"
     ]
    },
    {
     "name": "stderr",
     "output_type": "stream",
     "text": [
      "Predicting:  94%|████████████████████████████████████████████████████████████████    | 471/500 [01:31<00:05,  5.55it/s]"
     ]
    },
    {
     "name": "stdout",
     "output_type": "stream",
     "text": [
      "==> model AE\n",
      "==> Maker=ENGEL_Facility=1015_ITEM=W-CG921-37220-A_setting=93\n",
      "==> mae_recon_loss 0.22641720266323664\n",
      "==> threshold 0.1869652124599145\n",
      "==> margin limit 0.05052061066681655\n",
      "==> prediction result : Normal\n",
      "======================================================================================================================================================\n",
      "==> WorkingNumber PD2506260034_B_010_20250723_1013_3728_1\n",
      "==> Search Closest Trained Setting from current Facility/ItemCode\n",
      "==> Setting Based Prediction\n"
     ]
    },
    {
     "name": "stderr",
     "output_type": "stream",
     "text": [
      "Predicting:  94%|████████████████████████████████████████████████████████████████▏   | 472/500 [01:31<00:05,  4.96it/s]"
     ]
    },
    {
     "name": "stdout",
     "output_type": "stream",
     "text": [
      "==> model memae\n",
      "==> Maker=JSW_Facility=1013_ITEM=T1Z23-03010_setting=233\n",
      "==> mae_recon_loss 0.07997439852350006\n",
      "==> threshold 0.3158187180837494\n",
      "==> margin limit 0.03542028306134786\n",
      "==> prediction result : Normal\n",
      "======================================================================================================================================================\n",
      "==> WorkingNumber PD2506260035_B_010_20250723_1013_3728_1\n",
      "==> Search Closest Trained Setting from current Facility/ItemCode\n",
      "==> Setting Based Prediction\n"
     ]
    },
    {
     "name": "stderr",
     "output_type": "stream",
     "text": [
      "Predicting:  95%|████████████████████████████████████████████████████████████████▎   | 473/500 [01:32<00:06,  3.99it/s]"
     ]
    },
    {
     "name": "stdout",
     "output_type": "stream",
     "text": [
      "==> model memae\n",
      "==> Maker=JSW_Facility=1013_ITEM=T1Z23-04010_setting=233\n",
      "==> mae_recon_loss 0.07997439852350006\n",
      "==> threshold 0.316149654735724\n",
      "==> margin limit 0.03579422089025566\n",
      "==> prediction result : Normal\n",
      "======================================================================================================================================================\n",
      "==> WorkingNumber PD2506260039_B_010_20250723_1106_13_1\n",
      "==> Search Closest Trained Setting from Dictionary\n",
      "==> Setting Based Prediction\n"
     ]
    },
    {
     "name": "stderr",
     "output_type": "stream",
     "text": [
      "Predicting:  95%|████████████████████████████████████████████████████████████████▍   | 474/500 [01:32<00:06,  3.98it/s]"
     ]
    },
    {
     "name": "stdout",
     "output_type": "stream",
     "text": [
      "==> model memae\n",
      "==> Maker=JSW_Facility=1013_ITEM=T1Z23-04010_setting=233\n",
      "==> mae_recon_loss 0.47705462453187797\n",
      "==> threshold 0.3040205318446565\n",
      "==> margin limit 0.031728540402853854\n",
      "==> prediction result : Fault\n",
      "======================================================================================================================================================\n",
      "==> WorkingNumber PD2506260038_B_010_20250723_1106_13_1\n",
      "==> Search Closest Trained Setting from Dictionary\n",
      "==> Setting Based Prediction\n"
     ]
    },
    {
     "name": "stderr",
     "output_type": "stream",
     "text": [
      "Predicting:  95%|████████████████████████████████████████████████████████████████▌   | 475/500 [01:32<00:06,  3.92it/s]"
     ]
    },
    {
     "name": "stdout",
     "output_type": "stream",
     "text": [
      "==> model memae\n",
      "==> Maker=JSW_Facility=1013_ITEM=T1Z23-04010_setting=233\n",
      "==> mae_recon_loss 0.47705462453187797\n",
      "==> threshold 0.3024990873045739\n",
      "==> margin limit 0.03203919790246137\n",
      "==> prediction result : Fault\n",
      "======================================================================================================================================================\n",
      "==> WorkingNumber PD2506260008_B_010_20250723_1101_35876_4\n",
      "==> Search Closest Trained Setting from current Facility/ItemCode\n",
      "==> Setting Based Prediction\n"
     ]
    },
    {
     "name": "stderr",
     "output_type": "stream",
     "text": [
      "Predicting:  95%|████████████████████████████████████████████████████████████████▋   | 476/500 [01:32<00:06,  3.94it/s]"
     ]
    },
    {
     "name": "stdout",
     "output_type": "stream",
     "text": [
      "==> model memae\n",
      "==> Maker=JSW_Facility=1101_ITEM=W-BE921-37041-A_setting=24\n",
      "==> mae_recon_loss 0.12389715613163572\n",
      "==> threshold 0.3409276497790209\n",
      "==> margin limit 0.049174416577272395\n",
      "==> prediction result : Normal\n",
      "======================================================================================================================================================\n",
      "==> WorkingNumber PD2506260001_B_010_20250723_M1006_240023_1\n",
      "==> Search Closest Trained Setting from Dictionary\n",
      "==> Setting Based Prediction\n"
     ]
    },
    {
     "name": "stderr",
     "output_type": "stream",
     "text": [
      "Predicting:  96%|█████████████████████████████████████████████████████████████████   | 478/500 [01:33<00:04,  4.84it/s]"
     ]
    },
    {
     "name": "stdout",
     "output_type": "stream",
     "text": [
      "==> model AE\n",
      "==> Maker=ENGEL_Facility=1015_ITEM=W-CG921-37220-A_setting=93\n",
      "==> mae_recon_loss 0.4474802146060872\n",
      "==> threshold 0.18507225292307922\n",
      "==> margin limit 0.05258365829688641\n",
      "==> prediction result : Fault\n",
      "======================================================================================================================================================\n",
      "==> WorkingNumber PD2506260018_B_010_20250723_2027_15646_1\n",
      "==> Setting Based Prediction\n",
      "==> model AE\n",
      "==> Maker=JSW_Facility=2027_ITEM=T1Z23-04020_setting=197\n",
      "==> mae_recon_loss 0.11488148931464531\n",
      "==> threshold 0.1524310932170106\n",
      "==> margin limit 0.03\n",
      "==> prediction result : Normal\n",
      "======================================================================================================================================================\n",
      "==> WorkingNumber PD2506260017_B_010_20250723_2027_15646_1\n",
      "==> Setting Based Prediction\n"
     ]
    },
    {
     "name": "stderr",
     "output_type": "stream",
     "text": [
      "Predicting:  96%|█████████████████████████████████████████████████████████████████▎  | 480/500 [01:33<00:03,  5.29it/s]"
     ]
    },
    {
     "name": "stdout",
     "output_type": "stream",
     "text": [
      "==> model AE\n",
      "==> Maker=JSW_Facility=2027_ITEM=T1Z23-03020_setting=197\n",
      "==> mae_recon_loss 0.11488148931464531\n",
      "==> threshold 0.1524310932170106\n",
      "==> margin limit 0.03\n",
      "==> prediction result : Normal\n",
      "======================================================================================================================================================\n",
      "==> WorkingNumber PD2506260021_B_010_20250723_1103_5164_4\n",
      "==> Search Closest Trained Setting from Dictionary\n",
      "==> Setting Based Prediction\n",
      "==> model AE\n",
      "==> Maker=JSW_Facility=1104_ITEM=P2921-37000_setting=125\n",
      "==> mae_recon_loss 0.18635339660630731\n",
      "==> threshold 0.28329960453047653\n",
      "==> margin limit 0.061326972926523\n",
      "==> prediction result : Normal\n",
      "======================================================================================================================================================\n",
      "==> WorkingNumber PD2506260010_B_010_20250723_1104_7230_8\n",
      "==> Search Closest Trained Setting from current Facility/ItemCode\n",
      "==> Setting Based Prediction\n",
      "==> model ISF\n",
      "==> Maker=JSW_Facility=1104_ITEM=F-CG921-37220-A_setting=1061\n",
      "==> mae_recon_loss 0.10212681059119022\n",
      "==> threshold 0.08566592379265164\n",
      "==> margin limit 0.026287683758812838\n",
      "==> prediction result : Normal\n",
      "======================================================================================================================================================\n",
      "==> WorkingNumber PD2506260011_B_010_20250723_1015_668701_4\n",
      "==> Search Closest Trained Setting from current Facility/ItemCode\n",
      "==> Setting Based Prediction\n"
     ]
    },
    {
     "name": "stderr",
     "output_type": "stream",
     "text": [
      "Predicting:  96%|█████████████████████████████████████████████████████████████████▌  | 482/500 [01:33<00:03,  5.93it/s]"
     ]
    },
    {
     "name": "stdout",
     "output_type": "stream",
     "text": [
      "==> model AE\n",
      "==> Maker=ENGEL_Facility=1015_ITEM=W-CG921-37220-A_setting=93\n",
      "==> mae_recon_loss 0.2207811808514566\n",
      "==> threshold 0.1827855257937516\n",
      "==> margin limit 0.05343300042639837\n",
      "==> prediction result : Normal\n",
      "======================================================================================================================================================\n",
      "==> WorkingNumber PD2506260035_B_010_20250723_1013_3729_1\n",
      "==> Search Closest Trained Setting from current Facility/ItemCode\n",
      "==> Setting Based Prediction\n"
     ]
    },
    {
     "name": "stderr",
     "output_type": "stream",
     "text": [
      "Predicting:  97%|█████████████████████████████████████████████████████████████████▋  | 483/500 [01:34<00:03,  5.23it/s]"
     ]
    },
    {
     "name": "stdout",
     "output_type": "stream",
     "text": [
      "==> model memae\n",
      "==> Maker=JSW_Facility=1013_ITEM=T1Z23-04010_setting=233\n",
      "==> mae_recon_loss 0.08606392121227084\n",
      "==> threshold 0.31579695259512647\n",
      "==> margin limit 0.03610753908646935\n",
      "==> prediction result : Normal\n",
      "======================================================================================================================================================\n",
      "==> WorkingNumber PD2506260034_B_010_20250723_1013_3729_1\n",
      "==> Search Closest Trained Setting from current Facility/ItemCode\n",
      "==> Setting Based Prediction\n"
     ]
    },
    {
     "name": "stderr",
     "output_type": "stream",
     "text": [
      "Predicting:  97%|█████████████████████████████████████████████████████████████████▊  | 484/500 [01:34<00:03,  4.80it/s]"
     ]
    },
    {
     "name": "stdout",
     "output_type": "stream",
     "text": [
      "==> model memae\n",
      "==> Maker=JSW_Facility=1013_ITEM=T1Z23-03010_setting=233\n",
      "==> mae_recon_loss 0.08606392121227084\n",
      "==> threshold 0.31568733675841426\n",
      "==> margin limit 0.03582700851180883\n",
      "==> prediction result : Normal\n",
      "======================================================================================================================================================\n",
      "==> WorkingNumber PD2506260027_B_010_20250723_1102_6155_1\n",
      "==> Search Closest Trained Setting from Dictionary\n",
      "==> Setting Based Prediction\n"
     ]
    },
    {
     "name": "stderr",
     "output_type": "stream",
     "text": [
      "Predicting:  97%|█████████████████████████████████████████████████████████████████▉  | 485/500 [01:34<00:03,  4.63it/s]"
     ]
    },
    {
     "name": "stdout",
     "output_type": "stream",
     "text": [
      "==> model memae\n",
      "==> Maker=JSW_Facility=1013_ITEM=T1Z23-04010_setting=233\n",
      "==> mae_recon_loss 0.456767112767689\n",
      "==> threshold 0.306351235762868\n",
      "==> margin limit 0.03272460019026912\n",
      "==> prediction result : Fault\n",
      "======================================================================================================================================================\n",
      "==> WorkingNumber PD2506260012_B_010_20250723_2110_3272_1\n",
      "==> Search Closest Trained Setting from Dictionary\n",
      "==> Setting Based Prediction\n"
     ]
    },
    {
     "name": "stderr",
     "output_type": "stream",
     "text": [
      "Predicting:  97%|██████████████████████████████████████████████████████████████████  | 486/500 [01:34<00:03,  4.54it/s]"
     ]
    },
    {
     "name": "stdout",
     "output_type": "stream",
     "text": [
      "==> model memae\n",
      "==> Maker=JSW_Facility=1013_ITEM=T1Z23-04010_setting=233\n",
      "==> mae_recon_loss 0.47116228127401794\n",
      "==> threshold 0.30666881225621373\n",
      "==> margin limit 0.03215122009016488\n",
      "==> prediction result : Fault\n",
      "======================================================================================================================================================\n",
      "==> WorkingNumber PD2506260013_B_010_20250723_2110_3272_1\n",
      "==> Search Closest Trained Setting from Dictionary\n",
      "==> Setting Based Prediction\n"
     ]
    },
    {
     "name": "stderr",
     "output_type": "stream",
     "text": [
      "Predicting:  97%|██████████████████████████████████████████████████████████████████▏ | 487/500 [01:35<00:03,  4.31it/s]"
     ]
    },
    {
     "name": "stdout",
     "output_type": "stream",
     "text": [
      "==> model memae\n",
      "==> Maker=JSW_Facility=1013_ITEM=T1Z23-04010_setting=233\n",
      "==> mae_recon_loss 0.47116228127401794\n",
      "==> threshold 0.3055984530332584\n",
      "==> margin limit 0.031365592593720654\n",
      "==> prediction result : Fault\n",
      "======================================================================================================================================================\n",
      "==> WorkingNumber PD2506260008_B_010_20250723_1101_35877_4\n",
      "==> Search Closest Trained Setting from current Facility/ItemCode\n",
      "==> Setting Based Prediction\n"
     ]
    },
    {
     "name": "stderr",
     "output_type": "stream",
     "text": [
      "Predicting:  98%|██████████████████████████████████████████████████████████████████▎ | 488/500 [01:35<00:03,  3.69it/s]"
     ]
    },
    {
     "name": "stdout",
     "output_type": "stream",
     "text": [
      "==> model memae\n",
      "==> Maker=JSW_Facility=1101_ITEM=W-BE921-37041-A_setting=24\n",
      "==> mae_recon_loss 0.11790766980496759\n",
      "==> threshold 0.34487525474438024\n",
      "==> margin limit 0.04759266593580705\n",
      "==> prediction result : Normal\n",
      "======================================================================================================================================================\n",
      "==> WorkingNumber PD2506260172_B_010_20250723_1010_80_4\n",
      "==> Search Closest Trained Setting from Dictionary\n",
      "==> Setting Based Prediction\n",
      "==> model ISF\n",
      "==> Maker=JSW_Facility=1010_ITEM=F-J7921-37220-A_setting=374\n",
      "==> mae_recon_loss 0.02622155276800442\n",
      "==> threshold 0.17570952294323539\n",
      "==> margin limit 0.02395094626755785\n",
      "==> prediction result : Normal\n",
      "======================================================================================================================================================\n",
      "==> WorkingNumber PD2506260011_B_010_20250723_1015_668702_4\n",
      "==> Search Closest Trained Setting from current Facility/ItemCode\n",
      "==> Setting Based Prediction\n"
     ]
    },
    {
     "name": "stderr",
     "output_type": "stream",
     "text": [
      "Predicting:  98%|██████████████████████████████████████████████████████████████████▊ | 491/500 [01:35<00:01,  4.91it/s]"
     ]
    },
    {
     "name": "stdout",
     "output_type": "stream",
     "text": [
      "==> model AE\n",
      "==> Maker=ENGEL_Facility=1015_ITEM=W-CG921-37220-A_setting=93\n",
      "==> mae_recon_loss 0.22630177143351493\n",
      "==> threshold 0.18447328640605148\n",
      "==> margin limit 0.05159877565124463\n",
      "==> prediction result : Normal\n",
      "======================================================================================================================================================\n",
      "==> WorkingNumber PD2506260039_B_010_20250723_1106_14_1\n",
      "==> Search Closest Trained Setting from Dictionary\n",
      "==> Setting Based Prediction\n",
      "==> model AE\n",
      "==> Maker=JSW_Facility=1010_ITEM=F-J7921-37100-A_setting=308\n",
      "==> mae_recon_loss 0.5304524776562441\n",
      "==> threshold 0.2435185524755409\n",
      "==> margin limit 0.04662425205075371\n",
      "==> prediction result : Fault\n",
      "======================================================================================================================================================\n",
      "==> WorkingNumber PD2506260038_B_010_20250723_1106_14_1\n",
      "==> Search Closest Trained Setting from Dictionary\n"
     ]
    },
    {
     "name": "stderr",
     "output_type": "stream",
     "text": [
      "Predicting:  98%|██████████████████████████████████████████████████████████████████▉ | 492/500 [01:36<00:01,  4.95it/s]"
     ]
    },
    {
     "name": "stdout",
     "output_type": "stream",
     "text": [
      "==> Setting Based Prediction\n",
      "==> model AE\n",
      "==> Maker=JSW_Facility=1010_ITEM=F-J7921-37100-A_setting=308\n",
      "==> mae_recon_loss 0.5304524776562441\n",
      "==> threshold 0.24407697329199204\n",
      "==> margin limit 0.04693562528982443\n",
      "==> prediction result : Fault\n",
      "======================================================================================================================================================\n",
      "==> WorkingNumber PD2506261346_B_010_20250723_2113_26894_1\n",
      "==> Search Closest Trained Setting from Dictionary\n",
      "==> Setting Based Prediction\n"
     ]
    },
    {
     "name": "stderr",
     "output_type": "stream",
     "text": [
      "Predicting:  99%|███████████████████████████████████████████████████████████████████ | 493/500 [01:36<00:01,  4.95it/s]"
     ]
    },
    {
     "name": "stdout",
     "output_type": "stream",
     "text": [
      "==> model AE\n",
      "==> Maker=JSW_Facility=1010_ITEM=F-J7921-37100-A_setting=308\n",
      "==> mae_recon_loss 0.48663338440242054\n",
      "==> threshold 0.2443393590212471\n",
      "==> margin limit 0.046829170478818516\n",
      "==> prediction result : Fault\n",
      "======================================================================================================================================================\n",
      "==> WorkingNumber PD2506260035_B_010_20250723_1013_3730_1\n",
      "==> Search Closest Trained Setting from current Facility/ItemCode\n",
      "==> Setting Based Prediction\n"
     ]
    },
    {
     "name": "stderr",
     "output_type": "stream",
     "text": [
      "Predicting:  99%|███████████████████████████████████████████████████████████████████▏| 494/500 [01:36<00:01,  4.62it/s]"
     ]
    },
    {
     "name": "stdout",
     "output_type": "stream",
     "text": [
      "==> model memae\n",
      "==> Maker=JSW_Facility=1013_ITEM=T1Z23-04010_setting=233\n",
      "==> mae_recon_loss 0.08839252848535895\n",
      "==> threshold 0.31566425699753003\n",
      "==> margin limit 0.035640095862563476\n",
      "==> prediction result : Normal\n",
      "======================================================================================================================================================\n",
      "==> WorkingNumber PD2506260034_B_010_20250723_1013_3730_1\n",
      "==> Search Closest Trained Setting from current Facility/ItemCode\n",
      "==> Setting Based Prediction\n"
     ]
    },
    {
     "name": "stderr",
     "output_type": "stream",
     "text": [
      "Predicting:  99%|███████████████████████████████████████████████████████████████████▎| 495/500 [01:36<00:01,  4.38it/s]"
     ]
    },
    {
     "name": "stdout",
     "output_type": "stream",
     "text": [
      "==> model memae\n",
      "==> Maker=JSW_Facility=1013_ITEM=T1Z23-03010_setting=233\n",
      "==> mae_recon_loss 0.08839252848535895\n",
      "==> threshold 0.3182198184466875\n",
      "==> margin limit 0.035834482530031464\n",
      "==> prediction result : Normal\n",
      "======================================================================================================================================================\n",
      "==> WorkingNumber PD2506260001_B_010_20250723_M1006_240024_1\n",
      "==> Search Closest Trained Setting from Dictionary\n",
      "==> Setting Based Prediction\n"
     ]
    },
    {
     "name": "stderr",
     "output_type": "stream",
     "text": [
      "Predicting:  99%|███████████████████████████████████████████████████████████████████▌| 497/500 [01:37<00:00,  4.83it/s]"
     ]
    },
    {
     "name": "stdout",
     "output_type": "stream",
     "text": [
      "==> model AE\n",
      "==> Maker=ENGEL_Facility=1015_ITEM=W-CG921-37220-A_setting=93\n",
      "==> mae_recon_loss 0.398362472653389\n",
      "==> threshold 0.18459580617174343\n",
      "==> margin limit 0.05259612499375237\n",
      "==> prediction result : Fault\n",
      "======================================================================================================================================================\n",
      "==> WorkingNumber PD2506260011_B_010_20250723_1015_668703_4\n",
      "==> Search Closest Trained Setting from current Facility/ItemCode\n",
      "==> Setting Based Prediction\n",
      "==> model AE\n",
      "==> Maker=ENGEL_Facility=1015_ITEM=W-CG921-37220-A_setting=93\n",
      "==> mae_recon_loss 0.22191825043454685\n",
      "==> threshold 0.18393056033561261\n",
      "==> margin limit 0.049443218224467636\n",
      "==> prediction result : Normal\n",
      "======================================================================================================================================================\n",
      "==> WorkingNumber PD2506260008_B_010_20250723_1101_35878_4\n",
      "==> Search Closest Trained Setting from current Facility/ItemCode\n",
      "==> Setting Based Prediction\n"
     ]
    },
    {
     "name": "stderr",
     "output_type": "stream",
     "text": [
      "Predicting: 100%|███████████████████████████████████████████████████████████████████▋| 498/500 [01:37<00:00,  4.52it/s]"
     ]
    },
    {
     "name": "stdout",
     "output_type": "stream",
     "text": [
      "==> model memae\n",
      "==> Maker=JSW_Facility=1101_ITEM=W-BE921-37041-A_setting=24\n",
      "==> mae_recon_loss 0.11573060872492881\n",
      "==> threshold 0.3415821222560253\n",
      "==> margin limit 0.05067724037376892\n",
      "==> prediction result : Normal\n",
      "======================================================================================================================================================\n",
      "==> WorkingNumber PD2506260035_B_010_20250723_1013_3731_1\n",
      "==> Search Closest Trained Setting from current Facility/ItemCode\n",
      "==> Setting Based Prediction\n"
     ]
    },
    {
     "name": "stderr",
     "output_type": "stream",
     "text": [
      "Predicting: 100%|███████████████████████████████████████████████████████████████████▊| 499/500 [01:37<00:00,  4.32it/s]"
     ]
    },
    {
     "name": "stdout",
     "output_type": "stream",
     "text": [
      "==> model memae\n",
      "==> Maker=JSW_Facility=1013_ITEM=T1Z23-04010_setting=233\n",
      "==> mae_recon_loss 0.08134668035579304\n",
      "==> threshold 0.3191443973280969\n",
      "==> margin limit 0.035516103525053064\n",
      "==> prediction result : Normal\n",
      "======================================================================================================================================================\n",
      "==> WorkingNumber PD2506260034_B_010_20250723_1013_3731_1\n",
      "==> Search Closest Trained Setting from current Facility/ItemCode\n",
      "==> Setting Based Prediction\n"
     ]
    },
    {
     "name": "stderr",
     "output_type": "stream",
     "text": [
      "Predicting: 100%|████████████████████████████████████████████████████████████████████| 500/500 [01:37<00:00,  5.11it/s]"
     ]
    },
    {
     "name": "stdout",
     "output_type": "stream",
     "text": [
      "==> model memae\n",
      "==> Maker=JSW_Facility=1013_ITEM=T1Z23-03010_setting=233\n",
      "==> mae_recon_loss 0.08134668035579304\n",
      "==> threshold 0.3186739466937558\n",
      "==> margin limit 0.035512984555155086\n",
      "==> prediction result : Normal\n",
      "======================================================================================================================================================\n"
     ]
    },
    {
     "name": "stderr",
     "output_type": "stream",
     "text": [
      "\n"
     ]
    }
   ],
   "source": [
    "from tqdm import tqdm\n",
    "working_number_list = df['Working_No'].tolist()\n",
    "prediction_results = []\n",
    "for working_number in tqdm(working_number_list, desc=\"Predicting\"):\n",
    "    working_number = str(working_number)\n",
    "    try:\n",
    "        res = prediction(df, working_number)\n",
    "    except:\n",
    "        res = -1 \n",
    "    prediction_results.append(res)"
   ]
  },
  {
   "cell_type": "code",
   "execution_count": 18,
   "id": "ed469286-10e2-4971-8760-4ff0700af3ac",
   "metadata": {
    "scrolled": true
   },
   "outputs": [
    {
     "data": {
      "text/plain": [
       "0\n",
       "1    401\n",
       "0     99\n",
       "Name: count, dtype: int64"
      ]
     },
     "execution_count": 18,
     "metadata": {},
     "output_type": "execute_result"
    }
   ],
   "source": [
    "pd.DataFrame(np.array(prediction_results))[0].value_counts()"
   ]
  },
  {
   "cell_type": "markdown",
   "id": "a1233782-ca4d-412c-96c8-7459e8d50f12",
   "metadata": {},
   "source": [
    "#### 6.) 실시간 데이터의 불량률 & 예측 불량률 비교 "
   ]
  },
  {
   "cell_type": "code",
   "execution_count": 19,
   "id": "a989e9c8-d313-4e6c-a2e8-6090516fb035",
   "metadata": {},
   "outputs": [],
   "source": [
    "pd.set_option('display.max_rows', None)"
   ]
  },
  {
   "cell_type": "code",
   "execution_count": 20,
   "id": "687eaa6e-357c-42e1-9caf-c4e6dff4918a",
   "metadata": {
    "scrolled": true
   },
   "outputs": [
    {
     "data": {
      "text/html": [
       "<div>\n",
       "<style scoped>\n",
       "    .dataframe tbody tr th:only-of-type {\n",
       "        vertical-align: middle;\n",
       "    }\n",
       "\n",
       "    .dataframe tbody tr th {\n",
       "        vertical-align: top;\n",
       "    }\n",
       "\n",
       "    .dataframe thead th {\n",
       "        text-align: right;\n",
       "    }\n",
       "</style>\n",
       "<table border=\"1\" class=\"dataframe\">\n",
       "  <thead>\n",
       "    <tr style=\"text-align: right;\">\n",
       "      <th></th>\n",
       "      <th>orderDate</th>\n",
       "      <th>maker</th>\n",
       "      <th>MECHCD</th>\n",
       "      <th>SABUN</th>\n",
       "      <th>good_qty</th>\n",
       "      <th>bad_qty</th>\n",
       "      <th>defect_rate</th>\n",
       "    </tr>\n",
       "  </thead>\n",
       "  <tbody>\n",
       "    <tr>\n",
       "      <th>0</th>\n",
       "      <td>20250723</td>\n",
       "      <td>ENGEL</td>\n",
       "      <td>1015</td>\n",
       "      <td>W-CG921-37220-A</td>\n",
       "      <td>148.0</td>\n",
       "      <td>0.0</td>\n",
       "      <td>0.000000</td>\n",
       "    </tr>\n",
       "    <tr>\n",
       "      <th>1</th>\n",
       "      <td>20250723</td>\n",
       "      <td>ENGEL</td>\n",
       "      <td>M1006</td>\n",
       "      <td></td>\n",
       "      <td>60.0</td>\n",
       "      <td>4.0</td>\n",
       "      <td>6.250000</td>\n",
       "    </tr>\n",
       "    <tr>\n",
       "      <th>2</th>\n",
       "      <td>20250723</td>\n",
       "      <td>JSW</td>\n",
       "      <td>1009</td>\n",
       "      <td>W-BE921-37040-A</td>\n",
       "      <td>48.0</td>\n",
       "      <td>0.0</td>\n",
       "      <td>0.000000</td>\n",
       "    </tr>\n",
       "    <tr>\n",
       "      <th>3</th>\n",
       "      <td>20250723</td>\n",
       "      <td>JSW</td>\n",
       "      <td>1010</td>\n",
       "      <td>L2921-37010</td>\n",
       "      <td>28.0</td>\n",
       "      <td>0.0</td>\n",
       "      <td>0.000000</td>\n",
       "    </tr>\n",
       "    <tr>\n",
       "      <th>4</th>\n",
       "      <td>20250723</td>\n",
       "      <td>JSW</td>\n",
       "      <td>1012</td>\n",
       "      <td>F-N1921-37510-A</td>\n",
       "      <td>24.0</td>\n",
       "      <td>0.0</td>\n",
       "      <td>0.000000</td>\n",
       "    </tr>\n",
       "    <tr>\n",
       "      <th>5</th>\n",
       "      <td>20250723</td>\n",
       "      <td>JSW</td>\n",
       "      <td>1012</td>\n",
       "      <td>F-N1921-37520-A</td>\n",
       "      <td>24.0</td>\n",
       "      <td>0.0</td>\n",
       "      <td>0.000000</td>\n",
       "    </tr>\n",
       "    <tr>\n",
       "      <th>6</th>\n",
       "      <td>20250723</td>\n",
       "      <td>JSW</td>\n",
       "      <td>1013</td>\n",
       "      <td>T1Z23-03010</td>\n",
       "      <td>32.0</td>\n",
       "      <td>0.0</td>\n",
       "      <td>0.000000</td>\n",
       "    </tr>\n",
       "    <tr>\n",
       "      <th>7</th>\n",
       "      <td>20250723</td>\n",
       "      <td>JSW</td>\n",
       "      <td>1013</td>\n",
       "      <td>T1Z23-04010</td>\n",
       "      <td>31.0</td>\n",
       "      <td>0.0</td>\n",
       "      <td>0.000000</td>\n",
       "    </tr>\n",
       "    <tr>\n",
       "      <th>8</th>\n",
       "      <td>20250723</td>\n",
       "      <td>JSW</td>\n",
       "      <td>1101</td>\n",
       "      <td>W-BE921-37041-A</td>\n",
       "      <td>116.0</td>\n",
       "      <td>0.0</td>\n",
       "      <td>0.000000</td>\n",
       "    </tr>\n",
       "    <tr>\n",
       "      <th>9</th>\n",
       "      <td>20250723</td>\n",
       "      <td>JSW</td>\n",
       "      <td>1102</td>\n",
       "      <td></td>\n",
       "      <td>64.0</td>\n",
       "      <td>0.0</td>\n",
       "      <td>0.000000</td>\n",
       "    </tr>\n",
       "    <tr>\n",
       "      <th>10</th>\n",
       "      <td>20250723</td>\n",
       "      <td>JSW</td>\n",
       "      <td>1103</td>\n",
       "      <td>F-1013501103-A</td>\n",
       "      <td>32.0</td>\n",
       "      <td>0.0</td>\n",
       "      <td>0.000000</td>\n",
       "    </tr>\n",
       "    <tr>\n",
       "      <th>11</th>\n",
       "      <td>20250723</td>\n",
       "      <td>JSW</td>\n",
       "      <td>1104</td>\n",
       "      <td>F-CG921-37220-A</td>\n",
       "      <td>96.0</td>\n",
       "      <td>0.0</td>\n",
       "      <td>0.000000</td>\n",
       "    </tr>\n",
       "    <tr>\n",
       "      <th>12</th>\n",
       "      <td>20250723</td>\n",
       "      <td>JSW</td>\n",
       "      <td>1106</td>\n",
       "      <td></td>\n",
       "      <td>84.0</td>\n",
       "      <td>8.0</td>\n",
       "      <td>8.695652</td>\n",
       "    </tr>\n",
       "    <tr>\n",
       "      <th>13</th>\n",
       "      <td>20250723</td>\n",
       "      <td>JSW</td>\n",
       "      <td>2027</td>\n",
       "      <td>T1Z23-03020</td>\n",
       "      <td>17.0</td>\n",
       "      <td>0.0</td>\n",
       "      <td>0.000000</td>\n",
       "    </tr>\n",
       "    <tr>\n",
       "      <th>14</th>\n",
       "      <td>20250723</td>\n",
       "      <td>JSW</td>\n",
       "      <td>2027</td>\n",
       "      <td>T1Z23-04020</td>\n",
       "      <td>17.0</td>\n",
       "      <td>0.0</td>\n",
       "      <td>0.000000</td>\n",
       "    </tr>\n",
       "    <tr>\n",
       "      <th>15</th>\n",
       "      <td>20250723</td>\n",
       "      <td>JSW</td>\n",
       "      <td>2110</td>\n",
       "      <td></td>\n",
       "      <td>96.0</td>\n",
       "      <td>9.0</td>\n",
       "      <td>8.571429</td>\n",
       "    </tr>\n",
       "    <tr>\n",
       "      <th>16</th>\n",
       "      <td>20250723</td>\n",
       "      <td>JSW</td>\n",
       "      <td>2113</td>\n",
       "      <td></td>\n",
       "      <td>44.0</td>\n",
       "      <td>0.0</td>\n",
       "      <td>0.000000</td>\n",
       "    </tr>\n",
       "    <tr>\n",
       "      <th>17</th>\n",
       "      <td>20250723</td>\n",
       "      <td>JSW</td>\n",
       "      <td>2115</td>\n",
       "      <td></td>\n",
       "      <td>18.0</td>\n",
       "      <td>0.0</td>\n",
       "      <td>0.000000</td>\n",
       "    </tr>\n",
       "    <tr>\n",
       "      <th>18</th>\n",
       "      <td>20250723</td>\n",
       "      <td>JSW</td>\n",
       "      <td>2117</td>\n",
       "      <td>F-CG921-37240-A</td>\n",
       "      <td>32.0</td>\n",
       "      <td>0.0</td>\n",
       "      <td>0.000000</td>\n",
       "    </tr>\n",
       "    <tr>\n",
       "      <th>19</th>\n",
       "      <td>20250723</td>\n",
       "      <td>LSM</td>\n",
       "      <td>1001</td>\n",
       "      <td>F-G78194-A</td>\n",
       "      <td>44.0</td>\n",
       "      <td>0.0</td>\n",
       "      <td>0.000000</td>\n",
       "    </tr>\n",
       "    <tr>\n",
       "      <th>20</th>\n",
       "      <td>20250723</td>\n",
       "      <td>LSM</td>\n",
       "      <td>1003</td>\n",
       "      <td>W-J6921-24510-A</td>\n",
       "      <td>7.0</td>\n",
       "      <td>0.0</td>\n",
       "      <td>0.000000</td>\n",
       "    </tr>\n",
       "    <tr>\n",
       "      <th>21</th>\n",
       "      <td>20250723</td>\n",
       "      <td>LSM</td>\n",
       "      <td>1003</td>\n",
       "      <td>W-J6921-24520-A</td>\n",
       "      <td>7.0</td>\n",
       "      <td>0.0</td>\n",
       "      <td>0.000000</td>\n",
       "    </tr>\n",
       "    <tr>\n",
       "      <th>22</th>\n",
       "      <td>20250723</td>\n",
       "      <td>LSM</td>\n",
       "      <td>2002</td>\n",
       "      <td>EFM92-423010</td>\n",
       "      <td>10.0</td>\n",
       "      <td>0.0</td>\n",
       "      <td>0.000000</td>\n",
       "    </tr>\n",
       "    <tr>\n",
       "      <th>23</th>\n",
       "      <td>20250723</td>\n",
       "      <td>LSM</td>\n",
       "      <td>2002</td>\n",
       "      <td>EFM92-423020</td>\n",
       "      <td>10.0</td>\n",
       "      <td>0.0</td>\n",
       "      <td>0.000000</td>\n",
       "    </tr>\n",
       "    <tr>\n",
       "      <th>24</th>\n",
       "      <td>20250723</td>\n",
       "      <td>LSM</td>\n",
       "      <td>2005</td>\n",
       "      <td>W-T1921-22630-A</td>\n",
       "      <td>12.0</td>\n",
       "      <td>0.0</td>\n",
       "      <td>0.000000</td>\n",
       "    </tr>\n",
       "    <tr>\n",
       "      <th>25</th>\n",
       "      <td>20250723</td>\n",
       "      <td>LSM</td>\n",
       "      <td>2005</td>\n",
       "      <td>W-T1921-22640-A</td>\n",
       "      <td>12.0</td>\n",
       "      <td>0.0</td>\n",
       "      <td>0.000000</td>\n",
       "    </tr>\n",
       "    <tr>\n",
       "      <th>26</th>\n",
       "      <td>20250723</td>\n",
       "      <td>LSM</td>\n",
       "      <td>2007</td>\n",
       "      <td>W-BE921-32030-A</td>\n",
       "      <td>10.0</td>\n",
       "      <td>0.0</td>\n",
       "      <td>0.000000</td>\n",
       "    </tr>\n",
       "    <tr>\n",
       "      <th>27</th>\n",
       "      <td>20250723</td>\n",
       "      <td>LSM</td>\n",
       "      <td>2007</td>\n",
       "      <td>W-BE921-32040-A</td>\n",
       "      <td>10.0</td>\n",
       "      <td>0.0</td>\n",
       "      <td>0.000000</td>\n",
       "    </tr>\n",
       "    <tr>\n",
       "      <th>28</th>\n",
       "      <td>20250723</td>\n",
       "      <td>LSM</td>\n",
       "      <td>2008</td>\n",
       "      <td>W-BE921-47010-A</td>\n",
       "      <td>13.0</td>\n",
       "      <td>0.0</td>\n",
       "      <td>0.000000</td>\n",
       "    </tr>\n",
       "    <tr>\n",
       "      <th>29</th>\n",
       "      <td>20250723</td>\n",
       "      <td>LSM</td>\n",
       "      <td>2008</td>\n",
       "      <td>W-BE921-47020-A</td>\n",
       "      <td>13.0</td>\n",
       "      <td>0.0</td>\n",
       "      <td>0.000000</td>\n",
       "    </tr>\n",
       "    <tr>\n",
       "      <th>30</th>\n",
       "      <td>20250723</td>\n",
       "      <td>LSM</td>\n",
       "      <td>2008</td>\n",
       "      <td>W-BE921-47030-A</td>\n",
       "      <td>13.0</td>\n",
       "      <td>0.0</td>\n",
       "      <td>0.000000</td>\n",
       "    </tr>\n",
       "    <tr>\n",
       "      <th>31</th>\n",
       "      <td>20250723</td>\n",
       "      <td>LSM</td>\n",
       "      <td>2008</td>\n",
       "      <td>W-BE921-47040-A</td>\n",
       "      <td>13.0</td>\n",
       "      <td>0.0</td>\n",
       "      <td>0.000000</td>\n",
       "    </tr>\n",
       "  </tbody>\n",
       "</table>\n",
       "</div>"
      ],
      "text/plain": [
       "   orderDate  maker MECHCD            SABUN  good_qty  bad_qty  defect_rate\n",
       "0   20250723  ENGEL   1015  W-CG921-37220-A     148.0      0.0     0.000000\n",
       "1   20250723  ENGEL  M1006                       60.0      4.0     6.250000\n",
       "2   20250723    JSW   1009  W-BE921-37040-A      48.0      0.0     0.000000\n",
       "3   20250723    JSW   1010      L2921-37010      28.0      0.0     0.000000\n",
       "4   20250723    JSW   1012  F-N1921-37510-A      24.0      0.0     0.000000\n",
       "5   20250723    JSW   1012  F-N1921-37520-A      24.0      0.0     0.000000\n",
       "6   20250723    JSW   1013      T1Z23-03010      32.0      0.0     0.000000\n",
       "7   20250723    JSW   1013      T1Z23-04010      31.0      0.0     0.000000\n",
       "8   20250723    JSW   1101  W-BE921-37041-A     116.0      0.0     0.000000\n",
       "9   20250723    JSW   1102                       64.0      0.0     0.000000\n",
       "10  20250723    JSW   1103   F-1013501103-A      32.0      0.0     0.000000\n",
       "11  20250723    JSW   1104  F-CG921-37220-A      96.0      0.0     0.000000\n",
       "12  20250723    JSW   1106                       84.0      8.0     8.695652\n",
       "13  20250723    JSW   2027      T1Z23-03020      17.0      0.0     0.000000\n",
       "14  20250723    JSW   2027      T1Z23-04020      17.0      0.0     0.000000\n",
       "15  20250723    JSW   2110                       96.0      9.0     8.571429\n",
       "16  20250723    JSW   2113                       44.0      0.0     0.000000\n",
       "17  20250723    JSW   2115                       18.0      0.0     0.000000\n",
       "18  20250723    JSW   2117  F-CG921-37240-A      32.0      0.0     0.000000\n",
       "19  20250723    LSM   1001       F-G78194-A      44.0      0.0     0.000000\n",
       "20  20250723    LSM   1003  W-J6921-24510-A       7.0      0.0     0.000000\n",
       "21  20250723    LSM   1003  W-J6921-24520-A       7.0      0.0     0.000000\n",
       "22  20250723    LSM   2002     EFM92-423010      10.0      0.0     0.000000\n",
       "23  20250723    LSM   2002     EFM92-423020      10.0      0.0     0.000000\n",
       "24  20250723    LSM   2005  W-T1921-22630-A      12.0      0.0     0.000000\n",
       "25  20250723    LSM   2005  W-T1921-22640-A      12.0      0.0     0.000000\n",
       "26  20250723    LSM   2007  W-BE921-32030-A      10.0      0.0     0.000000\n",
       "27  20250723    LSM   2007  W-BE921-32040-A      10.0      0.0     0.000000\n",
       "28  20250723    LSM   2008  W-BE921-47010-A      13.0      0.0     0.000000\n",
       "29  20250723    LSM   2008  W-BE921-47020-A      13.0      0.0     0.000000\n",
       "30  20250723    LSM   2008  W-BE921-47030-A      13.0      0.0     0.000000\n",
       "31  20250723    LSM   2008  W-BE921-47040-A      13.0      0.0     0.000000"
      ]
     },
     "execution_count": 20,
     "metadata": {},
     "output_type": "execute_result"
    }
   ],
   "source": [
    "#### --> 실시간 데이터 정리 \n",
    "df[['good_qty_sum','bad_qty_sum']] = df.groupby(['orderDate','MECHCD','SABUN'])[['good_qty','bad_qty']].transform('sum')\n",
    "df['qty_sum'] = df['good_qty_sum'] + df['bad_qty_sum']\n",
    "df['lot_fault_ratio'] =  (df['bad_qty_sum']/(df['qty_sum']))*100\n",
    "df['cavity_unit'] = df['good_qty'] + df['bad_qty']\n",
    "df_test = df.groupby(['orderDate', 'maker', 'MECHCD', 'SABUN'])[['good_qty', 'bad_qty']].sum().reset_index()\n",
    "df_test['defect_rate'] = (df_test['bad_qty'] / (df_test['good_qty'] + df_test['bad_qty']))*100\n",
    "df_test"
   ]
  },
  {
   "cell_type": "code",
   "execution_count": 21,
   "id": "bc0e71cc-5d78-41f3-91e8-67d8f0720dc5",
   "metadata": {
    "scrolled": true
   },
   "outputs": [
    {
     "data": {
      "text/html": [
       "<div>\n",
       "<style scoped>\n",
       "    .dataframe tbody tr th:only-of-type {\n",
       "        vertical-align: middle;\n",
       "    }\n",
       "\n",
       "    .dataframe tbody tr th {\n",
       "        vertical-align: top;\n",
       "    }\n",
       "\n",
       "    .dataframe thead th {\n",
       "        text-align: right;\n",
       "    }\n",
       "</style>\n",
       "<table border=\"1\" class=\"dataframe\">\n",
       "  <thead>\n",
       "    <tr style=\"text-align: right;\">\n",
       "      <th></th>\n",
       "      <th>orderDate</th>\n",
       "      <th>maker</th>\n",
       "      <th>MECHCD</th>\n",
       "      <th>SABUN</th>\n",
       "      <th>good_qty_real</th>\n",
       "      <th>bad_qty_real</th>\n",
       "      <th>defect_rate</th>\n",
       "    </tr>\n",
       "  </thead>\n",
       "  <tbody>\n",
       "    <tr>\n",
       "      <th>0</th>\n",
       "      <td>20250723</td>\n",
       "      <td>ENGEL</td>\n",
       "      <td>1015</td>\n",
       "      <td>W-CG921-37220-A</td>\n",
       "      <td>144.0</td>\n",
       "      <td>4.0</td>\n",
       "      <td>2.702703</td>\n",
       "    </tr>\n",
       "    <tr>\n",
       "      <th>1</th>\n",
       "      <td>20250723</td>\n",
       "      <td>ENGEL</td>\n",
       "      <td>M1006</td>\n",
       "      <td></td>\n",
       "      <td>20.0</td>\n",
       "      <td>44.0</td>\n",
       "      <td>68.750000</td>\n",
       "    </tr>\n",
       "    <tr>\n",
       "      <th>2</th>\n",
       "      <td>20250723</td>\n",
       "      <td>JSW</td>\n",
       "      <td>1009</td>\n",
       "      <td>W-BE921-37040-A</td>\n",
       "      <td>48.0</td>\n",
       "      <td>0.0</td>\n",
       "      <td>0.000000</td>\n",
       "    </tr>\n",
       "    <tr>\n",
       "      <th>3</th>\n",
       "      <td>20250723</td>\n",
       "      <td>JSW</td>\n",
       "      <td>1010</td>\n",
       "      <td>L2921-37010</td>\n",
       "      <td>24.0</td>\n",
       "      <td>4.0</td>\n",
       "      <td>14.285714</td>\n",
       "    </tr>\n",
       "    <tr>\n",
       "      <th>4</th>\n",
       "      <td>20250723</td>\n",
       "      <td>JSW</td>\n",
       "      <td>1012</td>\n",
       "      <td>F-N1921-37510-A</td>\n",
       "      <td>24.0</td>\n",
       "      <td>0.0</td>\n",
       "      <td>0.000000</td>\n",
       "    </tr>\n",
       "    <tr>\n",
       "      <th>5</th>\n",
       "      <td>20250723</td>\n",
       "      <td>JSW</td>\n",
       "      <td>1012</td>\n",
       "      <td>F-N1921-37520-A</td>\n",
       "      <td>24.0</td>\n",
       "      <td>0.0</td>\n",
       "      <td>0.000000</td>\n",
       "    </tr>\n",
       "    <tr>\n",
       "      <th>6</th>\n",
       "      <td>20250723</td>\n",
       "      <td>JSW</td>\n",
       "      <td>1013</td>\n",
       "      <td>T1Z23-03010</td>\n",
       "      <td>31.0</td>\n",
       "      <td>1.0</td>\n",
       "      <td>3.125000</td>\n",
       "    </tr>\n",
       "    <tr>\n",
       "      <th>7</th>\n",
       "      <td>20250723</td>\n",
       "      <td>JSW</td>\n",
       "      <td>1013</td>\n",
       "      <td>T1Z23-04010</td>\n",
       "      <td>30.0</td>\n",
       "      <td>1.0</td>\n",
       "      <td>3.225806</td>\n",
       "    </tr>\n",
       "    <tr>\n",
       "      <th>8</th>\n",
       "      <td>20250723</td>\n",
       "      <td>JSW</td>\n",
       "      <td>1101</td>\n",
       "      <td>W-BE921-37041-A</td>\n",
       "      <td>112.0</td>\n",
       "      <td>4.0</td>\n",
       "      <td>3.448276</td>\n",
       "    </tr>\n",
       "    <tr>\n",
       "      <th>9</th>\n",
       "      <td>20250723</td>\n",
       "      <td>JSW</td>\n",
       "      <td>1102</td>\n",
       "      <td></td>\n",
       "      <td>24.0</td>\n",
       "      <td>40.0</td>\n",
       "      <td>62.500000</td>\n",
       "    </tr>\n",
       "    <tr>\n",
       "      <th>10</th>\n",
       "      <td>20250723</td>\n",
       "      <td>JSW</td>\n",
       "      <td>1103</td>\n",
       "      <td>F-1013501103-A</td>\n",
       "      <td>32.0</td>\n",
       "      <td>0.0</td>\n",
       "      <td>0.000000</td>\n",
       "    </tr>\n",
       "    <tr>\n",
       "      <th>11</th>\n",
       "      <td>20250723</td>\n",
       "      <td>JSW</td>\n",
       "      <td>1104</td>\n",
       "      <td>F-CG921-37220-A</td>\n",
       "      <td>72.0</td>\n",
       "      <td>24.0</td>\n",
       "      <td>25.000000</td>\n",
       "    </tr>\n",
       "    <tr>\n",
       "      <th>12</th>\n",
       "      <td>20250723</td>\n",
       "      <td>JSW</td>\n",
       "      <td>1106</td>\n",
       "      <td></td>\n",
       "      <td>42.0</td>\n",
       "      <td>50.0</td>\n",
       "      <td>54.347826</td>\n",
       "    </tr>\n",
       "    <tr>\n",
       "      <th>13</th>\n",
       "      <td>20250723</td>\n",
       "      <td>JSW</td>\n",
       "      <td>2027</td>\n",
       "      <td>T1Z23-03020</td>\n",
       "      <td>17.0</td>\n",
       "      <td>0.0</td>\n",
       "      <td>0.000000</td>\n",
       "    </tr>\n",
       "    <tr>\n",
       "      <th>14</th>\n",
       "      <td>20250723</td>\n",
       "      <td>JSW</td>\n",
       "      <td>2027</td>\n",
       "      <td>T1Z23-04020</td>\n",
       "      <td>17.0</td>\n",
       "      <td>0.0</td>\n",
       "      <td>0.000000</td>\n",
       "    </tr>\n",
       "    <tr>\n",
       "      <th>15</th>\n",
       "      <td>20250723</td>\n",
       "      <td>JSW</td>\n",
       "      <td>2110</td>\n",
       "      <td></td>\n",
       "      <td>45.0</td>\n",
       "      <td>60.0</td>\n",
       "      <td>57.142857</td>\n",
       "    </tr>\n",
       "    <tr>\n",
       "      <th>16</th>\n",
       "      <td>20250723</td>\n",
       "      <td>JSW</td>\n",
       "      <td>2113</td>\n",
       "      <td></td>\n",
       "      <td>24.0</td>\n",
       "      <td>20.0</td>\n",
       "      <td>45.454545</td>\n",
       "    </tr>\n",
       "    <tr>\n",
       "      <th>17</th>\n",
       "      <td>20250723</td>\n",
       "      <td>JSW</td>\n",
       "      <td>2115</td>\n",
       "      <td></td>\n",
       "      <td>12.0</td>\n",
       "      <td>6.0</td>\n",
       "      <td>33.333333</td>\n",
       "    </tr>\n",
       "    <tr>\n",
       "      <th>18</th>\n",
       "      <td>20250723</td>\n",
       "      <td>JSW</td>\n",
       "      <td>2117</td>\n",
       "      <td>F-CG921-37240-A</td>\n",
       "      <td>32.0</td>\n",
       "      <td>0.0</td>\n",
       "      <td>0.000000</td>\n",
       "    </tr>\n",
       "    <tr>\n",
       "      <th>19</th>\n",
       "      <td>20250723</td>\n",
       "      <td>LSM</td>\n",
       "      <td>1001</td>\n",
       "      <td>F-G78194-A</td>\n",
       "      <td>44.0</td>\n",
       "      <td>0.0</td>\n",
       "      <td>0.000000</td>\n",
       "    </tr>\n",
       "    <tr>\n",
       "      <th>20</th>\n",
       "      <td>20250723</td>\n",
       "      <td>LSM</td>\n",
       "      <td>1003</td>\n",
       "      <td>W-J6921-24510-A</td>\n",
       "      <td>7.0</td>\n",
       "      <td>0.0</td>\n",
       "      <td>0.000000</td>\n",
       "    </tr>\n",
       "    <tr>\n",
       "      <th>21</th>\n",
       "      <td>20250723</td>\n",
       "      <td>LSM</td>\n",
       "      <td>1003</td>\n",
       "      <td>W-J6921-24520-A</td>\n",
       "      <td>7.0</td>\n",
       "      <td>0.0</td>\n",
       "      <td>0.000000</td>\n",
       "    </tr>\n",
       "    <tr>\n",
       "      <th>22</th>\n",
       "      <td>20250723</td>\n",
       "      <td>LSM</td>\n",
       "      <td>2002</td>\n",
       "      <td>EFM92-423010</td>\n",
       "      <td>3.0</td>\n",
       "      <td>7.0</td>\n",
       "      <td>70.000000</td>\n",
       "    </tr>\n",
       "    <tr>\n",
       "      <th>23</th>\n",
       "      <td>20250723</td>\n",
       "      <td>LSM</td>\n",
       "      <td>2002</td>\n",
       "      <td>EFM92-423020</td>\n",
       "      <td>3.0</td>\n",
       "      <td>7.0</td>\n",
       "      <td>70.000000</td>\n",
       "    </tr>\n",
       "    <tr>\n",
       "      <th>24</th>\n",
       "      <td>20250723</td>\n",
       "      <td>LSM</td>\n",
       "      <td>2005</td>\n",
       "      <td>W-T1921-22630-A</td>\n",
       "      <td>12.0</td>\n",
       "      <td>0.0</td>\n",
       "      <td>0.000000</td>\n",
       "    </tr>\n",
       "    <tr>\n",
       "      <th>25</th>\n",
       "      <td>20250723</td>\n",
       "      <td>LSM</td>\n",
       "      <td>2005</td>\n",
       "      <td>W-T1921-22640-A</td>\n",
       "      <td>12.0</td>\n",
       "      <td>0.0</td>\n",
       "      <td>0.000000</td>\n",
       "    </tr>\n",
       "    <tr>\n",
       "      <th>26</th>\n",
       "      <td>20250723</td>\n",
       "      <td>LSM</td>\n",
       "      <td>2007</td>\n",
       "      <td>W-BE921-32030-A</td>\n",
       "      <td>10.0</td>\n",
       "      <td>0.0</td>\n",
       "      <td>0.000000</td>\n",
       "    </tr>\n",
       "    <tr>\n",
       "      <th>27</th>\n",
       "      <td>20250723</td>\n",
       "      <td>LSM</td>\n",
       "      <td>2007</td>\n",
       "      <td>W-BE921-32040-A</td>\n",
       "      <td>10.0</td>\n",
       "      <td>0.0</td>\n",
       "      <td>0.000000</td>\n",
       "    </tr>\n",
       "    <tr>\n",
       "      <th>28</th>\n",
       "      <td>20250723</td>\n",
       "      <td>LSM</td>\n",
       "      <td>2008</td>\n",
       "      <td>W-BE921-47010-A</td>\n",
       "      <td>13.0</td>\n",
       "      <td>0.0</td>\n",
       "      <td>0.000000</td>\n",
       "    </tr>\n",
       "    <tr>\n",
       "      <th>29</th>\n",
       "      <td>20250723</td>\n",
       "      <td>LSM</td>\n",
       "      <td>2008</td>\n",
       "      <td>W-BE921-47020-A</td>\n",
       "      <td>13.0</td>\n",
       "      <td>0.0</td>\n",
       "      <td>0.000000</td>\n",
       "    </tr>\n",
       "    <tr>\n",
       "      <th>30</th>\n",
       "      <td>20250723</td>\n",
       "      <td>LSM</td>\n",
       "      <td>2008</td>\n",
       "      <td>W-BE921-47030-A</td>\n",
       "      <td>13.0</td>\n",
       "      <td>0.0</td>\n",
       "      <td>0.000000</td>\n",
       "    </tr>\n",
       "    <tr>\n",
       "      <th>31</th>\n",
       "      <td>20250723</td>\n",
       "      <td>LSM</td>\n",
       "      <td>2008</td>\n",
       "      <td>W-BE921-47040-A</td>\n",
       "      <td>13.0</td>\n",
       "      <td>0.0</td>\n",
       "      <td>0.000000</td>\n",
       "    </tr>\n",
       "  </tbody>\n",
       "</table>\n",
       "</div>"
      ],
      "text/plain": [
       "   orderDate  maker MECHCD            SABUN  good_qty_real  bad_qty_real  \\\n",
       "0   20250723  ENGEL   1015  W-CG921-37220-A          144.0           4.0   \n",
       "1   20250723  ENGEL  M1006                            20.0          44.0   \n",
       "2   20250723    JSW   1009  W-BE921-37040-A           48.0           0.0   \n",
       "3   20250723    JSW   1010      L2921-37010           24.0           4.0   \n",
       "4   20250723    JSW   1012  F-N1921-37510-A           24.0           0.0   \n",
       "5   20250723    JSW   1012  F-N1921-37520-A           24.0           0.0   \n",
       "6   20250723    JSW   1013      T1Z23-03010           31.0           1.0   \n",
       "7   20250723    JSW   1013      T1Z23-04010           30.0           1.0   \n",
       "8   20250723    JSW   1101  W-BE921-37041-A          112.0           4.0   \n",
       "9   20250723    JSW   1102                            24.0          40.0   \n",
       "10  20250723    JSW   1103   F-1013501103-A           32.0           0.0   \n",
       "11  20250723    JSW   1104  F-CG921-37220-A           72.0          24.0   \n",
       "12  20250723    JSW   1106                            42.0          50.0   \n",
       "13  20250723    JSW   2027      T1Z23-03020           17.0           0.0   \n",
       "14  20250723    JSW   2027      T1Z23-04020           17.0           0.0   \n",
       "15  20250723    JSW   2110                            45.0          60.0   \n",
       "16  20250723    JSW   2113                            24.0          20.0   \n",
       "17  20250723    JSW   2115                            12.0           6.0   \n",
       "18  20250723    JSW   2117  F-CG921-37240-A           32.0           0.0   \n",
       "19  20250723    LSM   1001       F-G78194-A           44.0           0.0   \n",
       "20  20250723    LSM   1003  W-J6921-24510-A            7.0           0.0   \n",
       "21  20250723    LSM   1003  W-J6921-24520-A            7.0           0.0   \n",
       "22  20250723    LSM   2002     EFM92-423010            3.0           7.0   \n",
       "23  20250723    LSM   2002     EFM92-423020            3.0           7.0   \n",
       "24  20250723    LSM   2005  W-T1921-22630-A           12.0           0.0   \n",
       "25  20250723    LSM   2005  W-T1921-22640-A           12.0           0.0   \n",
       "26  20250723    LSM   2007  W-BE921-32030-A           10.0           0.0   \n",
       "27  20250723    LSM   2007  W-BE921-32040-A           10.0           0.0   \n",
       "28  20250723    LSM   2008  W-BE921-47010-A           13.0           0.0   \n",
       "29  20250723    LSM   2008  W-BE921-47020-A           13.0           0.0   \n",
       "30  20250723    LSM   2008  W-BE921-47030-A           13.0           0.0   \n",
       "31  20250723    LSM   2008  W-BE921-47040-A           13.0           0.0   \n",
       "\n",
       "    defect_rate  \n",
       "0      2.702703  \n",
       "1     68.750000  \n",
       "2      0.000000  \n",
       "3     14.285714  \n",
       "4      0.000000  \n",
       "5      0.000000  \n",
       "6      3.125000  \n",
       "7      3.225806  \n",
       "8      3.448276  \n",
       "9     62.500000  \n",
       "10     0.000000  \n",
       "11    25.000000  \n",
       "12    54.347826  \n",
       "13     0.000000  \n",
       "14     0.000000  \n",
       "15    57.142857  \n",
       "16    45.454545  \n",
       "17    33.333333  \n",
       "18     0.000000  \n",
       "19     0.000000  \n",
       "20     0.000000  \n",
       "21     0.000000  \n",
       "22    70.000000  \n",
       "23    70.000000  \n",
       "24     0.000000  \n",
       "25     0.000000  \n",
       "26     0.000000  \n",
       "27     0.000000  \n",
       "28     0.000000  \n",
       "29     0.000000  \n",
       "30     0.000000  \n",
       "31     0.000000  "
      ]
     },
     "execution_count": 21,
     "metadata": {},
     "output_type": "execute_result"
    }
   ],
   "source": [
    "#### 예측불량률 정리 \n",
    "df_results = df.copy()\n",
    "df_results['prediction_results'] = pd.DataFrame(prediction_results)\n",
    "df_results['good_qty'] = (df_results['prediction_results'] == 1).astype(int)\n",
    "df_results['bad_qty'] = (df_results['prediction_results'] == 0).astype(int)\n",
    "\n",
    "df_results['good_qty_real'] = df_results['good_qty'] * df_results['cavity_unit']\n",
    "df_results['bad_qty_real'] = df_results['bad_qty'] * df_results['cavity_unit']\n",
    "\n",
    "df_grouped = df_results.groupby(['orderDate', 'maker', 'MECHCD', 'SABUN'])[['good_qty_real', 'bad_qty_real']].sum().reset_index()\n",
    "df_grouped['defect_rate'] = (df_grouped['bad_qty_real'] / (df_grouped['good_qty_real'] + df_grouped['bad_qty_real']))*100\n",
    "df_grouped"
   ]
  },
  {
   "cell_type": "code",
   "execution_count": null,
   "id": "93d63bf6-d7d7-4aeb-a34b-eb02f7a2c5c6",
   "metadata": {},
   "outputs": [],
   "source": []
  },
  {
   "cell_type": "code",
   "execution_count": null,
   "id": "654b9c7a-b1c2-49a4-b242-b2bc0c11d97f",
   "metadata": {},
   "outputs": [],
   "source": []
  },
  {
   "cell_type": "code",
   "execution_count": null,
   "id": "751c343f-b049-4b8b-8716-fe0f64a1ee8e",
   "metadata": {},
   "outputs": [],
   "source": []
  },
  {
   "cell_type": "code",
   "execution_count": null,
   "id": "ee3a27b5-4c78-4bbd-bd21-76859a6a57e4",
   "metadata": {},
   "outputs": [],
   "source": []
  },
  {
   "cell_type": "code",
   "execution_count": null,
   "id": "62c4fbc9-05a6-49f7-9a75-3b4a6f535752",
   "metadata": {},
   "outputs": [],
   "source": []
  },
  {
   "cell_type": "code",
   "execution_count": null,
   "id": "41f53590-6c2b-4163-8233-a7bc7030e363",
   "metadata": {},
   "outputs": [],
   "source": []
  }
 ],
 "metadata": {
  "kernelspec": {
   "display_name": "Python 3 (ipykernel)",
   "language": "python",
   "name": "python3"
  },
  "language_info": {
   "codemirror_mode": {
    "name": "ipython",
    "version": 3
   },
   "file_extension": ".py",
   "mimetype": "text/x-python",
   "name": "python",
   "nbconvert_exporter": "python",
   "pygments_lexer": "ipython3",
   "version": "3.9.13"
  }
 },
 "nbformat": 4,
 "nbformat_minor": 5
}
